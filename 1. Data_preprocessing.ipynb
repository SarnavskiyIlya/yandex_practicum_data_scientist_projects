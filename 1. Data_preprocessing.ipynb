{
 "cells": [
  {
   "cell_type": "markdown",
   "id": "670487aa",
   "metadata": {
    "deletable": false,
    "editable": false,
    "id": "c81daeeb"
   },
   "source": [
    "# Исследование надежности заемщиков\n"
   ]
  },
  {
   "cell_type": "markdown",
   "id": "683e5841",
   "metadata": {},
   "source": [
    "Заказчик — кредитный отдел банка. Нужно разобраться, влияет ли семейное положение и количество детей клиента на факт погашения кредита в срок. Входные данные от банка — статистика о платёжеспособности клиентов.\n",
    "Результаты исследования будут учтены при построении модели кредитного скоринга — специальной системы, которая оценивает способность потенциального заёмщика вернуть кредит банку."
   ]
  },
  {
   "cell_type": "markdown",
   "id": "128660fb",
   "metadata": {
    "deletable": false,
    "id": "744d7639"
   },
   "source": [
    "## Откроем таблицу и изучим общую информацию о данных"
   ]
  },
  {
   "cell_type": "code",
   "execution_count": 1,
   "id": "4a71e88d",
   "metadata": {
    "deletable": true,
    "id": "7bcf75c9"
   },
   "outputs": [],
   "source": [
    "import pandas as pd\n",
    "\n",
    "try:\n",
    "    data = pd.read_csv('/datasets/data.csv')\n",
    "except:\n",
    "    data = pd.read_csv('https://code.s3.yandex.net/datasets/data.csv')"
   ]
  },
  {
   "cell_type": "code",
   "execution_count": 2,
   "id": "b72b669d",
   "metadata": {
    "deletable": true,
    "id": "2a7cab99",
    "outputId": "1a8f3ef2-d323-4ec2-ddf7-89670b5944c4"
   },
   "outputs": [
    {
     "data": {
      "text/html": [
       "<div>\n",
       "<style scoped>\n",
       "    .dataframe tbody tr th:only-of-type {\n",
       "        vertical-align: middle;\n",
       "    }\n",
       "\n",
       "    .dataframe tbody tr th {\n",
       "        vertical-align: top;\n",
       "    }\n",
       "\n",
       "    .dataframe thead th {\n",
       "        text-align: right;\n",
       "    }\n",
       "</style>\n",
       "<table border=\"1\" class=\"dataframe\">\n",
       "  <thead>\n",
       "    <tr style=\"text-align: right;\">\n",
       "      <th></th>\n",
       "      <th>children</th>\n",
       "      <th>days_employed</th>\n",
       "      <th>dob_years</th>\n",
       "      <th>education</th>\n",
       "      <th>education_id</th>\n",
       "      <th>family_status</th>\n",
       "      <th>family_status_id</th>\n",
       "      <th>gender</th>\n",
       "      <th>income_type</th>\n",
       "      <th>debt</th>\n",
       "      <th>total_income</th>\n",
       "      <th>purpose</th>\n",
       "    </tr>\n",
       "  </thead>\n",
       "  <tbody>\n",
       "    <tr>\n",
       "      <th>0</th>\n",
       "      <td>1</td>\n",
       "      <td>-8437.673028</td>\n",
       "      <td>42</td>\n",
       "      <td>высшее</td>\n",
       "      <td>0</td>\n",
       "      <td>женат / замужем</td>\n",
       "      <td>0</td>\n",
       "      <td>F</td>\n",
       "      <td>сотрудник</td>\n",
       "      <td>0</td>\n",
       "      <td>253875.639453</td>\n",
       "      <td>покупка жилья</td>\n",
       "    </tr>\n",
       "    <tr>\n",
       "      <th>1</th>\n",
       "      <td>1</td>\n",
       "      <td>-4024.803754</td>\n",
       "      <td>36</td>\n",
       "      <td>среднее</td>\n",
       "      <td>1</td>\n",
       "      <td>женат / замужем</td>\n",
       "      <td>0</td>\n",
       "      <td>F</td>\n",
       "      <td>сотрудник</td>\n",
       "      <td>0</td>\n",
       "      <td>112080.014102</td>\n",
       "      <td>приобретение автомобиля</td>\n",
       "    </tr>\n",
       "    <tr>\n",
       "      <th>2</th>\n",
       "      <td>0</td>\n",
       "      <td>-5623.422610</td>\n",
       "      <td>33</td>\n",
       "      <td>Среднее</td>\n",
       "      <td>1</td>\n",
       "      <td>женат / замужем</td>\n",
       "      <td>0</td>\n",
       "      <td>M</td>\n",
       "      <td>сотрудник</td>\n",
       "      <td>0</td>\n",
       "      <td>145885.952297</td>\n",
       "      <td>покупка жилья</td>\n",
       "    </tr>\n",
       "    <tr>\n",
       "      <th>3</th>\n",
       "      <td>3</td>\n",
       "      <td>-4124.747207</td>\n",
       "      <td>32</td>\n",
       "      <td>среднее</td>\n",
       "      <td>1</td>\n",
       "      <td>женат / замужем</td>\n",
       "      <td>0</td>\n",
       "      <td>M</td>\n",
       "      <td>сотрудник</td>\n",
       "      <td>0</td>\n",
       "      <td>267628.550329</td>\n",
       "      <td>дополнительное образование</td>\n",
       "    </tr>\n",
       "    <tr>\n",
       "      <th>4</th>\n",
       "      <td>0</td>\n",
       "      <td>340266.072047</td>\n",
       "      <td>53</td>\n",
       "      <td>среднее</td>\n",
       "      <td>1</td>\n",
       "      <td>гражданский брак</td>\n",
       "      <td>1</td>\n",
       "      <td>F</td>\n",
       "      <td>пенсионер</td>\n",
       "      <td>0</td>\n",
       "      <td>158616.077870</td>\n",
       "      <td>сыграть свадьбу</td>\n",
       "    </tr>\n",
       "    <tr>\n",
       "      <th>5</th>\n",
       "      <td>0</td>\n",
       "      <td>-926.185831</td>\n",
       "      <td>27</td>\n",
       "      <td>высшее</td>\n",
       "      <td>0</td>\n",
       "      <td>гражданский брак</td>\n",
       "      <td>1</td>\n",
       "      <td>M</td>\n",
       "      <td>компаньон</td>\n",
       "      <td>0</td>\n",
       "      <td>255763.565419</td>\n",
       "      <td>покупка жилья</td>\n",
       "    </tr>\n",
       "    <tr>\n",
       "      <th>6</th>\n",
       "      <td>0</td>\n",
       "      <td>-2879.202052</td>\n",
       "      <td>43</td>\n",
       "      <td>высшее</td>\n",
       "      <td>0</td>\n",
       "      <td>женат / замужем</td>\n",
       "      <td>0</td>\n",
       "      <td>F</td>\n",
       "      <td>компаньон</td>\n",
       "      <td>0</td>\n",
       "      <td>240525.971920</td>\n",
       "      <td>операции с жильем</td>\n",
       "    </tr>\n",
       "    <tr>\n",
       "      <th>7</th>\n",
       "      <td>0</td>\n",
       "      <td>-152.779569</td>\n",
       "      <td>50</td>\n",
       "      <td>СРЕДНЕЕ</td>\n",
       "      <td>1</td>\n",
       "      <td>женат / замужем</td>\n",
       "      <td>0</td>\n",
       "      <td>M</td>\n",
       "      <td>сотрудник</td>\n",
       "      <td>0</td>\n",
       "      <td>135823.934197</td>\n",
       "      <td>образование</td>\n",
       "    </tr>\n",
       "    <tr>\n",
       "      <th>8</th>\n",
       "      <td>2</td>\n",
       "      <td>-6929.865299</td>\n",
       "      <td>35</td>\n",
       "      <td>ВЫСШЕЕ</td>\n",
       "      <td>0</td>\n",
       "      <td>гражданский брак</td>\n",
       "      <td>1</td>\n",
       "      <td>F</td>\n",
       "      <td>сотрудник</td>\n",
       "      <td>0</td>\n",
       "      <td>95856.832424</td>\n",
       "      <td>на проведение свадьбы</td>\n",
       "    </tr>\n",
       "    <tr>\n",
       "      <th>9</th>\n",
       "      <td>0</td>\n",
       "      <td>-2188.756445</td>\n",
       "      <td>41</td>\n",
       "      <td>среднее</td>\n",
       "      <td>1</td>\n",
       "      <td>женат / замужем</td>\n",
       "      <td>0</td>\n",
       "      <td>M</td>\n",
       "      <td>сотрудник</td>\n",
       "      <td>0</td>\n",
       "      <td>144425.938277</td>\n",
       "      <td>покупка жилья для семьи</td>\n",
       "    </tr>\n",
       "    <tr>\n",
       "      <th>10</th>\n",
       "      <td>2</td>\n",
       "      <td>-4171.483647</td>\n",
       "      <td>36</td>\n",
       "      <td>высшее</td>\n",
       "      <td>0</td>\n",
       "      <td>женат / замужем</td>\n",
       "      <td>0</td>\n",
       "      <td>M</td>\n",
       "      <td>компаньон</td>\n",
       "      <td>0</td>\n",
       "      <td>113943.491460</td>\n",
       "      <td>покупка недвижимости</td>\n",
       "    </tr>\n",
       "    <tr>\n",
       "      <th>11</th>\n",
       "      <td>0</td>\n",
       "      <td>-792.701887</td>\n",
       "      <td>40</td>\n",
       "      <td>среднее</td>\n",
       "      <td>1</td>\n",
       "      <td>женат / замужем</td>\n",
       "      <td>0</td>\n",
       "      <td>F</td>\n",
       "      <td>сотрудник</td>\n",
       "      <td>0</td>\n",
       "      <td>77069.234271</td>\n",
       "      <td>покупка коммерческой недвижимости</td>\n",
       "    </tr>\n",
       "    <tr>\n",
       "      <th>12</th>\n",
       "      <td>0</td>\n",
       "      <td>NaN</td>\n",
       "      <td>65</td>\n",
       "      <td>среднее</td>\n",
       "      <td>1</td>\n",
       "      <td>гражданский брак</td>\n",
       "      <td>1</td>\n",
       "      <td>M</td>\n",
       "      <td>пенсионер</td>\n",
       "      <td>0</td>\n",
       "      <td>NaN</td>\n",
       "      <td>сыграть свадьбу</td>\n",
       "    </tr>\n",
       "    <tr>\n",
       "      <th>13</th>\n",
       "      <td>0</td>\n",
       "      <td>-1846.641941</td>\n",
       "      <td>54</td>\n",
       "      <td>неоконченное высшее</td>\n",
       "      <td>2</td>\n",
       "      <td>женат / замужем</td>\n",
       "      <td>0</td>\n",
       "      <td>F</td>\n",
       "      <td>сотрудник</td>\n",
       "      <td>0</td>\n",
       "      <td>130458.228857</td>\n",
       "      <td>приобретение автомобиля</td>\n",
       "    </tr>\n",
       "    <tr>\n",
       "      <th>14</th>\n",
       "      <td>0</td>\n",
       "      <td>-1844.956182</td>\n",
       "      <td>56</td>\n",
       "      <td>высшее</td>\n",
       "      <td>0</td>\n",
       "      <td>гражданский брак</td>\n",
       "      <td>1</td>\n",
       "      <td>F</td>\n",
       "      <td>компаньон</td>\n",
       "      <td>1</td>\n",
       "      <td>165127.911772</td>\n",
       "      <td>покупка жилой недвижимости</td>\n",
       "    </tr>\n",
       "    <tr>\n",
       "      <th>15</th>\n",
       "      <td>1</td>\n",
       "      <td>-972.364419</td>\n",
       "      <td>26</td>\n",
       "      <td>среднее</td>\n",
       "      <td>1</td>\n",
       "      <td>женат / замужем</td>\n",
       "      <td>0</td>\n",
       "      <td>F</td>\n",
       "      <td>сотрудник</td>\n",
       "      <td>0</td>\n",
       "      <td>116820.904450</td>\n",
       "      <td>строительство собственной недвижимости</td>\n",
       "    </tr>\n",
       "    <tr>\n",
       "      <th>16</th>\n",
       "      <td>0</td>\n",
       "      <td>-1719.934226</td>\n",
       "      <td>35</td>\n",
       "      <td>среднее</td>\n",
       "      <td>1</td>\n",
       "      <td>женат / замужем</td>\n",
       "      <td>0</td>\n",
       "      <td>F</td>\n",
       "      <td>сотрудник</td>\n",
       "      <td>0</td>\n",
       "      <td>289202.704229</td>\n",
       "      <td>недвижимость</td>\n",
       "    </tr>\n",
       "    <tr>\n",
       "      <th>17</th>\n",
       "      <td>0</td>\n",
       "      <td>-2369.999720</td>\n",
       "      <td>33</td>\n",
       "      <td>высшее</td>\n",
       "      <td>0</td>\n",
       "      <td>гражданский брак</td>\n",
       "      <td>1</td>\n",
       "      <td>M</td>\n",
       "      <td>сотрудник</td>\n",
       "      <td>0</td>\n",
       "      <td>90410.586745</td>\n",
       "      <td>строительство недвижимости</td>\n",
       "    </tr>\n",
       "    <tr>\n",
       "      <th>18</th>\n",
       "      <td>0</td>\n",
       "      <td>400281.136913</td>\n",
       "      <td>53</td>\n",
       "      <td>среднее</td>\n",
       "      <td>1</td>\n",
       "      <td>вдовец / вдова</td>\n",
       "      <td>2</td>\n",
       "      <td>F</td>\n",
       "      <td>пенсионер</td>\n",
       "      <td>0</td>\n",
       "      <td>56823.777243</td>\n",
       "      <td>на покупку подержанного автомобиля</td>\n",
       "    </tr>\n",
       "    <tr>\n",
       "      <th>19</th>\n",
       "      <td>0</td>\n",
       "      <td>-10038.818549</td>\n",
       "      <td>48</td>\n",
       "      <td>СРЕДНЕЕ</td>\n",
       "      <td>1</td>\n",
       "      <td>в разводе</td>\n",
       "      <td>3</td>\n",
       "      <td>F</td>\n",
       "      <td>сотрудник</td>\n",
       "      <td>0</td>\n",
       "      <td>242831.107982</td>\n",
       "      <td>на покупку своего автомобиля</td>\n",
       "    </tr>\n",
       "  </tbody>\n",
       "</table>\n",
       "</div>"
      ],
      "text/plain": [
       "    children  days_employed  dob_years            education  education_id  \\\n",
       "0          1   -8437.673028         42               высшее             0   \n",
       "1          1   -4024.803754         36              среднее             1   \n",
       "2          0   -5623.422610         33              Среднее             1   \n",
       "3          3   -4124.747207         32              среднее             1   \n",
       "4          0  340266.072047         53              среднее             1   \n",
       "5          0    -926.185831         27               высшее             0   \n",
       "6          0   -2879.202052         43               высшее             0   \n",
       "7          0    -152.779569         50              СРЕДНЕЕ             1   \n",
       "8          2   -6929.865299         35               ВЫСШЕЕ             0   \n",
       "9          0   -2188.756445         41              среднее             1   \n",
       "10         2   -4171.483647         36               высшее             0   \n",
       "11         0    -792.701887         40              среднее             1   \n",
       "12         0            NaN         65              среднее             1   \n",
       "13         0   -1846.641941         54  неоконченное высшее             2   \n",
       "14         0   -1844.956182         56               высшее             0   \n",
       "15         1    -972.364419         26              среднее             1   \n",
       "16         0   -1719.934226         35              среднее             1   \n",
       "17         0   -2369.999720         33               высшее             0   \n",
       "18         0  400281.136913         53              среднее             1   \n",
       "19         0  -10038.818549         48              СРЕДНЕЕ             1   \n",
       "\n",
       "       family_status  family_status_id gender income_type  debt  \\\n",
       "0    женат / замужем                 0      F   сотрудник     0   \n",
       "1    женат / замужем                 0      F   сотрудник     0   \n",
       "2    женат / замужем                 0      M   сотрудник     0   \n",
       "3    женат / замужем                 0      M   сотрудник     0   \n",
       "4   гражданский брак                 1      F   пенсионер     0   \n",
       "5   гражданский брак                 1      M   компаньон     0   \n",
       "6    женат / замужем                 0      F   компаньон     0   \n",
       "7    женат / замужем                 0      M   сотрудник     0   \n",
       "8   гражданский брак                 1      F   сотрудник     0   \n",
       "9    женат / замужем                 0      M   сотрудник     0   \n",
       "10   женат / замужем                 0      M   компаньон     0   \n",
       "11   женат / замужем                 0      F   сотрудник     0   \n",
       "12  гражданский брак                 1      M   пенсионер     0   \n",
       "13   женат / замужем                 0      F   сотрудник     0   \n",
       "14  гражданский брак                 1      F   компаньон     1   \n",
       "15   женат / замужем                 0      F   сотрудник     0   \n",
       "16   женат / замужем                 0      F   сотрудник     0   \n",
       "17  гражданский брак                 1      M   сотрудник     0   \n",
       "18    вдовец / вдова                 2      F   пенсионер     0   \n",
       "19         в разводе                 3      F   сотрудник     0   \n",
       "\n",
       "     total_income                                 purpose  \n",
       "0   253875.639453                           покупка жилья  \n",
       "1   112080.014102                 приобретение автомобиля  \n",
       "2   145885.952297                           покупка жилья  \n",
       "3   267628.550329              дополнительное образование  \n",
       "4   158616.077870                         сыграть свадьбу  \n",
       "5   255763.565419                           покупка жилья  \n",
       "6   240525.971920                       операции с жильем  \n",
       "7   135823.934197                             образование  \n",
       "8    95856.832424                   на проведение свадьбы  \n",
       "9   144425.938277                 покупка жилья для семьи  \n",
       "10  113943.491460                    покупка недвижимости  \n",
       "11   77069.234271       покупка коммерческой недвижимости  \n",
       "12            NaN                         сыграть свадьбу  \n",
       "13  130458.228857                 приобретение автомобиля  \n",
       "14  165127.911772              покупка жилой недвижимости  \n",
       "15  116820.904450  строительство собственной недвижимости  \n",
       "16  289202.704229                            недвижимость  \n",
       "17   90410.586745              строительство недвижимости  \n",
       "18   56823.777243      на покупку подержанного автомобиля  \n",
       "19  242831.107982            на покупку своего автомобиля  "
      ]
     },
     "execution_count": 2,
     "metadata": {},
     "output_type": "execute_result"
    }
   ],
   "source": [
    "data.head(20)"
   ]
  },
  {
   "cell_type": "code",
   "execution_count": 3,
   "id": "d03dab04",
   "metadata": {
    "deletable": true,
    "id": "2b757bca",
    "outputId": "15376089-8dad-46c9-b520-c05248d43158"
   },
   "outputs": [
    {
     "name": "stdout",
     "output_type": "stream",
     "text": [
      "<class 'pandas.core.frame.DataFrame'>\n",
      "RangeIndex: 21525 entries, 0 to 21524\n",
      "Data columns (total 12 columns):\n",
      " #   Column            Non-Null Count  Dtype  \n",
      "---  ------            --------------  -----  \n",
      " 0   children          21525 non-null  int64  \n",
      " 1   days_employed     19351 non-null  float64\n",
      " 2   dob_years         21525 non-null  int64  \n",
      " 3   education         21525 non-null  object \n",
      " 4   education_id      21525 non-null  int64  \n",
      " 5   family_status     21525 non-null  object \n",
      " 6   family_status_id  21525 non-null  int64  \n",
      " 7   gender            21525 non-null  object \n",
      " 8   income_type       21525 non-null  object \n",
      " 9   debt              21525 non-null  int64  \n",
      " 10  total_income      19351 non-null  float64\n",
      " 11  purpose           21525 non-null  object \n",
      "dtypes: float64(2), int64(5), object(5)\n",
      "memory usage: 2.0+ MB\n"
     ]
    }
   ],
   "source": [
    "data.info()"
   ]
  },
  {
   "cell_type": "markdown",
   "id": "672bd8a0",
   "metadata": {
    "deletable": true,
    "editable": false,
    "id": "333ec665"
   },
   "source": [
    "## Предобработка данных"
   ]
  },
  {
   "cell_type": "markdown",
   "id": "839965da",
   "metadata": {
    "deletable": true,
    "editable": false,
    "id": "02d92d53"
   },
   "source": [
    "### Удаление пропусков"
   ]
  },
  {
   "cell_type": "code",
   "execution_count": 4,
   "id": "7ff6ece5",
   "metadata": {
    "deletable": true,
    "id": "7f9b2309",
    "outputId": "81f4d817-781c-465c-ed15-91ce4446810d"
   },
   "outputs": [
    {
     "data": {
      "text/plain": [
       "children               0\n",
       "days_employed       2174\n",
       "dob_years              0\n",
       "education              0\n",
       "education_id           0\n",
       "family_status          0\n",
       "family_status_id       0\n",
       "gender                 0\n",
       "income_type            0\n",
       "debt                   0\n",
       "total_income        2174\n",
       "purpose                0\n",
       "dtype: int64"
      ]
     },
     "execution_count": 4,
     "metadata": {},
     "output_type": "execute_result"
    }
   ],
   "source": [
    "data.isna().sum()"
   ]
  },
  {
   "cell_type": "code",
   "execution_count": 5,
   "id": "937c74cb",
   "metadata": {
    "deletable": true,
    "id": "42006a93"
   },
   "outputs": [],
   "source": [
    "for t in data['income_type'].unique():\n",
    "    data.loc[(data['income_type'] == t) & (data['total_income'].isna()), 'total_income'] = \\\n",
    "    data.loc[(data['income_type'] == t), 'total_income'].median()"
   ]
  },
  {
   "cell_type": "markdown",
   "id": "eb66fb7f",
   "metadata": {
    "deletable": true,
    "editable": false,
    "id": "89da5ece"
   },
   "source": [
    "### Обработка аномальных значений"
   ]
  },
  {
   "cell_type": "code",
   "execution_count": 6,
   "id": "de8773d5",
   "metadata": {
    "deletable": true,
    "id": "f6f055bf"
   },
   "outputs": [],
   "source": [
    "data['days_employed'] = data['days_employed'].abs()"
   ]
  },
  {
   "cell_type": "code",
   "execution_count": 7,
   "id": "29ae799b",
   "metadata": {
    "deletable": false,
    "editable": true,
    "id": "85a5faf6",
    "outputId": "801ef80e-522b-4668-f34e-565af7432bcf",
    "slideshow": {
     "slide_type": ""
    },
    "tags": []
   },
   "outputs": [
    {
     "data": {
      "text/plain": [
       "income_type\n",
       "безработный        366413.652744\n",
       "в декрете            3296.759962\n",
       "госслужащий          2689.368353\n",
       "компаньон            1547.382223\n",
       "пенсионер          365213.306266\n",
       "предприниматель       520.848083\n",
       "сотрудник            1574.202821\n",
       "студент               578.751554\n",
       "Name: days_employed, dtype: float64"
      ]
     },
     "execution_count": 7,
     "metadata": {},
     "output_type": "execute_result"
    }
   ],
   "source": [
    "data.groupby('income_type')['days_employed'].agg('median')"
   ]
  },
  {
   "cell_type": "markdown",
   "id": "92167df2",
   "metadata": {
    "deletable": false,
    "editable": false,
    "id": "38d1a030"
   },
   "source": [
    "У двух типов (безработные и пенсионеры) получатся аномально большие значения. Исправить такие значения сложно, поэтому оставьте их как есть. Тем более этот столбец не понадобится вам для исследования."
   ]
  },
  {
   "cell_type": "code",
   "execution_count": 8,
   "id": "f3308e90",
   "metadata": {
    "deletable": false,
    "id": "ef5056eb",
    "outputId": "6975b15c-7f95-4697-d16d-a0c79b657b03"
   },
   "outputs": [
    {
     "data": {
      "text/plain": [
       "array([ 1,  0,  3,  2, -1,  4, 20,  5])"
      ]
     },
     "execution_count": 8,
     "metadata": {},
     "output_type": "execute_result"
    }
   ],
   "source": [
    "data['children'].unique()"
   ]
  },
  {
   "cell_type": "code",
   "execution_count": 9,
   "id": "28ce03ff",
   "metadata": {
    "deletable": false,
    "id": "3ff9801d"
   },
   "outputs": [],
   "source": [
    "data = data[(data['children'] != -1) & (data['children'] != 20)]"
   ]
  },
  {
   "cell_type": "code",
   "execution_count": 10,
   "id": "24bd777d",
   "metadata": {
    "deletable": false,
    "id": "ad4fa8b7",
    "outputId": "b2097101-d49d-44d9-901b-32a65c9463d1"
   },
   "outputs": [
    {
     "data": {
      "text/plain": [
       "array([1, 0, 3, 2, 4, 5])"
      ]
     },
     "execution_count": 10,
     "metadata": {},
     "output_type": "execute_result"
    }
   ],
   "source": [
    "data['children'].unique()"
   ]
  },
  {
   "cell_type": "markdown",
   "id": "67587bbc",
   "metadata": {
    "deletable": false,
    "editable": false,
    "id": "75440b63"
   },
   "source": [
    "### Удаление пропусков (продолжение)"
   ]
  },
  {
   "cell_type": "code",
   "execution_count": 11,
   "id": "a12b420c",
   "metadata": {
    "deletable": false,
    "id": "af6b1a7e"
   },
   "outputs": [],
   "source": [
    "for t in data['income_type'].unique():\n",
    "    data.loc[(data['income_type'] == t) & (data['days_employed'].isna()), 'days_employed'] = \\\n",
    "    data.loc[(data['income_type'] == t), 'days_employed'].median()"
   ]
  },
  {
   "cell_type": "code",
   "execution_count": 12,
   "id": "899b227a",
   "metadata": {
    "deletable": false,
    "id": "55f78bc2",
    "outputId": "8da1e4e1-358e-4e87-98c9-f261bce0a7b2"
   },
   "outputs": [
    {
     "data": {
      "text/plain": [
       "children            0\n",
       "days_employed       0\n",
       "dob_years           0\n",
       "education           0\n",
       "education_id        0\n",
       "family_status       0\n",
       "family_status_id    0\n",
       "gender              0\n",
       "income_type         0\n",
       "debt                0\n",
       "total_income        0\n",
       "purpose             0\n",
       "dtype: int64"
      ]
     },
     "execution_count": 12,
     "metadata": {},
     "output_type": "execute_result"
    }
   ],
   "source": [
    "data.isna().sum()"
   ]
  },
  {
   "cell_type": "markdown",
   "id": "48e9ec00",
   "metadata": {
    "deletable": false,
    "editable": false,
    "id": "ddc81e43"
   },
   "source": [
    "### Изменение типов данных"
   ]
  },
  {
   "cell_type": "code",
   "execution_count": 13,
   "id": "b2d6cb13",
   "metadata": {
    "deletable": false,
    "id": "920b65ad"
   },
   "outputs": [],
   "source": [
    "data['total_income'] = data['total_income'].astype(int)"
   ]
  },
  {
   "cell_type": "markdown",
   "id": "81eecf99",
   "metadata": {
    "deletable": false,
    "editable": false,
    "id": "80c420ba"
   },
   "source": [
    "### Обработка дубликатов"
   ]
  },
  {
   "cell_type": "code",
   "execution_count": 14,
   "id": "e9d21e85",
   "metadata": {
    "deletable": false
   },
   "outputs": [],
   "source": [
    "data['education'] = data['education'].str.lower()"
   ]
  },
  {
   "cell_type": "code",
   "execution_count": 15,
   "id": "f04acde9",
   "metadata": {
    "deletable": false,
    "id": "3ee445e4",
    "outputId": "9684deba-1934-42d1-99e1-cda61740f822"
   },
   "outputs": [
    {
     "data": {
      "text/plain": [
       "71"
      ]
     },
     "execution_count": 15,
     "metadata": {},
     "output_type": "execute_result"
    }
   ],
   "source": [
    "data.duplicated().sum()"
   ]
  },
  {
   "cell_type": "code",
   "execution_count": 16,
   "id": "5c2770e0",
   "metadata": {
    "deletable": false,
    "id": "8575fe05"
   },
   "outputs": [],
   "source": [
    "data = data.drop_duplicates()"
   ]
  },
  {
   "cell_type": "markdown",
   "id": "23a70750",
   "metadata": {
    "deletable": false,
    "editable": false,
    "id": "9904cf55"
   },
   "source": [
    "### Категоризация данных"
   ]
  },
  {
   "cell_type": "markdown",
   "id": "4bd6f0ed",
   "metadata": {
    "deletable": false,
    "id": "72fcc8a2"
   },
   "source": [
    "**На основании диапазонов, указанных ниже, создадим в датафрейме `data` столбец `total_income_category` с категориями:**\n",
    "\n",
    "- 0–30000 — `'E'`;\n",
    "- 30001–50000 — `'D'`;\n",
    "- 50001–200000 — `'C'`;\n",
    "- 200001–1000000 — `'B'`;\n",
    "- 1000001 и выше — `'A'`.\n",
    "\n",
    "\n",
    "**Например, кредитополучателю с доходом 25000 нужно назначить категорию `'E'`, а клиенту, получающему 235000, — `'B'`. Используйте собственную функцию с именем `categorize_income()` и метод `apply()`.**"
   ]
  },
  {
   "cell_type": "code",
   "execution_count": 17,
   "id": "2c33bdcc",
   "metadata": {
    "deletable": false,
    "id": "e1771346"
   },
   "outputs": [],
   "source": [
    "def categorize_income(income):\n",
    "    try:\n",
    "        if 0 <= income <= 30000:\n",
    "            return 'E'\n",
    "        elif 30001 <= income <= 50000:\n",
    "            return 'D'\n",
    "        elif 50001 <= income <= 200000:\n",
    "            return 'C'\n",
    "        elif 200001 <= income <= 1000000:\n",
    "            return 'B'\n",
    "        elif income >= 1000001:\n",
    "            return 'A'\n",
    "    except:\n",
    "        pass"
   ]
  },
  {
   "cell_type": "code",
   "execution_count": 18,
   "id": "ab8622b7",
   "metadata": {
    "deletable": false,
    "id": "d5f3586d"
   },
   "outputs": [],
   "source": [
    "data['total_income_category'] = data['total_income'].apply(categorize_income)"
   ]
  },
  {
   "cell_type": "code",
   "execution_count": 19,
   "id": "a1c50e39",
   "metadata": {
    "deletable": false,
    "id": "f67ce9b3",
    "outputId": "673c12d9-7d7e-4ae0-9812-c622c89dd244"
   },
   "outputs": [
    {
     "data": {
      "text/plain": [
       "array(['покупка жилья', 'приобретение автомобиля',\n",
       "       'дополнительное образование', 'сыграть свадьбу',\n",
       "       'операции с жильем', 'образование', 'на проведение свадьбы',\n",
       "       'покупка жилья для семьи', 'покупка недвижимости',\n",
       "       'покупка коммерческой недвижимости', 'покупка жилой недвижимости',\n",
       "       'строительство собственной недвижимости', 'недвижимость',\n",
       "       'строительство недвижимости', 'на покупку подержанного автомобиля',\n",
       "       'на покупку своего автомобиля',\n",
       "       'операции с коммерческой недвижимостью',\n",
       "       'строительство жилой недвижимости', 'жилье',\n",
       "       'операции со своей недвижимостью', 'автомобили',\n",
       "       'заняться образованием', 'сделка с подержанным автомобилем',\n",
       "       'получение образования', 'автомобиль', 'свадьба',\n",
       "       'получение дополнительного образования', 'покупка своего жилья',\n",
       "       'операции с недвижимостью', 'получение высшего образования',\n",
       "       'свой автомобиль', 'сделка с автомобилем',\n",
       "       'профильное образование', 'высшее образование',\n",
       "       'покупка жилья для сдачи', 'на покупку автомобиля', 'ремонт жилью',\n",
       "       'заняться высшим образованием'], dtype=object)"
      ]
     },
     "execution_count": 19,
     "metadata": {},
     "output_type": "execute_result"
    }
   ],
   "source": [
    "data['purpose'].unique()"
   ]
  },
  {
   "cell_type": "markdown",
   "id": "13ddbe1f",
   "metadata": {
    "deletable": false,
    "id": "85d0aef0"
   },
   "source": [
    "**Создадим функцию, которая на основании данных из столбца `purpose` сформирует новый столбец `purpose_category`, в который войдут следующие категории:**\n",
    "\n",
    "- `'операции с автомобилем'`,\n",
    "- `'операции с недвижимостью'`,\n",
    "- `'проведение свадьбы'`,\n",
    "- `'получение образования'`.\n",
    "\n",
    "**Например, если в столбце `purpose` находится подстрока `'на покупку автомобиля'`, то в столбце `purpose_category` должна появиться строка `'операции с автомобилем'`.**\n",
    "\n",
    "**Используем собственную функцию с именем `categorize_purpose()` и метод `apply()`. Изучим данные в столбце `purpose` и определим, какие подстроки помогут нам правильно определить категорию.**"
   ]
  },
  {
   "cell_type": "code",
   "execution_count": 20,
   "id": "a10e67a9",
   "metadata": {
    "deletable": false,
    "id": "e149fab4"
   },
   "outputs": [],
   "source": [
    "def categorize_purpose(row):\n",
    "    try:\n",
    "        if 'автом' in row:\n",
    "            return 'операции с автомобилем'\n",
    "        elif 'жил' in row or 'недвиж' in row:\n",
    "            return 'операции с недвижимостью'\n",
    "        elif 'свад' in row:\n",
    "            return 'проведение свадьбы'\n",
    "        elif 'образов' in row:\n",
    "            return 'получение образования'\n",
    "    except:\n",
    "        return 'нет категории'"
   ]
  },
  {
   "cell_type": "code",
   "execution_count": 21,
   "id": "933398ab",
   "metadata": {
    "deletable": false,
    "id": "bf36e69b"
   },
   "outputs": [],
   "source": [
    "data['purpose_category'] = data['purpose'].apply(categorize_purpose)"
   ]
  },
  {
   "cell_type": "markdown",
   "id": "27ce02be",
   "metadata": {
    "deletable": false,
    "editable": false,
    "id": "09b242bf"
   },
   "source": [
    "### Шаг 3. Исследуйте данные и ответьте на вопросы"
   ]
  },
  {
   "cell_type": "markdown",
   "id": "23d5b6a7",
   "metadata": {
    "deletable": false,
    "editable": false,
    "id": "c5d66278"
   },
   "source": [
    "#### 3.1 Есть ли зависимость между количеством детей и возвратом кредита в срок?"
   ]
  },
  {
   "cell_type": "code",
   "execution_count": 22,
   "id": "80e0cd7d",
   "metadata": {
    "deletable": false,
    "id": "2cacfc4a"
   },
   "outputs": [],
   "source": [
    "# Сгруппируем данные по столбцу с количеством детей и применим методы подсчета суммы, количества и вероятности задолженности \n",
    "# Таким образом мы получаем таблицу, в которой показано, сколько задолженностей у каждой группы и их общее количество\n",
    "# Эта таблица нам понадобится для расчета вероятности задолженности по группам\n",
    "data_grouped_children_debt = data.groupby('children').agg({'debt': ['sum', 'count', 'mean']})"
   ]
  },
  {
   "cell_type": "code",
   "execution_count": 23,
   "id": "26bf7cdf",
   "metadata": {},
   "outputs": [
    {
     "data": {
      "text/html": [
       "<div>\n",
       "<style scoped>\n",
       "    .dataframe tbody tr th:only-of-type {\n",
       "        vertical-align: middle;\n",
       "    }\n",
       "\n",
       "    .dataframe tbody tr th {\n",
       "        vertical-align: top;\n",
       "    }\n",
       "\n",
       "    .dataframe thead tr th {\n",
       "        text-align: left;\n",
       "    }\n",
       "\n",
       "    .dataframe thead tr:last-of-type th {\n",
       "        text-align: right;\n",
       "    }\n",
       "</style>\n",
       "<table border=\"1\" class=\"dataframe\">\n",
       "  <thead>\n",
       "    <tr>\n",
       "      <th></th>\n",
       "      <th colspan=\"3\" halign=\"left\">debt</th>\n",
       "    </tr>\n",
       "    <tr>\n",
       "      <th></th>\n",
       "      <th>sum</th>\n",
       "      <th>count</th>\n",
       "      <th>mean</th>\n",
       "    </tr>\n",
       "    <tr>\n",
       "      <th>children</th>\n",
       "      <th></th>\n",
       "      <th></th>\n",
       "      <th></th>\n",
       "    </tr>\n",
       "  </thead>\n",
       "  <tbody>\n",
       "    <tr>\n",
       "      <th>0</th>\n",
       "      <td>1063</td>\n",
       "      <td>14091</td>\n",
       "      <td>0.075438</td>\n",
       "    </tr>\n",
       "    <tr>\n",
       "      <th>1</th>\n",
       "      <td>444</td>\n",
       "      <td>4808</td>\n",
       "      <td>0.092346</td>\n",
       "    </tr>\n",
       "    <tr>\n",
       "      <th>2</th>\n",
       "      <td>194</td>\n",
       "      <td>2052</td>\n",
       "      <td>0.094542</td>\n",
       "    </tr>\n",
       "    <tr>\n",
       "      <th>3</th>\n",
       "      <td>27</td>\n",
       "      <td>330</td>\n",
       "      <td>0.081818</td>\n",
       "    </tr>\n",
       "    <tr>\n",
       "      <th>4</th>\n",
       "      <td>4</td>\n",
       "      <td>41</td>\n",
       "      <td>0.097561</td>\n",
       "    </tr>\n",
       "    <tr>\n",
       "      <th>5</th>\n",
       "      <td>0</td>\n",
       "      <td>9</td>\n",
       "      <td>0.000000</td>\n",
       "    </tr>\n",
       "  </tbody>\n",
       "</table>\n",
       "</div>"
      ],
      "text/plain": [
       "          debt                 \n",
       "           sum  count      mean\n",
       "children                       \n",
       "0         1063  14091  0.075438\n",
       "1          444   4808  0.092346\n",
       "2          194   2052  0.094542\n",
       "3           27    330  0.081818\n",
       "4            4     41  0.097561\n",
       "5            0      9  0.000000"
      ]
     },
     "execution_count": 23,
     "metadata": {},
     "output_type": "execute_result"
    }
   ],
   "source": [
    "# Выводим результат\n",
    "data_grouped_children_debt"
   ]
  },
  {
   "cell_type": "markdown",
   "id": "c68f55db",
   "metadata": {
    "deletable": false,
    "id": "3a6b99ec"
   },
   "source": [
    "**Вывод: Взглянув на данные, можно понять что количество людей с 3,4 и 5 детьми недостаточно для формирования вывода по ним. Однако, взглянув на категории, имеющих 0, 1 и 2 детей, можно сказать, что чем больше детей, тем выше доля должников. Риск задолженности при наличии одного ребенка повышается на (9.23-7.54)/7.54 = 22.4%, а при наличии двух детей повышается на (9.45-7.54)/7.54 = 25.3%**"
   ]
  },
  {
   "cell_type": "markdown",
   "id": "2d752b8f",
   "metadata": {
    "deletable": false,
    "editable": false,
    "id": "97be82ca"
   },
   "source": [
    "#### 3.2 Есть ли зависимость между семейным положением и возвратом кредита в срок?"
   ]
  },
  {
   "cell_type": "code",
   "execution_count": 25,
   "id": "49bbbbe6",
   "metadata": {
    "deletable": false,
    "id": "dc3f7ee8"
   },
   "outputs": [],
   "source": [
    "# Сгруппируем данные по столбцу с семейным статусом и применим методы подсчета суммы и количестваи и вероятности задолженности\n",
    "# Таким образом мы получаем таблицу, в которой показано, сколько задолженностей у каждой группы и их общее количество\n",
    "# Эта таблица нам понадобится для расчета вероятности задолженности по группам\n",
    "data_grouped_family_status_debt = data.groupby('family_status').agg({'debt': ['sum', 'count', 'mean']})"
   ]
  },
  {
   "cell_type": "code",
   "execution_count": 26,
   "id": "c49e6e16",
   "metadata": {},
   "outputs": [
    {
     "data": {
      "text/html": [
       "<div>\n",
       "<style scoped>\n",
       "    .dataframe tbody tr th:only-of-type {\n",
       "        vertical-align: middle;\n",
       "    }\n",
       "\n",
       "    .dataframe tbody tr th {\n",
       "        vertical-align: top;\n",
       "    }\n",
       "\n",
       "    .dataframe thead tr th {\n",
       "        text-align: left;\n",
       "    }\n",
       "\n",
       "    .dataframe thead tr:last-of-type th {\n",
       "        text-align: right;\n",
       "    }\n",
       "</style>\n",
       "<table border=\"1\" class=\"dataframe\">\n",
       "  <thead>\n",
       "    <tr>\n",
       "      <th></th>\n",
       "      <th colspan=\"3\" halign=\"left\">debt</th>\n",
       "    </tr>\n",
       "    <tr>\n",
       "      <th></th>\n",
       "      <th>sum</th>\n",
       "      <th>count</th>\n",
       "      <th>mean</th>\n",
       "    </tr>\n",
       "    <tr>\n",
       "      <th>family_status</th>\n",
       "      <th></th>\n",
       "      <th></th>\n",
       "      <th></th>\n",
       "    </tr>\n",
       "  </thead>\n",
       "  <tbody>\n",
       "    <tr>\n",
       "      <th>Не женат / не замужем</th>\n",
       "      <td>273</td>\n",
       "      <td>2796</td>\n",
       "      <td>0.097639</td>\n",
       "    </tr>\n",
       "    <tr>\n",
       "      <th>в разводе</th>\n",
       "      <td>84</td>\n",
       "      <td>1189</td>\n",
       "      <td>0.070648</td>\n",
       "    </tr>\n",
       "    <tr>\n",
       "      <th>вдовец / вдова</th>\n",
       "      <td>63</td>\n",
       "      <td>951</td>\n",
       "      <td>0.066246</td>\n",
       "    </tr>\n",
       "    <tr>\n",
       "      <th>гражданский брак</th>\n",
       "      <td>385</td>\n",
       "      <td>4134</td>\n",
       "      <td>0.093130</td>\n",
       "    </tr>\n",
       "    <tr>\n",
       "      <th>женат / замужем</th>\n",
       "      <td>927</td>\n",
       "      <td>12261</td>\n",
       "      <td>0.075606</td>\n",
       "    </tr>\n",
       "  </tbody>\n",
       "</table>\n",
       "</div>"
      ],
      "text/plain": [
       "                      debt                 \n",
       "                       sum  count      mean\n",
       "family_status                              \n",
       "Не женат / не замужем  273   2796  0.097639\n",
       "в разводе               84   1189  0.070648\n",
       "вдовец / вдова          63    951  0.066246\n",
       "гражданский брак       385   4134  0.093130\n",
       "женат / замужем        927  12261  0.075606"
      ]
     },
     "execution_count": 26,
     "metadata": {},
     "output_type": "execute_result"
    }
   ],
   "source": [
    "# Выводим результат\n",
    "data_grouped_family_status_debt"
   ]
  },
  {
   "cell_type": "markdown",
   "id": "b4c2b58d",
   "metadata": {
    "deletable": false,
    "id": "1cef7837"
   },
   "source": [
    "**Вывод: Наибольшая вероятность задолженностей холостых и состоящих в гражданском браке. Наименьшая у тех, кто был в браке, но лишился партнера. По статистике большинство людей не вошедших в брак имеют возраст до 25 лет. Судя по таблице эта возрастная категория имеет наивысший риск возникновения задолженности. Также по статистике абсолютное большинство переживают гибель партнера только после 40 лет. Самым «популярным» возрастом для разводящихся россиян является 30-34 года. Из этого можно сделать вывод, что взрослые люди старше 34 лет имеют меньше шансов к задолженности, чем молодые** "
   ]
  },
  {
   "cell_type": "markdown",
   "id": "c2edbed2",
   "metadata": {
    "deletable": false,
    "editable": false,
    "id": "1e8b2fca"
   },
   "source": [
    "#### 3.3 Есть ли зависимость между уровнем дохода и возвратом кредита в срок?"
   ]
  },
  {
   "cell_type": "code",
   "execution_count": 27,
   "id": "0b57481d",
   "metadata": {
    "deletable": false,
    "id": "cd7e3720"
   },
   "outputs": [],
   "source": [
    "# Сгруппируем данные по столбцу с категориями доходов и применим методы подсчета суммы, количества и вероятности задолженности\n",
    "# Таким образом мы получаем таблицу, в которой показано, сколько задолженностей у каждой группы и их общее количество\n",
    "# Эта таблица нам понадобится для расчета вероятности задолженности по группам\n",
    "data_grouped_income_debt = data.groupby('total_income_category').agg({'debt': ['sum', 'count', 'mean']})"
   ]
  },
  {
   "cell_type": "code",
   "execution_count": 28,
   "id": "98c20610",
   "metadata": {},
   "outputs": [
    {
     "data": {
      "text/html": [
       "<div>\n",
       "<style scoped>\n",
       "    .dataframe tbody tr th:only-of-type {\n",
       "        vertical-align: middle;\n",
       "    }\n",
       "\n",
       "    .dataframe tbody tr th {\n",
       "        vertical-align: top;\n",
       "    }\n",
       "\n",
       "    .dataframe thead tr th {\n",
       "        text-align: left;\n",
       "    }\n",
       "\n",
       "    .dataframe thead tr:last-of-type th {\n",
       "        text-align: right;\n",
       "    }\n",
       "</style>\n",
       "<table border=\"1\" class=\"dataframe\">\n",
       "  <thead>\n",
       "    <tr>\n",
       "      <th></th>\n",
       "      <th colspan=\"3\" halign=\"left\">debt</th>\n",
       "    </tr>\n",
       "    <tr>\n",
       "      <th></th>\n",
       "      <th>sum</th>\n",
       "      <th>count</th>\n",
       "      <th>mean</th>\n",
       "    </tr>\n",
       "    <tr>\n",
       "      <th>total_income_category</th>\n",
       "      <th></th>\n",
       "      <th></th>\n",
       "      <th></th>\n",
       "    </tr>\n",
       "  </thead>\n",
       "  <tbody>\n",
       "    <tr>\n",
       "      <th>A</th>\n",
       "      <td>2</td>\n",
       "      <td>25</td>\n",
       "      <td>0.080000</td>\n",
       "    </tr>\n",
       "    <tr>\n",
       "      <th>B</th>\n",
       "      <td>354</td>\n",
       "      <td>5014</td>\n",
       "      <td>0.070602</td>\n",
       "    </tr>\n",
       "    <tr>\n",
       "      <th>C</th>\n",
       "      <td>1353</td>\n",
       "      <td>15921</td>\n",
       "      <td>0.084982</td>\n",
       "    </tr>\n",
       "    <tr>\n",
       "      <th>D</th>\n",
       "      <td>21</td>\n",
       "      <td>349</td>\n",
       "      <td>0.060172</td>\n",
       "    </tr>\n",
       "    <tr>\n",
       "      <th>E</th>\n",
       "      <td>2</td>\n",
       "      <td>22</td>\n",
       "      <td>0.090909</td>\n",
       "    </tr>\n",
       "  </tbody>\n",
       "</table>\n",
       "</div>"
      ],
      "text/plain": [
       "                       debt                 \n",
       "                        sum  count      mean\n",
       "total_income_category                       \n",
       "A                         2     25  0.080000\n",
       "B                       354   5014  0.070602\n",
       "C                      1353  15921  0.084982\n",
       "D                        21    349  0.060172\n",
       "E                         2     22  0.090909"
      ]
     },
     "execution_count": 28,
     "metadata": {},
     "output_type": "execute_result"
    }
   ],
   "source": [
    "# Выводим результат\n",
    "data_grouped_income_debt"
   ]
  },
  {
   "cell_type": "markdown",
   "id": "51a6f335",
   "metadata": {
    "deletable": false,
    "id": "e8593def"
   },
   "source": [
    "**Вывод: Данных в категориях A, D, E не хватает для полноценного анализа, поэтому основываясь на категориях B и C можно сделать вывод что чем выше доход, тем ниже доля должников** "
   ]
  },
  {
   "cell_type": "markdown",
   "id": "8da669e8",
   "metadata": {
    "deletable": false,
    "editable": false,
    "id": "99ecbd1f"
   },
   "source": [
    "#### 3.4 Как разные цели кредита влияют на его возврат в срок?"
   ]
  },
  {
   "cell_type": "code",
   "execution_count": 29,
   "id": "9b64fe28",
   "metadata": {
    "deletable": false,
    "id": "2b687290"
   },
   "outputs": [],
   "source": [
    "# Сгруппируем данные по столбцу с целями кредита и применим методы подсчета суммы, количества и вероятности задолженности\n",
    "# Таким образом мы получаем таблицу, в которой показано, сколько задолженностей у каждой группы и их общее количество\n",
    "# Эта таблица нам понадобится для расчета вероятности задолженности по группам\n",
    "data_grouped_purpose_debt = data.groupby('purpose_category').agg({'debt': ['sum', 'count', 'mean']})"
   ]
  },
  {
   "cell_type": "code",
   "execution_count": 30,
   "id": "a6bfa8bf",
   "metadata": {},
   "outputs": [
    {
     "data": {
      "text/html": [
       "<div>\n",
       "<style scoped>\n",
       "    .dataframe tbody tr th:only-of-type {\n",
       "        vertical-align: middle;\n",
       "    }\n",
       "\n",
       "    .dataframe tbody tr th {\n",
       "        vertical-align: top;\n",
       "    }\n",
       "\n",
       "    .dataframe thead tr th {\n",
       "        text-align: left;\n",
       "    }\n",
       "\n",
       "    .dataframe thead tr:last-of-type th {\n",
       "        text-align: right;\n",
       "    }\n",
       "</style>\n",
       "<table border=\"1\" class=\"dataframe\">\n",
       "  <thead>\n",
       "    <tr>\n",
       "      <th></th>\n",
       "      <th colspan=\"3\" halign=\"left\">debt</th>\n",
       "    </tr>\n",
       "    <tr>\n",
       "      <th></th>\n",
       "      <th>sum</th>\n",
       "      <th>count</th>\n",
       "      <th>mean</th>\n",
       "    </tr>\n",
       "    <tr>\n",
       "      <th>purpose_category</th>\n",
       "      <th></th>\n",
       "      <th></th>\n",
       "      <th></th>\n",
       "    </tr>\n",
       "  </thead>\n",
       "  <tbody>\n",
       "    <tr>\n",
       "      <th>операции с автомобилем</th>\n",
       "      <td>400</td>\n",
       "      <td>4279</td>\n",
       "      <td>0.093480</td>\n",
       "    </tr>\n",
       "    <tr>\n",
       "      <th>операции с недвижимостью</th>\n",
       "      <td>780</td>\n",
       "      <td>10751</td>\n",
       "      <td>0.072551</td>\n",
       "    </tr>\n",
       "    <tr>\n",
       "      <th>получение образования</th>\n",
       "      <td>369</td>\n",
       "      <td>3988</td>\n",
       "      <td>0.092528</td>\n",
       "    </tr>\n",
       "    <tr>\n",
       "      <th>проведение свадьбы</th>\n",
       "      <td>183</td>\n",
       "      <td>2313</td>\n",
       "      <td>0.079118</td>\n",
       "    </tr>\n",
       "  </tbody>\n",
       "</table>\n",
       "</div>"
      ],
      "text/plain": [
       "                         debt                 \n",
       "                          sum  count      mean\n",
       "purpose_category                              \n",
       "операции с автомобилем    400   4279  0.093480\n",
       "операции с недвижимостью  780  10751  0.072551\n",
       "получение образования     369   3988  0.092528\n",
       "проведение свадьбы        183   2313  0.079118"
      ]
     },
     "execution_count": 30,
     "metadata": {},
     "output_type": "execute_result"
    }
   ],
   "source": [
    "# Выводим результат\n",
    "data_grouped_purpose_debt"
   ]
  },
  {
   "cell_type": "markdown",
   "id": "0c9a8850",
   "metadata": {
    "deletable": false,
    "id": "b4bb2ce6"
   },
   "source": [
    "**Вывод: Наибольшая вероятность задолженностей у людей, берущих кредит на операции с автомобилем. Наименьшая у тех, кто берет кредит для операций с недвижимостью.** "
   ]
  },
  {
   "cell_type": "markdown",
   "id": "c414c3f6",
   "metadata": {
    "deletable": false,
    "editable": false,
    "id": "09c3ac4c"
   },
   "source": [
    "#### 3.5 Приведите возможные причины появления пропусков в исходных данных."
   ]
  },
  {
   "cell_type": "markdown",
   "id": "8f3635e6",
   "metadata": {
    "deletable": false,
    "id": "9da2ceda"
   },
   "source": [
    "*Ответ: Возможные причины возникновения пропусков:\n",
    "1. Пропуски были в столбцах с ежемесячным доходом и опытом работы, откуда можно сдлать вывод, что пропуски были у людей, которые не работали раньше, и вместо 0 были подставлены значения Nan.\n",
    "2. Клиенты могли не предоставить данные. Возможно, эту информацию не требуют в некоторых случаях.\n",
    "3. Могли возникнуть проблемы  на этапах загрузки и выгрузки данных.\n",
    "4. Неправильный запрос, объединение таблиц также может быть причиной.* "
   ]
  },
  {
   "cell_type": "markdown",
   "id": "741c3290",
   "metadata": {
    "deletable": false,
    "editable": false,
    "id": "7b0487d6"
   },
   "source": [
    "#### 3.6 Объясните, почему заполнить пропуски медианным значением — лучшее решение для количественных переменных."
   ]
  },
  {
   "cell_type": "markdown",
   "id": "c80f09ac",
   "metadata": {
    "deletable": false,
    "id": "7ecf2b8e"
   },
   "source": [
    "*Ответ:  Среднее значение некорректно характеризует данные, когда некоторые значения сильно выделяются среди большинства.* "
   ]
  },
  {
   "cell_type": "markdown",
   "id": "4de0526c",
   "metadata": {
    "deletable": false,
    "editable": false,
    "id": "6db5255a"
   },
   "source": [
    "### Шаг 4: общий вывод."
   ]
  },
  {
   "cell_type": "markdown",
   "id": "dfedd8ec",
   "metadata": {
    "deletable": false,
    "id": "bad65432"
   },
   "source": [
    "**Проведенная работа:**\n",
    "1. Пропуски в столбцах с количество дней стажа и ежемесячным доходом были заменены медианным значением.\n",
    "2. Были удалены аномальные значения по количеству детей.\n",
    "3. Были удалены дубликаты данных\n",
    "4. Был создан новый столбец, обобщяющий группы по размеру ежемесячного дохода: A, B, C, D, E.\n",
    "5. Был создан новый столбец, обобщяющий причины взятия кредита в котором все имеющиеся причины распередляются в одну из 4 новых категорий.\n",
    "6. Был проведен анализ в котором искалась зависимость между риском возникновения задолженности и: количеством детей, семейным положением, уровнем дохода и целью взятия кредита.\n",
    "    \n",
    "**Вывод:**\n",
    "\n",
    "1. По людям с 0-2 детьми: чем больше детей, тем выше доля должников. Данных по многодетным (3 и более детей) недостаточно для корректных выводов по ним. \n",
    "2. По семейному положению: люди, побывавшие в официальном браке, наиболее надежны. \n",
    "3. По группам дохода B и C: чем выше доход, тем ниже доля должников. \n",
    "4. По цели кредита: наиболее рискованные категории - 'операции с автомобилем' и 'получение образования', наиболее надежные - 'операции с недвижимостью' и 'проведение свадьбы'.\n",
    "\n",
    "**Рекомандации:**\n",
    "\n",
    "В качестве рекомендаций можно предложить другую категоризацию по доходам. Можно предложить исследовать другие признаки, рассчитать другие метрики (отношение дохода к сумме выплат и др.). В анкете сделать поля о доходе и стаже обязательными к заполнению, добавить автопроверку на формат вводимых пользователем данных"
   ]
  }
 ],
 "metadata": {
  "ExecuteTimeLog": [
   {
    "duration": 44,
    "start_time": "2023-10-23T03:26:41.468Z"
   },
   {
    "duration": 7,
    "start_time": "2023-10-23T03:26:55.204Z"
   },
   {
    "duration": 510,
    "start_time": "2023-10-23T03:27:08.872Z"
   },
   {
    "duration": 438,
    "start_time": "2023-10-23T03:27:25.169Z"
   },
   {
    "duration": 21,
    "start_time": "2023-10-23T03:27:26.984Z"
   },
   {
    "duration": 16,
    "start_time": "2023-10-23T03:27:28.463Z"
   },
   {
    "duration": 12,
    "start_time": "2023-10-23T03:27:29.810Z"
   },
   {
    "duration": 35,
    "start_time": "2023-10-23T03:27:30.445Z"
   },
   {
    "duration": 4,
    "start_time": "2023-10-23T03:27:31.312Z"
   },
   {
    "duration": 7,
    "start_time": "2023-10-23T03:27:31.883Z"
   },
   {
    "duration": 4,
    "start_time": "2023-10-23T03:27:32.650Z"
   },
   {
    "duration": 7,
    "start_time": "2023-10-23T03:27:33.146Z"
   },
   {
    "duration": 4,
    "start_time": "2023-10-23T03:27:33.728Z"
   },
   {
    "duration": 32,
    "start_time": "2023-10-23T03:27:34.838Z"
   },
   {
    "duration": 9,
    "start_time": "2023-10-23T03:27:35.364Z"
   },
   {
    "duration": 4,
    "start_time": "2023-10-23T03:27:36.487Z"
   },
   {
    "duration": 11,
    "start_time": "2023-10-23T03:27:37.637Z"
   },
   {
    "duration": 19,
    "start_time": "2023-10-23T03:27:38.582Z"
   },
   {
    "duration": 16,
    "start_time": "2023-10-23T03:27:39.593Z"
   },
   {
    "duration": 3,
    "start_time": "2023-10-23T03:27:42.219Z"
   },
   {
    "duration": 10,
    "start_time": "2023-10-23T03:27:43.162Z"
   },
   {
    "duration": 6,
    "start_time": "2023-10-23T03:27:44.503Z"
   },
   {
    "duration": 3,
    "start_time": "2023-10-23T03:27:46.111Z"
   },
   {
    "duration": 8,
    "start_time": "2023-10-23T03:27:46.815Z"
   },
   {
    "duration": 18,
    "start_time": "2023-10-23T03:27:53.668Z"
   },
   {
    "duration": 15,
    "start_time": "2023-10-23T03:28:05.597Z"
   },
   {
    "duration": 12,
    "start_time": "2023-10-23T03:29:08.437Z"
   },
   {
    "duration": 4,
    "start_time": "2023-10-23T03:32:40.669Z"
   },
   {
    "duration": 61,
    "start_time": "2023-10-23T03:32:48.493Z"
   },
   {
    "duration": 12,
    "start_time": "2023-10-23T03:33:31.901Z"
   },
   {
    "duration": 19,
    "start_time": "2023-10-23T03:34:01.974Z"
   },
   {
    "duration": 6,
    "start_time": "2023-10-23T04:16:25.481Z"
   },
   {
    "duration": 14,
    "start_time": "2023-10-23T04:16:37.936Z"
   },
   {
    "duration": 18,
    "start_time": "2023-10-23T04:17:11.556Z"
   },
   {
    "duration": 19,
    "start_time": "2023-10-23T04:17:21.543Z"
   },
   {
    "duration": 19,
    "start_time": "2023-10-23T04:18:36.358Z"
   },
   {
    "duration": 4,
    "start_time": "2023-10-23T04:19:29.536Z"
   },
   {
    "duration": 3,
    "start_time": "2023-10-23T04:19:43.754Z"
   },
   {
    "duration": 6,
    "start_time": "2023-10-23T04:20:36.292Z"
   },
   {
    "duration": 6,
    "start_time": "2023-10-23T04:21:38.647Z"
   },
   {
    "duration": 9,
    "start_time": "2023-10-23T04:23:14.457Z"
   },
   {
    "duration": 15,
    "start_time": "2023-10-23T04:23:22.680Z"
   },
   {
    "duration": 14,
    "start_time": "2023-10-23T04:24:05.149Z"
   },
   {
    "duration": 15,
    "start_time": "2023-10-23T04:24:27.867Z"
   },
   {
    "duration": 11,
    "start_time": "2023-10-23T04:24:59.182Z"
   },
   {
    "duration": 16,
    "start_time": "2023-10-23T04:25:07.137Z"
   },
   {
    "duration": 6,
    "start_time": "2023-10-23T04:26:23.693Z"
   },
   {
    "duration": 8,
    "start_time": "2023-10-23T04:29:38.078Z"
   },
   {
    "duration": 7,
    "start_time": "2023-10-23T04:31:21.334Z"
   },
   {
    "duration": 9,
    "start_time": "2023-10-23T05:47:21.761Z"
   },
   {
    "duration": 7,
    "start_time": "2023-10-23T05:49:06.177Z"
   },
   {
    "duration": 8,
    "start_time": "2023-10-23T05:49:12.000Z"
   },
   {
    "duration": 8,
    "start_time": "2023-10-23T05:49:25.810Z"
   },
   {
    "duration": 21,
    "start_time": "2023-10-23T06:14:22.019Z"
   },
   {
    "duration": 14,
    "start_time": "2023-10-23T06:14:31.054Z"
   },
   {
    "duration": 16,
    "start_time": "2023-10-23T06:55:07.438Z"
   },
   {
    "duration": 18,
    "start_time": "2023-10-23T06:58:43.905Z"
   },
   {
    "duration": 133,
    "start_time": "2023-10-23T07:07:53.433Z"
   },
   {
    "duration": 10,
    "start_time": "2023-10-23T07:08:00.536Z"
   },
   {
    "duration": 15,
    "start_time": "2023-10-23T07:08:14.264Z"
   },
   {
    "duration": 10,
    "start_time": "2023-10-23T07:09:32.187Z"
   },
   {
    "duration": 16,
    "start_time": "2023-10-23T07:10:21.211Z"
   },
   {
    "duration": 14,
    "start_time": "2023-10-23T07:10:41.058Z"
   },
   {
    "duration": 12,
    "start_time": "2023-10-23T07:10:49.610Z"
   },
   {
    "duration": 12,
    "start_time": "2023-10-23T07:10:58.581Z"
   },
   {
    "duration": 8,
    "start_time": "2023-10-23T07:12:17.211Z"
   },
   {
    "duration": 28,
    "start_time": "2023-10-23T07:29:59.288Z"
   },
   {
    "duration": 52,
    "start_time": "2023-10-23T07:30:19.053Z"
   },
   {
    "duration": 39,
    "start_time": "2023-10-23T07:30:33.162Z"
   },
   {
    "duration": 27,
    "start_time": "2023-10-23T07:30:58.797Z"
   },
   {
    "duration": 26,
    "start_time": "2023-10-23T07:31:08.062Z"
   },
   {
    "duration": 31,
    "start_time": "2023-10-23T07:32:29.551Z"
   },
   {
    "duration": 27,
    "start_time": "2023-10-23T07:33:05.773Z"
   },
   {
    "duration": 29,
    "start_time": "2023-10-23T07:33:24.683Z"
   },
   {
    "duration": 44,
    "start_time": "2023-10-23T07:36:01.897Z"
   },
   {
    "duration": 52,
    "start_time": "2023-10-23T07:36:46.291Z"
   },
   {
    "duration": 9,
    "start_time": "2023-10-23T07:39:04.821Z"
   },
   {
    "duration": 9,
    "start_time": "2023-10-23T07:39:39.409Z"
   },
   {
    "duration": 8,
    "start_time": "2023-10-23T07:40:28.168Z"
   },
   {
    "duration": 9,
    "start_time": "2023-10-23T07:41:00.508Z"
   },
   {
    "duration": 12,
    "start_time": "2023-10-23T07:44:02.878Z"
   },
   {
    "duration": 14,
    "start_time": "2023-10-23T07:44:12.912Z"
   },
   {
    "duration": 9,
    "start_time": "2023-10-23T07:44:41.454Z"
   },
   {
    "duration": 11,
    "start_time": "2023-10-23T07:45:25.825Z"
   },
   {
    "duration": 13,
    "start_time": "2023-10-23T07:46:48.005Z"
   },
   {
    "duration": 21,
    "start_time": "2023-10-23T07:47:41.226Z"
   },
   {
    "duration": 25,
    "start_time": "2023-10-23T07:51:13.467Z"
   },
   {
    "duration": 22,
    "start_time": "2023-10-23T07:52:05.404Z"
   },
   {
    "duration": 23,
    "start_time": "2023-10-23T07:52:09.473Z"
   },
   {
    "duration": 21,
    "start_time": "2023-10-23T07:52:17.065Z"
   },
   {
    "duration": 21,
    "start_time": "2023-10-23T07:52:22.142Z"
   },
   {
    "duration": 24,
    "start_time": "2023-10-23T07:53:11.020Z"
   },
   {
    "duration": 21,
    "start_time": "2023-10-23T07:56:09.382Z"
   },
   {
    "duration": 83,
    "start_time": "2023-10-23T07:56:52.242Z"
   },
   {
    "duration": 17,
    "start_time": "2023-10-23T07:57:17.085Z"
   },
   {
    "duration": 18,
    "start_time": "2023-10-23T07:57:32.517Z"
   },
   {
    "duration": 16,
    "start_time": "2023-10-23T07:57:44.125Z"
   },
   {
    "duration": 10,
    "start_time": "2023-10-23T07:57:50.803Z"
   },
   {
    "duration": 16,
    "start_time": "2023-10-23T08:15:15.611Z"
   },
   {
    "duration": 23,
    "start_time": "2023-10-23T08:15:29.371Z"
   },
   {
    "duration": 36,
    "start_time": "2023-10-23T08:15:57.536Z"
   },
   {
    "duration": 27,
    "start_time": "2023-10-23T08:16:08.571Z"
   },
   {
    "duration": 25,
    "start_time": "2023-10-23T08:16:45.370Z"
   },
   {
    "duration": 21,
    "start_time": "2023-10-23T08:16:55.676Z"
   },
   {
    "duration": 37,
    "start_time": "2023-10-23T08:17:27.034Z"
   },
   {
    "duration": 23,
    "start_time": "2023-10-23T08:17:36.021Z"
   },
   {
    "duration": 12,
    "start_time": "2023-10-23T08:18:13.438Z"
   },
   {
    "duration": 20,
    "start_time": "2023-10-23T08:18:21.707Z"
   },
   {
    "duration": 18,
    "start_time": "2023-10-23T08:18:40.275Z"
   },
   {
    "duration": 10,
    "start_time": "2023-10-23T08:18:52.281Z"
   },
   {
    "duration": 16,
    "start_time": "2023-10-23T08:19:03.523Z"
   },
   {
    "duration": 104,
    "start_time": "2023-10-23T08:19:16.513Z"
   },
   {
    "duration": 3181,
    "start_time": "2023-10-23T08:19:22.602Z"
   },
   {
    "duration": 36,
    "start_time": "2023-10-23T08:19:58.586Z"
   },
   {
    "duration": 214,
    "start_time": "2023-10-23T08:20:19.163Z"
   },
   {
    "duration": 353,
    "start_time": "2023-10-23T08:20:27.220Z"
   },
   {
    "duration": 17,
    "start_time": "2023-10-23T08:20:33.707Z"
   },
   {
    "duration": 46,
    "start_time": "2023-10-23T15:55:24.686Z"
   },
   {
    "duration": 551,
    "start_time": "2023-10-23T15:55:36.047Z"
   },
   {
    "duration": 20,
    "start_time": "2023-10-23T15:55:36.600Z"
   },
   {
    "duration": 14,
    "start_time": "2023-10-23T15:55:36.910Z"
   },
   {
    "duration": 11,
    "start_time": "2023-10-23T15:55:37.637Z"
   },
   {
    "duration": 35,
    "start_time": "2023-10-23T15:55:37.997Z"
   },
   {
    "duration": 4,
    "start_time": "2023-10-23T15:55:38.557Z"
   },
   {
    "duration": 7,
    "start_time": "2023-10-23T15:55:38.917Z"
   },
   {
    "duration": 4,
    "start_time": "2023-10-23T15:55:39.477Z"
   },
   {
    "duration": 6,
    "start_time": "2023-10-23T15:55:39.837Z"
   },
   {
    "duration": 4,
    "start_time": "2023-10-23T15:55:40.197Z"
   },
   {
    "duration": 35,
    "start_time": "2023-10-23T15:55:40.774Z"
   },
   {
    "duration": 10,
    "start_time": "2023-10-23T15:55:41.150Z"
   },
   {
    "duration": 4,
    "start_time": "2023-10-23T15:55:41.725Z"
   },
   {
    "duration": 11,
    "start_time": "2023-10-23T15:55:42.269Z"
   },
   {
    "duration": 19,
    "start_time": "2023-10-23T15:55:42.645Z"
   },
   {
    "duration": 16,
    "start_time": "2023-10-23T15:55:42.855Z"
   },
   {
    "duration": 4,
    "start_time": "2023-10-23T15:55:43.437Z"
   },
   {
    "duration": 10,
    "start_time": "2023-10-23T15:55:43.665Z"
   },
   {
    "duration": 6,
    "start_time": "2023-10-23T15:55:45.101Z"
   },
   {
    "duration": 3,
    "start_time": "2023-10-23T15:55:45.789Z"
   },
   {
    "duration": 9,
    "start_time": "2023-10-23T15:55:47.963Z"
   },
   {
    "duration": 13,
    "start_time": "2023-10-23T15:55:58.186Z"
   },
   {
    "duration": 65,
    "start_time": "2023-10-23T15:56:14.385Z"
   },
   {
    "duration": 13,
    "start_time": "2023-10-23T15:56:25.746Z"
   },
   {
    "duration": 14,
    "start_time": "2023-10-23T15:56:39.145Z"
   },
   {
    "duration": 13,
    "start_time": "2023-10-23T15:56:50.267Z"
   },
   {
    "duration": 11,
    "start_time": "2023-10-23T15:56:56.018Z"
   },
   {
    "duration": 14,
    "start_time": "2023-10-23T16:00:20.971Z"
   },
   {
    "duration": 35,
    "start_time": "2023-10-23T16:10:28.961Z"
   },
   {
    "duration": 19,
    "start_time": "2023-10-23T16:14:42.778Z"
   },
   {
    "duration": 3016,
    "start_time": "2023-10-23T16:19:12.358Z"
   },
   {
    "duration": 2975,
    "start_time": "2023-10-23T16:20:31.806Z"
   },
   {
    "duration": 168,
    "start_time": "2023-10-23T16:21:40.275Z"
   },
   {
    "duration": 2919,
    "start_time": "2023-10-23T16:21:45.392Z"
   },
   {
    "duration": 26,
    "start_time": "2023-10-23T16:25:05.332Z"
   },
   {
    "duration": 19,
    "start_time": "2023-10-23T16:25:17.141Z"
   },
   {
    "duration": 12,
    "start_time": "2023-10-23T16:25:28.254Z"
   },
   {
    "duration": 15,
    "start_time": "2023-10-23T16:25:35.005Z"
   },
   {
    "duration": 14,
    "start_time": "2023-10-23T16:26:00.991Z"
   },
   {
    "duration": 3522,
    "start_time": "2023-10-23T16:26:18.679Z"
   },
   {
    "duration": 3089,
    "start_time": "2023-10-23T16:29:36.170Z"
   },
   {
    "duration": 9,
    "start_time": "2023-10-23T16:29:58.987Z"
   },
   {
    "duration": 9,
    "start_time": "2023-10-23T16:30:15.284Z"
   },
   {
    "duration": 23,
    "start_time": "2023-10-23T16:35:07.700Z"
   },
   {
    "duration": 16,
    "start_time": "2023-10-23T16:37:31.265Z"
   },
   {
    "duration": 10,
    "start_time": "2023-10-23T16:41:30.013Z"
   },
   {
    "duration": 3143,
    "start_time": "2023-10-23T16:43:57.909Z"
   },
   {
    "duration": 3102,
    "start_time": "2023-10-23T16:46:10.757Z"
   },
   {
    "duration": 23,
    "start_time": "2023-10-23T16:46:24.281Z"
   },
   {
    "duration": 35,
    "start_time": "2023-10-23T16:46:38.176Z"
   },
   {
    "duration": 2865,
    "start_time": "2023-10-23T16:47:06.778Z"
   },
   {
    "duration": 27,
    "start_time": "2023-10-23T16:47:23.555Z"
   },
   {
    "duration": 3085,
    "start_time": "2023-10-23T16:47:56.812Z"
   },
   {
    "duration": 30,
    "start_time": "2023-10-23T16:48:42.711Z"
   },
   {
    "duration": 22,
    "start_time": "2023-10-23T16:48:53.030Z"
   },
   {
    "duration": 17,
    "start_time": "2023-10-23T16:49:05.825Z"
   },
   {
    "duration": 18,
    "start_time": "2023-10-23T16:49:14.254Z"
   },
   {
    "duration": 20,
    "start_time": "2023-10-23T16:52:17.591Z"
   },
   {
    "duration": 24,
    "start_time": "2023-10-23T17:03:36.589Z"
   },
   {
    "duration": 13,
    "start_time": "2023-10-23T17:03:53.924Z"
   },
   {
    "duration": 21,
    "start_time": "2023-10-23T17:03:57.942Z"
   },
   {
    "duration": 8,
    "start_time": "2023-10-23T17:06:29.467Z"
   },
   {
    "duration": 8,
    "start_time": "2023-10-23T17:06:50.813Z"
   },
   {
    "duration": 9,
    "start_time": "2023-10-23T17:10:55.966Z"
   },
   {
    "duration": 11,
    "start_time": "2023-10-23T17:12:55.094Z"
   },
   {
    "duration": 3,
    "start_time": "2023-10-23T17:47:46.926Z"
   },
   {
    "duration": 7,
    "start_time": "2023-10-23T17:47:48.847Z"
   },
   {
    "duration": 11,
    "start_time": "2023-10-23T17:47:55.239Z"
   },
   {
    "duration": 8,
    "start_time": "2023-10-23T18:00:40.954Z"
   },
   {
    "duration": 10,
    "start_time": "2023-10-23T18:00:43.591Z"
   },
   {
    "duration": 9,
    "start_time": "2023-10-23T18:58:08.542Z"
   },
   {
    "duration": 11,
    "start_time": "2023-10-23T18:58:11.394Z"
   },
   {
    "duration": 438,
    "start_time": "2023-10-23T19:31:32.663Z"
   },
   {
    "duration": 23,
    "start_time": "2023-10-23T19:31:33.103Z"
   },
   {
    "duration": 17,
    "start_time": "2023-10-23T19:31:33.128Z"
   },
   {
    "duration": 12,
    "start_time": "2023-10-23T19:31:33.148Z"
   },
   {
    "duration": 60,
    "start_time": "2023-10-23T19:31:33.162Z"
   },
   {
    "duration": 4,
    "start_time": "2023-10-23T19:31:33.224Z"
   },
   {
    "duration": 9,
    "start_time": "2023-10-23T19:31:33.230Z"
   },
   {
    "duration": 5,
    "start_time": "2023-10-23T19:31:33.241Z"
   },
   {
    "duration": 13,
    "start_time": "2023-10-23T19:31:33.248Z"
   },
   {
    "duration": 9,
    "start_time": "2023-10-23T19:31:33.265Z"
   },
   {
    "duration": 71,
    "start_time": "2023-10-23T19:31:33.276Z"
   },
   {
    "duration": 11,
    "start_time": "2023-10-23T19:31:33.349Z"
   },
   {
    "duration": 8,
    "start_time": "2023-10-23T19:31:33.362Z"
   },
   {
    "duration": 23,
    "start_time": "2023-10-23T19:31:33.371Z"
   },
   {
    "duration": 43,
    "start_time": "2023-10-23T19:31:33.395Z"
   },
   {
    "duration": 19,
    "start_time": "2023-10-23T19:31:33.440Z"
   },
   {
    "duration": 4,
    "start_time": "2023-10-23T19:31:33.461Z"
   },
   {
    "duration": 12,
    "start_time": "2023-10-23T19:31:33.467Z"
   },
   {
    "duration": 8,
    "start_time": "2023-10-23T19:31:33.480Z"
   },
   {
    "duration": 20,
    "start_time": "2023-10-23T19:31:33.489Z"
   },
   {
    "duration": 11,
    "start_time": "2023-10-23T19:31:33.510Z"
   },
   {
    "duration": 4,
    "start_time": "2023-10-23T19:31:33.522Z"
   },
   {
    "duration": 11,
    "start_time": "2023-10-23T19:31:33.528Z"
   },
   {
    "duration": 12,
    "start_time": "2023-10-23T19:31:33.540Z"
   },
   {
    "duration": 9,
    "start_time": "2023-10-23T19:31:33.554Z"
   },
   {
    "duration": 49,
    "start_time": "2023-10-23T19:31:33.565Z"
   },
   {
    "duration": 10,
    "start_time": "2023-10-23T19:31:33.616Z"
   },
   {
    "duration": 15,
    "start_time": "2023-10-23T19:31:33.630Z"
   },
   {
    "duration": 21,
    "start_time": "2023-10-23T19:31:33.647Z"
   },
   {
    "duration": 15,
    "start_time": "2023-10-23T19:31:33.669Z"
   },
   {
    "duration": 49,
    "start_time": "2023-10-24T15:03:05.388Z"
   },
   {
    "duration": 514,
    "start_time": "2023-10-24T15:03:18.621Z"
   },
   {
    "duration": 24,
    "start_time": "2023-10-24T15:03:19.156Z"
   },
   {
    "duration": 16,
    "start_time": "2023-10-24T15:03:19.603Z"
   },
   {
    "duration": 12,
    "start_time": "2023-10-24T15:03:20.562Z"
   },
   {
    "duration": 37,
    "start_time": "2023-10-24T15:03:20.954Z"
   },
   {
    "duration": 4,
    "start_time": "2023-10-24T15:03:21.570Z"
   },
   {
    "duration": 8,
    "start_time": "2023-10-24T15:03:21.986Z"
   },
   {
    "duration": 5,
    "start_time": "2023-10-24T15:03:22.826Z"
   },
   {
    "duration": 7,
    "start_time": "2023-10-24T15:03:23.419Z"
   },
   {
    "duration": 5,
    "start_time": "2023-10-24T15:03:24.043Z"
   },
   {
    "duration": 36,
    "start_time": "2023-10-24T15:03:25.634Z"
   },
   {
    "duration": 11,
    "start_time": "2023-10-24T15:03:26.284Z"
   },
   {
    "duration": 4,
    "start_time": "2023-10-24T15:03:27.210Z"
   },
   {
    "duration": 12,
    "start_time": "2023-10-24T15:03:27.843Z"
   },
   {
    "duration": 21,
    "start_time": "2023-10-24T15:03:28.244Z"
   },
   {
    "duration": 19,
    "start_time": "2023-10-24T15:03:28.443Z"
   },
   {
    "duration": 4,
    "start_time": "2023-10-24T15:03:29.051Z"
   },
   {
    "duration": 11,
    "start_time": "2023-10-24T15:03:29.629Z"
   },
   {
    "duration": 7,
    "start_time": "2023-10-24T15:03:30.651Z"
   },
   {
    "duration": 4,
    "start_time": "2023-10-24T15:03:31.852Z"
   },
   {
    "duration": 15,
    "start_time": "2023-10-24T15:03:32.276Z"
   },
   {
    "duration": 3,
    "start_time": "2023-10-24T15:03:35.821Z"
   },
   {
    "duration": 10,
    "start_time": "2023-10-24T15:03:37.572Z"
   },
   {
    "duration": 13,
    "start_time": "2023-10-24T15:03:38.804Z"
   },
   {
    "duration": 13,
    "start_time": "2023-10-24T15:08:52.661Z"
   },
   {
    "duration": 9,
    "start_time": "2023-10-24T15:09:06.715Z"
   },
   {
    "duration": 10,
    "start_time": "2023-10-24T15:34:28.024Z"
   },
   {
    "duration": 9,
    "start_time": "2023-10-24T15:34:29.886Z"
   },
   {
    "duration": 506,
    "start_time": "2023-10-24T16:38:45.862Z"
   },
   {
    "duration": 24,
    "start_time": "2023-10-24T16:38:46.370Z"
   },
   {
    "duration": 24,
    "start_time": "2023-10-24T16:38:47.229Z"
   },
   {
    "duration": 11,
    "start_time": "2023-10-24T16:38:48.509Z"
   },
   {
    "duration": 39,
    "start_time": "2023-10-24T16:38:48.885Z"
   },
   {
    "duration": 3,
    "start_time": "2023-10-24T16:38:49.413Z"
   },
   {
    "duration": 8,
    "start_time": "2023-10-24T16:38:49.792Z"
   },
   {
    "duration": 5,
    "start_time": "2023-10-24T16:38:50.269Z"
   },
   {
    "duration": 8,
    "start_time": "2023-10-24T16:38:50.637Z"
   },
   {
    "duration": 5,
    "start_time": "2023-10-24T16:38:51.045Z"
   },
   {
    "duration": 37,
    "start_time": "2023-10-24T16:38:51.673Z"
   },
   {
    "duration": 11,
    "start_time": "2023-10-24T16:38:52.047Z"
   },
   {
    "duration": 4,
    "start_time": "2023-10-24T16:38:52.622Z"
   },
   {
    "duration": 13,
    "start_time": "2023-10-24T16:38:53.177Z"
   },
   {
    "duration": 21,
    "start_time": "2023-10-24T16:38:53.541Z"
   },
   {
    "duration": 19,
    "start_time": "2023-10-24T16:38:53.728Z"
   },
   {
    "duration": 3,
    "start_time": "2023-10-24T16:38:54.351Z"
   },
   {
    "duration": 12,
    "start_time": "2023-10-24T16:38:54.590Z"
   },
   {
    "duration": 6,
    "start_time": "2023-10-24T16:38:55.171Z"
   },
   {
    "duration": 3,
    "start_time": "2023-10-24T16:38:55.702Z"
   },
   {
    "duration": 9,
    "start_time": "2023-10-24T16:38:55.976Z"
   },
   {
    "duration": 11,
    "start_time": "2023-10-24T16:38:57.270Z"
   },
   {
    "duration": 9,
    "start_time": "2023-10-24T16:38:57.502Z"
   },
   {
    "duration": 9,
    "start_time": "2023-10-24T16:38:59.077Z"
   },
   {
    "duration": 10,
    "start_time": "2023-10-24T16:38:59.286Z"
   },
   {
    "duration": 9,
    "start_time": "2023-10-24T16:39:00.823Z"
   },
   {
    "duration": 9,
    "start_time": "2023-10-24T16:39:01.167Z"
   },
   {
    "duration": 11,
    "start_time": "2023-10-24T16:39:03.150Z"
   },
   {
    "duration": 11,
    "start_time": "2023-10-24T16:39:03.927Z"
   },
   {
    "duration": 607,
    "start_time": "2023-10-24T18:24:22.991Z"
   },
   {
    "duration": 37,
    "start_time": "2023-10-24T18:24:23.601Z"
   },
   {
    "duration": 21,
    "start_time": "2023-10-24T18:24:23.641Z"
   },
   {
    "duration": 23,
    "start_time": "2023-10-24T18:24:23.665Z"
   },
   {
    "duration": 90,
    "start_time": "2023-10-24T18:24:23.690Z"
   },
   {
    "duration": 5,
    "start_time": "2023-10-24T18:24:23.782Z"
   },
   {
    "duration": 39,
    "start_time": "2023-10-24T18:24:23.789Z"
   },
   {
    "duration": 41,
    "start_time": "2023-10-24T18:24:23.830Z"
   },
   {
    "duration": 38,
    "start_time": "2023-10-24T18:24:23.874Z"
   },
   {
    "duration": 57,
    "start_time": "2023-10-24T18:24:23.919Z"
   },
   {
    "duration": 101,
    "start_time": "2023-10-24T18:24:23.978Z"
   },
   {
    "duration": 19,
    "start_time": "2023-10-24T18:24:24.081Z"
   },
   {
    "duration": 43,
    "start_time": "2023-10-24T18:24:24.102Z"
   },
   {
    "duration": 21,
    "start_time": "2023-10-24T18:24:24.148Z"
   },
   {
    "duration": 30,
    "start_time": "2023-10-24T18:24:24.172Z"
   },
   {
    "duration": 26,
    "start_time": "2023-10-24T18:24:24.204Z"
   },
   {
    "duration": 9,
    "start_time": "2023-10-24T18:24:24.235Z"
   },
   {
    "duration": 33,
    "start_time": "2023-10-24T18:24:24.247Z"
   },
   {
    "duration": 56,
    "start_time": "2023-10-24T18:24:24.282Z"
   },
   {
    "duration": 19,
    "start_time": "2023-10-24T18:24:24.340Z"
   },
   {
    "duration": 37,
    "start_time": "2023-10-24T18:24:24.361Z"
   },
   {
    "duration": 29,
    "start_time": "2023-10-24T18:24:24.400Z"
   },
   {
    "duration": 16,
    "start_time": "2023-10-24T18:24:24.430Z"
   },
   {
    "duration": 37,
    "start_time": "2023-10-24T18:24:24.448Z"
   },
   {
    "duration": 42,
    "start_time": "2023-10-24T18:24:24.487Z"
   },
   {
    "duration": 23,
    "start_time": "2023-10-24T18:24:24.531Z"
   },
   {
    "duration": 30,
    "start_time": "2023-10-24T18:24:24.556Z"
   },
   {
    "duration": 21,
    "start_time": "2023-10-24T18:24:24.591Z"
   },
   {
    "duration": 16,
    "start_time": "2023-10-24T18:24:24.614Z"
   },
   {
    "duration": 897,
    "start_time": "2023-10-24T18:36:48.160Z"
   },
   {
    "duration": 552,
    "start_time": "2023-10-25T10:14:37.417Z"
   },
   {
    "duration": 21,
    "start_time": "2023-10-25T10:14:37.972Z"
   },
   {
    "duration": 26,
    "start_time": "2023-10-25T10:14:37.994Z"
   },
   {
    "duration": 21,
    "start_time": "2023-10-25T10:14:38.021Z"
   },
   {
    "duration": 42,
    "start_time": "2023-10-25T10:14:38.044Z"
   },
   {
    "duration": 3,
    "start_time": "2023-10-25T10:14:38.088Z"
   },
   {
    "duration": 14,
    "start_time": "2023-10-25T10:14:38.092Z"
   },
   {
    "duration": 20,
    "start_time": "2023-10-25T10:14:38.108Z"
   },
   {
    "duration": 30,
    "start_time": "2023-10-25T10:14:38.129Z"
   },
   {
    "duration": 13,
    "start_time": "2023-10-25T10:14:38.161Z"
   },
   {
    "duration": 40,
    "start_time": "2023-10-25T10:14:38.176Z"
   },
   {
    "duration": 10,
    "start_time": "2023-10-25T10:14:38.217Z"
   },
   {
    "duration": 26,
    "start_time": "2023-10-25T10:14:38.228Z"
   },
   {
    "duration": 19,
    "start_time": "2023-10-25T10:14:38.256Z"
   },
   {
    "duration": 29,
    "start_time": "2023-10-25T10:14:38.277Z"
   },
   {
    "duration": 16,
    "start_time": "2023-10-25T10:14:38.308Z"
   },
   {
    "duration": 6,
    "start_time": "2023-10-25T10:14:38.326Z"
   },
   {
    "duration": 16,
    "start_time": "2023-10-25T10:14:38.334Z"
   },
   {
    "duration": 9,
    "start_time": "2023-10-25T10:14:38.352Z"
   },
   {
    "duration": 3,
    "start_time": "2023-10-25T10:14:38.362Z"
   },
   {
    "duration": 29,
    "start_time": "2023-10-25T10:14:38.367Z"
   },
   {
    "duration": 18,
    "start_time": "2023-10-25T10:14:38.398Z"
   },
   {
    "duration": 40,
    "start_time": "2023-10-25T10:14:38.417Z"
   },
   {
    "duration": 800,
    "start_time": "2023-10-25T10:14:38.459Z"
   },
   {
    "duration": 8,
    "start_time": "2023-10-25T10:14:39.261Z"
   },
   {
    "duration": 108,
    "start_time": "2023-10-25T10:14:39.271Z"
   },
   {
    "duration": 247,
    "start_time": "2023-10-25T10:14:39.381Z"
   },
   {
    "duration": 55,
    "start_time": "2023-10-25T10:14:39.630Z"
   },
   {
    "duration": 39,
    "start_time": "2023-10-25T10:14:39.686Z"
   },
   {
    "duration": 26,
    "start_time": "2023-10-25T10:14:39.727Z"
   }
  ],
  "colab": {
   "name": "dpp_template_part2.ipynb",
   "provenance": []
  },
  "kernelspec": {
   "display_name": "Python 3 (ipykernel)",
   "language": "python",
   "name": "python3"
  },
  "language_info": {
   "codemirror_mode": {
    "name": "ipython",
    "version": 3
   },
   "file_extension": ".py",
   "mimetype": "text/x-python",
   "name": "python",
   "nbconvert_exporter": "python",
   "pygments_lexer": "ipython3",
   "version": "3.12.1"
  },
  "toc": {
   "base_numbering": 1,
   "nav_menu": {},
   "number_sections": true,
   "sideBar": true,
   "skip_h1_title": true,
   "title_cell": "Table of Contents",
   "title_sidebar": "Contents",
   "toc_cell": false,
   "toc_position": {},
   "toc_section_display": true,
   "toc_window_display": false
  }
 },
 "nbformat": 4,
 "nbformat_minor": 5
}
