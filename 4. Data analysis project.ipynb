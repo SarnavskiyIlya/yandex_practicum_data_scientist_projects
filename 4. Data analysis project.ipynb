{
 "cells": [
  {
   "cell_type": "markdown",
   "metadata": {},
   "source": [
    "# Исследование игровой индустрии \n",
    "\n",
    "В нашем распоряжении исторические данные из открытых источников о продажах игр, оценки пользователей и критиков, жанрах и платформ. Целью данного исследования является изучение закономерностей, которые определяют успешность определенной игры. Задача исследования - проверить гипотезы, позволяющие определить равны ли пользовательские рейтинги платформ Xbox & PC, жанров Action & Sports.\n",
    "\n",
    "План работы включает в себя:\n",
    "- предобработку данных: определение пустых строк, дублирущих значений; \n",
    "- исследовательский анализ данных с помощью построения различных видов графиков;\n",
    "- составление портрета пользователя на основе данных регионов: Северная Америка, Европа, Япония и других стран.\n",
    "- проверку статистических гипотез.\n",
    "\n",
    "Данные хранятся в файле games.csv, представлена информация за период с 1980 года по 2016 год - мы условно находимся в декабре 2016 года. Нам необходимо исследовать датафрейм для того, чтобы спрогнозировать продажи в 2017 году.\n",
    "\n",
    "Описание колонок:\n",
    "- Name — название игры;\n",
    "- Platform — платформа;\n",
    "- Year_of_Release — год выпуска;\n",
    "- Genre — жанр игры;\n",
    "- NA_sales — продажи в Северной Америке (миллионы проданных копий);\n",
    "- EU_sales — продажи в Европе (миллионы проданных копий);\n",
    "- JP_sales — продажи в Японии (миллионы проданных копий);\n",
    "- Other_sales — продажи в других странах (миллионы проданных копий);\n",
    "- Critic_Score — оценка критиков (максимум 100);\n",
    "- User_Score — оценка пользователей (максимум 10);\n",
    "- Rating — рейтинг от организации ESRB (англ. Entertainment Software Rating Board). Эта ассоциация определяет рейтинг компьютерных игр и присваивает им подходящую возрастную категорию."
   ]
  },
  {
   "cell_type": "markdown",
   "metadata": {},
   "source": [
    "### Обзор данных"
   ]
  },
  {
   "cell_type": "markdown",
   "metadata": {},
   "source": [
    "#### Импорт библиотек, выведение первых строк таблиц и изучение полученной информации"
   ]
  },
  {
   "cell_type": "code",
   "execution_count": 1,
   "metadata": {},
   "outputs": [
    {
     "ename": "ModuleNotFoundError",
     "evalue": "No module named 'seaborn'",
     "output_type": "error",
     "traceback": [
      "\u001b[1;31m---------------------------------------------------------------------------\u001b[0m",
      "\u001b[1;31mModuleNotFoundError\u001b[0m                       Traceback (most recent call last)",
      "Cell \u001b[1;32mIn[1], line 2\u001b[0m\n\u001b[0;32m      1\u001b[0m \u001b[38;5;28;01mimport\u001b[39;00m \u001b[38;5;21;01mpandas\u001b[39;00m \u001b[38;5;28;01mas\u001b[39;00m \u001b[38;5;21;01mpd\u001b[39;00m\n\u001b[1;32m----> 2\u001b[0m \u001b[38;5;28;01mimport\u001b[39;00m \u001b[38;5;21;01mseaborn\u001b[39;00m \u001b[38;5;28;01mas\u001b[39;00m \u001b[38;5;21;01msns\u001b[39;00m\n\u001b[0;32m      3\u001b[0m \u001b[38;5;28;01mimport\u001b[39;00m \u001b[38;5;21;01mmatplotlib\u001b[39;00m\n\u001b[0;32m      4\u001b[0m \u001b[38;5;28;01mimport\u001b[39;00m \u001b[38;5;21;01mmatplotlib\u001b[39;00m\u001b[38;5;21;01m.\u001b[39;00m\u001b[38;5;21;01mpyplot\u001b[39;00m \u001b[38;5;28;01mas\u001b[39;00m \u001b[38;5;21;01mplt\u001b[39;00m\n",
      "\u001b[1;31mModuleNotFoundError\u001b[0m: No module named 'seaborn'"
     ]
    }
   ],
   "source": [
    "import pandas as pd\n",
    "import seaborn as sns\n",
    "import matplotlib\n",
    "import matplotlib.pyplot as plt\n",
    "\n",
    "from plotly.offline import download_plotlyjs, init_notebook_mode, plot, iplot\n",
    "from plotly.subplots import make_subplots\n",
    "import plotly.graph_objects as go\n",
    "import plotly.express as px\n",
    "\n",
    "%matplotlib inline\n",
    "init_notebook_mode(connected=True)\n",
    "\n",
    "import scipy.stats as st\n",
    "\n",
    "import warnings\n",
    "warnings.filterwarnings(\"ignore\")"
   ]
  },
  {
   "cell_type": "code",
   "execution_count": 2,
   "metadata": {},
   "outputs": [
    {
     "name": "stdout",
     "output_type": "stream",
     "text": [
      "Не удалось открыть датасет\n"
     ]
    },
    {
     "ename": "NameError",
     "evalue": "name 'data' is not defined",
     "output_type": "error",
     "traceback": [
      "\u001b[1;31m---------------------------------------------------------------------------\u001b[0m",
      "\u001b[1;31mNameError\u001b[0m                                 Traceback (most recent call last)",
      "Cell \u001b[1;32mIn[2], line 18\u001b[0m\n\u001b[0;32m     16\u001b[0m \u001b[38;5;28;01mexcept\u001b[39;00m:\n\u001b[0;32m     17\u001b[0m     \u001b[38;5;28mprint\u001b[39m(\u001b[38;5;124m'\u001b[39m\u001b[38;5;124mНе удалось открыть датасет\u001b[39m\u001b[38;5;124m'\u001b[39m)\n\u001b[1;32m---> 18\u001b[0m my_func(\u001b[43mdata\u001b[49m)\n",
      "\u001b[1;31mNameError\u001b[0m: name 'data' is not defined"
     ]
    }
   ],
   "source": [
    "def my_func(x):\n",
    "    print('Исходный датафрейм')\n",
    "    display(x.head())\n",
    "    print('Общая информация о датафрейме')\n",
    "    display(x.info())\n",
    "    print('Количество пустых значений в датафрейме')\n",
    "    display(x.isna().sum())\n",
    "    print('Количество явных дубликатов в датафрейме')\n",
    "    display(x.duplicated().sum())\n",
    "    print('Описательная статистика')\n",
    "    display(x.describe())\n",
    "    \n",
    "\n",
    "try: \n",
    "    data = pd.read_csv('/datasets/games.csv')\n",
    "except:\n",
    "    print('Не удалось открыть датасет')\n",
    "my_func(data)"
   ]
  },
  {
   "cell_type": "markdown",
   "metadata": {},
   "source": [
    "Для удобства создадим переменную, которая содержит в себе информацию о столбцах, в которых присутствуют пустые значения."
   ]
  },
  {
   "cell_type": "code",
   "execution_count": null,
   "metadata": {
    "scrolled": true
   },
   "outputs": [],
   "source": [
    "all_null = data.isna().sum().to_frame(name='nans').query('nans > 0')['nans']\n",
    "all_null"
   ]
  },
  {
   "cell_type": "markdown",
   "metadata": {},
   "source": [
    "**Вывод:**\n",
    "\n",
    "При первичном анализе было выявлено, что в нескольких столбцах есть пустые значения, в некоторых из которых их достаточное количество: название игры (2 строки), год выпуска (269), жанр (2), оценка критиков (8578), оценка пользователей (6701), рейтинг от ESRB (6766).\n",
    "\n",
    "Явные аномалии не найдены, единственное, что можно отметить - что присутствуют нулевые продажи в Северной Америке, Европе, Японии и других странах, вероятнее всего из-за пропущенных значений, что проверим в ходе исследования.\n",
    "\n",
    "В дальнейшем необходимо поменять тип данных в следующих столбцах:\n",
    "- год выпуск: год переведем в формат числа, так как не может быть, например, \"2023,4\" год;\n",
    "- оценка пользователей: переведем в вещественный тип;\n",
    "- округлим значения продаж до одной цифры после запятой."
   ]
  },
  {
   "cell_type": "markdown",
   "metadata": {},
   "source": [
    "### Предобработка данных"
   ]
  },
  {
   "cell_type": "markdown",
   "metadata": {},
   "source": [
    "#### Изменение названия столбцов"
   ]
  },
  {
   "cell_type": "markdown",
   "metadata": {},
   "source": [
    "Выполнили форматирование столбцов в датафреме путем приведения названий столбцов к нижнему регистру."
   ]
  },
  {
   "cell_type": "code",
   "execution_count": null,
   "metadata": {},
   "outputs": [],
   "source": [
    "data.columns = [x.lower() for x in data.columns]\n",
    "data.head()"
   ]
  },
  {
   "cell_type": "markdown",
   "metadata": {},
   "source": [
    "#### Преобразование типов данных"
   ]
  },
  {
   "cell_type": "markdown",
   "metadata": {},
   "source": [
    "Столбец с годом выпуска компьютерных игр преобразуем после обработки пустых значений. Столбец с оценкой пользователей переведем в вещественный тип. Для начала выведем уникальные значения в данном столбце, чтобы правильно выбрать метод форматирования."
   ]
  },
  {
   "cell_type": "code",
   "execution_count": null,
   "metadata": {},
   "outputs": [],
   "source": [
    "data['user_score'].unique()"
   ]
  },
  {
   "cell_type": "markdown",
   "metadata": {},
   "source": [
    "Видим, что у нас есть не только пустые строки \"NaN\", но и строки с содержанием \"tbd\", их 2424:"
   ]
  },
  {
   "cell_type": "code",
   "execution_count": null,
   "metadata": {},
   "outputs": [],
   "source": [
    "data.loc[data['user_score'] == 'tbd']"
   ]
  },
  {
   "cell_type": "markdown",
   "metadata": {},
   "source": [
    "И по ним нельзя явно сказать, что это за значение, поэтому заменим на \"NaN\"."
   ]
  },
  {
   "cell_type": "code",
   "execution_count": null,
   "metadata": {},
   "outputs": [],
   "source": [
    "data['user_score'] = pd.to_numeric(data['user_score'] , errors='coerce')"
   ]
  },
  {
   "cell_type": "markdown",
   "metadata": {},
   "source": [
    "Также округлим значения продаж до одной цифры после запятой."
   ]
  },
  {
   "cell_type": "code",
   "execution_count": null,
   "metadata": {},
   "outputs": [],
   "source": [
    "to_round = {'na_sales', 'eu_sales', 'jp_sales', 'other_sales'}\n",
    "for o in to_round:\n",
    "        data[o] = round(data[o], 1)"
   ]
  },
  {
   "cell_type": "markdown",
   "metadata": {},
   "source": [
    "#### Обработка пропущенных значений"
   ]
  },
  {
   "cell_type": "markdown",
   "metadata": {},
   "source": [
    "Пропущенные значения хранятся в следующих столбцах:"
   ]
  },
  {
   "cell_type": "code",
   "execution_count": null,
   "metadata": {},
   "outputs": [],
   "source": [
    "all_null"
   ]
  },
  {
   "cell_type": "markdown",
   "metadata": {},
   "source": [
    "##### Столбец 'name'"
   ]
  },
  {
   "cell_type": "markdown",
   "metadata": {},
   "source": [
    "Пойдем по порядку и начнем со столбца с названиями игр, данных совсем мало, всего две строки, выведем их для подробного рассмотрения:"
   ]
  },
  {
   "cell_type": "code",
   "execution_count": null,
   "metadata": {},
   "outputs": [],
   "source": [
    "data.loc[data['name'].isna()].head()"
   ]
  },
  {
   "cell_type": "markdown",
   "metadata": {},
   "source": [
    "Из полученной таблицы мы не можем точно понять, какая именно игра это была. Так как это количество совсем несущественное, принимаем решение удалить строки. Обращаем внимание, что именно по данным двум строкам отсутствуют значения в столбце 'genre', поэтому удалив строки мы обработаем сразу два столцба с пропущенными значениями."
   ]
  },
  {
   "cell_type": "code",
   "execution_count": null,
   "metadata": {},
   "outputs": [],
   "source": [
    "data = data.dropna(subset=['name'])\n",
    "data['name'].isna().sum()"
   ]
  },
  {
   "cell_type": "markdown",
   "metadata": {},
   "source": [
    "Обновим индексы:"
   ]
  },
  {
   "cell_type": "code",
   "execution_count": null,
   "metadata": {},
   "outputs": [],
   "source": [
    "data.reset_index(drop=True, inplace=True)"
   ]
  },
  {
   "cell_type": "markdown",
   "metadata": {},
   "source": [
    "##### Столбец 'year_of_release'"
   ]
  },
  {
   "cell_type": "markdown",
   "metadata": {},
   "source": [
    "Переходим к году выпуска компьютерной игры, где пропущенные значения присутствуют в 269 строках."
   ]
  },
  {
   "cell_type": "code",
   "execution_count": null,
   "metadata": {},
   "outputs": [],
   "source": [
    "data.loc[data['year_of_release'].isna()].head()"
   ]
  },
  {
   "cell_type": "markdown",
   "metadata": {},
   "source": [
    "Можно принять во внимание тот факт, что мы обладаем информацией о названии игры, если данное название встречается на других платформах и там присутствует информация по году релиза - сможем ее подтянуть вместо наших пропусков. Проверим, так ли это на примере \"Madden NFL 2004\"."
   ]
  },
  {
   "cell_type": "code",
   "execution_count": null,
   "metadata": {},
   "outputs": [],
   "source": [
    "data.loc[data['name'] == 'Madden NFL 2004'].head()"
   ]
  },
  {
   "cell_type": "markdown",
   "metadata": {},
   "source": [
    "Да, мы убедились в этом, теперь мы можем заполнить пропуски, сначала создадим сводную таблицу с данными о годе выпуска компьютерных игр:"
   ]
  },
  {
   "cell_type": "code",
   "execution_count": null,
   "metadata": {},
   "outputs": [],
   "source": [
    "data_pivot_year = pd.pivot_table(\n",
    "    data,\n",
    "    index='name',\n",
    "    values='year_of_release',\n",
    "    aggfunc='min'\n",
    ")\n",
    "data_pivot_year.reset_index(inplace=True)\n",
    "data_pivot_year.rename(columns = {'name': 'name'})\n",
    "data_pivot_year.head()"
   ]
  },
  {
   "cell_type": "markdown",
   "metadata": {},
   "source": [
    "Теперь подтянем информацию по году релиза определенных игр в пустые значения, создав дополнительный столбец:"
   ]
  },
  {
   "cell_type": "code",
   "execution_count": null,
   "metadata": {},
   "outputs": [],
   "source": [
    "data = data.merge(data_pivot_year, on='name', how='left', suffixes=('_before', '_after'))\n",
    "data.head()"
   ]
  },
  {
   "cell_type": "markdown",
   "metadata": {},
   "source": [
    "Проверим, есть ли пропуски в новом столбце:"
   ]
  },
  {
   "cell_type": "code",
   "execution_count": null,
   "metadata": {},
   "outputs": [],
   "source": [
    "data['year_of_release_after'].isna().sum()"
   ]
  },
  {
   "cell_type": "markdown",
   "metadata": {},
   "source": [
    "Все равно есть 146 пропущенных значений, проверим, что это за строки:"
   ]
  },
  {
   "cell_type": "code",
   "execution_count": null,
   "metadata": {},
   "outputs": [],
   "source": [
    "data_146 = data.loc[data['year_of_release_after'].isna()]\n",
    "data_146.head(10)"
   ]
  },
  {
   "cell_type": "markdown",
   "metadata": {},
   "source": [
    "Вернемся к исходному датафрейму и попытаемся понять, причину пропусков на примере игры 'Rock Band'."
   ]
  },
  {
   "cell_type": "code",
   "execution_count": null,
   "metadata": {},
   "outputs": [],
   "source": [
    "data.loc[data['name'] == 'Rock Band'].head()"
   ]
  },
  {
   "cell_type": "markdown",
   "metadata": {},
   "source": [
    "Видим, что компьютерная игра 'Rock Band' представлена на нескольких платформах, и мы не обладаем информацией по году релиза - оставим такие пропуски без изменений. Теперь оставим нужный столбец:"
   ]
  },
  {
   "cell_type": "code",
   "execution_count": null,
   "metadata": {},
   "outputs": [],
   "source": [
    "data.drop('year_of_release_before', axis=1, inplace=True)\n",
    "data = data.rename(columns = {'year_of_release_after':'year_of_release'})\n",
    "data = data[['name', 'platform', 'year_of_release', 'genre', 'na_sales', 'eu_sales', 'jp_sales', 'other_sales', \\\n",
    "              'critic_score', 'user_score', 'rating']]\n",
    "data.head()"
   ]
  },
  {
   "cell_type": "markdown",
   "metadata": {},
   "source": [
    "Посчитаем, какое процентное соотношение пропусков в названиях к общему числу:"
   ]
  },
  {
   "cell_type": "code",
   "execution_count": null,
   "metadata": {},
   "outputs": [],
   "source": [
    "m = data['year_of_release'].isna().sum()\n",
    "n = data['year_of_release'].shape[0]\n",
    "round((m/n)*100,2)"
   ]
  },
  {
   "cell_type": "markdown",
   "metadata": {},
   "source": [
    "0.87% - очень низкий процент пропущенных строк, они никак не повлияют на наше исследование - поэтому принимаем решение удалить пропуски."
   ]
  },
  {
   "cell_type": "code",
   "execution_count": null,
   "metadata": {},
   "outputs": [],
   "source": [
    "data = data.dropna(subset=['year_of_release'])\n",
    "data['year_of_release'].isna().sum()"
   ]
  },
  {
   "cell_type": "markdown",
   "metadata": {},
   "source": [
    "Обновим индексы:"
   ]
  },
  {
   "cell_type": "code",
   "execution_count": null,
   "metadata": {},
   "outputs": [],
   "source": [
    "data.reset_index(drop=True, inplace=True)"
   ]
  },
  {
   "cell_type": "markdown",
   "metadata": {
    "jp-MarkdownHeadingCollapsed": true
   },
   "source": [
    "##### Столбец 'genre'"
   ]
  },
  {
   "cell_type": "markdown",
   "metadata": {},
   "source": [
    "Столбец 'genre' мы обработали, обновим все данные по пропускам:"
   ]
  },
  {
   "cell_type": "code",
   "execution_count": null,
   "metadata": {},
   "outputs": [],
   "source": [
    "data.isna().sum()"
   ]
  },
  {
   "cell_type": "markdown",
   "metadata": {},
   "source": [
    "##### Столбцы 'critic_score', 'user_score' и 'rating'"
   ]
  },
  {
   "cell_type": "markdown",
   "metadata": {},
   "source": [
    "В столбце 'critic_score' 8576 пропущенных значений - это самое большое количество по сравнению с другими столбцами. Рассмотрим его подробнее:"
   ]
  },
  {
   "cell_type": "code",
   "execution_count": null,
   "metadata": {},
   "outputs": [],
   "source": [
    "data.query('critic_score.isnull()')"
   ]
  },
  {
   "cell_type": "markdown",
   "metadata": {},
   "source": [
    "Проверим, сколько у нас пересечений по пропущенным данным в столбцах 'critic_score', 'user_score' и 'rating'."
   ]
  },
  {
   "cell_type": "code",
   "execution_count": null,
   "metadata": {},
   "outputs": [],
   "source": [
    "len(data.loc[(data['critic_score'].isna()) & (data['user_score'].isna()) & (data['rating'].isna())])"
   ]
  },
  {
   "cell_type": "markdown",
   "metadata": {},
   "source": [
    "6619 строк - большое количество, возможно, эти данные с пропусками возникли по причине того, что рейтинг просто не стоит у той или иной игры, например, из-за того, что не было сервисов по оценке."
   ]
  },
  {
   "cell_type": "code",
   "execution_count": null,
   "metadata": {},
   "outputs": [],
   "source": [
    "m = len(data.loc[(data['critic_score'].isna()) & (data['user_score'].isna()) & (data['rating'].isna())])\n",
    "n = data['critic_score'].shape[0]\n",
    "round((m/n)*100,2)"
   ]
  },
  {
   "cell_type": "markdown",
   "metadata": {},
   "source": [
    "И так как они составляют достаточно большой процент (почти 40%) от общего числа строк - удалять строки не будем, но этом мы не можем заменить их на медианное значение в разрезе жанров, что будет некорректно, поэтому заменим \"NaN\" на \"-1\", в рейтинге на \"no rating\", чтобы мы могли в дальнейшем отличать данные строки от остальных показателей рейтингов."
   ]
  },
  {
   "cell_type": "code",
   "execution_count": null,
   "metadata": {},
   "outputs": [],
   "source": [
    "to_convert = {'critic_score', 'user_score'}\n",
    "for i in to_convert:\n",
    "        data[i] = data[i].fillna(-1)\n",
    "        \n",
    "data['rating'] = data['rating'].fillna('no rating')"
   ]
  },
  {
   "cell_type": "code",
   "execution_count": null,
   "metadata": {},
   "outputs": [],
   "source": [
    "data.head()"
   ]
  },
  {
   "cell_type": "markdown",
   "metadata": {},
   "source": [
    "#### Обработка явных и неявных дубликатов"
   ]
  },
  {
   "cell_type": "markdown",
   "metadata": {},
   "source": [
    "В начале исследования выявили, что явных дубликтов в датафрейме нет, что касается неявных, рассмотрим, есть ли в датафрейме одинаковые строки по названию игры, платформе и году выпуска. Предварительно запомним, какое количество строк в датафрейме:"
   ]
  },
  {
   "cell_type": "code",
   "execution_count": null,
   "metadata": {},
   "outputs": [],
   "source": [
    "data.shape[0]"
   ]
  },
  {
   "cell_type": "code",
   "execution_count": null,
   "metadata": {},
   "outputs": [],
   "source": [
    "data[data[['name', 'platform', 'year_of_release']].duplicated(keep=False)]"
   ]
  },
  {
   "cell_type": "markdown",
   "metadata": {},
   "source": [
    "Строки по 4м играм задублированы - в них представлена одинаковая информация по названию игры, платформе, году релиза, жанру, оценкам пользователей и критиков, рейтингу, но при этом данные по продажам в разных регионах отличается. В данном случае нам необходимо сохранить данные по продажам, поэтому создадим сводную таблицу, просуммировав значения в соответствующих столбцах. Затем перезапишем датафрейм на основе нового свода данных:"
   ]
  },
  {
   "cell_type": "code",
   "execution_count": null,
   "metadata": {},
   "outputs": [],
   "source": [
    "add = pd.pivot_table(\n",
    "    data,\n",
    "    index=['name', 'platform', 'year_of_release', 'genre', 'critic_score', 'user_score', 'rating'],\n",
    "    values=['na_sales', 'eu_sales', 'jp_sales', 'other_sales'],\n",
    "    aggfunc='sum'\n",
    "    )\n",
    "add.reset_index(inplace=True)\n",
    "data = add[['name', 'platform', 'year_of_release', 'genre', 'na_sales', 'eu_sales', \\\n",
    "             'jp_sales', 'other_sales', 'critic_score', 'user_score', 'rating']]\n",
    "data.head()"
   ]
  },
  {
   "cell_type": "code",
   "execution_count": null,
   "metadata": {},
   "outputs": [],
   "source": [
    "data.shape[0]"
   ]
  },
  {
   "cell_type": "markdown",
   "metadata": {},
   "source": [
    "Проверили новый датафрейм - на 4 строки меньше, все верно. Теперь повторно выполним поиск на неявные дубликаты:"
   ]
  },
  {
   "cell_type": "code",
   "execution_count": null,
   "metadata": {},
   "outputs": [],
   "source": [
    "data[data[['name', 'platform', 'year_of_release']].duplicated(keep=False)]"
   ]
  },
  {
   "cell_type": "markdown",
   "metadata": {},
   "source": [
    "Избавились от неявных дубликатов."
   ]
  },
  {
   "cell_type": "markdown",
   "metadata": {},
   "source": [
    "#### Подсчет суммарных продаж во всех регионах"
   ]
  },
  {
   "cell_type": "markdown",
   "metadata": {},
   "source": [
    "Добавим новый столбец в датафрейм с суммой продаж по всем регионам:"
   ]
  },
  {
   "cell_type": "code",
   "execution_count": null,
   "metadata": {},
   "outputs": [],
   "source": [
    "data['total_sales'] = data[['na_sales', 'eu_sales', 'jp_sales', 'other_sales']]\\\n",
    ".sum(axis = 1, skipna = True)"
   ]
  },
  {
   "cell_type": "code",
   "execution_count": null,
   "metadata": {},
   "outputs": [],
   "source": [
    "data.head()"
   ]
  },
  {
   "cell_type": "markdown",
   "metadata": {},
   "source": [
    "**Вывод:**\n",
    "\n",
    "На данном этапе были сделаны следующие шаги:\n",
    "- преобразованы типы данных для корректных рассчетов в дальнейшем исследовании;\n",
    "- обработаны пропущенные значения в столбцах с названием игры & жанра - удалены две строки из датафрейма;\n",
    "- обработаны пропущенные значения в столбце год выпуска - заполнены данные в местах, где это было возможно, остальные пропуски оставлены без изменений и заменены на \"0\".\n",
    "- обработаны пропущенные значения в столбцах оценка критиков & оценка пользователей & рейтинг - пропущенные значения заменены на \"-1\" и \"no rating\";\n",
    "- обработаны неявные дубликаты;\n",
    "- подсчитаны суммарные продажи во всех регионах."
   ]
  },
  {
   "cell_type": "markdown",
   "metadata": {},
   "source": [
    "### Исследовательский анализ данных"
   ]
  },
  {
   "cell_type": "markdown",
   "metadata": {},
   "source": [
    "#### Подсчет количества выпущенных компьютерных игр по годам"
   ]
  },
  {
   "cell_type": "markdown",
   "metadata": {},
   "source": [
    "Создадим сводную таблицу с количеством компьютерных игр по годам:"
   ]
  },
  {
   "cell_type": "code",
   "execution_count": null,
   "metadata": {},
   "outputs": [],
   "source": [
    "data_pivot_quantity = pd.pivot_table(\n",
    "    data,\n",
    "    index='year_of_release',\n",
    "    values='name',\n",
    "    aggfunc='count'\n",
    ")\n",
    "\n",
    "data_pivot_quantity.reset_index(inplace=True)\n",
    "data_pivot_quantity = data_pivot_quantity\\\n",
    ".rename(columns = {'year_of_release': 'year_of_release', 'name': 'games_quantity'})\n",
    "data_pivot_quantity"
   ]
  },
  {
   "cell_type": "markdown",
   "metadata": {},
   "source": [
    "По таблице выше можно сделать вывод, что размах представленных данных от 1980 года до 2016. Визуализируем наши данные за исключением пропущенных значений."
   ]
  },
  {
   "cell_type": "code",
   "execution_count": null,
   "metadata": {},
   "outputs": [],
   "source": [
    "data_pivot_quantity = data_pivot_quantity[data_pivot_quantity['year_of_release'] > 0]\n",
    "\n",
    "fig = go.Figure()\n",
    "\n",
    "fig.add_trace(go.Scatter(x=data_pivot_quantity.year_of_release, \n",
    "                         y=data_pivot_quantity.games_quantity, \n",
    "                         mode='lines+markers', \n",
    "                         name='Quantity'))\n",
    "\n",
    "fig.update_layout(title='Dependence of the release of games on the year of release',\n",
    "                  xaxis_title='Yeas',\n",
    "                  yaxis_title='Number of computer games'\n",
    "                 )\n",
    "fig.show(\"svg\")"
   ]
  },
  {
   "cell_type": "markdown",
   "metadata": {},
   "source": [
    "По графику выше можно сделать вывод, что динамичное развитие игровой индустрии началось в 2000-х годах, в 2008-2009 гг приходится пик выпуска компьютерных игр - немного больше 1400 игр в каждый год. Затем пошел спад после 2011 года с 1156 штук до 661 штук в 2012 году. Все данные брать в рассмотрение не стоит."
   ]
  },
  {
   "cell_type": "markdown",
   "metadata": {},
   "source": [
    "#### Изменение продаж по платформам"
   ]
  },
  {
   "cell_type": "markdown",
   "metadata": {},
   "source": [
    "Теперь изучим, как менялись продажи по платформам."
   ]
  },
  {
   "cell_type": "code",
   "execution_count": null,
   "metadata": {},
   "outputs": [],
   "source": [
    "data_pivot_sales = pd.pivot_table(\n",
    "    data,\n",
    "    index='platform',\n",
    "    values='total_sales',\n",
    "    aggfunc='sum'\n",
    ")\n",
    "\n",
    "data_pivot_sales.reset_index(inplace=True)\n",
    "data_pivot_sales = data_pivot_sales.sort_values(by='total_sales', ascending=False).reset_index(drop=True)\n",
    "data_pivot_sales"
   ]
  },
  {
   "cell_type": "markdown",
   "metadata": {},
   "source": [
    "Оставим топ-10 платформ и визуализируем данные на графике:"
   ]
  },
  {
   "cell_type": "code",
   "execution_count": null,
   "metadata": {},
   "outputs": [],
   "source": [
    "data_pivot_sales = data_pivot_sales[:10]\n",
    "\n",
    "fig = px.bar(data_pivot_sales,\n",
    "             x='platform',\n",
    "             y='total_sales',\n",
    "             title='Dependence of computer game sales on the platform', \n",
    "             text='total_sales', \n",
    "             color='platform'\n",
    ")\n",
    "\n",
    "fig.update_traces(texttemplate='%{text:.2s}', textposition='outside')\n",
    "fig.update_layout(uniformtext_minsize=8)\n",
    "fig.update_layout(xaxis_tickangle=-45)\n",
    "fig.update_layout(xaxis_title='Platform',\n",
    "                  yaxis_title='Total sales'\n",
    "                 )              \n",
    "              \n",
    "fig.show(\"svg\")"
   ]
  },
  {
   "cell_type": "markdown",
   "metadata": {},
   "source": [
    "Диаграмма выше демонстрирует, что лидером по продажам игр является платформа PS2 - почти 1200 млн проданных копий, следом за ней идут: X360 (950 млн) и PS3 (920 млн). Для дальнейшего исследования возьмем топ-6 платформ по количеству проданных копий и построим распределение по годам."
   ]
  },
  {
   "cell_type": "code",
   "execution_count": null,
   "metadata": {},
   "outputs": [],
   "source": [
    "data_top6 = data.query('year_of_release > 0 and platform == [\"PS4\", \"X360\", \"PS3\", \"Wii\", \"DS\", \"PS\"]')\n",
    "\n",
    "data_pivot_sales_2 = pd.pivot_table(\n",
    "    data_top6,\n",
    "    index=['year_of_release','platform'],\n",
    "    values='total_sales',\n",
    "    aggfunc='sum'\n",
    ")\n",
    "\n",
    "data_pivot_sales_2.reset_index(inplace=True)\n",
    "fig = px.line(data_pivot_sales_2, x='year_of_release', y='total_sales', color='platform')\n",
    "fig.show(\"svg\")"
   ]
  },
  {
   "cell_type": "markdown",
   "metadata": {},
   "source": [
    "По графику выше можно сделать вывод, что по следующим платформам их время популярности в среднем составляло:\n",
    "- PS: 1994-2003, 9 лет.\n",
    "- PS3: 2005-2015, 10 лет.\n",
    "- DS: 2004-2011, 7 лет.\n",
    "- Wii: 2005-2015, 10 лет.\n",
    "- X360: 2005-2015, 10 лет.\n",
    "\n",
    "В среднем в течение 9 лет происходит \"смена\" платформ по их популярности."
   ]
  },
  {
   "cell_type": "markdown",
   "metadata": {},
   "source": [
    "#### Ограничение датафрейма по актуальным данным"
   ]
  },
  {
   "cell_type": "markdown",
   "metadata": {},
   "source": [
    "Рынок компьютерных игр весьма динамичен, судя по графикам, представленным выше. Для дальнейшего исследования принимаем решение использовать данные за последние 4 года, то есть, мы находимся к декабре 2016, значит, наш диапазон данных будет с 2013 года. Так, мы сможем учесть достаточно актуальные и успешные платформы, которые в 2017 году смогут выйти на пик по популярности. Среди них и те, которые уже сейчас находятся на пике популярности, и те, которые только начинают расти в популярности."
   ]
  },
  {
   "cell_type": "code",
   "execution_count": null,
   "metadata": {},
   "outputs": [],
   "source": [
    "data_new = data.query('year_of_release >= 2013')"
   ]
  },
  {
   "cell_type": "markdown",
   "metadata": {},
   "source": [
    "#### Определение лидирующих платформ за период 2013-2016гг"
   ]
  },
  {
   "cell_type": "markdown",
   "metadata": {},
   "source": [
    "Построим сводную таблицу с продажами для определения лидирующих платформ в новом временном диапазоне и визуализируем данные:"
   ]
  },
  {
   "cell_type": "code",
   "execution_count": null,
   "metadata": {},
   "outputs": [],
   "source": [
    "data_pivot_new = pd.pivot_table(\n",
    "    data_new,\n",
    "    index=['year_of_release','platform'],\n",
    "    values='total_sales',\n",
    "    aggfunc='sum'\n",
    ")\n",
    "data_pivot_new.reset_index(inplace=True)\n",
    "data_pivot_new = data_pivot_new.sort_values(by='total_sales', ascending=False).reset_index(drop=True)\n",
    "\n",
    "fig = px.bar(data_pivot_new,\n",
    "             x='year_of_release',\n",
    "             y='total_sales',\n",
    "             title='Dependence of computer game sales on the platform for the period 2013-2016', \n",
    "             text='total_sales', \n",
    "             color='platform',\n",
    "             barmode='group'\n",
    ")\n",
    "\n",
    "fig.update_traces(texttemplate='%{text:.2s}', textposition='outside')\n",
    "fig.update_layout(uniformtext_minsize=8)\n",
    "fig.update_layout(xaxis_tickangle=-45)\n",
    "fig.update_layout(xaxis_title='Platform',\n",
    "                  yaxis_title='Total sales'\n",
    "                 )              \n",
    "              \n",
    "fig.show(\"svg\")"
   ]
  },
  {
   "cell_type": "markdown",
   "metadata": {},
   "source": [
    "Судя по столбчатой диаграмме выше, можно сказать, что в период с 2013 по 2016 гг лидером по продажам была платформа PS4, XOne также показывает хорошие результаты по популярности, но прибыль различается от лидера в два раза. Общая тенденция следующая: к 2016 году все платформы устаревают и прибыль от продажи копий сильно снижается. Необходимо определить потенциально прибыльные платформы, которые могут \"выстрелить\" в следующем году - те, игры на которых были выпущены непосредственно в 2016 году."
   ]
  },
  {
   "cell_type": "code",
   "execution_count": null,
   "metadata": {},
   "outputs": [],
   "source": [
    "data_pivot_new.loc[data_pivot_new['year_of_release'] == 2016].sort_values('total_sales', ascending=False)\\\n",
    ".reset_index(drop=True)"
   ]
  },
  {
   "cell_type": "markdown",
   "metadata": {},
   "source": [
    "Игры выпускались в 2016 году на следующих платформах в порядке убывания:\n",
    "1. PS4\n",
    "2. XOne\n",
    "3. 3DS\n",
    "4. WiiU\n",
    "5. PC\n",
    "6. PSV\n",
    "7. PS3\n",
    "8. X360\n",
    "9. Wii\n",
    "\n",
    "Делаем вывод, что наиболее актуальными платформами являются PS4, XOne и 3DS."
   ]
  },
  {
   "cell_type": "markdown",
   "metadata": {},
   "source": [
    "#### Построение диаграммы размаха по глобальным продажам игр в разбивке по платформам"
   ]
  },
  {
   "cell_type": "markdown",
   "metadata": {},
   "source": [
    "Построим \"ящик с усами\" по всем платформам:"
   ]
  },
  {
   "cell_type": "code",
   "execution_count": null,
   "metadata": {},
   "outputs": [],
   "source": [
    "fig = go.Figure()\n",
    "\n",
    "fig.add_trace(go.Box(\n",
    "            y=data_new['total_sales'],\n",
    "            x=data_new['platform'],\n",
    "            jitter=0.5,\n",
    "            whiskerwidth=0.2,\n",
    "            fillcolor='lavender',\n",
    "            marker_size=2,\n",
    "            line_width=1\n",
    "))\n",
    "\n",
    "fig.update_layout(\n",
    "    title='Boxplot of global game sales by platform',\n",
    "    yaxis=dict(\n",
    "        showgrid=True,\n",
    "        zeroline=True,\n",
    "        dtick=5,\n",
    "        gridcolor='rgb(255, 255, 255)',\n",
    "        gridwidth=1,\n",
    "        zerolinecolor='rgb(255, 255, 255)',\n",
    "        zerolinewidth=2,\n",
    "        range=[0,5],\n",
    "    ),\n",
    "    margin=dict(\n",
    "        l=40,\n",
    "        r=30,\n",
    "        b=80,\n",
    "        t=100,\n",
    "    ),\n",
    "    paper_bgcolor='rgb(243, 243, 243)',\n",
    "    plot_bgcolor='rgb(243, 243, 243)',\n",
    "    showlegend=False\n",
    ")\n",
    "\n",
    "fig.update_layout(xaxis_title='Platform',\n",
    "                  yaxis_title='Totsl sales'\n",
    "                 )              \n",
    "\n",
    "fig.show(\"svg\")"
   ]
  },
  {
   "cell_type": "markdown",
   "metadata": {},
   "source": [
    "По полученной диаграмме размаха можно сделать вывод, что за период с 2013 по 2016гг:\n",
    "\n",
    "- Глядя на медианы, видно, что наибольшие продажи у X360, PS4, XOne, WiiU, Wii.\n",
    "- Глядя на размеры ящиков, видно, что наибольший разброс в продажах игр - на платформах X360, XOne, Wii.\n",
    "- Выбросов достаточно много."
   ]
  },
  {
   "cell_type": "markdown",
   "metadata": {},
   "source": [
    "#### Влияние отзывов пользователей и критиков на продажи внутри одной популярной платформы"
   ]
  },
  {
   "cell_type": "markdown",
   "metadata": {},
   "source": [
    "##### PS4"
   ]
  },
  {
   "cell_type": "markdown",
   "metadata": {},
   "source": [
    "Для рассмотрения возьмем лидера - платформу PS4, построим диаграмму рассеяния и посчитаем корреляцию между отзывами и продажами. Сначала ограничим датафрейм - оставим только ту оценку, которая без пропущенных значений."
   ]
  },
  {
   "cell_type": "code",
   "execution_count": null,
   "metadata": {},
   "outputs": [],
   "source": [
    "data_scores = data_new.query('critic_score > -1 and user_score > -1')\n",
    "data_scores = data_scores.loc[:, ['platform', 'critic_score', 'user_score', 'total_sales']]"
   ]
  },
  {
   "cell_type": "markdown",
   "metadata": {},
   "source": [
    "Выведем общие данные по корреляции:"
   ]
  },
  {
   "cell_type": "code",
   "execution_count": null,
   "metadata": {},
   "outputs": [],
   "source": [
    "corr = round(data_scores.corr(), 2)\n",
    "corr"
   ]
  },
  {
   "cell_type": "markdown",
   "metadata": {},
   "source": [
    "Для более удобного чтения подсветим корреляции:"
   ]
  },
  {
   "cell_type": "code",
   "execution_count": null,
   "metadata": {},
   "outputs": [],
   "source": [
    "cmap = cmap=sns.diverging_palette(5, 250, as_cmap=True)\n",
    "\n",
    "def magnify():\n",
    "    return [dict(selector=\"th\",\n",
    "                 props=[(\"font-size\", \"7pt\")]),\n",
    "            dict(selector=\"td\",\n",
    "                 props=[('padding', \"0em 0em\")]),\n",
    "            dict(selector=\"th:hover\",\n",
    "                 props=[(\"font-size\", \"12pt\")]),\n",
    "            dict(selector=\"tr:hover td:hover\",\n",
    "                 props=[('max-width', '200px'),\n",
    "                        ('font-size', '12pt')])\n",
    "]\n",
    "\n",
    "corr.style.background_gradient(cmap, axis=1)\\\n",
    "    .set_properties(**{'max-width': '80px', 'font-size': '10pt'})\\\n",
    "    .set_caption(\"Hover to magify\")\\\n",
    "    .set_precision(2)\\\n",
    "    .set_table_styles(magnify())"
   ]
  },
  {
   "cell_type": "markdown",
   "metadata": {},
   "source": [
    "На первый взгляд оценка критиков имеет большее влияние на общие продажи, чем оценка пользователей, но сама корреляция незначительная - 0.32%. В то время как оценка пользователей вообще не влияет на продажи - 0%."
   ]
  },
  {
   "cell_type": "markdown",
   "metadata": {},
   "source": [
    "Теперь рассмотрим лидера PS4 - как влияют на продажи игр, выпущенных на данной платформе, оценка критиков и оценка пользователей последовательно."
   ]
  },
  {
   "cell_type": "code",
   "execution_count": null,
   "metadata": {},
   "outputs": [],
   "source": [
    "def data_pivot_corr(pltf, aggr_index, vls, f2):\n",
    "    platform = data_scores[data_scores['platform'] == pltf]\n",
    "    data_pivot_corr = platform.pivot_table(\n",
    "        index = [aggr_index], \n",
    "        values = vls,\n",
    "        aggfunc = {f2})\n",
    "    data_pivot_corr.reset_index(inplace=True)\n",
    "    data_pivot_corr = data_pivot_corr.sort_values(by=f2, ascending=True)\n",
    "    return data_pivot_corr\n",
    "\n",
    "corr_data1 = data_pivot_corr('PS4', 'critic_score', 'total_sales', 'median')\n",
    "px.scatter(corr_data1,\n",
    "           y='median', \n",
    "           width=800, \n",
    "           height=500, \n",
    "           title='Зависимость оценки критиков на продажи компьютерных игр на платформе PS4',\n",
    "           labels=dict(index='Оценка критиков', median='Продажи'))\n",
    "fig.show(\"svg\")"
   ]
  },
  {
   "cell_type": "code",
   "execution_count": null,
   "metadata": {},
   "outputs": [],
   "source": [
    "print('Корреляция равна ', corr_data1['critic_score'].corr(corr_data1['median']))"
   ]
  },
  {
   "cell_type": "markdown",
   "metadata": {},
   "source": [
    "Корреляция в 0.48 говорит о наличии связи, однако очень незначительной. Выходит, что увеличение размера оценки игры сопровождается увеличением ее продажи."
   ]
  },
  {
   "cell_type": "code",
   "execution_count": null,
   "metadata": {},
   "outputs": [],
   "source": [
    "corr_data2 = data_pivot_corr('PS4', 'user_score', 'total_sales', 'median')\n",
    "px.scatter(corr_data2,\n",
    "           y='median', \n",
    "           width=800, \n",
    "           height=500, \n",
    "           title='Зависимость оценки критиков на продажи компьютерных игр на платформе PS4',\n",
    "           labels=dict(index='Оценка пользователей', median='Продажи'))\n",
    "fig.show(\"svg\")"
   ]
  },
  {
   "cell_type": "code",
   "execution_count": null,
   "metadata": {},
   "outputs": [],
   "source": [
    "print('Корреляция равна ', corr_data2['user_score'].corr(corr_data2['median']))"
   ]
  },
  {
   "cell_type": "markdown",
   "metadata": {},
   "source": [
    "Корреляция в 0.008 говорит об очень слабой связи между оценкой пользователей и продажами игр на платформе PS4. При увеличении оценки незначительно увеличиваются продажи."
   ]
  },
  {
   "cell_type": "markdown",
   "metadata": {},
   "source": [
    "##### XOne"
   ]
  },
  {
   "cell_type": "markdown",
   "metadata": {},
   "source": [
    "Проведем аналогичный анализ по остальным платформам:"
   ]
  },
  {
   "cell_type": "code",
   "execution_count": null,
   "metadata": {},
   "outputs": [],
   "source": [
    "corr_data3 = data_pivot_corr('XOne', 'critic_score', 'total_sales', 'median')\n",
    "px.scatter(corr_data3,\n",
    "           y='median', \n",
    "           width=800, \n",
    "           height=500, \n",
    "           title='Зависимость оценки критиков на продажи компьютерных игр на платформе XOne',\n",
    "           labels=dict(index='Оценка критиков', median='Продажи'))\n",
    "fig.show(\"svg\")"
   ]
  },
  {
   "cell_type": "code",
   "execution_count": null,
   "metadata": {},
   "outputs": [],
   "source": [
    "print('Корреляция равна ', corr_data3['critic_score'].corr(corr_data3['median']))"
   ]
  },
  {
   "cell_type": "markdown",
   "metadata": {},
   "source": [
    "Корреляция в 0.54 - слабая связь между оценкой критиков и продажами платформы."
   ]
  },
  {
   "cell_type": "code",
   "execution_count": null,
   "metadata": {},
   "outputs": [],
   "source": [
    "corr_data4 = data_pivot_corr('XOne', 'user_score', 'total_sales', 'median')\n",
    "px.scatter(corr_data4,\n",
    "           y='median', \n",
    "           width=800, \n",
    "           height=500, \n",
    "           title='Зависимость оценки критиков на продажи компьютерных игр на платформе XOne',\n",
    "           labels=dict(index='Оценка пользователей', median='Продажи'))\n",
    "fig.show(\"svg\")"
   ]
  },
  {
   "cell_type": "code",
   "execution_count": null,
   "metadata": {},
   "outputs": [],
   "source": [
    "print('Корреляция равна ', corr_data4['user_score'].corr(corr_data4['median']))"
   ]
  },
  {
   "cell_type": "markdown",
   "metadata": {},
   "source": [
    "Отрицательная корреляция -0.13 говорит о том, что связи практически нет, при уменьшении оценки пользователей, продажи на игры падают."
   ]
  },
  {
   "cell_type": "markdown",
   "metadata": {},
   "source": [
    "##### 3DS"
   ]
  },
  {
   "cell_type": "code",
   "execution_count": null,
   "metadata": {},
   "outputs": [],
   "source": [
    "corr_data5 = data_pivot_corr('3DS', 'critic_score', 'total_sales', 'median')\n",
    "px.scatter(corr_data5,\n",
    "           y='median', \n",
    "           width=800, \n",
    "           height=500, \n",
    "           title='Зависимость оценки критиков на продажи компьютерных игр на платформе 3DS',\n",
    "           labels=dict(index='Оценка критиков', median='Продажи'))\n",
    "fig.show(\"svg\")"
   ]
  },
  {
   "cell_type": "code",
   "execution_count": null,
   "metadata": {},
   "outputs": [],
   "source": [
    "print('Корреляция равна ', corr_data5['critic_score'].corr(corr_data5['median']))"
   ]
  },
  {
   "cell_type": "markdown",
   "metadata": {},
   "source": [
    "Корреляция в 0.40 - есть небольшая связь между оценками критиков и продажами платформы 3DS."
   ]
  },
  {
   "cell_type": "code",
   "execution_count": null,
   "metadata": {},
   "outputs": [],
   "source": [
    "corr_data6 = data_pivot_corr('3DS', 'user_score', 'total_sales', 'median')\n",
    "px.scatter(corr_data6,\n",
    "           y='median', \n",
    "           width=800, \n",
    "           height=500, \n",
    "           title='Зависимость оценки критиков на продажи компьютерных игр на платформе 3DS',\n",
    "           labels=dict(index='Оценка пользователей', median='Продажи'))\n",
    "fig.show(\"svg\")"
   ]
  },
  {
   "cell_type": "code",
   "execution_count": null,
   "metadata": {},
   "outputs": [],
   "source": [
    "print('Корреляция равна ', corr_data6['user_score'].corr(corr_data6['median']))"
   ]
  },
  {
   "cell_type": "markdown",
   "metadata": {},
   "source": [
    "Примерно такое же влияние оценки пользователей на продажи платформы 3DS - корреляция в 0.39."
   ]
  },
  {
   "cell_type": "markdown",
   "metadata": {},
   "source": [
    "##### WiiU"
   ]
  },
  {
   "cell_type": "code",
   "execution_count": null,
   "metadata": {},
   "outputs": [],
   "source": [
    "corr_data7 = data_pivot_corr('WiiU', 'critic_score', 'total_sales', 'median')\n",
    "px.scatter(corr_data7,\n",
    "           y='median', \n",
    "           width=800, \n",
    "           height=500, \n",
    "           title='Зависимость оценки критиков на продажи компьютерных игр на платформе WiiU',\n",
    "           labels=dict(index='Оценка критиков', median='Продажи'))\n",
    "fig.show(\"svg\")"
   ]
  },
  {
   "cell_type": "code",
   "execution_count": null,
   "metadata": {},
   "outputs": [],
   "source": [
    "print('Корреляция равна ', corr_data7['critic_score'].corr(corr_data7['median']))"
   ]
  },
  {
   "cell_type": "markdown",
   "metadata": {},
   "source": [
    "Что касается продаж на платформе WiiU, то чем больше оценка критиков на те или иные игры, тем выше продажи - есть связь, но все равно незначительнся, 0.52."
   ]
  },
  {
   "cell_type": "code",
   "execution_count": null,
   "metadata": {},
   "outputs": [],
   "source": [
    "corr_data8 = data_pivot_corr('WiiU', 'user_score', 'total_sales', 'median')\n",
    "px.scatter(corr_data8,\n",
    "           y='median', \n",
    "           width=800, \n",
    "           height=500, \n",
    "           title='Зависимость оценки критиков на продажи компьютерных игр на платформе WiiU',\n",
    "           labels=dict(index='Оценка пользователей', median='Продажи'))\n",
    "fig.show(\"svg\")"
   ]
  },
  {
   "cell_type": "code",
   "execution_count": null,
   "metadata": {},
   "outputs": [],
   "source": [
    "print('Корреляция равна ', corr_data8['user_score'].corr(corr_data8['median']))"
   ]
  },
  {
   "cell_type": "markdown",
   "metadata": {},
   "source": [
    "Примерно такое же влияние оказывают оценки пользователей, корреляция между ними и продажами, 0.45."
   ]
  },
  {
   "cell_type": "markdown",
   "metadata": {},
   "source": [
    "##### PC"
   ]
  },
  {
   "cell_type": "code",
   "execution_count": null,
   "metadata": {},
   "outputs": [],
   "source": [
    "corr_data9 = data_pivot_corr('PC', 'critic_score', 'total_sales', 'median')\n",
    "px.scatter(corr_data9,\n",
    "           y='median', \n",
    "           width=800, \n",
    "           height=500, \n",
    "           title='Зависимость оценки критиков на продажи компьютерных игр на платформе PC',\n",
    "           labels=dict(index='Оценка критиков', median='Продажи'))\n",
    "fig.show(\"svg\")"
   ]
  },
  {
   "cell_type": "code",
   "execution_count": null,
   "metadata": {},
   "outputs": [],
   "source": [
    "print('Корреляция равна ', corr_data9['critic_score'].corr(corr_data9['median']))"
   ]
  },
  {
   "cell_type": "markdown",
   "metadata": {},
   "source": [
    "На продажи на платформе PC незначительно влияют оценки критиков - корреляция равна 0.52."
   ]
  },
  {
   "cell_type": "code",
   "execution_count": null,
   "metadata": {},
   "outputs": [],
   "source": [
    "corr_data10 = data_pivot_corr('PC', 'user_score', 'total_sales', 'median')\n",
    "px.scatter(corr_data10,\n",
    "           y='median', \n",
    "           width=800, \n",
    "           height=500, \n",
    "           title='Зависимость оценки критиков на продажи компьютерных игр на платформе PC',\n",
    "           labels=dict(index='Оценка пользователей', median='Продажи'))\n",
    "fig.show(\"svg\")"
   ]
  },
  {
   "cell_type": "code",
   "execution_count": null,
   "metadata": {},
   "outputs": [],
   "source": [
    "print('Корреляция равна ', corr_data10['user_score'].corr(corr_data10['median']))"
   ]
  },
  {
   "cell_type": "markdown",
   "metadata": {},
   "source": [
    "В то время как связи между оценкой пользователей и продажами практически нет - корреляция отрицательная, -0.15: с уменьшением оценки пользователей, незначительно снижаются продажи игр на платформе."
   ]
  },
  {
   "cell_type": "markdown",
   "metadata": {},
   "source": [
    "##### PSV"
   ]
  },
  {
   "cell_type": "code",
   "execution_count": null,
   "metadata": {},
   "outputs": [],
   "source": [
    "corr_data11 = data_pivot_corr('PSV', 'critic_score', 'total_sales', 'median')\n",
    "px.scatter(corr_data11,\n",
    "           y='median', \n",
    "           width=800, \n",
    "           height=500, \n",
    "           title='Зависимость оценки критиков на продажи компьютерных игр на платформе PSV',\n",
    "           labels=dict(index='Оценка критиков', median='Продажи'))\n",
    "fig.show(\"svg\")"
   ]
  },
  {
   "cell_type": "code",
   "execution_count": null,
   "metadata": {},
   "outputs": [],
   "source": [
    "print('Корреляция равна ', corr_data11['critic_score'].corr(corr_data11['median']))"
   ]
  },
  {
   "cell_type": "markdown",
   "metadata": {},
   "source": [
    "Небольшая связь между оценкой критиков и продажами на платформе PSV, 0.36."
   ]
  },
  {
   "cell_type": "code",
   "execution_count": null,
   "metadata": {},
   "outputs": [],
   "source": [
    "corr_data12 = data_pivot_corr('PSV', 'user_score', 'total_sales', 'median')\n",
    "px.scatter(corr_data12,\n",
    "           y='median', \n",
    "           width=800, \n",
    "           height=500, \n",
    "           title='Зависимость оценки критиков на продажи компьютерных игр на платформе PSV',\n",
    "           labels=dict(index='Оценка пользователей', median='Продажи'))\n",
    "fig.show(\"svg\")"
   ]
  },
  {
   "cell_type": "code",
   "execution_count": null,
   "metadata": {},
   "outputs": [],
   "source": [
    "print('Корреляция равна ', corr_data12['user_score'].corr(corr_data12['median']))"
   ]
  },
  {
   "cell_type": "markdown",
   "metadata": {},
   "source": [
    "Немного, но влияют оценки пользователей - корреляция 0.31, при увеличении оценки увеличиваются и продажи."
   ]
  },
  {
   "cell_type": "markdown",
   "metadata": {},
   "source": [
    "#### Распределение игр по жанрам"
   ]
  },
  {
   "cell_type": "markdown",
   "metadata": {},
   "source": [
    "Составим сводную таблицу с распределением по жанрам:"
   ]
  },
  {
   "cell_type": "code",
   "execution_count": null,
   "metadata": {},
   "outputs": [],
   "source": [
    "genres = pd.pivot_table(\n",
    "    data_new,\n",
    "    index='genre',\n",
    "    values='total_sales',\n",
    "    aggfunc={'median', 'count'}\n",
    ")\n",
    "genres = genres.sort_values(by='median', ascending=False)\n",
    "genres"
   ]
  },
  {
   "cell_type": "markdown",
   "metadata": {},
   "source": [
    "Согласно полученным данным, можно выделить жанры с высокими продажами: Shooter, Platform и Sports, и с низкими продажами (все остальные): Adventure, Strategy, Simulation, Role-Playing, Racing, Puzzle, Misc, Fighting, Action. Также можно обратить внимание на то, что есть некоторые жанры, игры по которым были выпущены в большом количестве, но при этом продажи не были высокими. Самым прибыльным считается жанр Shooter, что неудивительно, так как помимо покупки самой игры чаще всего игроки делают внутриигровые покупки на необходимую \"экипировку\" и т.д."
   ]
  },
  {
   "cell_type": "markdown",
   "metadata": {},
   "source": [
    "**Вывод:**\n",
    "\n",
    "1. Динамичное развитие игровой индустрии началось в 2000-х годах, в 2008-2009 гг приходится пик выпуска компьютерных игр - немного больше 1400 игр в каждый год.\n",
    "2. В среднем в течение 6 лет происходит \"смена\" платформ по их популярности.\n",
    "3. В период с 2013 по 2016 гг лидером по продажам была платформа PS4, XOne также показывает хорошие результаты по популярности, но прибыль различается от лидера в два раза. Общая тенденция следующая: к 2016 году все платформы устаревают и прибыль от продажи копий сильно снижается.\n",
    "4. Диаграмма рессеяния показала, что наибольшие продажи у X360, PS4, XOne, WiiU, Wii, наибольший разброс в продажах игр - на платформах X360, XOne, Wii. Выбросов достаточно много.\n",
    "5. Зависимость между отзывами критиков и продажами на платформах PS4, XOne, 3DS, WiiU, PC, PSV гораздо сильнее, чем корреляция между отзывами пользователей и продажами на платформах.\n",
    "6. Можно выделить жанры с высокими продажами: Shooter, Platform и Sports, и с низкими продажами (все остальные): Adventure, Strategy, Simulation, Role-Playing, Racing, Puzzle, Misc, Fighting, Action. Также можно обратить внимание на то, что есть некоторые жанры, игры по которым были выпущены в большом количестве, но при этом продажи не были высокими. Самым прибыльным считается жанр Shooter, что неудивительно, так как помимо покупки самой игры чаще всего игроки делают внутриигровые покупки на необходимую \"экипировку\" и т.д."
   ]
  },
  {
   "cell_type": "markdown",
   "metadata": {},
   "source": [
    "### Составление портрета пользователя каждого региона"
   ]
  },
  {
   "cell_type": "markdown",
   "metadata": {},
   "source": [
    "Ограничим датафрейм по регионам:"
   ]
  },
  {
   "cell_type": "code",
   "execution_count": null,
   "metadata": {},
   "outputs": [],
   "source": [
    "na = data_new[data_new['na_sales'] != 0]\n",
    "eu = data_new[data_new['eu_sales'] != 0]\n",
    "jp = data_new[data_new['jp_sales'] != 0]\n",
    "other = data_new[data_new['other_sales'] != 0]"
   ]
  },
  {
   "cell_type": "markdown",
   "metadata": {},
   "source": [
    "#### Топ-5 самых популярных платформ"
   ]
  },
  {
   "cell_type": "markdown",
   "metadata": {},
   "source": [
    "Создадим функцию для расчета сводной таблицы по топ-5 самых популярных платформ в каждом регионе:"
   ]
  },
  {
   "cell_type": "code",
   "execution_count": null,
   "metadata": {},
   "outputs": [],
   "source": [
    "def data_pivot_func(df, aggr_index, vls, f1, f2):\n",
    "    data_pivot_func = pd.pivot_table(\n",
    "        df,\n",
    "        index=aggr_index,\n",
    "        values=vls,\n",
    "        aggfunc={vls:[f1, f2]}\n",
    "    )\n",
    "    data_pivot_func['abc'] = 'abc'\n",
    "    data_pivot_func['total'] = (\n",
    "    data_pivot_func.groupby('abc')['sum'].transform('sum')\n",
    "    )\n",
    "    data_pivot_func['ratio'] = (data_pivot_func['sum'] / data_pivot_func['total'])\\\n",
    "    .apply(lambda x: round(x * 100, 2))\n",
    "    data_pivot_func = data_pivot_func.sort_values(by='ratio', ascending=False)\n",
    "    data_pivot_func = data_pivot_func[:5]\n",
    "    data_pivot_func = data_pivot_func.drop(['abc'], axis=1)\n",
    "    data_pivot_func.reset_index(inplace=True)\n",
    "    return data_pivot_func\n",
    "\n",
    "na_pivot_platform = data_pivot_func(na, 'platform', 'na_sales', 'count', 'sum')\n",
    "na_pivot_platform"
   ]
  },
  {
   "cell_type": "markdown",
   "metadata": {},
   "source": [
    "В Северной Америке самая популярная платформа по доле продаж компьютерных игр - PS4, 24.9%, следом за ней идет XOne, 21.65%, затем X360, 19.07%, PS3, 14.15%. На пятом месте 3DS с большим отрывом - 8.72%."
   ]
  },
  {
   "cell_type": "code",
   "execution_count": null,
   "metadata": {},
   "outputs": [],
   "source": [
    "eu_pivot_platform = data_pivot_func(eu, 'platform', 'eu_sales', 'count', 'sum')\n",
    "eu_pivot_platform"
   ]
  },
  {
   "cell_type": "markdown",
   "metadata": {},
   "source": [
    "В Европе самая популярная платформа по доле продаж компьютерных игр также - PS4, но доля уже составила 36.47% - платформа пользуется спросом больше в Европе. Следом за ней идет PS3 с большим отрывом и долей продаж в 17.12%. На третьем месте XOne, 13.35%, затем X360, 10.82%. На пятом месте 3DS - 7.78%, она также непопулярна в этом регионе."
   ]
  },
  {
   "cell_type": "code",
   "execution_count": null,
   "metadata": {},
   "outputs": [],
   "source": [
    "jp_pivot_platform = data_pivot_func(jp, 'platform', 'jp_sales', 'count', 'sum')\n",
    "jp_pivot_platform"
   ]
  },
  {
   "cell_type": "markdown",
   "metadata": {},
   "source": [
    "В Японии самой популярной платформой становится 3DS - 51.77%. PS3 (15.56%), PSV (11.36%), PS4 (11.03%) вне конкуренции по сравнению с долей продаж игр на 3DS, замыкает пятерку лидеров платформа WiiU с долей продаж 8.15%."
   ]
  },
  {
   "cell_type": "code",
   "execution_count": null,
   "metadata": {},
   "outputs": [],
   "source": [
    "other_pivot_platform = data_pivot_func(other, 'platform', 'other_sales', 'count', 'sum')\n",
    "other_pivot_platform"
   ]
  },
  {
   "cell_type": "markdown",
   "metadata": {},
   "source": [
    "В остальных странах самая популярная платформа по доле продаж компьютерных игр сохраняется - PS4, с высоким процентом 43.29%, следом за ней идет PS3 (24.06%) и XOne (11.21%). X360 (9.86%) и 3DS (4.25%) замыкают пятерку лидеров."
   ]
  },
  {
   "cell_type": "markdown",
   "metadata": {},
   "source": [
    "**Вывод:**\n",
    "\n",
    "PS4 остается самой популярной платформой в Северной Америке и Европе и других странах. В то время как в Японии лидирует платформа 3DS. Доля продаж таких платформ, как XOne, PS3, X360, PSV средняя по всем регионам."
   ]
  },
  {
   "cell_type": "markdown",
   "metadata": {},
   "source": [
    "#### Топ-5 самых популярных жанров"
   ]
  },
  {
   "cell_type": "markdown",
   "metadata": {},
   "source": [
    "Рассмотрим долю продаж самых популярных жанров:"
   ]
  },
  {
   "cell_type": "code",
   "execution_count": null,
   "metadata": {},
   "outputs": [],
   "source": [
    "na_pivot_genre = data_pivot_func(na, 'genre', 'na_sales', 'count', 'sum')\n",
    "na_pivot_genre"
   ]
  },
  {
   "cell_type": "markdown",
   "metadata": {},
   "source": [
    "В Северной Америке доля продаж компьтерных игр в жанре Action самая большая - 28.94%, на втором месте Shooter с разницей всего в 3% - 25.95%. Жанр Sports не мене популярен, хоть и доля продаж составляет 15.65%. Замыкают пятерку лидеров игры в жанрах Role-Playing(9.15%) и Misc (6.50%)."
   ]
  },
  {
   "cell_type": "code",
   "execution_count": null,
   "metadata": {},
   "outputs": [],
   "source": [
    "eu_pivot_genre = data_pivot_func(eu, 'genre', 'eu_sales', 'count', 'sum')\n",
    "eu_pivot_genre"
   ]
  },
  {
   "cell_type": "markdown",
   "metadata": {},
   "source": [
    "В Европе лидером по продажам также является игры в жанре Action (30.31%). Shooter (23.34%) на втором месте, Sports (15.88%) на третьем. Замыкают Role-Playing (8.16%) и Racing (5.22%)."
   ]
  },
  {
   "cell_type": "code",
   "execution_count": null,
   "metadata": {},
   "outputs": [],
   "source": [
    "jp_pivot_genre = data_pivot_func(jp, 'genre', 'jp_sales', 'count', 'sum')\n",
    "jp_pivot_genre"
   ]
  },
  {
   "cell_type": "markdown",
   "metadata": {},
   "source": [
    "В Японии пользуются большим спросом игры в жанрах Role-Playing (35.56%) и Action (30.12%). С большим отрывом игры в жанрах Misc (7.16%), Fighting (5.35%) и Shooter (4.94%)."
   ]
  },
  {
   "cell_type": "code",
   "execution_count": null,
   "metadata": {},
   "outputs": [],
   "source": [
    "other_pivot_genre = data_pivot_func(other, 'genre', 'other_sales', 'count', 'sum')\n",
    "other_pivot_genre"
   ]
  },
  {
   "cell_type": "markdown",
   "metadata": {},
   "source": [
    "Что касается других стран, то популярными в них являются игры в жанрах Action (31.30%) и Shooter (26.28%). С небольшим отрывом на третьем месте Sports (17.20%). Замыкают пятерку лидеров игры в жанрах Role-Playing и Misc с долями продаж 7.44% и 4.93% соответственно."
   ]
  },
  {
   "cell_type": "markdown",
   "metadata": {},
   "source": [
    "**Вывод:**\n",
    "\n",
    "Компьютерные игры в жанрах Action и Shooter остаются на первых местах по доле продаж среди таких регионов, как Северная Америка, Европа и в других странах. В Японии игры в жанре Action остаются на втором месте по популярности, а на первое выходит жанр Role-Playing с долей продаж 35%. Жанры Sports, Role-Playing, Misc встречаются почти во всех регионах и находятся на примерно одном уровне популярности."
   ]
  },
  {
   "cell_type": "markdown",
   "metadata": {},
   "source": [
    "#### Влияние рейтинга ESRB на продажи в отдельном регионе"
   ]
  },
  {
   "cell_type": "markdown",
   "metadata": {},
   "source": [
    "Теперь рассмотрим, как рейтинг ESRB влияет на продажи в каждои отдельном регионе.\n",
    "\n",
    "ESRB рейтинг в нашем исследовании имеет следующие категории (названия взяты из интернета):\n",
    "- T - «Подросткам»: Игра подходит для лиц от 13 лет.\n",
    "- E - «Для всех»: Содержание вполне подходит для всех возрастов.\n",
    "- M - «Для взрослых»: Материалы игры не подходят для лиц младше 17 лет.\n",
    "- E10+ - «Для всех от 10 лет и старше»"
   ]
  },
  {
   "cell_type": "code",
   "execution_count": null,
   "metadata": {},
   "outputs": [],
   "source": [
    "na_pivot_rating = data_pivot_func(na, 'rating', 'na_sales', 'count', 'sum')\n",
    "na_pivot_rating"
   ]
  },
  {
   "cell_type": "markdown",
   "metadata": {},
   "source": [
    "«Для взрослых» - самая популярная категория в продажах компьютерных игр в Северной Америке, доля продаж составляет 38.49%. «Для всех» не менее популярна с долей продаж в 18.71%. «Для всех от 10 лет и старше» на третьем месте с долей 12.59%. На последнем месте «Подросткам» - 11.28%."
   ]
  },
  {
   "cell_type": "code",
   "execution_count": null,
   "metadata": {},
   "outputs": [],
   "source": [
    "eu_pivot_rating = data_pivot_func(eu, 'rating', 'eu_sales', 'count', 'sum')\n",
    "eu_pivot_rating"
   ]
  },
  {
   "cell_type": "markdown",
   "metadata": {},
   "source": [
    "«Для взрослых» - самая популярная категория в продажах компьютерных игр в Европе, доля продаж составляет 38.03%. «Для всех» не менее популярна с долей продаж в 21.64%. «Для всех от 10 лет и старше» на третьем месте с долей 11.28%. На последнем месте «Подросткам» - 10.50%."
   ]
  },
  {
   "cell_type": "code",
   "execution_count": null,
   "metadata": {},
   "outputs": [],
   "source": [
    "jp_pivot_rating = data_pivot_func(jp, 'rating', 'jp_sales', 'count', 'sum')\n",
    "jp_pivot_rating"
   ]
  },
  {
   "cell_type": "markdown",
   "metadata": {},
   "source": [
    "В Японии большое количество игр без рейтинга имеют самую большую долю продаж в 58.68%. Следом за ней идут «Подросткам» (14.73%), «Для всех» (11.93%), «Для взрослых» (10.29%) и «Для всех от 10 лет и старше» (4.36%)."
   ]
  },
  {
   "cell_type": "code",
   "execution_count": null,
   "metadata": {},
   "outputs": [],
   "source": [
    "other_pivot_rating = data_pivot_func(other, 'rating', 'other_sales', 'count', 'sum')\n",
    "other_pivot_rating"
   ]
  },
  {
   "cell_type": "markdown",
   "metadata": {},
   "source": [
    "«Для взрослых» - также самая популярная категория в продажах компьютерных игр в других странах, доля продаж составляет 42.32%. «Для всех» на втором месте с долей продаж 19.23%. «Подросткам» (10.82%) и «Для всех от 10 лет и старше»(10.14%) наименее популярны."
   ]
  },
  {
   "cell_type": "markdown",
   "metadata": {},
   "source": [
    "**Вывод:**\n",
    "\n",
    "Нельзя сказать, как влияет определенный рейтинг на продажи, так как нужно уточнить, какие были продажи до присвоения рейтингов играм. \n",
    "\n",
    "Из данных выше можно сделать вывод, что кроме Японии, где наиболее популярные игры - без рейтинга, во всех регионах примерно на одном уровне лидируют игры с рейтингом «Для взрослых», наименее популярны: «Для всех», «Для всех от 10 лет и старше», «Подросткам»."
   ]
  },
  {
   "cell_type": "markdown",
   "metadata": {},
   "source": [
    "### Проверка гипотез"
   ]
  },
  {
   "cell_type": "markdown",
   "metadata": {},
   "source": [
    "#### Средние пользовательские рейтинги платформ Xbox и PC одинаковые"
   ]
  },
  {
   "cell_type": "markdown",
   "metadata": {},
   "source": [
    "Ограничим датафрейм и оставим информацию только по необходимым столбцам для исследования и выведем столбчатую диаграмму по получившимся выборкам:"
   ]
  },
  {
   "cell_type": "code",
   "execution_count": null,
   "metadata": {},
   "outputs": [],
   "source": [
    "data_hypothesis1 = data_new.loc[:, ['platform', 'user_score']]\n",
    "data_xone = data_hypothesis1.query('user_score > -1 and platform == \"XOne\"')\n",
    "data_pc = data_hypothesis1.query('user_score > -1 and platform == \"PC\"')"
   ]
  },
  {
   "cell_type": "code",
   "execution_count": null,
   "metadata": {},
   "outputs": [],
   "source": [
    "ax = data_xone.plot(kind='hist',\n",
    "               y='user_score', \n",
    "               bins=50, \n",
    "               grid=True,\n",
    "               figsize=(10,5), \n",
    "               color=\"#32B5C9\",\n",
    "               rwidth=0.9,\n",
    "               label='Платформа XOne',\n",
    ")\n",
    "data_pc.plot(kind='hist',\n",
    "               y='user_score', \n",
    "               bins=50, \n",
    "               grid=True,\n",
    "               figsize=(10,5), \n",
    "               color=\"#c94632\",\n",
    "               rwidth=0.9,\n",
    "               label='Платформа PC',\n",
    "               ax=ax,\n",
    ");\n",
    "plt.title('Пользовательские рейтинги платформ Xbox и PC', size=11)\n",
    "plt.xlabel('Оценка пользователей (максимум 10)', labelpad=20, size=11)\n",
    "plt.ylabel('Частота встречаемости', labelpad=20, size=11);"
   ]
  },
  {
   "cell_type": "markdown",
   "metadata": {},
   "source": [
    "Проверим, равны ли размеры выборок:"
   ]
  },
  {
   "cell_type": "code",
   "execution_count": null,
   "metadata": {},
   "outputs": [],
   "source": [
    "data_xone.shape[0]"
   ]
  },
  {
   "cell_type": "code",
   "execution_count": null,
   "metadata": {},
   "outputs": [],
   "source": [
    "data_pc.shape[0]"
   ]
  },
  {
   "cell_type": "markdown",
   "metadata": {},
   "source": [
    "Проверим, равны ли дисперсии:"
   ]
  },
  {
   "cell_type": "code",
   "execution_count": null,
   "metadata": {},
   "outputs": [],
   "source": [
    "data_xone.var()['user_score']"
   ]
  },
  {
   "cell_type": "code",
   "execution_count": null,
   "metadata": {},
   "outputs": [],
   "source": [
    "data_pc.var()['user_score']"
   ]
  },
  {
   "cell_type": "markdown",
   "metadata": {},
   "source": [
    "- **Нулевая гипотеза** - средние пользовательские рейтинги платформ XOne и PC равны.\n",
    "- **Альтернативная гипотеза** - средние пользовательские рейтинги платформ XOne и PC не равны.\n",
    "\n",
    "Мы сравниваем две генеральные совокупности, поэтому сначала убедимся:\n",
    "- Генеральные совокупности не зависят друг от друга: да, это так, потому что в первом датафрейме данные о пользовательских рейтингах по платформе XOne, во втором - по платформе PC.\n",
    "- Выборочные средние нормально распределены.\n",
    "- Дисперсии рассматриваемых генеральных совокупностей равны: не совсем так, что доказывают рассчеты ниже. И размеры выборок разные - уточним этот момент в проверке гипотез."
   ]
  },
  {
   "cell_type": "code",
   "execution_count": null,
   "metadata": {},
   "outputs": [],
   "source": [
    "print('среднее выборки по xone:', data_xone['user_score'].mean())\n",
    "print('среднее выборки по pc:', data_pc['user_score'].mean())\n",
    "\n",
    "alpha = 0.05\n",
    "\n",
    "results = st.ttest_ind(data_xone['user_score'], data_pc['user_score'], \\\n",
    "                       alternative='two-sided', equal_var=False)\n",
    "\n",
    "print(f'p-value: {results.pvalue}')\n",
    "\n",
    "if results.pvalue < alpha:\n",
    "    print('Отвергаем нулевую гипотезу')\n",
    "else:\n",
    "    print('Нет оснований отвергать нулевую гипотезу')"
   ]
  },
  {
   "cell_type": "markdown",
   "metadata": {},
   "source": [
    "Полученное значение p-value больше заданного уровня значимости, поэтому не отвергаем нулевую гипотезу. То есть, средние пользовательские рейтинги платформ Xbox и PC одинаковые."
   ]
  },
  {
   "cell_type": "markdown",
   "metadata": {},
   "source": [
    "#### Средние пользовательские рейтинги жанров Action и Sports разные"
   ]
  },
  {
   "cell_type": "markdown",
   "metadata": {},
   "source": [
    "Ограничим датафрейм и оставим информацию только по необходимым столбцам для исследования и выведем столбчатую диаграмму по получившимся выборкам:"
   ]
  },
  {
   "cell_type": "code",
   "execution_count": null,
   "metadata": {},
   "outputs": [],
   "source": [
    "data_hypothesis2 = data_new.loc[:, ['genre', 'user_score']]\n",
    "data_action = data_hypothesis2.query('user_score > -1 and genre == \"Action\"')\n",
    "data_sports = data_hypothesis2.query('user_score > -1 and genre == \"Sports\"')"
   ]
  },
  {
   "cell_type": "code",
   "execution_count": null,
   "metadata": {},
   "outputs": [],
   "source": [
    "ax = data_action.plot(kind='hist',\n",
    "               y='user_score', \n",
    "               bins=50, \n",
    "               grid=True,\n",
    "               figsize=(10,5), \n",
    "               color=\"#32B5C9\",\n",
    "               rwidth=0.9,\n",
    "               label='Жанр Action',\n",
    ")\n",
    "data_sports.plot(kind='hist',\n",
    "               y='user_score', \n",
    "               bins=50, \n",
    "               grid=True,\n",
    "               figsize=(10,5), \n",
    "               color=\"#c94632\",\n",
    "               rwidth=0.9,\n",
    "               label='Жанр Sports',\n",
    "               ax=ax,\n",
    ");\n",
    "plt.title('Пользовательские рейтинги жанров Action и Sports', size=11)\n",
    "plt.xlabel('Оценка пользователей (максимум 10)', labelpad=20, size=11)\n",
    "plt.ylabel('Частота встречаемости', labelpad=20, size=11);"
   ]
  },
  {
   "cell_type": "markdown",
   "metadata": {},
   "source": [
    "Проверим, равны ли размеры выборок:"
   ]
  },
  {
   "cell_type": "code",
   "execution_count": null,
   "metadata": {},
   "outputs": [],
   "source": [
    "data_action.shape[0]"
   ]
  },
  {
   "cell_type": "code",
   "execution_count": null,
   "metadata": {},
   "outputs": [],
   "source": [
    "data_sports.shape[0]"
   ]
  },
  {
   "cell_type": "markdown",
   "metadata": {},
   "source": [
    "Проверим, равны ли дисперсии:"
   ]
  },
  {
   "cell_type": "code",
   "execution_count": null,
   "metadata": {},
   "outputs": [],
   "source": [
    "data_action.var()['user_score']"
   ]
  },
  {
   "cell_type": "code",
   "execution_count": null,
   "metadata": {},
   "outputs": [],
   "source": [
    "data_sports.var()['user_score']"
   ]
  },
  {
   "cell_type": "markdown",
   "metadata": {},
   "source": [
    "- **Нулевая гипотеза** - средние пользовательские рейтинги жанров Action и Sports равны.\n",
    "- **Альтернативная гипотеза** - средние пользовательские рейтинги жанров Action и Sports не равны.\n",
    "\n",
    "Мы сравниваем две генеральные совокупности, поэтому сначала убедимся:\n",
    "- Генеральные совокупности не зависят друг от друга: да, это так, потому что в первом датафрейме данные о пользовательских рейтингах по жанру Action, во втором - по жанру Sports.\n",
    "- Выборочные средние нормально распределены.\n",
    "- Дисперсии рассматриваемых генеральных совокупностей равны: не совсем так, что доказывают рассчеты ниже. И размеры выборок разные - уточним этот момент в проверке гипотез."
   ]
  },
  {
   "cell_type": "code",
   "execution_count": null,
   "metadata": {},
   "outputs": [],
   "source": [
    "print('среднее выборки по жанру action:', data_action['user_score'].mean())\n",
    "print('среднее выборки по жанру sports:', data_sports['user_score'].mean())\n",
    "\n",
    "alpha = 0.05\n",
    "\n",
    "results = st.ttest_ind(data_action['user_score'], data_sports['user_score'], \\\n",
    "                       alternative='two-sided', equal_var=False)\n",
    "\n",
    "print(f'p-value: {results.pvalue}')\n",
    "\n",
    "if results.pvalue < alpha:\n",
    "    print('Отвергаем нулевую гипотезу')\n",
    "else:\n",
    "    print('Нет оснований отвергать нулевую гипотезу')"
   ]
  },
  {
   "cell_type": "markdown",
   "metadata": {},
   "source": [
    "Полученное значение p-value меньше заданного уровня значимости, поэтому отвергаем нулевую гипотезу. То есть, средние пользовательские рейтинги жанров Action и Sports разные."
   ]
  },
  {
   "cell_type": "markdown",
   "metadata": {},
   "source": [
    "**Вывод:**\n",
    "\n",
    "Были проверены 2 гипотезы на основе полученных датафреймов:\n",
    "\n",
    "- средние пользовательские рейтинги платформ Xbox и PC одинаковые.\n",
    "- средние пользовательские рейтинги жанров Action и Sports разные."
   ]
  },
  {
   "cell_type": "markdown",
   "metadata": {},
   "source": [
    "### Вывод"
   ]
  },
  {
   "cell_type": "markdown",
   "metadata": {},
   "source": [
    "В данном исследовании были поставлены и выполнены следующие задачи:\n",
    "\n",
    "- Изучена общая информация о датафреймах.\n",
    "- Обработаны пропущенные значения.\n",
    "- Обработаны неявные дубликаты.\n",
    "- Изменен тип данных, где это необходимо.\n",
    "- Добавлен в датафрейм новый столбец с суммарными продажами.\n",
    "- Определен актуальный период для дальнейшего исследовательского анализа (2013-2016гг).\n",
    "- Детально изучены параметры, влияющие на продажи компьютерных игр, с построением графиков и диаграмм рассеяния для каждого из них.\n",
    "- Составлен портрет пользователя каждого региона: рассмотрены самые популярные платформы, жанры и установлено, влияет ли рейтинг ESRB на продажи в каждом отдельном регионе.\n",
    "- Проверены гипотезы о равенстве средних пользовательских рейтингов различных платформ и жанров.\n",
    "\n",
    "В результате исследовательского анализа данных можно сделать следующие итоговые выводы:\n",
    "\n",
    "- Динамичное развитие игровой индустрии началось в 2000-х годах, в 2008-2009 гг приходится пик выпуска компьютерных игр - немного больше 1400 игр в каждый год.\n",
    "- В среднем в течение 9 лет происходит \"смена\" платформ по их популярности.\n",
    "- В период с 2013 по 2016 гг лидером по продажам была платформа PS4, XOne также показывает хорошие результаты по популярности, но прибыль различается от лидера в два раза. Общая тенденция следующая: к 2016 году все платформы устаревают и прибыль от продажи копий сильно снижается.\n",
    "- Диаграмма рессеяния показала, что наибольшие продажи у X360, PS4, XOne, WiiU, Wii, наибольший разброс в продажах игр - на платформах X360, XOne, Wii. Выбросов достаточно много.\n",
    "- Зависимость между отзывами критиков и продажами на платформах PS4, XOne, 3DS, WiiU, PC, PSV гораздо сильнее, чем корреляция между отзывами пользователей и продажами на платформах.\n",
    "- Можно выделить жанры с высокими продажами: Shooter, Platform и Sports, и с низкими продажами (все остальные): Adventure, Strategy, Simulation, Role-Playing, Racing, Puzzle, Misc, Fighting, Action. Также можно обратить внимание на то, что есть некоторые жанры, игры по которым были выпущены в большом количестве, но при этом продажи не были высокими. Самым прибыльным считается жанр Shooter, что неудивительно, так как помимо покупки самой игры чаще всего игроки делают внутриигровые покупки на необходимую \"экипировку\" и т.д.\n",
    "\n",
    "Составлен пользовательский портрет каждого региона:\n",
    "\n",
    "Северная Америка:\n",
    "- Самая популярная платформа по доле продаж компьютерных игр - PS4, 24.9%, следом за ней идет XOne, 21.65%, затем X360, 19.07%, PS3, 14.15%. На пятом месте 3DS с большим отрывом - 8.72%.\n",
    "- Доля продаж компьтерных игр в жанре Action самая большая - 28.94%, на втором месте Shooter с разницей всего в 3% - 25.95%. Жанр Sports не мене популярен, хоть и доля продаж составляет 15.65%. Замыкают пятерку лидеров игры в жанрах Role-Playing(9.15%) и Misc (6.50%).\n",
    "- «Для взрослых» - самая популярная категория в продажах компьютерных игр, доля продаж составляет 38.49%. «Для всех» не менее популярна с долей продаж в 18.71%. «Для всех от 10 лет и старше» на третьем месте с долей 12.59%. На последнем месте «Подросткам» - 11.28%.\n",
    "\n",
    "Европа:\n",
    "\n",
    "- Самая популярная платформа по доле продаж компьютерных игр также - PS4, но доля уже составила 36.47% - в Европе больше пользуется спросом платформа. Следом за ней идет PS3 с большим отрывом и долей продаж в 17.12%. На третьем месте XOne, 13.35%, затем X360, 10.82%. На пятом месте 3DS - 7.78%, она также непопулярна в этом регионе.\n",
    "- Лидером по продажам также является игры в жанре Action (30.31%). Shooter (23.34%) на втором месте, Sports (15.88%) на третьем. Замыкают Role-Playing (8.16%) и Racing (5.22%).\n",
    "- «Для взрослых» - самая популярная категория в продажах компьютерных игр, доля продаж составляет 38.03%. «Для всех» не менее популярна с долей продаж в 21.64%. «Для всех от 10 лет и старше» на третьем месте с долей 11.28%. На последнем месте «Подросткам» - 10.50%.\n",
    "\n",
    "Япония:\n",
    "\n",
    "- Самой популярной платформой становится 3DS - 51.77%. PS3 (15.56%), PSV (11.36%), PS4 (11.03%) вне конкуренции по сравнению с долей продаж 3DS, замыкает пятерку лидеров платформа WiiU с долей продаж 8.15%.\n",
    "- Пользуются большим спросом игры в жанрах Role-Playing (35.56%) и Action (30.12%). С большим отрывом игры в жанрах Misc (7.16%), Fighting (5.35%) и Shooter (4.94%).\n",
    "- Большое количество игр без рейтинга имеют самую большую долю продаж в 58.68%. Следом за ней идут «Подросткам» (14.73%), «Для всех» (11.93%), «Для взрослых» (10.29%) и «Для всех от 10 лет и старше» (4.36%).\n",
    "\n",
    "Другие страны:\n",
    "\n",
    "- Самая популярная платформа по доле продаж компьютерных игр сохраняется - PS4, с высоким процентом 43.29%, следом за ней идет PS3 (24.06%) и XOne (11.21%). X360 (9.86%) и 3DS (4.25%) замыкают пятерку лидеров.\n",
    "- Популярными являются игры в жанрах Action (31.30%) и Shooter (26.28%). С небольшим отрывом на третьем месте Sports (17.20%). Замыкают пятерку лидеров игры в жанрах Role-Playing и Misc с долями продаж 7.44% и 4.93% соответственно.\n",
    "- «Для взрослых» - также самая популярная категория в продажах компьютерных игр, доля продаж составляет 42.32%. «Для всех» на втором месте с долей продаж 19.23%. «Подросткам» (10.82%) и «Для всех от 10 лет и старше»(10.14%) наименее популярны.\n",
    "\n",
    "Были проверены 2 гипотезы на основе полученных датафреймов:\n",
    "\n",
    "- Средние пользовательские рейтинги платформ Xbox и PC одинаковые.\n",
    "- Средние пользовательские рейтинги жанров Action и Sports разные."
   ]
  }
 ],
 "metadata": {
  "ExecuteTimeLog": [
   {
    "duration": 977,
    "start_time": "2023-05-18T19:04:20.649Z"
   },
   {
    "duration": 138,
    "start_time": "2023-05-18T19:04:21.628Z"
   },
   {
    "duration": 32,
    "start_time": "2023-05-18T19:06:05.753Z"
   },
   {
    "duration": 11,
    "start_time": "2023-05-18T19:06:20.821Z"
   },
   {
    "duration": 40,
    "start_time": "2023-05-18T19:06:50.200Z"
   },
   {
    "duration": 10,
    "start_time": "2023-05-18T19:19:22.176Z"
   },
   {
    "duration": 783,
    "start_time": "2023-05-18T19:25:02.246Z"
   },
   {
    "duration": 80,
    "start_time": "2023-05-18T19:25:03.031Z"
   },
   {
    "duration": 18,
    "start_time": "2023-05-18T19:25:03.112Z"
   },
   {
    "duration": 11,
    "start_time": "2023-05-18T19:25:03.132Z"
   },
   {
    "duration": 58,
    "start_time": "2023-05-18T19:25:03.145Z"
   },
   {
    "duration": 93,
    "start_time": "2023-05-18T19:28:07.094Z"
   },
   {
    "duration": 10,
    "start_time": "2023-05-18T19:30:09.918Z"
   },
   {
    "duration": 762,
    "start_time": "2023-05-18T19:30:29.553Z"
   },
   {
    "duration": 81,
    "start_time": "2023-05-18T19:30:30.318Z"
   },
   {
    "duration": 17,
    "start_time": "2023-05-18T19:30:30.400Z"
   },
   {
    "duration": 38,
    "start_time": "2023-05-18T19:30:30.419Z"
   },
   {
    "duration": 73,
    "start_time": "2023-05-18T19:30:30.459Z"
   },
   {
    "duration": 99,
    "start_time": "2023-05-18T19:30:30.533Z"
   },
   {
    "duration": 4,
    "start_time": "2023-05-18T19:31:28.001Z"
   },
   {
    "duration": 15,
    "start_time": "2023-05-18T19:31:37.796Z"
   },
   {
    "duration": 19,
    "start_time": "2023-05-18T19:31:41.286Z"
   },
   {
    "duration": 6,
    "start_time": "2023-05-18T19:39:00.104Z"
   },
   {
    "duration": 21,
    "start_time": "2023-05-18T19:39:41.356Z"
   },
   {
    "duration": 8,
    "start_time": "2023-05-18T19:40:14.511Z"
   },
   {
    "duration": 14,
    "start_time": "2023-05-18T19:43:12.073Z"
   },
   {
    "duration": 22,
    "start_time": "2023-05-18T19:43:20.771Z"
   },
   {
    "duration": 6,
    "start_time": "2023-05-18T19:44:15.312Z"
   },
   {
    "duration": 736,
    "start_time": "2023-05-18T19:44:26.916Z"
   },
   {
    "duration": 87,
    "start_time": "2023-05-18T19:44:27.655Z"
   },
   {
    "duration": 18,
    "start_time": "2023-05-18T19:44:27.744Z"
   },
   {
    "duration": 27,
    "start_time": "2023-05-18T19:44:27.764Z"
   },
   {
    "duration": 59,
    "start_time": "2023-05-18T19:44:27.795Z"
   },
   {
    "duration": 26,
    "start_time": "2023-05-18T19:44:27.856Z"
   },
   {
    "duration": 35,
    "start_time": "2023-05-18T19:44:27.884Z"
   },
   {
    "duration": 26,
    "start_time": "2023-05-18T19:44:27.922Z"
   },
   {
    "duration": 7,
    "start_time": "2023-05-18T19:44:27.951Z"
   },
   {
    "duration": 38,
    "start_time": "2023-05-18T19:44:27.960Z"
   },
   {
    "duration": 34,
    "start_time": "2023-05-18T19:44:28.000Z"
   },
   {
    "duration": 20,
    "start_time": "2023-05-18T19:45:15.879Z"
   },
   {
    "duration": 9,
    "start_time": "2023-05-18T19:45:16.144Z"
   },
   {
    "duration": 751,
    "start_time": "2023-05-18T19:45:22.690Z"
   },
   {
    "duration": 85,
    "start_time": "2023-05-18T19:45:23.443Z"
   },
   {
    "duration": 18,
    "start_time": "2023-05-18T19:45:23.530Z"
   },
   {
    "duration": 35,
    "start_time": "2023-05-18T19:45:23.551Z"
   },
   {
    "duration": 47,
    "start_time": "2023-05-18T19:45:23.589Z"
   },
   {
    "duration": 17,
    "start_time": "2023-05-18T19:45:23.638Z"
   },
   {
    "duration": 24,
    "start_time": "2023-05-18T19:45:23.657Z"
   },
   {
    "duration": 19,
    "start_time": "2023-05-18T19:45:23.684Z"
   },
   {
    "duration": 10,
    "start_time": "2023-05-18T19:45:23.705Z"
   },
   {
    "duration": 29,
    "start_time": "2023-05-18T19:45:23.718Z"
   },
   {
    "duration": 10,
    "start_time": "2023-05-18T19:45:23.750Z"
   },
   {
    "duration": 27,
    "start_time": "2023-05-18T19:47:55.566Z"
   },
   {
    "duration": 15,
    "start_time": "2023-05-18T19:50:17.510Z"
   },
   {
    "duration": 13,
    "start_time": "2023-05-18T19:51:57.848Z"
   },
   {
    "duration": 11,
    "start_time": "2023-05-18T19:52:11.388Z"
   },
   {
    "duration": 7,
    "start_time": "2023-05-18T19:52:30.748Z"
   },
   {
    "duration": 14,
    "start_time": "2023-05-18T19:53:37.619Z"
   },
   {
    "duration": 15,
    "start_time": "2023-05-18T19:54:44.016Z"
   },
   {
    "duration": 40,
    "start_time": "2023-05-18T19:55:48.182Z"
   },
   {
    "duration": 766,
    "start_time": "2023-05-18T19:59:24.755Z"
   },
   {
    "duration": 82,
    "start_time": "2023-05-18T19:59:25.523Z"
   },
   {
    "duration": 21,
    "start_time": "2023-05-18T19:59:25.607Z"
   },
   {
    "duration": 15,
    "start_time": "2023-05-18T19:59:25.631Z"
   },
   {
    "duration": 73,
    "start_time": "2023-05-18T19:59:25.648Z"
   },
   {
    "duration": 18,
    "start_time": "2023-05-18T19:59:25.723Z"
   },
   {
    "duration": 25,
    "start_time": "2023-05-18T19:59:25.744Z"
   },
   {
    "duration": 19,
    "start_time": "2023-05-18T19:59:25.771Z"
   },
   {
    "duration": 15,
    "start_time": "2023-05-18T19:59:25.797Z"
   },
   {
    "duration": 22,
    "start_time": "2023-05-18T19:59:25.815Z"
   },
   {
    "duration": 64,
    "start_time": "2023-05-18T19:59:25.841Z"
   },
   {
    "duration": 22,
    "start_time": "2023-05-18T19:59:25.907Z"
   },
   {
    "duration": 41,
    "start_time": "2023-05-18T19:59:25.932Z"
   },
   {
    "duration": 85,
    "start_time": "2023-05-18T20:00:39.924Z"
   },
   {
    "duration": 36,
    "start_time": "2023-05-18T20:00:49.370Z"
   },
   {
    "duration": 21,
    "start_time": "2023-05-18T20:01:32.414Z"
   },
   {
    "duration": 88,
    "start_time": "2023-05-18T20:04:22.467Z"
   },
   {
    "duration": 30,
    "start_time": "2023-05-18T20:05:04.096Z"
   },
   {
    "duration": 1003,
    "start_time": "2023-05-18T20:12:40.817Z"
   },
   {
    "duration": 1057,
    "start_time": "2023-05-18T20:12:47.553Z"
   },
   {
    "duration": 58,
    "start_time": "2023-05-18T20:12:57.925Z"
   },
   {
    "duration": 52,
    "start_time": "2023-05-18T20:13:47.971Z"
   },
   {
    "duration": 46,
    "start_time": "2023-05-18T20:14:15.158Z"
   },
   {
    "duration": 44,
    "start_time": "2023-05-18T20:14:30.507Z"
   },
   {
    "duration": 116,
    "start_time": "2023-05-18T20:15:47.846Z"
   },
   {
    "duration": 32,
    "start_time": "2023-05-18T20:15:53.953Z"
   },
   {
    "duration": 33,
    "start_time": "2023-05-18T20:16:10.202Z"
   },
   {
    "duration": 60,
    "start_time": "2023-05-18T20:16:19.743Z"
   },
   {
    "duration": 38,
    "start_time": "2023-05-18T20:26:53.378Z"
   },
   {
    "duration": 42,
    "start_time": "2023-05-18T20:26:58.306Z"
   },
   {
    "duration": 29,
    "start_time": "2023-05-18T20:27:59.437Z"
   },
   {
    "duration": 23,
    "start_time": "2023-05-18T20:28:21.028Z"
   },
   {
    "duration": 11,
    "start_time": "2023-05-18T20:28:24.013Z"
   },
   {
    "duration": 30,
    "start_time": "2023-05-18T20:28:27.909Z"
   },
   {
    "duration": 47,
    "start_time": "2023-05-18T20:28:37.498Z"
   },
   {
    "duration": 59,
    "start_time": "2023-05-18T20:28:43.556Z"
   },
   {
    "duration": 1797,
    "start_time": "2023-05-18T20:29:08.539Z"
   },
   {
    "duration": 30,
    "start_time": "2023-05-18T20:29:20.100Z"
   },
   {
    "duration": 9,
    "start_time": "2023-05-18T20:29:20.609Z"
   },
   {
    "duration": 36,
    "start_time": "2023-05-18T20:29:28.804Z"
   },
   {
    "duration": 5,
    "start_time": "2023-05-18T20:29:36.706Z"
   },
   {
    "duration": 27,
    "start_time": "2023-05-18T20:31:05.523Z"
   },
   {
    "duration": 743,
    "start_time": "2023-05-18T20:31:21.302Z"
   },
   {
    "duration": 107,
    "start_time": "2023-05-18T20:31:22.048Z"
   },
   {
    "duration": 29,
    "start_time": "2023-05-18T20:31:22.157Z"
   },
   {
    "duration": 28,
    "start_time": "2023-05-18T20:31:22.189Z"
   },
   {
    "duration": 40,
    "start_time": "2023-05-18T20:31:22.219Z"
   },
   {
    "duration": 30,
    "start_time": "2023-05-18T20:31:22.261Z"
   },
   {
    "duration": 30,
    "start_time": "2023-05-18T20:31:22.298Z"
   },
   {
    "duration": 4,
    "start_time": "2023-05-18T20:31:22.330Z"
   },
   {
    "duration": 13,
    "start_time": "2023-05-18T20:31:22.336Z"
   },
   {
    "duration": 7,
    "start_time": "2023-05-18T20:31:22.352Z"
   },
   {
    "duration": 35,
    "start_time": "2023-05-18T20:31:22.362Z"
   },
   {
    "duration": 23,
    "start_time": "2023-05-18T20:31:22.403Z"
   },
   {
    "duration": 26,
    "start_time": "2023-05-18T20:31:22.429Z"
   },
   {
    "duration": 35,
    "start_time": "2023-05-18T20:31:22.458Z"
   },
   {
    "duration": 43,
    "start_time": "2023-05-18T20:31:22.495Z"
   },
   {
    "duration": 52,
    "start_time": "2023-05-18T20:31:22.540Z"
   },
   {
    "duration": 33,
    "start_time": "2023-05-18T20:31:22.601Z"
   },
   {
    "duration": 1767,
    "start_time": "2023-05-18T20:31:22.636Z"
   },
   {
    "duration": 6,
    "start_time": "2023-05-18T20:31:35.150Z"
   },
   {
    "duration": 885,
    "start_time": "2023-05-18T20:31:45.867Z"
   },
   {
    "duration": 85,
    "start_time": "2023-05-18T20:31:46.754Z"
   },
   {
    "duration": 16,
    "start_time": "2023-05-18T20:31:46.841Z"
   },
   {
    "duration": 27,
    "start_time": "2023-05-18T20:31:46.858Z"
   },
   {
    "duration": 34,
    "start_time": "2023-05-18T20:31:46.895Z"
   },
   {
    "duration": 15,
    "start_time": "2023-05-18T20:31:46.931Z"
   },
   {
    "duration": 8,
    "start_time": "2023-05-18T20:31:46.948Z"
   },
   {
    "duration": 28,
    "start_time": "2023-05-18T20:31:46.958Z"
   },
   {
    "duration": 16,
    "start_time": "2023-05-18T20:31:46.997Z"
   },
   {
    "duration": 7,
    "start_time": "2023-05-18T20:31:47.014Z"
   },
   {
    "duration": 20,
    "start_time": "2023-05-18T20:31:47.023Z"
   },
   {
    "duration": 10,
    "start_time": "2023-05-18T20:31:47.044Z"
   },
   {
    "duration": 35,
    "start_time": "2023-05-18T20:31:47.056Z"
   },
   {
    "duration": 26,
    "start_time": "2023-05-18T20:31:47.100Z"
   },
   {
    "duration": 20,
    "start_time": "2023-05-18T20:31:47.128Z"
   },
   {
    "duration": 40,
    "start_time": "2023-05-18T20:31:47.150Z"
   },
   {
    "duration": 56,
    "start_time": "2023-05-18T20:31:47.193Z"
   },
   {
    "duration": 5,
    "start_time": "2023-05-18T20:31:47.252Z"
   },
   {
    "duration": 106,
    "start_time": "2023-05-18T20:33:22.200Z"
   },
   {
    "duration": 830,
    "start_time": "2023-05-18T20:33:33.955Z"
   },
   {
    "duration": 86,
    "start_time": "2023-05-18T20:33:34.787Z"
   },
   {
    "duration": 27,
    "start_time": "2023-05-18T20:33:34.877Z"
   },
   {
    "duration": 22,
    "start_time": "2023-05-18T20:33:34.907Z"
   },
   {
    "duration": 62,
    "start_time": "2023-05-18T20:33:34.931Z"
   },
   {
    "duration": 21,
    "start_time": "2023-05-18T20:33:35.000Z"
   },
   {
    "duration": 14,
    "start_time": "2023-05-18T20:33:35.023Z"
   },
   {
    "duration": 20,
    "start_time": "2023-05-18T20:33:35.039Z"
   },
   {
    "duration": 61,
    "start_time": "2023-05-18T20:33:35.061Z"
   },
   {
    "duration": 15,
    "start_time": "2023-05-18T20:33:35.126Z"
   },
   {
    "duration": 23,
    "start_time": "2023-05-18T20:33:35.143Z"
   },
   {
    "duration": 43,
    "start_time": "2023-05-18T20:33:35.168Z"
   },
   {
    "duration": 33,
    "start_time": "2023-05-18T20:33:35.214Z"
   },
   {
    "duration": 32,
    "start_time": "2023-05-18T20:33:35.250Z"
   },
   {
    "duration": 44,
    "start_time": "2023-05-18T20:33:35.285Z"
   },
   {
    "duration": 120,
    "start_time": "2023-05-18T20:33:35.331Z"
   },
   {
    "duration": 0,
    "start_time": "2023-05-18T20:33:35.453Z"
   },
   {
    "duration": 0,
    "start_time": "2023-05-18T20:33:35.455Z"
   },
   {
    "duration": 31,
    "start_time": "2023-05-18T20:33:45.999Z"
   },
   {
    "duration": 44,
    "start_time": "2023-05-18T20:34:12.198Z"
   },
   {
    "duration": 63,
    "start_time": "2023-05-18T20:34:16.324Z"
   },
   {
    "duration": 42,
    "start_time": "2023-05-18T20:34:29.906Z"
   },
   {
    "duration": 45,
    "start_time": "2023-05-18T20:34:35.300Z"
   },
   {
    "duration": 33,
    "start_time": "2023-05-18T20:34:43.721Z"
   },
   {
    "duration": 11,
    "start_time": "2023-05-18T20:34:44.605Z"
   },
   {
    "duration": 13,
    "start_time": "2023-05-18T20:36:11.151Z"
   },
   {
    "duration": 22,
    "start_time": "2023-05-18T20:36:14.989Z"
   },
   {
    "duration": 918,
    "start_time": "2023-05-18T20:36:24.534Z"
   },
   {
    "duration": 114,
    "start_time": "2023-05-18T20:36:25.455Z"
   },
   {
    "duration": 34,
    "start_time": "2023-05-18T20:36:25.580Z"
   },
   {
    "duration": 41,
    "start_time": "2023-05-18T20:36:25.618Z"
   },
   {
    "duration": 65,
    "start_time": "2023-05-18T20:36:25.663Z"
   },
   {
    "duration": 22,
    "start_time": "2023-05-18T20:36:25.730Z"
   },
   {
    "duration": 9,
    "start_time": "2023-05-18T20:36:25.754Z"
   },
   {
    "duration": 60,
    "start_time": "2023-05-18T20:36:25.765Z"
   },
   {
    "duration": 42,
    "start_time": "2023-05-18T20:36:25.827Z"
   },
   {
    "duration": 51,
    "start_time": "2023-05-18T20:36:25.884Z"
   },
   {
    "duration": 42,
    "start_time": "2023-05-18T20:36:25.939Z"
   },
   {
    "duration": 54,
    "start_time": "2023-05-18T20:36:25.991Z"
   },
   {
    "duration": 51,
    "start_time": "2023-05-18T20:36:26.047Z"
   },
   {
    "duration": 101,
    "start_time": "2023-05-18T20:36:26.106Z"
   },
   {
    "duration": 53,
    "start_time": "2023-05-18T20:36:26.209Z"
   },
   {
    "duration": 284,
    "start_time": "2023-05-18T20:36:26.265Z"
   },
   {
    "duration": 0,
    "start_time": "2023-05-18T20:36:26.552Z"
   },
   {
    "duration": 0,
    "start_time": "2023-05-18T20:36:26.554Z"
   },
   {
    "duration": 85,
    "start_time": "2023-05-18T20:36:35.826Z"
   },
   {
    "duration": 968,
    "start_time": "2023-05-18T20:36:45.400Z"
   },
   {
    "duration": 125,
    "start_time": "2023-05-18T20:36:46.370Z"
   },
   {
    "duration": 46,
    "start_time": "2023-05-18T20:36:46.498Z"
   },
   {
    "duration": 46,
    "start_time": "2023-05-18T20:36:46.547Z"
   },
   {
    "duration": 119,
    "start_time": "2023-05-18T20:36:46.596Z"
   },
   {
    "duration": 33,
    "start_time": "2023-05-18T20:36:46.721Z"
   },
   {
    "duration": 15,
    "start_time": "2023-05-18T20:36:46.760Z"
   },
   {
    "duration": 70,
    "start_time": "2023-05-18T20:36:46.777Z"
   },
   {
    "duration": 20,
    "start_time": "2023-05-18T20:36:46.850Z"
   },
   {
    "duration": 59,
    "start_time": "2023-05-18T20:36:46.882Z"
   },
   {
    "duration": 41,
    "start_time": "2023-05-18T20:36:46.944Z"
   },
   {
    "duration": 13,
    "start_time": "2023-05-18T20:36:46.988Z"
   },
   {
    "duration": 54,
    "start_time": "2023-05-18T20:36:47.003Z"
   },
   {
    "duration": 72,
    "start_time": "2023-05-18T20:36:47.061Z"
   },
   {
    "duration": 52,
    "start_time": "2023-05-18T20:36:47.135Z"
   },
   {
    "duration": 61,
    "start_time": "2023-05-18T20:36:47.197Z"
   },
   {
    "duration": 58,
    "start_time": "2023-05-18T20:36:47.261Z"
   },
   {
    "duration": 22,
    "start_time": "2023-05-18T20:36:47.322Z"
   },
   {
    "duration": 8,
    "start_time": "2023-05-18T20:37:19.997Z"
   },
   {
    "duration": 29,
    "start_time": "2023-05-18T20:37:21.103Z"
   },
   {
    "duration": 48,
    "start_time": "2023-05-18T20:37:29.397Z"
   },
   {
    "duration": 17,
    "start_time": "2023-05-18T20:38:10.851Z"
   },
   {
    "duration": 20,
    "start_time": "2023-05-18T20:38:35.036Z"
   },
   {
    "duration": 20,
    "start_time": "2023-05-18T20:39:07.839Z"
   },
   {
    "duration": 27,
    "start_time": "2023-05-18T20:39:16.836Z"
   },
   {
    "duration": 30,
    "start_time": "2023-05-18T20:41:32.141Z"
   },
   {
    "duration": 59,
    "start_time": "2023-05-18T20:41:43.943Z"
   },
   {
    "duration": 11,
    "start_time": "2023-05-18T20:43:07.844Z"
   },
   {
    "duration": 830,
    "start_time": "2023-05-18T20:43:54.445Z"
   },
   {
    "duration": 91,
    "start_time": "2023-05-18T20:43:55.277Z"
   },
   {
    "duration": 25,
    "start_time": "2023-05-18T20:43:55.371Z"
   },
   {
    "duration": 17,
    "start_time": "2023-05-18T20:43:55.399Z"
   },
   {
    "duration": 52,
    "start_time": "2023-05-18T20:43:55.420Z"
   },
   {
    "duration": 29,
    "start_time": "2023-05-18T20:43:55.476Z"
   },
   {
    "duration": 12,
    "start_time": "2023-05-18T20:43:55.507Z"
   },
   {
    "duration": 20,
    "start_time": "2023-05-18T20:43:55.522Z"
   },
   {
    "duration": 16,
    "start_time": "2023-05-18T20:43:55.544Z"
   },
   {
    "duration": 8,
    "start_time": "2023-05-18T20:43:55.562Z"
   },
   {
    "duration": 55,
    "start_time": "2023-05-18T20:43:55.572Z"
   },
   {
    "duration": 17,
    "start_time": "2023-05-18T20:43:55.629Z"
   },
   {
    "duration": 31,
    "start_time": "2023-05-18T20:43:55.650Z"
   },
   {
    "duration": 89,
    "start_time": "2023-05-18T20:43:55.685Z"
   },
   {
    "duration": 44,
    "start_time": "2023-05-18T20:43:55.778Z"
   },
   {
    "duration": 60,
    "start_time": "2023-05-18T20:43:55.834Z"
   },
   {
    "duration": 51,
    "start_time": "2023-05-18T20:43:55.900Z"
   },
   {
    "duration": 27,
    "start_time": "2023-05-18T20:43:55.954Z"
   },
   {
    "duration": 107,
    "start_time": "2023-05-18T20:43:55.984Z"
   },
   {
    "duration": 28,
    "start_time": "2023-05-18T20:43:56.103Z"
   },
   {
    "duration": 69,
    "start_time": "2023-05-18T20:43:56.134Z"
   },
   {
    "duration": 31,
    "start_time": "2023-05-18T20:46:03.704Z"
   },
   {
    "duration": 14,
    "start_time": "2023-05-18T20:55:04.204Z"
   },
   {
    "duration": 24,
    "start_time": "2023-05-18T20:55:34.683Z"
   },
   {
    "duration": 10,
    "start_time": "2023-05-18T20:55:42.738Z"
   },
   {
    "duration": 105,
    "start_time": "2023-05-18T20:56:06.999Z"
   },
   {
    "duration": 14,
    "start_time": "2023-05-18T20:57:51.398Z"
   },
   {
    "duration": 26,
    "start_time": "2023-05-18T20:58:16.087Z"
   },
   {
    "duration": 11,
    "start_time": "2023-05-18T20:58:23.236Z"
   },
   {
    "duration": 713,
    "start_time": "2023-05-18T20:59:10.837Z"
   },
   {
    "duration": 97,
    "start_time": "2023-05-18T20:59:11.552Z"
   },
   {
    "duration": 18,
    "start_time": "2023-05-18T20:59:11.651Z"
   },
   {
    "duration": 26,
    "start_time": "2023-05-18T20:59:11.677Z"
   },
   {
    "duration": 48,
    "start_time": "2023-05-18T20:59:11.705Z"
   },
   {
    "duration": 16,
    "start_time": "2023-05-18T20:59:11.754Z"
   },
   {
    "duration": 55,
    "start_time": "2023-05-18T20:59:11.778Z"
   },
   {
    "duration": 26,
    "start_time": "2023-05-18T20:59:11.835Z"
   },
   {
    "duration": 35,
    "start_time": "2023-05-18T20:59:11.864Z"
   },
   {
    "duration": 11,
    "start_time": "2023-05-18T20:59:11.905Z"
   },
   {
    "duration": 61,
    "start_time": "2023-05-18T20:59:11.919Z"
   },
   {
    "duration": 57,
    "start_time": "2023-05-18T20:59:11.992Z"
   },
   {
    "duration": 35,
    "start_time": "2023-05-18T20:59:12.051Z"
   },
   {
    "duration": 99,
    "start_time": "2023-05-18T20:59:12.088Z"
   },
   {
    "duration": 0,
    "start_time": "2023-05-18T20:59:12.188Z"
   },
   {
    "duration": 0,
    "start_time": "2023-05-18T20:59:12.189Z"
   },
   {
    "duration": 0,
    "start_time": "2023-05-18T20:59:12.191Z"
   },
   {
    "duration": 0,
    "start_time": "2023-05-18T20:59:12.192Z"
   },
   {
    "duration": 0,
    "start_time": "2023-05-18T20:59:12.193Z"
   },
   {
    "duration": 0,
    "start_time": "2023-05-18T20:59:12.194Z"
   },
   {
    "duration": 0,
    "start_time": "2023-05-18T20:59:12.195Z"
   },
   {
    "duration": 0,
    "start_time": "2023-05-18T20:59:12.196Z"
   },
   {
    "duration": 0,
    "start_time": "2023-05-18T20:59:12.197Z"
   },
   {
    "duration": 795,
    "start_time": "2023-05-18T20:59:25.495Z"
   },
   {
    "duration": 132,
    "start_time": "2023-05-18T20:59:26.292Z"
   },
   {
    "duration": 27,
    "start_time": "2023-05-18T20:59:26.427Z"
   },
   {
    "duration": 61,
    "start_time": "2023-05-18T20:59:26.457Z"
   },
   {
    "duration": 43,
    "start_time": "2023-05-18T20:59:26.520Z"
   },
   {
    "duration": 29,
    "start_time": "2023-05-18T20:59:26.565Z"
   },
   {
    "duration": 47,
    "start_time": "2023-05-18T20:59:26.597Z"
   },
   {
    "duration": 17,
    "start_time": "2023-05-18T20:59:26.646Z"
   },
   {
    "duration": 55,
    "start_time": "2023-05-18T20:59:26.666Z"
   },
   {
    "duration": 13,
    "start_time": "2023-05-18T20:59:26.723Z"
   },
   {
    "duration": 23,
    "start_time": "2023-05-18T20:59:26.738Z"
   },
   {
    "duration": 17,
    "start_time": "2023-05-18T20:59:26.763Z"
   },
   {
    "duration": 48,
    "start_time": "2023-05-18T20:59:26.781Z"
   },
   {
    "duration": 23,
    "start_time": "2023-05-18T20:59:26.833Z"
   },
   {
    "duration": 31,
    "start_time": "2023-05-18T20:59:26.859Z"
   },
   {
    "duration": 31,
    "start_time": "2023-05-18T20:59:26.894Z"
   },
   {
    "duration": 131,
    "start_time": "2023-05-18T20:59:26.927Z"
   },
   {
    "duration": 48,
    "start_time": "2023-05-18T20:59:27.060Z"
   },
   {
    "duration": 14,
    "start_time": "2023-05-18T20:59:27.113Z"
   },
   {
    "duration": 34,
    "start_time": "2023-05-18T20:59:27.129Z"
   },
   {
    "duration": 55,
    "start_time": "2023-05-18T20:59:27.165Z"
   },
   {
    "duration": 15,
    "start_time": "2023-05-18T20:59:27.222Z"
   },
   {
    "duration": 109,
    "start_time": "2023-05-18T20:59:27.239Z"
   },
   {
    "duration": 1685,
    "start_time": "2023-05-18T20:59:51.802Z"
   },
   {
    "duration": 26,
    "start_time": "2023-05-18T21:00:16.207Z"
   },
   {
    "duration": 39,
    "start_time": "2023-05-18T21:00:29.442Z"
   },
   {
    "duration": 738,
    "start_time": "2023-05-18T21:00:40.317Z"
   },
   {
    "duration": 97,
    "start_time": "2023-05-18T21:00:41.058Z"
   },
   {
    "duration": 34,
    "start_time": "2023-05-18T21:00:41.157Z"
   },
   {
    "duration": 32,
    "start_time": "2023-05-18T21:00:41.196Z"
   },
   {
    "duration": 36,
    "start_time": "2023-05-18T21:00:41.230Z"
   },
   {
    "duration": 33,
    "start_time": "2023-05-18T21:00:41.268Z"
   },
   {
    "duration": 13,
    "start_time": "2023-05-18T21:00:41.303Z"
   },
   {
    "duration": 15,
    "start_time": "2023-05-18T21:00:41.318Z"
   },
   {
    "duration": 9,
    "start_time": "2023-05-18T21:00:41.335Z"
   },
   {
    "duration": 11,
    "start_time": "2023-05-18T21:00:41.348Z"
   },
   {
    "duration": 56,
    "start_time": "2023-05-18T21:00:41.362Z"
   },
   {
    "duration": 15,
    "start_time": "2023-05-18T21:00:41.421Z"
   },
   {
    "duration": 23,
    "start_time": "2023-05-18T21:00:41.438Z"
   },
   {
    "duration": 20,
    "start_time": "2023-05-18T21:00:41.463Z"
   },
   {
    "duration": 34,
    "start_time": "2023-05-18T21:00:41.485Z"
   },
   {
    "duration": 23,
    "start_time": "2023-05-18T21:00:41.521Z"
   },
   {
    "duration": 79,
    "start_time": "2023-05-18T21:00:41.546Z"
   },
   {
    "duration": 39,
    "start_time": "2023-05-18T21:00:41.627Z"
   },
   {
    "duration": 64,
    "start_time": "2023-05-18T21:00:41.668Z"
   },
   {
    "duration": 31,
    "start_time": "2023-05-18T21:00:41.734Z"
   },
   {
    "duration": 29,
    "start_time": "2023-05-18T21:00:41.767Z"
   },
   {
    "duration": 48,
    "start_time": "2023-05-18T21:00:41.799Z"
   },
   {
    "duration": 19,
    "start_time": "2023-05-18T21:00:41.849Z"
   },
   {
    "duration": 40,
    "start_time": "2023-05-18T21:00:41.870Z"
   },
   {
    "duration": 87,
    "start_time": "2023-05-18T21:00:41.913Z"
   },
   {
    "duration": 35,
    "start_time": "2023-05-18T21:00:57.977Z"
   },
   {
    "duration": 18,
    "start_time": "2023-05-18T21:01:08.597Z"
   },
   {
    "duration": 19,
    "start_time": "2023-05-18T21:01:22.632Z"
   },
   {
    "duration": 798,
    "start_time": "2023-05-18T21:01:26.650Z"
   },
   {
    "duration": 99,
    "start_time": "2023-05-18T21:01:27.451Z"
   },
   {
    "duration": 17,
    "start_time": "2023-05-18T21:01:27.552Z"
   },
   {
    "duration": 22,
    "start_time": "2023-05-18T21:01:27.572Z"
   },
   {
    "duration": 50,
    "start_time": "2023-05-18T21:01:27.599Z"
   },
   {
    "duration": 24,
    "start_time": "2023-05-18T21:01:27.651Z"
   },
   {
    "duration": 46,
    "start_time": "2023-05-18T21:01:27.680Z"
   },
   {
    "duration": 21,
    "start_time": "2023-05-18T21:01:27.728Z"
   },
   {
    "duration": 67,
    "start_time": "2023-05-18T21:01:27.751Z"
   },
   {
    "duration": 21,
    "start_time": "2023-05-18T21:01:27.823Z"
   },
   {
    "duration": 41,
    "start_time": "2023-05-18T21:01:27.846Z"
   },
   {
    "duration": 102,
    "start_time": "2023-05-18T21:01:27.894Z"
   },
   {
    "duration": 60,
    "start_time": "2023-05-18T21:01:27.998Z"
   },
   {
    "duration": 25,
    "start_time": "2023-05-18T21:01:28.061Z"
   },
   {
    "duration": 41,
    "start_time": "2023-05-18T21:01:28.092Z"
   },
   {
    "duration": 26,
    "start_time": "2023-05-18T21:01:28.135Z"
   },
   {
    "duration": 27,
    "start_time": "2023-05-18T21:01:28.163Z"
   },
   {
    "duration": 43,
    "start_time": "2023-05-18T21:01:28.191Z"
   },
   {
    "duration": 62,
    "start_time": "2023-05-18T21:01:28.236Z"
   },
   {
    "duration": 37,
    "start_time": "2023-05-18T21:01:28.301Z"
   },
   {
    "duration": 6,
    "start_time": "2023-05-18T21:01:28.340Z"
   },
   {
    "duration": 39,
    "start_time": "2023-05-18T21:01:28.347Z"
   },
   {
    "duration": 25,
    "start_time": "2023-05-18T21:01:28.391Z"
   },
   {
    "duration": 13,
    "start_time": "2023-05-18T21:01:28.418Z"
   },
   {
    "duration": 95,
    "start_time": "2023-05-18T21:01:28.433Z"
   },
   {
    "duration": 3,
    "start_time": "2023-05-18T21:03:42.707Z"
   },
   {
    "duration": 37,
    "start_time": "2023-05-18T21:03:59.716Z"
   },
   {
    "duration": 825,
    "start_time": "2023-05-18T21:04:07.284Z"
   },
   {
    "duration": 91,
    "start_time": "2023-05-18T21:04:08.112Z"
   },
   {
    "duration": 18,
    "start_time": "2023-05-18T21:04:08.211Z"
   },
   {
    "duration": 11,
    "start_time": "2023-05-18T21:04:08.232Z"
   },
   {
    "duration": 69,
    "start_time": "2023-05-18T21:04:08.245Z"
   },
   {
    "duration": 23,
    "start_time": "2023-05-18T21:04:08.316Z"
   },
   {
    "duration": 24,
    "start_time": "2023-05-18T21:04:08.341Z"
   },
   {
    "duration": 23,
    "start_time": "2023-05-18T21:04:08.367Z"
   },
   {
    "duration": 37,
    "start_time": "2023-05-18T21:04:08.397Z"
   },
   {
    "duration": 8,
    "start_time": "2023-05-18T21:04:08.436Z"
   },
   {
    "duration": 17,
    "start_time": "2023-05-18T21:04:08.447Z"
   },
   {
    "duration": 15,
    "start_time": "2023-05-18T21:04:08.466Z"
   },
   {
    "duration": 68,
    "start_time": "2023-05-18T21:04:08.483Z"
   },
   {
    "duration": 44,
    "start_time": "2023-05-18T21:04:08.554Z"
   },
   {
    "duration": 20,
    "start_time": "2023-05-18T21:04:08.605Z"
   },
   {
    "duration": 32,
    "start_time": "2023-05-18T21:04:08.628Z"
   },
   {
    "duration": 69,
    "start_time": "2023-05-18T21:04:08.662Z"
   },
   {
    "duration": 58,
    "start_time": "2023-05-18T21:04:08.733Z"
   },
   {
    "duration": 45,
    "start_time": "2023-05-18T21:04:08.798Z"
   },
   {
    "duration": 6,
    "start_time": "2023-05-18T21:04:08.845Z"
   },
   {
    "duration": 30,
    "start_time": "2023-05-18T21:04:08.852Z"
   },
   {
    "duration": 28,
    "start_time": "2023-05-18T21:04:08.891Z"
   },
   {
    "duration": 7,
    "start_time": "2023-05-18T21:04:08.921Z"
   },
   {
    "duration": 101,
    "start_time": "2023-05-18T21:04:08.930Z"
   },
   {
    "duration": 2,
    "start_time": "2023-05-18T21:07:55.308Z"
   },
   {
    "duration": 1438,
    "start_time": "2023-05-19T07:50:03.691Z"
   },
   {
    "duration": 0,
    "start_time": "2023-05-19T07:50:05.131Z"
   },
   {
    "duration": 0,
    "start_time": "2023-05-19T07:50:05.133Z"
   },
   {
    "duration": 0,
    "start_time": "2023-05-19T07:50:05.134Z"
   },
   {
    "duration": 0,
    "start_time": "2023-05-19T07:50:05.135Z"
   },
   {
    "duration": 0,
    "start_time": "2023-05-19T07:50:05.136Z"
   },
   {
    "duration": 0,
    "start_time": "2023-05-19T07:50:05.137Z"
   },
   {
    "duration": 0,
    "start_time": "2023-05-19T07:50:05.139Z"
   },
   {
    "duration": 0,
    "start_time": "2023-05-19T07:50:05.140Z"
   },
   {
    "duration": 0,
    "start_time": "2023-05-19T07:50:05.141Z"
   },
   {
    "duration": 0,
    "start_time": "2023-05-19T07:50:05.142Z"
   },
   {
    "duration": 0,
    "start_time": "2023-05-19T07:50:05.143Z"
   },
   {
    "duration": 0,
    "start_time": "2023-05-19T07:50:05.145Z"
   },
   {
    "duration": 0,
    "start_time": "2023-05-19T07:50:05.146Z"
   },
   {
    "duration": 0,
    "start_time": "2023-05-19T07:50:05.147Z"
   },
   {
    "duration": 0,
    "start_time": "2023-05-19T07:50:05.148Z"
   },
   {
    "duration": 0,
    "start_time": "2023-05-19T07:50:05.149Z"
   },
   {
    "duration": 0,
    "start_time": "2023-05-19T07:50:05.150Z"
   },
   {
    "duration": 0,
    "start_time": "2023-05-19T07:50:05.150Z"
   },
   {
    "duration": 0,
    "start_time": "2023-05-19T07:50:05.151Z"
   },
   {
    "duration": 0,
    "start_time": "2023-05-19T07:50:05.152Z"
   },
   {
    "duration": 0,
    "start_time": "2023-05-19T07:50:05.154Z"
   },
   {
    "duration": 0,
    "start_time": "2023-05-19T07:50:05.154Z"
   },
   {
    "duration": 0,
    "start_time": "2023-05-19T07:50:05.155Z"
   },
   {
    "duration": 3701,
    "start_time": "2023-05-19T07:50:23.186Z"
   },
   {
    "duration": 13,
    "start_time": "2023-05-19T07:50:26.889Z"
   },
   {
    "duration": 1876,
    "start_time": "2023-05-19T20:08:58.645Z"
   },
   {
    "duration": 0,
    "start_time": "2023-05-19T20:09:00.523Z"
   },
   {
    "duration": 4,
    "start_time": "2023-05-19T20:09:08.512Z"
   },
   {
    "duration": 156,
    "start_time": "2023-05-19T20:09:08.823Z"
   },
   {
    "duration": 10,
    "start_time": "2023-05-19T20:09:09.221Z"
   },
   {
    "duration": 4,
    "start_time": "2023-05-19T20:09:17.426Z"
   },
   {
    "duration": 3,
    "start_time": "2023-05-19T20:09:21.427Z"
   },
   {
    "duration": 18,
    "start_time": "2023-05-19T20:09:29.067Z"
   },
   {
    "duration": 8,
    "start_time": "2023-05-19T20:10:10.593Z"
   },
   {
    "duration": 16,
    "start_time": "2023-05-19T20:11:46.296Z"
   },
   {
    "duration": 1441,
    "start_time": "2023-05-23T09:42:24.149Z"
   },
   {
    "duration": 109,
    "start_time": "2023-05-23T09:42:25.593Z"
   },
   {
    "duration": 14,
    "start_time": "2023-05-23T09:42:25.704Z"
   },
   {
    "duration": 36,
    "start_time": "2023-05-23T09:42:25.720Z"
   },
   {
    "duration": 18,
    "start_time": "2023-05-23T09:42:25.758Z"
   },
   {
    "duration": 43,
    "start_time": "2023-05-23T09:42:25.778Z"
   },
   {
    "duration": 2,
    "start_time": "2023-05-23T09:42:25.823Z"
   },
   {
    "duration": 16,
    "start_time": "2023-05-23T09:42:25.827Z"
   },
   {
    "duration": 11,
    "start_time": "2023-05-23T09:42:25.844Z"
   },
   {
    "duration": 5,
    "start_time": "2023-05-23T09:42:25.858Z"
   },
   {
    "duration": 21,
    "start_time": "2023-05-23T09:42:25.865Z"
   },
   {
    "duration": 8,
    "start_time": "2023-05-23T09:42:25.888Z"
   },
   {
    "duration": 8,
    "start_time": "2023-05-23T09:42:25.898Z"
   },
   {
    "duration": 6,
    "start_time": "2023-05-23T09:42:25.908Z"
   },
   {
    "duration": 10,
    "start_time": "2023-05-23T09:42:25.916Z"
   },
   {
    "duration": 7,
    "start_time": "2023-05-23T09:42:25.928Z"
   },
   {
    "duration": 5,
    "start_time": "2023-05-23T09:42:25.937Z"
   },
   {
    "duration": 5,
    "start_time": "2023-05-23T09:42:25.945Z"
   },
   {
    "duration": 6,
    "start_time": "2023-05-23T09:42:25.952Z"
   },
   {
    "duration": 13,
    "start_time": "2023-05-23T09:42:25.959Z"
   },
   {
    "duration": 15,
    "start_time": "2023-05-23T09:42:25.973Z"
   },
   {
    "duration": 17,
    "start_time": "2023-05-23T09:42:25.990Z"
   },
   {
    "duration": 12,
    "start_time": "2023-05-23T09:42:26.009Z"
   },
   {
    "duration": 10,
    "start_time": "2023-05-23T09:42:26.023Z"
   },
   {
    "duration": 6,
    "start_time": "2023-05-23T09:42:26.035Z"
   },
   {
    "duration": 22,
    "start_time": "2023-05-23T09:46:11.484Z"
   },
   {
    "duration": 6,
    "start_time": "2023-05-23T09:46:18.300Z"
   },
   {
    "duration": 20,
    "start_time": "2023-05-23T09:46:23.379Z"
   },
   {
    "duration": 6,
    "start_time": "2023-05-23T09:46:44.177Z"
   },
   {
    "duration": 37,
    "start_time": "2023-05-23T09:47:31.858Z"
   },
   {
    "duration": 8,
    "start_time": "2023-05-23T09:48:17.958Z"
   },
   {
    "duration": 6,
    "start_time": "2023-05-23T09:48:19.090Z"
   },
   {
    "duration": 5,
    "start_time": "2023-05-23T09:48:47.059Z"
   },
   {
    "duration": 15,
    "start_time": "2023-05-23T09:49:05.444Z"
   },
   {
    "duration": 10,
    "start_time": "2023-05-23T09:49:33.868Z"
   },
   {
    "duration": 4,
    "start_time": "2023-05-23T09:49:45.404Z"
   },
   {
    "duration": 22,
    "start_time": "2023-05-23T09:50:13.993Z"
   },
   {
    "duration": 17,
    "start_time": "2023-05-23T09:50:38.565Z"
   },
   {
    "duration": 39,
    "start_time": "2023-05-23T09:50:51.547Z"
   },
   {
    "duration": 47,
    "start_time": "2023-05-23T09:51:02.901Z"
   },
   {
    "duration": 7,
    "start_time": "2023-05-23T09:51:21.407Z"
   },
   {
    "duration": 23,
    "start_time": "2023-05-23T09:51:45.464Z"
   },
   {
    "duration": 17,
    "start_time": "2023-05-23T09:51:58.006Z"
   },
   {
    "duration": 25,
    "start_time": "2023-05-23T09:52:40.583Z"
   },
   {
    "duration": 129,
    "start_time": "2023-05-23T09:52:47.625Z"
   },
   {
    "duration": 1463,
    "start_time": "2023-05-23T09:53:03.294Z"
   },
   {
    "duration": 101,
    "start_time": "2023-05-23T09:53:04.760Z"
   },
   {
    "duration": 23,
    "start_time": "2023-05-23T09:53:04.863Z"
   },
   {
    "duration": 94,
    "start_time": "2023-05-23T09:53:04.889Z"
   },
   {
    "duration": 35,
    "start_time": "2023-05-23T09:53:04.985Z"
   },
   {
    "duration": 88,
    "start_time": "2023-05-23T09:53:05.022Z"
   },
   {
    "duration": 26,
    "start_time": "2023-05-23T09:53:05.112Z"
   },
   {
    "duration": 53,
    "start_time": "2023-05-23T09:53:05.142Z"
   },
   {
    "duration": 96,
    "start_time": "2023-05-23T09:53:05.197Z"
   },
   {
    "duration": 11,
    "start_time": "2023-05-23T09:53:05.295Z"
   },
   {
    "duration": 45,
    "start_time": "2023-05-23T09:53:05.309Z"
   },
   {
    "duration": 28,
    "start_time": "2023-05-23T09:53:05.356Z"
   },
   {
    "duration": 32,
    "start_time": "2023-05-23T09:53:05.386Z"
   },
   {
    "duration": 43,
    "start_time": "2023-05-23T09:53:05.420Z"
   },
   {
    "duration": 22,
    "start_time": "2023-05-23T09:53:05.465Z"
   },
   {
    "duration": 59,
    "start_time": "2023-05-23T09:53:05.489Z"
   },
   {
    "duration": 43,
    "start_time": "2023-05-23T09:53:05.550Z"
   },
   {
    "duration": 59,
    "start_time": "2023-05-23T09:53:05.595Z"
   },
   {
    "duration": 62,
    "start_time": "2023-05-23T09:53:05.656Z"
   },
   {
    "duration": 11,
    "start_time": "2023-05-23T09:53:05.720Z"
   },
   {
    "duration": 61,
    "start_time": "2023-05-23T09:53:05.735Z"
   },
   {
    "duration": 20,
    "start_time": "2023-05-23T09:53:05.798Z"
   },
   {
    "duration": 47,
    "start_time": "2023-05-23T09:53:05.819Z"
   },
   {
    "duration": 176,
    "start_time": "2023-05-23T09:53:31.794Z"
   },
   {
    "duration": 1670,
    "start_time": "2023-05-23T09:53:36.159Z"
   },
   {
    "duration": 143,
    "start_time": "2023-05-23T09:53:37.832Z"
   },
   {
    "duration": 23,
    "start_time": "2023-05-23T09:53:38.028Z"
   },
   {
    "duration": 91,
    "start_time": "2023-05-23T09:53:38.054Z"
   },
   {
    "duration": 81,
    "start_time": "2023-05-23T09:53:38.148Z"
   },
   {
    "duration": 96,
    "start_time": "2023-05-23T09:53:38.231Z"
   },
   {
    "duration": 31,
    "start_time": "2023-05-23T09:53:38.329Z"
   },
   {
    "duration": 66,
    "start_time": "2023-05-23T09:53:38.362Z"
   },
   {
    "duration": 36,
    "start_time": "2023-05-23T09:53:38.429Z"
   },
   {
    "duration": 17,
    "start_time": "2023-05-23T09:53:38.467Z"
   },
   {
    "duration": 43,
    "start_time": "2023-05-23T09:53:38.486Z"
   },
   {
    "duration": 53,
    "start_time": "2023-05-23T09:53:38.532Z"
   },
   {
    "duration": 64,
    "start_time": "2023-05-23T09:53:38.587Z"
   },
   {
    "duration": 28,
    "start_time": "2023-05-23T09:53:38.654Z"
   },
   {
    "duration": 52,
    "start_time": "2023-05-23T09:53:38.684Z"
   },
   {
    "duration": 95,
    "start_time": "2023-05-23T09:53:38.738Z"
   },
   {
    "duration": 93,
    "start_time": "2023-05-23T09:53:38.837Z"
   },
   {
    "duration": 104,
    "start_time": "2023-05-23T09:53:38.932Z"
   },
   {
    "duration": 37,
    "start_time": "2023-05-23T09:53:39.039Z"
   },
   {
    "duration": 55,
    "start_time": "2023-05-23T09:53:39.077Z"
   },
   {
    "duration": 74,
    "start_time": "2023-05-23T09:53:39.134Z"
   },
   {
    "duration": 28,
    "start_time": "2023-05-23T09:53:39.210Z"
   },
   {
    "duration": 56,
    "start_time": "2023-05-23T09:53:39.240Z"
   },
   {
    "duration": 9,
    "start_time": "2023-05-23T09:53:53.340Z"
   },
   {
    "duration": 6,
    "start_time": "2023-05-23T09:54:04.893Z"
   },
   {
    "duration": 17,
    "start_time": "2023-05-23T09:54:24.530Z"
   },
   {
    "duration": 30,
    "start_time": "2023-05-23T09:54:38.658Z"
   },
   {
    "duration": 10,
    "start_time": "2023-05-23T09:54:52.066Z"
   },
   {
    "duration": 9,
    "start_time": "2023-05-23T09:55:07.256Z"
   },
   {
    "duration": 8,
    "start_time": "2023-05-23T09:55:28.208Z"
   },
   {
    "duration": 14,
    "start_time": "2023-05-23T09:55:28.346Z"
   },
   {
    "duration": 7,
    "start_time": "2023-05-23T09:55:52.612Z"
   },
   {
    "duration": 7,
    "start_time": "2023-05-23T09:56:00.761Z"
   },
   {
    "duration": 19,
    "start_time": "2023-05-23T09:56:10.937Z"
   },
   {
    "duration": 24,
    "start_time": "2023-05-23T09:56:37.951Z"
   },
   {
    "duration": 30,
    "start_time": "2023-05-23T09:57:07.771Z"
   },
   {
    "duration": 19,
    "start_time": "2023-05-23T09:58:43.452Z"
   },
   {
    "duration": 313,
    "start_time": "2023-05-23T09:58:57.954Z"
   },
   {
    "duration": 27,
    "start_time": "2023-05-23T09:59:28.867Z"
   },
   {
    "duration": 308,
    "start_time": "2023-05-23T09:59:34.943Z"
   },
   {
    "duration": 56,
    "start_time": "2023-05-23T10:01:09.447Z"
   },
   {
    "duration": 86,
    "start_time": "2023-05-23T10:01:13.890Z"
   },
   {
    "duration": 20,
    "start_time": "2023-05-23T10:01:18.824Z"
   },
   {
    "duration": 82,
    "start_time": "2023-05-23T10:01:28.164Z"
   },
   {
    "duration": 11,
    "start_time": "2023-05-23T10:13:05.736Z"
   },
   {
    "duration": 86,
    "start_time": "2023-05-23T10:14:36.848Z"
   },
   {
    "duration": 84,
    "start_time": "2023-05-23T10:15:26.484Z"
   },
   {
    "duration": 8,
    "start_time": "2023-05-23T10:15:35.184Z"
   },
   {
    "duration": 65,
    "start_time": "2023-05-23T10:15:35.746Z"
   },
   {
    "duration": 1454,
    "start_time": "2023-05-23T10:15:44.018Z"
   },
   {
    "duration": 74,
    "start_time": "2023-05-23T10:15:45.474Z"
   },
   {
    "duration": 18,
    "start_time": "2023-05-23T10:15:45.549Z"
   },
   {
    "duration": 22,
    "start_time": "2023-05-23T10:15:45.570Z"
   },
   {
    "duration": 48,
    "start_time": "2023-05-23T10:15:45.594Z"
   },
   {
    "duration": 72,
    "start_time": "2023-05-23T10:15:45.645Z"
   },
   {
    "duration": 21,
    "start_time": "2023-05-23T10:15:45.719Z"
   },
   {
    "duration": 33,
    "start_time": "2023-05-23T10:15:45.744Z"
   },
   {
    "duration": 52,
    "start_time": "2023-05-23T10:15:45.778Z"
   },
   {
    "duration": 28,
    "start_time": "2023-05-23T10:15:45.832Z"
   },
   {
    "duration": 24,
    "start_time": "2023-05-23T10:15:45.862Z"
   },
   {
    "duration": 27,
    "start_time": "2023-05-23T10:15:45.888Z"
   },
   {
    "duration": 49,
    "start_time": "2023-05-23T10:15:45.917Z"
   },
   {
    "duration": 48,
    "start_time": "2023-05-23T10:15:45.969Z"
   },
   {
    "duration": 36,
    "start_time": "2023-05-23T10:15:46.019Z"
   },
   {
    "duration": 47,
    "start_time": "2023-05-23T10:15:46.057Z"
   },
   {
    "duration": 59,
    "start_time": "2023-05-23T10:15:46.106Z"
   },
   {
    "duration": 66,
    "start_time": "2023-05-23T10:15:46.167Z"
   },
   {
    "duration": 42,
    "start_time": "2023-05-23T10:15:46.235Z"
   },
   {
    "duration": 6,
    "start_time": "2023-05-23T10:15:46.279Z"
   },
   {
    "duration": 46,
    "start_time": "2023-05-23T10:15:46.286Z"
   },
   {
    "duration": 46,
    "start_time": "2023-05-23T10:15:46.333Z"
   },
   {
    "duration": 35,
    "start_time": "2023-05-23T10:15:46.381Z"
   },
   {
    "duration": 31,
    "start_time": "2023-05-23T10:15:46.417Z"
   },
   {
    "duration": 24,
    "start_time": "2023-05-23T10:15:46.450Z"
   },
   {
    "duration": 20,
    "start_time": "2023-05-23T10:15:46.476Z"
   },
   {
    "duration": 85,
    "start_time": "2023-05-23T10:15:46.498Z"
   },
   {
    "duration": 18,
    "start_time": "2023-05-23T10:15:46.587Z"
   },
   {
    "duration": 48,
    "start_time": "2023-05-23T10:15:46.607Z"
   },
   {
    "duration": 6,
    "start_time": "2023-05-23T10:15:46.656Z"
   },
   {
    "duration": 17,
    "start_time": "2023-05-23T10:15:46.664Z"
   },
   {
    "duration": 9,
    "start_time": "2023-05-23T10:15:46.683Z"
   },
   {
    "duration": 28,
    "start_time": "2023-05-23T10:15:46.694Z"
   },
   {
    "duration": 57,
    "start_time": "2023-05-23T10:15:46.724Z"
   },
   {
    "duration": 36,
    "start_time": "2023-05-23T10:15:46.783Z"
   },
   {
    "duration": 33,
    "start_time": "2023-05-23T10:15:46.821Z"
   },
   {
    "duration": 312,
    "start_time": "2023-05-23T10:15:46.857Z"
   },
   {
    "duration": 92,
    "start_time": "2023-05-23T10:15:47.171Z"
   },
   {
    "duration": 8,
    "start_time": "2023-05-23T10:15:47.265Z"
   },
   {
    "duration": 199,
    "start_time": "2023-05-23T10:15:47.275Z"
   },
   {
    "duration": 93,
    "start_time": "2023-05-23T10:17:22.754Z"
   },
   {
    "duration": 18,
    "start_time": "2023-05-23T10:18:42.723Z"
   },
   {
    "duration": 129,
    "start_time": "2023-05-23T10:19:20.920Z"
   },
   {
    "duration": 28,
    "start_time": "2023-05-23T10:20:07.779Z"
   },
   {
    "duration": 26,
    "start_time": "2023-05-23T10:24:05.865Z"
   },
   {
    "duration": 8,
    "start_time": "2023-05-23T10:30:51.107Z"
   },
   {
    "duration": 12,
    "start_time": "2023-05-23T10:31:22.353Z"
   },
   {
    "duration": 176,
    "start_time": "2023-05-23T10:31:32.803Z"
   },
   {
    "duration": 1407,
    "start_time": "2023-05-23T10:31:51.814Z"
   },
   {
    "duration": 96,
    "start_time": "2023-05-23T10:31:53.226Z"
   },
   {
    "duration": 19,
    "start_time": "2023-05-23T10:31:53.324Z"
   },
   {
    "duration": 32,
    "start_time": "2023-05-23T10:31:53.346Z"
   },
   {
    "duration": 41,
    "start_time": "2023-05-23T10:31:53.380Z"
   },
   {
    "duration": 59,
    "start_time": "2023-05-23T10:31:53.423Z"
   },
   {
    "duration": 25,
    "start_time": "2023-05-23T10:31:53.484Z"
   },
   {
    "duration": 45,
    "start_time": "2023-05-23T10:31:53.511Z"
   },
   {
    "duration": 42,
    "start_time": "2023-05-23T10:31:53.558Z"
   },
   {
    "duration": 20,
    "start_time": "2023-05-23T10:31:53.603Z"
   },
   {
    "duration": 32,
    "start_time": "2023-05-23T10:31:53.628Z"
   },
   {
    "duration": 31,
    "start_time": "2023-05-23T10:31:53.663Z"
   },
   {
    "duration": 104,
    "start_time": "2023-05-23T10:31:53.697Z"
   },
   {
    "duration": 43,
    "start_time": "2023-05-23T10:31:53.803Z"
   },
   {
    "duration": 40,
    "start_time": "2023-05-23T10:31:53.847Z"
   },
   {
    "duration": 36,
    "start_time": "2023-05-23T10:31:53.889Z"
   },
   {
    "duration": 60,
    "start_time": "2023-05-23T10:31:53.930Z"
   },
   {
    "duration": 49,
    "start_time": "2023-05-23T10:31:53.992Z"
   },
   {
    "duration": 49,
    "start_time": "2023-05-23T10:31:54.043Z"
   },
   {
    "duration": 25,
    "start_time": "2023-05-23T10:31:54.094Z"
   },
   {
    "duration": 47,
    "start_time": "2023-05-23T10:31:54.121Z"
   },
   {
    "duration": 24,
    "start_time": "2023-05-23T10:31:54.170Z"
   },
   {
    "duration": 60,
    "start_time": "2023-05-23T10:31:54.196Z"
   },
   {
    "duration": 50,
    "start_time": "2023-05-23T10:31:54.258Z"
   },
   {
    "duration": 48,
    "start_time": "2023-05-23T10:31:54.310Z"
   },
   {
    "duration": 47,
    "start_time": "2023-05-23T10:31:54.359Z"
   },
   {
    "duration": 56,
    "start_time": "2023-05-23T10:31:54.408Z"
   },
   {
    "duration": 43,
    "start_time": "2023-05-23T10:31:54.467Z"
   },
   {
    "duration": 66,
    "start_time": "2023-05-23T10:31:54.512Z"
   },
   {
    "duration": 48,
    "start_time": "2023-05-23T10:31:54.580Z"
   },
   {
    "duration": 56,
    "start_time": "2023-05-23T10:31:54.629Z"
   },
   {
    "duration": 82,
    "start_time": "2023-05-23T10:31:54.687Z"
   },
   {
    "duration": 62,
    "start_time": "2023-05-23T10:31:54.771Z"
   },
   {
    "duration": 60,
    "start_time": "2023-05-23T10:31:54.838Z"
   },
   {
    "duration": 53,
    "start_time": "2023-05-23T10:31:54.901Z"
   },
   {
    "duration": 61,
    "start_time": "2023-05-23T10:31:54.956Z"
   },
   {
    "duration": 277,
    "start_time": "2023-05-23T10:31:55.018Z"
   },
   {
    "duration": 105,
    "start_time": "2023-05-23T10:31:55.298Z"
   },
   {
    "duration": 6,
    "start_time": "2023-05-23T10:31:55.405Z"
   },
   {
    "duration": 211,
    "start_time": "2023-05-23T10:31:55.429Z"
   },
   {
    "duration": 10,
    "start_time": "2023-05-23T10:31:55.642Z"
   },
   {
    "duration": 95,
    "start_time": "2023-05-23T10:31:55.654Z"
   },
   {
    "duration": 18,
    "start_time": "2023-05-23T10:31:55.751Z"
   },
   {
    "duration": 29,
    "start_time": "2023-05-23T10:31:55.770Z"
   },
   {
    "duration": 116,
    "start_time": "2023-05-23T10:31:55.801Z"
   },
   {
    "duration": 70,
    "start_time": "2023-05-23T10:32:33.222Z"
   },
   {
    "duration": 69,
    "start_time": "2023-05-23T10:33:57.885Z"
   },
   {
    "duration": 7,
    "start_time": "2023-05-23T10:34:08.404Z"
   },
   {
    "duration": 56,
    "start_time": "2023-05-23T10:34:26.142Z"
   },
   {
    "duration": 54,
    "start_time": "2023-05-23T10:34:30.458Z"
   },
   {
    "duration": 6,
    "start_time": "2023-05-23T10:35:35.191Z"
   },
   {
    "duration": 55,
    "start_time": "2023-05-23T10:35:55.638Z"
   },
   {
    "duration": 5,
    "start_time": "2023-05-23T10:36:01.540Z"
   },
   {
    "duration": 171,
    "start_time": "2023-05-23T10:36:11.765Z"
   },
   {
    "duration": 61,
    "start_time": "2023-05-23T10:36:20.790Z"
   },
   {
    "duration": 9,
    "start_time": "2023-05-23T10:36:26.332Z"
   },
   {
    "duration": 63,
    "start_time": "2023-05-23T10:36:45.493Z"
   },
   {
    "duration": 4,
    "start_time": "2023-05-23T10:36:55.653Z"
   },
   {
    "duration": 56,
    "start_time": "2023-05-23T10:37:03.539Z"
   },
   {
    "duration": 4,
    "start_time": "2023-05-23T10:37:09.078Z"
   },
   {
    "duration": 295,
    "start_time": "2023-05-23T10:37:20.519Z"
   },
   {
    "duration": 3,
    "start_time": "2023-05-23T10:37:29.981Z"
   },
   {
    "duration": 66,
    "start_time": "2023-05-23T10:37:34.768Z"
   },
   {
    "duration": 4,
    "start_time": "2023-05-23T10:37:44.243Z"
   },
   {
    "duration": 85,
    "start_time": "2023-05-23T10:37:44.511Z"
   },
   {
    "duration": 70,
    "start_time": "2023-05-23T10:37:57.497Z"
   },
   {
    "duration": 6,
    "start_time": "2023-05-23T10:38:01.870Z"
   },
   {
    "duration": 57,
    "start_time": "2023-05-23T10:38:18.053Z"
   },
   {
    "duration": 15,
    "start_time": "2023-05-23T10:38:22.522Z"
   },
   {
    "duration": 59,
    "start_time": "2023-05-23T10:38:41.890Z"
   },
   {
    "duration": 5,
    "start_time": "2023-05-23T10:38:46.939Z"
   },
   {
    "duration": 66,
    "start_time": "2023-05-23T10:39:06.052Z"
   },
   {
    "duration": 4,
    "start_time": "2023-05-23T10:39:11.851Z"
   },
   {
    "duration": 57,
    "start_time": "2023-05-23T10:39:32.907Z"
   },
   {
    "duration": 5,
    "start_time": "2023-05-23T10:39:33.104Z"
   },
   {
    "duration": 21,
    "start_time": "2023-05-23T10:39:48.220Z"
   },
   {
    "duration": 7,
    "start_time": "2023-05-23T10:41:35.640Z"
   },
   {
    "duration": 31,
    "start_time": "2023-05-23T10:41:46.714Z"
   },
   {
    "duration": 30,
    "start_time": "2023-05-23T10:42:02.002Z"
   },
   {
    "duration": 36,
    "start_time": "2023-05-23T10:42:15.071Z"
   },
   {
    "duration": 24,
    "start_time": "2023-05-23T10:42:29.158Z"
   },
   {
    "duration": 22,
    "start_time": "2023-05-23T10:44:07.701Z"
   },
   {
    "duration": 22,
    "start_time": "2023-05-23T10:44:33.662Z"
   },
   {
    "duration": 26,
    "start_time": "2023-05-23T10:44:34.048Z"
   },
   {
    "duration": 29,
    "start_time": "2023-05-23T10:44:34.352Z"
   },
   {
    "duration": 21,
    "start_time": "2023-05-23T10:44:49.882Z"
   },
   {
    "duration": 32,
    "start_time": "2023-05-23T10:45:23.468Z"
   },
   {
    "duration": 28,
    "start_time": "2023-05-23T10:45:23.771Z"
   },
   {
    "duration": 25,
    "start_time": "2023-05-23T10:45:24.238Z"
   },
   {
    "duration": 12,
    "start_time": "2023-05-23T10:46:21.140Z"
   },
   {
    "duration": 378,
    "start_time": "2023-05-23T10:46:21.280Z"
   },
   {
    "duration": 4,
    "start_time": "2023-05-23T10:46:21.664Z"
   },
   {
    "duration": 4,
    "start_time": "2023-05-23T10:46:21.756Z"
   },
   {
    "duration": 6,
    "start_time": "2023-05-23T10:46:22.073Z"
   },
   {
    "duration": 7,
    "start_time": "2023-05-23T10:46:22.239Z"
   },
   {
    "duration": 6,
    "start_time": "2023-05-23T10:46:29.138Z"
   },
   {
    "duration": 9,
    "start_time": "2023-05-23T10:46:54.690Z"
   },
   {
    "duration": 372,
    "start_time": "2023-05-23T10:46:54.971Z"
   },
   {
    "duration": 5,
    "start_time": "2023-05-23T10:47:29.149Z"
   },
   {
    "duration": 5,
    "start_time": "2023-05-23T10:47:29.307Z"
   },
   {
    "duration": 7,
    "start_time": "2023-05-23T10:47:29.703Z"
   },
   {
    "duration": 6,
    "start_time": "2023-05-23T10:47:29.941Z"
   },
   {
    "duration": 6,
    "start_time": "2023-05-23T10:47:42.756Z"
   },
   {
    "duration": 1396,
    "start_time": "2023-05-23T10:48:23.593Z"
   },
   {
    "duration": 108,
    "start_time": "2023-05-23T10:48:24.992Z"
   },
   {
    "duration": 37,
    "start_time": "2023-05-23T10:48:25.103Z"
   },
   {
    "duration": 30,
    "start_time": "2023-05-23T10:48:25.143Z"
   },
   {
    "duration": 39,
    "start_time": "2023-05-23T10:48:25.175Z"
   },
   {
    "duration": 40,
    "start_time": "2023-05-23T10:48:25.216Z"
   },
   {
    "duration": 21,
    "start_time": "2023-05-23T10:48:25.258Z"
   },
   {
    "duration": 60,
    "start_time": "2023-05-23T10:48:25.281Z"
   },
   {
    "duration": 50,
    "start_time": "2023-05-23T10:48:25.343Z"
   },
   {
    "duration": 77,
    "start_time": "2023-05-23T10:48:25.397Z"
   },
   {
    "duration": 19,
    "start_time": "2023-05-23T10:48:25.477Z"
   },
   {
    "duration": 6,
    "start_time": "2023-05-23T10:48:25.497Z"
   },
   {
    "duration": 27,
    "start_time": "2023-05-23T10:48:25.505Z"
   },
   {
    "duration": 42,
    "start_time": "2023-05-23T10:48:25.534Z"
   },
   {
    "duration": 4,
    "start_time": "2023-05-23T10:48:25.578Z"
   },
   {
    "duration": 55,
    "start_time": "2023-05-23T10:48:25.584Z"
   },
   {
    "duration": 19,
    "start_time": "2023-05-23T10:48:25.640Z"
   },
   {
    "duration": 43,
    "start_time": "2023-05-23T10:48:25.660Z"
   },
   {
    "duration": 35,
    "start_time": "2023-05-23T10:48:25.705Z"
   },
   {
    "duration": 10,
    "start_time": "2023-05-23T10:48:25.742Z"
   },
   {
    "duration": 40,
    "start_time": "2023-05-23T10:48:25.754Z"
   },
   {
    "duration": 17,
    "start_time": "2023-05-23T10:48:25.797Z"
   },
   {
    "duration": 35,
    "start_time": "2023-05-23T10:48:25.826Z"
   },
   {
    "duration": 12,
    "start_time": "2023-05-23T10:48:25.863Z"
   },
   {
    "duration": 37,
    "start_time": "2023-05-23T10:48:25.877Z"
   },
   {
    "duration": 32,
    "start_time": "2023-05-23T10:48:25.916Z"
   },
   {
    "duration": 32,
    "start_time": "2023-05-23T10:48:25.950Z"
   },
   {
    "duration": 8,
    "start_time": "2023-05-23T10:48:25.987Z"
   },
   {
    "duration": 27,
    "start_time": "2023-05-23T10:48:25.997Z"
   },
   {
    "duration": 35,
    "start_time": "2023-05-23T10:48:26.026Z"
   },
   {
    "duration": 56,
    "start_time": "2023-05-23T10:48:26.063Z"
   },
   {
    "duration": 36,
    "start_time": "2023-05-23T10:48:26.120Z"
   },
   {
    "duration": 44,
    "start_time": "2023-05-23T10:48:26.157Z"
   },
   {
    "duration": 35,
    "start_time": "2023-05-23T10:48:26.203Z"
   },
   {
    "duration": 36,
    "start_time": "2023-05-23T10:48:26.240Z"
   },
   {
    "duration": 19,
    "start_time": "2023-05-23T10:48:26.278Z"
   },
   {
    "duration": 305,
    "start_time": "2023-05-23T10:48:26.298Z"
   },
   {
    "duration": 106,
    "start_time": "2023-05-23T10:48:26.606Z"
   },
   {
    "duration": 23,
    "start_time": "2023-05-23T10:48:26.714Z"
   },
   {
    "duration": 262,
    "start_time": "2023-05-23T10:48:26.739Z"
   },
   {
    "duration": 33,
    "start_time": "2023-05-23T10:48:27.003Z"
   },
   {
    "duration": 83,
    "start_time": "2023-05-23T10:48:27.038Z"
   },
   {
    "duration": 11,
    "start_time": "2023-05-23T10:48:27.123Z"
   },
   {
    "duration": 23,
    "start_time": "2023-05-23T10:48:27.138Z"
   },
   {
    "duration": 126,
    "start_time": "2023-05-23T10:48:27.162Z"
   },
   {
    "duration": 84,
    "start_time": "2023-05-23T10:48:27.290Z"
   },
   {
    "duration": 5,
    "start_time": "2023-05-23T10:48:27.376Z"
   },
   {
    "duration": 83,
    "start_time": "2023-05-23T10:48:27.383Z"
   },
   {
    "duration": 5,
    "start_time": "2023-05-23T10:48:27.468Z"
   },
   {
    "duration": 98,
    "start_time": "2023-05-23T10:48:27.475Z"
   },
   {
    "duration": 4,
    "start_time": "2023-05-23T10:48:27.575Z"
   },
   {
    "duration": 79,
    "start_time": "2023-05-23T10:48:27.581Z"
   },
   {
    "duration": 4,
    "start_time": "2023-05-23T10:48:27.662Z"
   },
   {
    "duration": 86,
    "start_time": "2023-05-23T10:48:27.668Z"
   },
   {
    "duration": 5,
    "start_time": "2023-05-23T10:48:27.755Z"
   },
   {
    "duration": 87,
    "start_time": "2023-05-23T10:48:27.761Z"
   },
   {
    "duration": 24,
    "start_time": "2023-05-23T10:48:27.850Z"
   },
   {
    "duration": 98,
    "start_time": "2023-05-23T10:48:27.875Z"
   },
   {
    "duration": 6,
    "start_time": "2023-05-23T10:48:27.978Z"
   },
   {
    "duration": 104,
    "start_time": "2023-05-23T10:48:27.986Z"
   },
   {
    "duration": 73,
    "start_time": "2023-05-23T10:48:28.092Z"
   },
   {
    "duration": 128,
    "start_time": "2023-05-23T10:48:28.167Z"
   },
   {
    "duration": 63,
    "start_time": "2023-05-23T10:48:28.297Z"
   },
   {
    "duration": 87,
    "start_time": "2023-05-23T10:48:28.362Z"
   },
   {
    "duration": 0,
    "start_time": "2023-05-23T10:48:28.451Z"
   },
   {
    "duration": 0,
    "start_time": "2023-05-23T10:48:28.452Z"
   },
   {
    "duration": 0,
    "start_time": "2023-05-23T10:48:28.453Z"
   },
   {
    "duration": 0,
    "start_time": "2023-05-23T10:48:28.454Z"
   },
   {
    "duration": 0,
    "start_time": "2023-05-23T10:48:28.455Z"
   },
   {
    "duration": 0,
    "start_time": "2023-05-23T10:48:28.456Z"
   },
   {
    "duration": 0,
    "start_time": "2023-05-23T10:48:28.457Z"
   },
   {
    "duration": 0,
    "start_time": "2023-05-23T10:48:28.458Z"
   },
   {
    "duration": 0,
    "start_time": "2023-05-23T10:48:28.459Z"
   },
   {
    "duration": 0,
    "start_time": "2023-05-23T10:48:28.460Z"
   },
   {
    "duration": 0,
    "start_time": "2023-05-23T10:48:28.461Z"
   },
   {
    "duration": 0,
    "start_time": "2023-05-23T10:48:28.463Z"
   },
   {
    "duration": 0,
    "start_time": "2023-05-23T10:48:28.464Z"
   },
   {
    "duration": 0,
    "start_time": "2023-05-23T10:48:28.467Z"
   },
   {
    "duration": 0,
    "start_time": "2023-05-23T10:48:28.468Z"
   },
   {
    "duration": 0,
    "start_time": "2023-05-23T10:48:28.469Z"
   },
   {
    "duration": 0,
    "start_time": "2023-05-23T10:48:28.470Z"
   },
   {
    "duration": 0,
    "start_time": "2023-05-23T10:48:28.471Z"
   },
   {
    "duration": 0,
    "start_time": "2023-05-23T10:48:28.472Z"
   },
   {
    "duration": 0,
    "start_time": "2023-05-23T10:48:28.473Z"
   },
   {
    "duration": 0,
    "start_time": "2023-05-23T10:48:28.474Z"
   },
   {
    "duration": 0,
    "start_time": "2023-05-23T10:48:28.475Z"
   },
   {
    "duration": 0,
    "start_time": "2023-05-23T10:48:28.476Z"
   },
   {
    "duration": 0,
    "start_time": "2023-05-23T10:48:28.478Z"
   },
   {
    "duration": 0,
    "start_time": "2023-05-23T10:48:28.479Z"
   },
   {
    "duration": 0,
    "start_time": "2023-05-23T10:48:28.480Z"
   },
   {
    "duration": 0,
    "start_time": "2023-05-23T10:48:28.481Z"
   },
   {
    "duration": 1,
    "start_time": "2023-05-23T10:48:28.482Z"
   },
   {
    "duration": 0,
    "start_time": "2023-05-23T10:48:28.484Z"
   },
   {
    "duration": 0,
    "start_time": "2023-05-23T10:48:28.486Z"
   },
   {
    "duration": 0,
    "start_time": "2023-05-23T10:48:28.488Z"
   },
   {
    "duration": 0,
    "start_time": "2023-05-23T10:48:28.525Z"
   },
   {
    "duration": 0,
    "start_time": "2023-05-23T10:48:28.525Z"
   },
   {
    "duration": 0,
    "start_time": "2023-05-23T10:48:28.526Z"
   },
   {
    "duration": 1559,
    "start_time": "2023-05-23T10:57:07.103Z"
   },
   {
    "duration": 92,
    "start_time": "2023-05-23T10:57:08.665Z"
   },
   {
    "duration": 14,
    "start_time": "2023-05-23T10:57:08.759Z"
   },
   {
    "duration": 44,
    "start_time": "2023-05-23T10:57:08.775Z"
   },
   {
    "duration": 82,
    "start_time": "2023-05-23T10:57:08.820Z"
   },
   {
    "duration": 49,
    "start_time": "2023-05-23T10:57:08.904Z"
   },
   {
    "duration": 23,
    "start_time": "2023-05-23T10:57:08.955Z"
   },
   {
    "duration": 10,
    "start_time": "2023-05-23T10:57:08.980Z"
   },
   {
    "duration": 59,
    "start_time": "2023-05-23T10:57:08.992Z"
   },
   {
    "duration": 11,
    "start_time": "2023-05-23T10:57:09.056Z"
   },
   {
    "duration": 32,
    "start_time": "2023-05-23T10:57:09.069Z"
   },
   {
    "duration": 41,
    "start_time": "2023-05-23T10:57:09.103Z"
   },
   {
    "duration": 45,
    "start_time": "2023-05-23T10:57:09.145Z"
   },
   {
    "duration": 9,
    "start_time": "2023-05-23T10:57:09.192Z"
   },
   {
    "duration": 15,
    "start_time": "2023-05-23T10:57:09.203Z"
   },
   {
    "duration": 77,
    "start_time": "2023-05-23T10:57:09.220Z"
   },
   {
    "duration": 42,
    "start_time": "2023-05-23T10:57:09.299Z"
   },
   {
    "duration": 37,
    "start_time": "2023-05-23T10:57:09.343Z"
   },
   {
    "duration": 33,
    "start_time": "2023-05-23T10:57:09.382Z"
   },
   {
    "duration": 5,
    "start_time": "2023-05-23T10:57:09.417Z"
   },
   {
    "duration": 43,
    "start_time": "2023-05-23T10:57:09.424Z"
   },
   {
    "duration": 19,
    "start_time": "2023-05-23T10:57:09.468Z"
   },
   {
    "duration": 29,
    "start_time": "2023-05-23T10:57:09.489Z"
   },
   {
    "duration": 28,
    "start_time": "2023-05-23T10:57:09.520Z"
   },
   {
    "duration": 10,
    "start_time": "2023-05-23T10:57:09.549Z"
   },
   {
    "duration": 25,
    "start_time": "2023-05-23T10:57:09.561Z"
   },
   {
    "duration": 46,
    "start_time": "2023-05-23T10:57:09.588Z"
   },
   {
    "duration": 9,
    "start_time": "2023-05-23T10:57:09.640Z"
   },
   {
    "duration": 26,
    "start_time": "2023-05-23T10:57:09.651Z"
   },
   {
    "duration": 20,
    "start_time": "2023-05-23T10:57:09.680Z"
   },
   {
    "duration": 35,
    "start_time": "2023-05-23T10:57:09.702Z"
   },
   {
    "duration": 31,
    "start_time": "2023-05-23T10:57:09.738Z"
   },
   {
    "duration": 36,
    "start_time": "2023-05-23T10:57:09.771Z"
   },
   {
    "duration": 44,
    "start_time": "2023-05-23T10:57:09.809Z"
   },
   {
    "duration": 116,
    "start_time": "2023-05-23T10:57:09.855Z"
   },
   {
    "duration": 19,
    "start_time": "2023-05-23T10:57:09.973Z"
   },
   {
    "duration": 297,
    "start_time": "2023-05-23T10:57:09.994Z"
   },
   {
    "duration": 123,
    "start_time": "2023-05-23T10:57:10.293Z"
   },
   {
    "duration": 20,
    "start_time": "2023-05-23T10:57:10.417Z"
   },
   {
    "duration": 266,
    "start_time": "2023-05-23T10:57:10.439Z"
   },
   {
    "duration": 22,
    "start_time": "2023-05-23T10:57:10.706Z"
   },
   {
    "duration": 112,
    "start_time": "2023-05-23T10:57:10.737Z"
   },
   {
    "duration": 9,
    "start_time": "2023-05-23T10:57:10.851Z"
   },
   {
    "duration": 36,
    "start_time": "2023-05-23T10:57:10.862Z"
   },
   {
    "duration": 79,
    "start_time": "2023-05-23T10:57:10.900Z"
   },
   {
    "duration": 91,
    "start_time": "2023-05-23T10:57:10.981Z"
   },
   {
    "duration": 6,
    "start_time": "2023-05-23T10:57:11.074Z"
   },
   {
    "duration": 91,
    "start_time": "2023-05-23T10:57:11.082Z"
   },
   {
    "duration": 14,
    "start_time": "2023-05-23T10:57:11.175Z"
   },
   {
    "duration": 153,
    "start_time": "2023-05-23T10:57:11.191Z"
   },
   {
    "duration": 5,
    "start_time": "2023-05-23T10:57:11.346Z"
   },
   {
    "duration": 100,
    "start_time": "2023-05-23T10:57:11.353Z"
   },
   {
    "duration": 6,
    "start_time": "2023-05-23T10:57:11.455Z"
   },
   {
    "duration": 91,
    "start_time": "2023-05-23T10:57:11.462Z"
   },
   {
    "duration": 6,
    "start_time": "2023-05-23T10:57:11.555Z"
   },
   {
    "duration": 104,
    "start_time": "2023-05-23T10:57:11.563Z"
   },
   {
    "duration": 34,
    "start_time": "2023-05-23T10:57:11.669Z"
   },
   {
    "duration": 113,
    "start_time": "2023-05-23T10:57:11.706Z"
   },
   {
    "duration": 28,
    "start_time": "2023-05-23T10:57:11.822Z"
   },
   {
    "duration": 96,
    "start_time": "2023-05-23T10:57:11.852Z"
   },
   {
    "duration": 4,
    "start_time": "2023-05-23T10:57:11.950Z"
   },
   {
    "duration": 91,
    "start_time": "2023-05-23T10:57:11.956Z"
   },
   {
    "duration": 14,
    "start_time": "2023-05-23T10:57:12.049Z"
   },
   {
    "duration": 101,
    "start_time": "2023-05-23T10:57:12.065Z"
   },
   {
    "duration": 0,
    "start_time": "2023-05-23T10:57:12.169Z"
   },
   {
    "duration": 0,
    "start_time": "2023-05-23T10:57:12.170Z"
   },
   {
    "duration": 0,
    "start_time": "2023-05-23T10:57:12.171Z"
   },
   {
    "duration": 0,
    "start_time": "2023-05-23T10:57:12.173Z"
   },
   {
    "duration": 0,
    "start_time": "2023-05-23T10:57:12.175Z"
   },
   {
    "duration": 0,
    "start_time": "2023-05-23T10:57:12.176Z"
   },
   {
    "duration": 0,
    "start_time": "2023-05-23T10:57:12.178Z"
   },
   {
    "duration": 0,
    "start_time": "2023-05-23T10:57:12.179Z"
   },
   {
    "duration": 0,
    "start_time": "2023-05-23T10:57:12.181Z"
   },
   {
    "duration": 0,
    "start_time": "2023-05-23T10:57:12.183Z"
   },
   {
    "duration": 0,
    "start_time": "2023-05-23T10:57:12.184Z"
   },
   {
    "duration": 0,
    "start_time": "2023-05-23T10:57:12.186Z"
   },
   {
    "duration": 0,
    "start_time": "2023-05-23T10:57:12.187Z"
   },
   {
    "duration": 0,
    "start_time": "2023-05-23T10:57:12.189Z"
   },
   {
    "duration": 0,
    "start_time": "2023-05-23T10:57:12.190Z"
   },
   {
    "duration": 0,
    "start_time": "2023-05-23T10:57:12.192Z"
   },
   {
    "duration": 0,
    "start_time": "2023-05-23T10:57:12.194Z"
   },
   {
    "duration": 0,
    "start_time": "2023-05-23T10:57:12.195Z"
   },
   {
    "duration": 0,
    "start_time": "2023-05-23T10:57:12.196Z"
   },
   {
    "duration": 0,
    "start_time": "2023-05-23T10:57:12.197Z"
   },
   {
    "duration": 0,
    "start_time": "2023-05-23T10:57:12.198Z"
   },
   {
    "duration": 0,
    "start_time": "2023-05-23T10:57:12.200Z"
   },
   {
    "duration": 0,
    "start_time": "2023-05-23T10:57:12.201Z"
   },
   {
    "duration": 0,
    "start_time": "2023-05-23T10:57:12.203Z"
   },
   {
    "duration": 0,
    "start_time": "2023-05-23T10:57:12.204Z"
   },
   {
    "duration": 0,
    "start_time": "2023-05-23T10:57:12.224Z"
   },
   {
    "duration": 0,
    "start_time": "2023-05-23T10:57:12.225Z"
   },
   {
    "duration": 0,
    "start_time": "2023-05-23T10:57:12.229Z"
   },
   {
    "duration": 0,
    "start_time": "2023-05-23T10:57:12.230Z"
   },
   {
    "duration": 0,
    "start_time": "2023-05-23T10:57:12.231Z"
   },
   {
    "duration": 0,
    "start_time": "2023-05-23T10:57:12.232Z"
   },
   {
    "duration": 0,
    "start_time": "2023-05-23T10:57:12.233Z"
   },
   {
    "duration": 0,
    "start_time": "2023-05-23T10:57:12.233Z"
   },
   {
    "duration": 0,
    "start_time": "2023-05-23T10:57:12.234Z"
   },
   {
    "duration": 1374,
    "start_time": "2023-05-23T11:06:17.969Z"
   },
   {
    "duration": 68,
    "start_time": "2023-05-23T11:06:19.345Z"
   },
   {
    "duration": 22,
    "start_time": "2023-05-23T11:06:19.415Z"
   },
   {
    "duration": 10,
    "start_time": "2023-05-23T11:06:19.439Z"
   },
   {
    "duration": 13,
    "start_time": "2023-05-23T11:06:19.450Z"
   },
   {
    "duration": 27,
    "start_time": "2023-05-23T11:06:19.464Z"
   },
   {
    "duration": 44,
    "start_time": "2023-05-23T11:06:19.493Z"
   },
   {
    "duration": 19,
    "start_time": "2023-05-23T11:06:19.540Z"
   },
   {
    "duration": 47,
    "start_time": "2023-05-23T11:06:19.560Z"
   },
   {
    "duration": 9,
    "start_time": "2023-05-23T11:06:19.610Z"
   },
   {
    "duration": 26,
    "start_time": "2023-05-23T11:06:19.621Z"
   },
   {
    "duration": 7,
    "start_time": "2023-05-23T11:06:19.649Z"
   },
   {
    "duration": 25,
    "start_time": "2023-05-23T11:06:19.657Z"
   },
   {
    "duration": 10,
    "start_time": "2023-05-23T11:06:19.684Z"
   },
   {
    "duration": 23,
    "start_time": "2023-05-23T11:06:19.695Z"
   },
   {
    "duration": 37,
    "start_time": "2023-05-23T11:06:19.720Z"
   },
   {
    "duration": 19,
    "start_time": "2023-05-23T11:06:19.758Z"
   },
   {
    "duration": 36,
    "start_time": "2023-05-23T11:06:19.778Z"
   },
   {
    "duration": 30,
    "start_time": "2023-05-23T11:06:19.815Z"
   },
   {
    "duration": 7,
    "start_time": "2023-05-23T11:06:19.847Z"
   },
   {
    "duration": 29,
    "start_time": "2023-05-23T11:06:19.856Z"
   },
   {
    "duration": 17,
    "start_time": "2023-05-23T11:06:19.886Z"
   },
   {
    "duration": 66,
    "start_time": "2023-05-23T11:06:19.904Z"
   },
   {
    "duration": 13,
    "start_time": "2023-05-23T11:06:19.971Z"
   },
   {
    "duration": 12,
    "start_time": "2023-05-23T11:06:19.986Z"
   },
   {
    "duration": 79,
    "start_time": "2023-05-23T11:06:20.000Z"
   },
   {
    "duration": 24,
    "start_time": "2023-05-23T11:06:20.081Z"
   },
   {
    "duration": 7,
    "start_time": "2023-05-23T11:06:20.109Z"
   },
   {
    "duration": 13,
    "start_time": "2023-05-23T11:06:20.118Z"
   },
   {
    "duration": 18,
    "start_time": "2023-05-23T11:06:20.133Z"
   },
   {
    "duration": 18,
    "start_time": "2023-05-23T11:06:20.153Z"
   },
   {
    "duration": 8,
    "start_time": "2023-05-23T11:06:20.172Z"
   },
   {
    "duration": 16,
    "start_time": "2023-05-23T11:06:20.182Z"
   },
   {
    "duration": 19,
    "start_time": "2023-05-23T11:06:20.200Z"
   },
   {
    "duration": 29,
    "start_time": "2023-05-23T11:06:20.224Z"
   },
   {
    "duration": 17,
    "start_time": "2023-05-23T11:06:20.254Z"
   },
   {
    "duration": 272,
    "start_time": "2023-05-23T11:06:20.273Z"
   },
   {
    "duration": 87,
    "start_time": "2023-05-23T11:06:20.546Z"
   },
   {
    "duration": 9,
    "start_time": "2023-05-23T11:06:20.635Z"
   },
   {
    "duration": 198,
    "start_time": "2023-05-23T11:06:20.646Z"
   },
   {
    "duration": 10,
    "start_time": "2023-05-23T11:06:20.846Z"
   },
   {
    "duration": 81,
    "start_time": "2023-05-23T11:06:20.857Z"
   },
   {
    "duration": 8,
    "start_time": "2023-05-23T11:06:20.940Z"
   },
   {
    "duration": 27,
    "start_time": "2023-05-23T11:06:20.950Z"
   },
   {
    "duration": 86,
    "start_time": "2023-05-23T11:06:20.979Z"
   },
   {
    "duration": 80,
    "start_time": "2023-05-23T11:06:21.068Z"
   },
   {
    "duration": 5,
    "start_time": "2023-05-23T11:06:21.150Z"
   },
   {
    "duration": 74,
    "start_time": "2023-05-23T11:06:21.157Z"
   },
   {
    "duration": 5,
    "start_time": "2023-05-23T11:06:21.233Z"
   },
   {
    "duration": 70,
    "start_time": "2023-05-23T11:06:21.240Z"
   },
   {
    "duration": 6,
    "start_time": "2023-05-23T11:06:21.326Z"
   },
   {
    "duration": 73,
    "start_time": "2023-05-23T11:06:21.336Z"
   },
   {
    "duration": 19,
    "start_time": "2023-05-23T11:06:21.411Z"
   },
   {
    "duration": 73,
    "start_time": "2023-05-23T11:06:21.432Z"
   },
   {
    "duration": 5,
    "start_time": "2023-05-23T11:06:21.507Z"
   },
   {
    "duration": 68,
    "start_time": "2023-05-23T11:06:21.513Z"
   },
   {
    "duration": 4,
    "start_time": "2023-05-23T11:06:21.583Z"
   },
   {
    "duration": 91,
    "start_time": "2023-05-23T11:06:21.589Z"
   },
   {
    "duration": 5,
    "start_time": "2023-05-23T11:06:21.682Z"
   },
   {
    "duration": 94,
    "start_time": "2023-05-23T11:06:21.688Z"
   },
   {
    "duration": 5,
    "start_time": "2023-05-23T11:06:21.784Z"
   },
   {
    "duration": 78,
    "start_time": "2023-05-23T11:06:21.790Z"
   },
   {
    "duration": 4,
    "start_time": "2023-05-23T11:06:21.870Z"
   },
   {
    "duration": 77,
    "start_time": "2023-05-23T11:06:21.875Z"
   },
   {
    "duration": 5,
    "start_time": "2023-05-23T11:06:21.954Z"
   },
   {
    "duration": 81,
    "start_time": "2023-05-23T11:06:21.960Z"
   },
   {
    "duration": 6,
    "start_time": "2023-05-23T11:06:22.043Z"
   },
   {
    "duration": 95,
    "start_time": "2023-05-23T11:06:22.051Z"
   },
   {
    "duration": 4,
    "start_time": "2023-05-23T11:06:22.148Z"
   },
   {
    "duration": 28,
    "start_time": "2023-05-23T11:06:22.153Z"
   },
   {
    "duration": 5,
    "start_time": "2023-05-23T11:06:22.183Z"
   },
   {
    "duration": 42,
    "start_time": "2023-05-23T11:06:22.190Z"
   },
   {
    "duration": 25,
    "start_time": "2023-05-23T11:06:22.233Z"
   },
   {
    "duration": 26,
    "start_time": "2023-05-23T11:06:22.259Z"
   },
   {
    "duration": 56,
    "start_time": "2023-05-23T11:06:22.286Z"
   },
   {
    "duration": 25,
    "start_time": "2023-05-23T11:06:22.343Z"
   },
   {
    "duration": 24,
    "start_time": "2023-05-23T11:06:22.369Z"
   },
   {
    "duration": 59,
    "start_time": "2023-05-23T11:06:22.394Z"
   },
   {
    "duration": 36,
    "start_time": "2023-05-23T11:06:22.455Z"
   },
   {
    "duration": 51,
    "start_time": "2023-05-23T11:06:22.493Z"
   },
   {
    "duration": 23,
    "start_time": "2023-05-23T11:06:22.546Z"
   },
   {
    "duration": 33,
    "start_time": "2023-05-23T11:06:22.575Z"
   },
   {
    "duration": 51,
    "start_time": "2023-05-23T11:06:22.610Z"
   },
   {
    "duration": 9,
    "start_time": "2023-05-23T11:06:22.663Z"
   },
   {
    "duration": 402,
    "start_time": "2023-05-23T11:06:22.673Z"
   },
   {
    "duration": 4,
    "start_time": "2023-05-23T11:06:23.077Z"
   },
   {
    "duration": 29,
    "start_time": "2023-05-23T11:06:23.082Z"
   },
   {
    "duration": 44,
    "start_time": "2023-05-23T11:06:23.113Z"
   },
   {
    "duration": 27,
    "start_time": "2023-05-23T11:06:23.159Z"
   },
   {
    "duration": 27,
    "start_time": "2023-05-23T11:06:23.188Z"
   },
   {
    "duration": 39,
    "start_time": "2023-05-23T11:06:23.217Z"
   },
   {
    "duration": 365,
    "start_time": "2023-05-23T11:06:23.257Z"
   },
   {
    "duration": 18,
    "start_time": "2023-05-23T11:06:23.624Z"
   },
   {
    "duration": 21,
    "start_time": "2023-05-23T11:06:23.644Z"
   },
   {
    "duration": 22,
    "start_time": "2023-05-23T11:06:23.667Z"
   },
   {
    "duration": 22,
    "start_time": "2023-05-23T11:06:23.691Z"
   },
   {
    "duration": 37,
    "start_time": "2023-05-23T11:06:23.715Z"
   },
   {
    "duration": 22,
    "start_time": "2023-05-23T11:14:07.415Z"
   },
   {
    "duration": 447,
    "start_time": "2023-05-23T11:14:08.873Z"
   },
   {
    "duration": 4,
    "start_time": "2023-05-23T11:14:12.165Z"
   },
   {
    "duration": 4,
    "start_time": "2023-05-23T11:14:12.757Z"
   },
   {
    "duration": 17,
    "start_time": "2023-05-23T11:14:14.419Z"
   },
   {
    "duration": 7,
    "start_time": "2023-05-23T11:14:14.998Z"
   },
   {
    "duration": 5,
    "start_time": "2023-05-23T11:14:18.461Z"
   },
   {
    "duration": 1486,
    "start_time": "2023-05-23T11:16:35.881Z"
   },
   {
    "duration": 78,
    "start_time": "2023-05-23T11:16:37.369Z"
   },
   {
    "duration": 17,
    "start_time": "2023-05-23T11:16:37.449Z"
   },
   {
    "duration": 13,
    "start_time": "2023-05-23T11:16:37.469Z"
   },
   {
    "duration": 24,
    "start_time": "2023-05-23T11:16:37.485Z"
   },
   {
    "duration": 46,
    "start_time": "2023-05-23T11:16:37.510Z"
   },
   {
    "duration": 15,
    "start_time": "2023-05-23T11:16:37.558Z"
   },
   {
    "duration": 13,
    "start_time": "2023-05-23T11:16:37.575Z"
   },
   {
    "duration": 52,
    "start_time": "2023-05-23T11:16:37.590Z"
   },
   {
    "duration": 19,
    "start_time": "2023-05-23T11:16:37.646Z"
   },
   {
    "duration": 15,
    "start_time": "2023-05-23T11:16:37.667Z"
   },
   {
    "duration": 16,
    "start_time": "2023-05-23T11:16:37.684Z"
   },
   {
    "duration": 31,
    "start_time": "2023-05-23T11:16:37.702Z"
   },
   {
    "duration": 14,
    "start_time": "2023-05-23T11:16:37.740Z"
   },
   {
    "duration": 32,
    "start_time": "2023-05-23T11:16:37.756Z"
   },
   {
    "duration": 29,
    "start_time": "2023-05-23T11:16:37.789Z"
   },
   {
    "duration": 41,
    "start_time": "2023-05-23T11:16:37.820Z"
   },
   {
    "duration": 43,
    "start_time": "2023-05-23T11:16:37.863Z"
   },
   {
    "duration": 43,
    "start_time": "2023-05-23T11:16:37.908Z"
   },
   {
    "duration": 6,
    "start_time": "2023-05-23T11:16:37.954Z"
   },
   {
    "duration": 94,
    "start_time": "2023-05-23T11:16:37.962Z"
   },
   {
    "duration": 27,
    "start_time": "2023-05-23T11:16:38.058Z"
   },
   {
    "duration": 46,
    "start_time": "2023-05-23T11:16:38.087Z"
   },
   {
    "duration": 38,
    "start_time": "2023-05-23T11:16:38.135Z"
   },
   {
    "duration": 18,
    "start_time": "2023-05-23T11:16:38.175Z"
   },
   {
    "duration": 37,
    "start_time": "2023-05-23T11:16:38.195Z"
   },
   {
    "duration": 53,
    "start_time": "2023-05-23T11:16:38.234Z"
   },
   {
    "duration": 8,
    "start_time": "2023-05-23T11:16:38.290Z"
   },
   {
    "duration": 39,
    "start_time": "2023-05-23T11:16:38.299Z"
   },
   {
    "duration": 33,
    "start_time": "2023-05-23T11:16:38.340Z"
   },
   {
    "duration": 29,
    "start_time": "2023-05-23T11:16:38.374Z"
   },
   {
    "duration": 12,
    "start_time": "2023-05-23T11:16:38.404Z"
   },
   {
    "duration": 51,
    "start_time": "2023-05-23T11:16:38.418Z"
   },
   {
    "duration": 35,
    "start_time": "2023-05-23T11:16:38.470Z"
   },
   {
    "duration": 42,
    "start_time": "2023-05-23T11:16:38.506Z"
   },
   {
    "duration": 21,
    "start_time": "2023-05-23T11:16:38.549Z"
   },
   {
    "duration": 281,
    "start_time": "2023-05-23T11:16:38.572Z"
   },
   {
    "duration": 94,
    "start_time": "2023-05-23T11:16:38.855Z"
   },
   {
    "duration": 6,
    "start_time": "2023-05-23T11:16:38.951Z"
   },
   {
    "duration": 196,
    "start_time": "2023-05-23T11:16:38.959Z"
   },
   {
    "duration": 10,
    "start_time": "2023-05-23T11:16:39.157Z"
   },
   {
    "duration": 101,
    "start_time": "2023-05-23T11:16:39.169Z"
   },
   {
    "duration": 8,
    "start_time": "2023-05-23T11:16:39.271Z"
   },
   {
    "duration": 21,
    "start_time": "2023-05-23T11:16:39.281Z"
   },
   {
    "duration": 90,
    "start_time": "2023-05-23T11:16:39.304Z"
   },
   {
    "duration": 89,
    "start_time": "2023-05-23T11:16:39.397Z"
   },
   {
    "duration": 5,
    "start_time": "2023-05-23T11:16:39.488Z"
   },
   {
    "duration": 80,
    "start_time": "2023-05-23T11:16:39.495Z"
   },
   {
    "duration": 4,
    "start_time": "2023-05-23T11:16:39.577Z"
   },
   {
    "duration": 81,
    "start_time": "2023-05-23T11:16:39.583Z"
   },
   {
    "duration": 6,
    "start_time": "2023-05-23T11:16:39.667Z"
   },
   {
    "duration": 102,
    "start_time": "2023-05-23T11:16:39.675Z"
   },
   {
    "duration": 49,
    "start_time": "2023-05-23T11:16:39.779Z"
   },
   {
    "duration": 81,
    "start_time": "2023-05-23T11:16:39.830Z"
   },
   {
    "duration": 4,
    "start_time": "2023-05-23T11:16:39.913Z"
   },
   {
    "duration": 78,
    "start_time": "2023-05-23T11:16:39.918Z"
   },
   {
    "duration": 18,
    "start_time": "2023-05-23T11:16:39.997Z"
   },
   {
    "duration": 95,
    "start_time": "2023-05-23T11:16:40.017Z"
   },
   {
    "duration": 5,
    "start_time": "2023-05-23T11:16:40.113Z"
   },
   {
    "duration": 88,
    "start_time": "2023-05-23T11:16:40.120Z"
   },
   {
    "duration": 5,
    "start_time": "2023-05-23T11:16:40.211Z"
   },
   {
    "duration": 79,
    "start_time": "2023-05-23T11:16:40.218Z"
   },
   {
    "duration": 6,
    "start_time": "2023-05-23T11:16:40.299Z"
   },
   {
    "duration": 67,
    "start_time": "2023-05-23T11:16:40.307Z"
   },
   {
    "duration": 5,
    "start_time": "2023-05-23T11:16:40.375Z"
   },
   {
    "duration": 97,
    "start_time": "2023-05-23T11:16:40.382Z"
   },
   {
    "duration": 5,
    "start_time": "2023-05-23T11:16:40.480Z"
   },
   {
    "duration": 79,
    "start_time": "2023-05-23T11:16:40.486Z"
   },
   {
    "duration": 5,
    "start_time": "2023-05-23T11:16:40.567Z"
   },
   {
    "duration": 34,
    "start_time": "2023-05-23T11:16:40.574Z"
   },
   {
    "duration": 17,
    "start_time": "2023-05-23T11:16:40.625Z"
   },
   {
    "duration": 66,
    "start_time": "2023-05-23T11:16:40.643Z"
   },
   {
    "duration": 30,
    "start_time": "2023-05-23T11:16:40.711Z"
   },
   {
    "duration": 37,
    "start_time": "2023-05-23T11:16:40.743Z"
   },
   {
    "duration": 36,
    "start_time": "2023-05-23T11:16:40.783Z"
   },
   {
    "duration": 30,
    "start_time": "2023-05-23T11:16:40.821Z"
   },
   {
    "duration": 27,
    "start_time": "2023-05-23T11:16:40.852Z"
   },
   {
    "duration": 50,
    "start_time": "2023-05-23T11:16:40.880Z"
   },
   {
    "duration": 43,
    "start_time": "2023-05-23T11:16:40.937Z"
   },
   {
    "duration": 31,
    "start_time": "2023-05-23T11:16:40.983Z"
   },
   {
    "duration": 45,
    "start_time": "2023-05-23T11:16:41.017Z"
   },
   {
    "duration": 41,
    "start_time": "2023-05-23T11:16:41.068Z"
   },
   {
    "duration": 38,
    "start_time": "2023-05-23T11:16:41.112Z"
   },
   {
    "duration": 28,
    "start_time": "2023-05-23T11:16:41.152Z"
   },
   {
    "duration": 479,
    "start_time": "2023-05-23T11:16:41.182Z"
   },
   {
    "duration": 6,
    "start_time": "2023-05-23T11:16:41.663Z"
   },
   {
    "duration": 6,
    "start_time": "2023-05-23T11:16:41.671Z"
   },
   {
    "duration": 11,
    "start_time": "2023-05-23T11:16:41.679Z"
   },
   {
    "duration": 38,
    "start_time": "2023-05-23T11:16:41.692Z"
   },
   {
    "duration": 23,
    "start_time": "2023-05-23T11:16:41.733Z"
   },
   {
    "duration": 14,
    "start_time": "2023-05-23T11:16:41.759Z"
   },
   {
    "duration": 388,
    "start_time": "2023-05-23T11:16:41.775Z"
   },
   {
    "duration": 5,
    "start_time": "2023-05-23T11:16:42.164Z"
   },
   {
    "duration": 26,
    "start_time": "2023-05-23T11:16:42.170Z"
   },
   {
    "duration": 11,
    "start_time": "2023-05-23T11:16:42.198Z"
   },
   {
    "duration": 33,
    "start_time": "2023-05-23T11:16:42.211Z"
   },
   {
    "duration": 14,
    "start_time": "2023-05-23T11:16:42.246Z"
   },
   {
    "duration": 1601,
    "start_time": "2023-05-23T11:31:34.353Z"
   },
   {
    "duration": 213,
    "start_time": "2023-05-23T11:31:35.955Z"
   },
   {
    "duration": 16,
    "start_time": "2023-05-23T11:31:36.172Z"
   },
   {
    "duration": 10,
    "start_time": "2023-05-23T11:31:36.192Z"
   },
   {
    "duration": 21,
    "start_time": "2023-05-23T11:31:36.203Z"
   },
   {
    "duration": 56,
    "start_time": "2023-05-23T11:31:36.226Z"
   },
   {
    "duration": 13,
    "start_time": "2023-05-23T11:31:36.284Z"
   },
   {
    "duration": 9,
    "start_time": "2023-05-23T11:31:36.299Z"
   },
   {
    "duration": 48,
    "start_time": "2023-05-23T11:31:36.310Z"
   },
   {
    "duration": 8,
    "start_time": "2023-05-23T11:31:36.359Z"
   },
   {
    "duration": 15,
    "start_time": "2023-05-23T11:31:36.368Z"
   },
   {
    "duration": 11,
    "start_time": "2023-05-23T11:31:36.384Z"
   },
   {
    "duration": 22,
    "start_time": "2023-05-23T11:31:36.396Z"
   },
   {
    "duration": 10,
    "start_time": "2023-05-23T11:31:36.419Z"
   },
   {
    "duration": 3,
    "start_time": "2023-05-23T11:31:36.430Z"
   },
   {
    "duration": 37,
    "start_time": "2023-05-23T11:31:36.435Z"
   },
   {
    "duration": 16,
    "start_time": "2023-05-23T11:31:36.473Z"
   },
   {
    "duration": 28,
    "start_time": "2023-05-23T11:31:36.491Z"
   },
   {
    "duration": 55,
    "start_time": "2023-05-23T11:31:36.521Z"
   },
   {
    "duration": 19,
    "start_time": "2023-05-23T11:31:36.578Z"
   },
   {
    "duration": 36,
    "start_time": "2023-05-23T11:31:36.599Z"
   },
   {
    "duration": 16,
    "start_time": "2023-05-23T11:31:36.637Z"
   },
   {
    "duration": 20,
    "start_time": "2023-05-23T11:31:36.657Z"
   },
   {
    "duration": 15,
    "start_time": "2023-05-23T11:31:36.679Z"
   },
   {
    "duration": 5,
    "start_time": "2023-05-23T11:31:36.695Z"
   },
   {
    "duration": 8,
    "start_time": "2023-05-23T11:31:36.706Z"
   },
   {
    "duration": 55,
    "start_time": "2023-05-23T11:31:36.715Z"
   },
   {
    "duration": 8,
    "start_time": "2023-05-23T11:31:36.772Z"
   },
   {
    "duration": 22,
    "start_time": "2023-05-23T11:31:36.781Z"
   },
   {
    "duration": 5,
    "start_time": "2023-05-23T11:31:36.805Z"
   },
   {
    "duration": 20,
    "start_time": "2023-05-23T11:31:36.812Z"
   },
   {
    "duration": 24,
    "start_time": "2023-05-23T11:31:36.833Z"
   },
   {
    "duration": 20,
    "start_time": "2023-05-23T11:31:36.859Z"
   },
   {
    "duration": 22,
    "start_time": "2023-05-23T11:31:36.880Z"
   },
   {
    "duration": 32,
    "start_time": "2023-05-23T11:31:36.904Z"
   },
   {
    "duration": 33,
    "start_time": "2023-05-23T11:31:36.938Z"
   },
   {
    "duration": 278,
    "start_time": "2023-05-23T11:31:36.973Z"
   },
   {
    "duration": 83,
    "start_time": "2023-05-23T11:31:37.253Z"
   },
   {
    "duration": 24,
    "start_time": "2023-05-23T11:31:37.338Z"
   },
   {
    "duration": 186,
    "start_time": "2023-05-23T11:31:37.364Z"
   },
   {
    "duration": 16,
    "start_time": "2023-05-23T11:31:37.552Z"
   },
   {
    "duration": 50,
    "start_time": "2023-05-23T11:31:37.570Z"
   },
   {
    "duration": 7,
    "start_time": "2023-05-23T11:31:37.622Z"
   },
   {
    "duration": 35,
    "start_time": "2023-05-23T11:31:37.630Z"
   },
   {
    "duration": 65,
    "start_time": "2023-05-23T11:31:37.666Z"
   },
   {
    "duration": 71,
    "start_time": "2023-05-23T11:31:37.733Z"
   },
   {
    "duration": 5,
    "start_time": "2023-05-23T11:31:37.805Z"
   },
   {
    "duration": 81,
    "start_time": "2023-05-23T11:31:37.811Z"
   },
   {
    "duration": 4,
    "start_time": "2023-05-23T11:31:37.894Z"
   },
   {
    "duration": 72,
    "start_time": "2023-05-23T11:31:37.899Z"
   },
   {
    "duration": 4,
    "start_time": "2023-05-23T11:31:37.972Z"
   },
   {
    "duration": 51,
    "start_time": "2023-05-23T11:31:37.978Z"
   },
   {
    "duration": 28,
    "start_time": "2023-05-23T11:31:38.031Z"
   },
   {
    "duration": 57,
    "start_time": "2023-05-23T11:31:38.061Z"
   },
   {
    "duration": 4,
    "start_time": "2023-05-23T11:31:38.120Z"
   },
   {
    "duration": 78,
    "start_time": "2023-05-23T11:31:38.125Z"
   },
   {
    "duration": 4,
    "start_time": "2023-05-23T11:31:38.205Z"
   },
   {
    "duration": 78,
    "start_time": "2023-05-23T11:31:38.211Z"
   },
   {
    "duration": 4,
    "start_time": "2023-05-23T11:31:38.291Z"
   },
   {
    "duration": 70,
    "start_time": "2023-05-23T11:31:38.297Z"
   },
   {
    "duration": 5,
    "start_time": "2023-05-23T11:31:38.369Z"
   },
   {
    "duration": 65,
    "start_time": "2023-05-23T11:31:38.376Z"
   },
   {
    "duration": 16,
    "start_time": "2023-05-23T11:31:38.443Z"
   },
   {
    "duration": 66,
    "start_time": "2023-05-23T11:31:38.461Z"
   },
   {
    "duration": 5,
    "start_time": "2023-05-23T11:31:38.529Z"
   },
   {
    "duration": 74,
    "start_time": "2023-05-23T11:31:38.536Z"
   },
   {
    "duration": 13,
    "start_time": "2023-05-23T11:31:38.611Z"
   },
   {
    "duration": 77,
    "start_time": "2023-05-23T11:31:38.626Z"
   },
   {
    "duration": 4,
    "start_time": "2023-05-23T11:31:38.705Z"
   },
   {
    "duration": 32,
    "start_time": "2023-05-23T11:31:38.710Z"
   },
   {
    "duration": 17,
    "start_time": "2023-05-23T11:31:38.744Z"
   },
   {
    "duration": 31,
    "start_time": "2023-05-23T11:31:38.763Z"
   },
   {
    "duration": 35,
    "start_time": "2023-05-23T11:31:38.796Z"
   },
   {
    "duration": 34,
    "start_time": "2023-05-23T11:31:38.833Z"
   },
   {
    "duration": 23,
    "start_time": "2023-05-23T11:31:38.869Z"
   },
   {
    "duration": 25,
    "start_time": "2023-05-23T11:31:38.895Z"
   },
   {
    "duration": 53,
    "start_time": "2023-05-23T11:31:38.922Z"
   },
   {
    "duration": 33,
    "start_time": "2023-05-23T11:31:38.977Z"
   },
   {
    "duration": 32,
    "start_time": "2023-05-23T11:31:39.013Z"
   },
   {
    "duration": 29,
    "start_time": "2023-05-23T11:31:39.051Z"
   },
   {
    "duration": 23,
    "start_time": "2023-05-23T11:31:39.082Z"
   },
   {
    "duration": 23,
    "start_time": "2023-05-23T11:31:39.106Z"
   },
   {
    "duration": 116,
    "start_time": "2023-05-23T11:31:39.130Z"
   },
   {
    "duration": 16,
    "start_time": "2023-05-23T11:31:39.247Z"
   },
   {
    "duration": 401,
    "start_time": "2023-05-23T11:31:39.265Z"
   },
   {
    "duration": 4,
    "start_time": "2023-05-23T11:31:39.669Z"
   },
   {
    "duration": 5,
    "start_time": "2023-05-23T11:31:39.675Z"
   },
   {
    "duration": 38,
    "start_time": "2023-05-23T11:31:39.682Z"
   },
   {
    "duration": 15,
    "start_time": "2023-05-23T11:31:39.722Z"
   },
   {
    "duration": 9,
    "start_time": "2023-05-23T11:31:39.739Z"
   },
   {
    "duration": 28,
    "start_time": "2023-05-23T11:31:39.749Z"
   },
   {
    "duration": 372,
    "start_time": "2023-05-23T11:31:39.779Z"
   },
   {
    "duration": 5,
    "start_time": "2023-05-23T11:31:40.152Z"
   },
   {
    "duration": 13,
    "start_time": "2023-05-23T11:31:40.159Z"
   },
   {
    "duration": 7,
    "start_time": "2023-05-23T11:31:40.174Z"
   },
   {
    "duration": 24,
    "start_time": "2023-05-23T11:31:40.182Z"
   },
   {
    "duration": 32,
    "start_time": "2023-05-23T11:31:40.208Z"
   },
   {
    "duration": 87,
    "start_time": "2023-05-23T12:20:38.471Z"
   },
   {
    "duration": 215,
    "start_time": "2023-05-23T12:21:01.181Z"
   },
   {
    "duration": 121,
    "start_time": "2023-05-23T12:21:28.006Z"
   },
   {
    "duration": 4,
    "start_time": "2023-05-23T12:21:35.126Z"
   },
   {
    "duration": 4,
    "start_time": "2023-05-23T12:21:38.181Z"
   },
   {
    "duration": 108,
    "start_time": "2023-05-23T12:21:52.116Z"
   },
   {
    "duration": 3,
    "start_time": "2023-05-23T12:21:57.917Z"
   },
   {
    "duration": 2,
    "start_time": "2023-05-23T12:22:13.913Z"
   },
   {
    "duration": 334,
    "start_time": "2023-05-23T12:23:25.362Z"
   },
   {
    "duration": 132,
    "start_time": "2023-05-23T12:23:39.994Z"
   },
   {
    "duration": 107,
    "start_time": "2023-05-23T12:24:09.027Z"
   },
   {
    "duration": 107,
    "start_time": "2023-05-23T12:24:17.084Z"
   },
   {
    "duration": 17,
    "start_time": "2023-05-23T12:24:38.086Z"
   },
   {
    "duration": 13,
    "start_time": "2023-05-23T12:24:40.805Z"
   },
   {
    "duration": 3,
    "start_time": "2023-05-23T12:24:43.577Z"
   },
   {
    "duration": 3,
    "start_time": "2023-05-23T12:24:45.675Z"
   },
   {
    "duration": 150,
    "start_time": "2023-05-23T12:26:11.674Z"
   },
   {
    "duration": 126,
    "start_time": "2023-05-23T12:27:05.259Z"
   },
   {
    "duration": 10,
    "start_time": "2023-05-23T12:28:32.883Z"
   },
   {
    "duration": 1481,
    "start_time": "2023-05-23T12:28:36.988Z"
   },
   {
    "duration": 124,
    "start_time": "2023-05-23T12:28:38.471Z"
   },
   {
    "duration": 161,
    "start_time": "2023-05-23T12:28:38.597Z"
   },
   {
    "duration": 0,
    "start_time": "2023-05-23T12:28:38.762Z"
   },
   {
    "duration": 0,
    "start_time": "2023-05-23T12:28:38.763Z"
   },
   {
    "duration": 0,
    "start_time": "2023-05-23T12:28:38.765Z"
   },
   {
    "duration": 0,
    "start_time": "2023-05-23T12:28:38.766Z"
   },
   {
    "duration": 0,
    "start_time": "2023-05-23T12:28:38.766Z"
   },
   {
    "duration": 0,
    "start_time": "2023-05-23T12:28:38.768Z"
   },
   {
    "duration": 0,
    "start_time": "2023-05-23T12:28:38.769Z"
   },
   {
    "duration": 0,
    "start_time": "2023-05-23T12:28:38.770Z"
   },
   {
    "duration": 0,
    "start_time": "2023-05-23T12:28:38.771Z"
   },
   {
    "duration": 0,
    "start_time": "2023-05-23T12:28:38.772Z"
   },
   {
    "duration": 0,
    "start_time": "2023-05-23T12:28:38.773Z"
   },
   {
    "duration": 0,
    "start_time": "2023-05-23T12:28:38.774Z"
   },
   {
    "duration": 0,
    "start_time": "2023-05-23T12:28:38.775Z"
   },
   {
    "duration": 0,
    "start_time": "2023-05-23T12:28:38.777Z"
   },
   {
    "duration": 0,
    "start_time": "2023-05-23T12:28:38.778Z"
   },
   {
    "duration": 0,
    "start_time": "2023-05-23T12:28:38.779Z"
   },
   {
    "duration": 0,
    "start_time": "2023-05-23T12:28:38.780Z"
   },
   {
    "duration": 0,
    "start_time": "2023-05-23T12:28:38.782Z"
   },
   {
    "duration": 0,
    "start_time": "2023-05-23T12:28:38.783Z"
   },
   {
    "duration": 0,
    "start_time": "2023-05-23T12:28:38.783Z"
   },
   {
    "duration": 0,
    "start_time": "2023-05-23T12:28:38.785Z"
   },
   {
    "duration": 0,
    "start_time": "2023-05-23T12:28:38.786Z"
   },
   {
    "duration": 0,
    "start_time": "2023-05-23T12:28:38.830Z"
   },
   {
    "duration": 0,
    "start_time": "2023-05-23T12:28:38.831Z"
   },
   {
    "duration": 0,
    "start_time": "2023-05-23T12:28:38.832Z"
   },
   {
    "duration": 0,
    "start_time": "2023-05-23T12:28:38.833Z"
   },
   {
    "duration": 0,
    "start_time": "2023-05-23T12:28:38.834Z"
   },
   {
    "duration": 0,
    "start_time": "2023-05-23T12:28:38.835Z"
   },
   {
    "duration": 0,
    "start_time": "2023-05-23T12:28:38.836Z"
   },
   {
    "duration": 0,
    "start_time": "2023-05-23T12:28:38.837Z"
   },
   {
    "duration": 0,
    "start_time": "2023-05-23T12:28:38.837Z"
   },
   {
    "duration": 0,
    "start_time": "2023-05-23T12:28:38.838Z"
   },
   {
    "duration": 0,
    "start_time": "2023-05-23T12:28:38.839Z"
   },
   {
    "duration": 0,
    "start_time": "2023-05-23T12:28:38.840Z"
   },
   {
    "duration": 0,
    "start_time": "2023-05-23T12:28:38.841Z"
   },
   {
    "duration": 0,
    "start_time": "2023-05-23T12:28:38.842Z"
   },
   {
    "duration": 0,
    "start_time": "2023-05-23T12:28:38.843Z"
   },
   {
    "duration": 0,
    "start_time": "2023-05-23T12:28:38.844Z"
   },
   {
    "duration": 0,
    "start_time": "2023-05-23T12:28:38.845Z"
   },
   {
    "duration": 0,
    "start_time": "2023-05-23T12:28:38.846Z"
   },
   {
    "duration": 0,
    "start_time": "2023-05-23T12:28:38.847Z"
   },
   {
    "duration": 0,
    "start_time": "2023-05-23T12:28:38.848Z"
   },
   {
    "duration": 0,
    "start_time": "2023-05-23T12:28:38.849Z"
   },
   {
    "duration": 0,
    "start_time": "2023-05-23T12:28:38.850Z"
   },
   {
    "duration": 0,
    "start_time": "2023-05-23T12:28:38.851Z"
   },
   {
    "duration": 0,
    "start_time": "2023-05-23T12:28:38.853Z"
   },
   {
    "duration": 0,
    "start_time": "2023-05-23T12:28:38.854Z"
   },
   {
    "duration": 0,
    "start_time": "2023-05-23T12:28:38.856Z"
   },
   {
    "duration": 0,
    "start_time": "2023-05-23T12:28:38.857Z"
   },
   {
    "duration": 0,
    "start_time": "2023-05-23T12:28:38.859Z"
   },
   {
    "duration": 0,
    "start_time": "2023-05-23T12:28:38.860Z"
   },
   {
    "duration": 0,
    "start_time": "2023-05-23T12:28:38.862Z"
   },
   {
    "duration": 0,
    "start_time": "2023-05-23T12:28:38.863Z"
   },
   {
    "duration": 1,
    "start_time": "2023-05-23T12:28:38.864Z"
   },
   {
    "duration": 0,
    "start_time": "2023-05-23T12:28:38.866Z"
   },
   {
    "duration": 0,
    "start_time": "2023-05-23T12:28:38.867Z"
   },
   {
    "duration": 0,
    "start_time": "2023-05-23T12:28:38.869Z"
   },
   {
    "duration": 0,
    "start_time": "2023-05-23T12:28:38.870Z"
   },
   {
    "duration": 0,
    "start_time": "2023-05-23T12:28:38.929Z"
   },
   {
    "duration": 0,
    "start_time": "2023-05-23T12:28:38.929Z"
   },
   {
    "duration": 0,
    "start_time": "2023-05-23T12:28:38.930Z"
   },
   {
    "duration": 0,
    "start_time": "2023-05-23T12:28:38.931Z"
   },
   {
    "duration": 0,
    "start_time": "2023-05-23T12:28:38.931Z"
   },
   {
    "duration": 0,
    "start_time": "2023-05-23T12:28:38.932Z"
   },
   {
    "duration": 0,
    "start_time": "2023-05-23T12:28:38.932Z"
   },
   {
    "duration": 0,
    "start_time": "2023-05-23T12:28:38.933Z"
   },
   {
    "duration": 0,
    "start_time": "2023-05-23T12:28:38.933Z"
   },
   {
    "duration": 0,
    "start_time": "2023-05-23T12:28:38.934Z"
   },
   {
    "duration": 0,
    "start_time": "2023-05-23T12:28:38.939Z"
   },
   {
    "duration": 0,
    "start_time": "2023-05-23T12:28:38.940Z"
   },
   {
    "duration": 0,
    "start_time": "2023-05-23T12:28:38.941Z"
   },
   {
    "duration": 0,
    "start_time": "2023-05-23T12:28:38.942Z"
   },
   {
    "duration": 0,
    "start_time": "2023-05-23T12:28:38.944Z"
   },
   {
    "duration": 0,
    "start_time": "2023-05-23T12:28:38.945Z"
   },
   {
    "duration": 0,
    "start_time": "2023-05-23T12:28:38.946Z"
   },
   {
    "duration": 0,
    "start_time": "2023-05-23T12:28:38.947Z"
   },
   {
    "duration": 0,
    "start_time": "2023-05-23T12:28:38.949Z"
   },
   {
    "duration": 0,
    "start_time": "2023-05-23T12:28:38.950Z"
   },
   {
    "duration": 0,
    "start_time": "2023-05-23T12:28:38.951Z"
   },
   {
    "duration": 0,
    "start_time": "2023-05-23T12:28:38.952Z"
   },
   {
    "duration": 0,
    "start_time": "2023-05-23T12:28:38.953Z"
   },
   {
    "duration": 0,
    "start_time": "2023-05-23T12:28:38.954Z"
   },
   {
    "duration": 0,
    "start_time": "2023-05-23T12:28:38.955Z"
   },
   {
    "duration": 0,
    "start_time": "2023-05-23T12:28:38.956Z"
   },
   {
    "duration": 0,
    "start_time": "2023-05-23T12:28:38.957Z"
   },
   {
    "duration": 0,
    "start_time": "2023-05-23T12:28:38.958Z"
   },
   {
    "duration": 0,
    "start_time": "2023-05-23T12:28:38.958Z"
   },
   {
    "duration": 0,
    "start_time": "2023-05-23T12:28:38.960Z"
   },
   {
    "duration": 0,
    "start_time": "2023-05-23T12:28:38.961Z"
   },
   {
    "duration": 0,
    "start_time": "2023-05-23T12:28:38.962Z"
   },
   {
    "duration": 0,
    "start_time": "2023-05-23T12:28:38.963Z"
   },
   {
    "duration": 150,
    "start_time": "2023-05-23T12:29:28.801Z"
   },
   {
    "duration": 1597,
    "start_time": "2023-05-23T12:29:34.564Z"
   },
   {
    "duration": 130,
    "start_time": "2023-05-23T12:29:36.164Z"
   },
   {
    "duration": 149,
    "start_time": "2023-05-23T12:29:36.296Z"
   },
   {
    "duration": 0,
    "start_time": "2023-05-23T12:29:36.449Z"
   },
   {
    "duration": 0,
    "start_time": "2023-05-23T12:29:36.450Z"
   },
   {
    "duration": 0,
    "start_time": "2023-05-23T12:29:36.452Z"
   },
   {
    "duration": 0,
    "start_time": "2023-05-23T12:29:36.454Z"
   },
   {
    "duration": 0,
    "start_time": "2023-05-23T12:29:36.455Z"
   },
   {
    "duration": 0,
    "start_time": "2023-05-23T12:29:36.456Z"
   },
   {
    "duration": 0,
    "start_time": "2023-05-23T12:29:36.458Z"
   },
   {
    "duration": 0,
    "start_time": "2023-05-23T12:29:36.459Z"
   },
   {
    "duration": 1,
    "start_time": "2023-05-23T12:29:36.460Z"
   },
   {
    "duration": 0,
    "start_time": "2023-05-23T12:29:36.462Z"
   },
   {
    "duration": 0,
    "start_time": "2023-05-23T12:29:36.463Z"
   },
   {
    "duration": 0,
    "start_time": "2023-05-23T12:29:36.464Z"
   },
   {
    "duration": 0,
    "start_time": "2023-05-23T12:29:36.465Z"
   },
   {
    "duration": 0,
    "start_time": "2023-05-23T12:29:36.466Z"
   },
   {
    "duration": 0,
    "start_time": "2023-05-23T12:29:36.468Z"
   },
   {
    "duration": 0,
    "start_time": "2023-05-23T12:29:36.469Z"
   },
   {
    "duration": 0,
    "start_time": "2023-05-23T12:29:36.470Z"
   },
   {
    "duration": 0,
    "start_time": "2023-05-23T12:29:36.471Z"
   },
   {
    "duration": 0,
    "start_time": "2023-05-23T12:29:36.473Z"
   },
   {
    "duration": 0,
    "start_time": "2023-05-23T12:29:36.474Z"
   },
   {
    "duration": 0,
    "start_time": "2023-05-23T12:29:36.477Z"
   },
   {
    "duration": 0,
    "start_time": "2023-05-23T12:29:36.478Z"
   },
   {
    "duration": 0,
    "start_time": "2023-05-23T12:29:36.479Z"
   },
   {
    "duration": 0,
    "start_time": "2023-05-23T12:29:36.480Z"
   },
   {
    "duration": 0,
    "start_time": "2023-05-23T12:29:36.481Z"
   },
   {
    "duration": 0,
    "start_time": "2023-05-23T12:29:36.482Z"
   },
   {
    "duration": 0,
    "start_time": "2023-05-23T12:29:36.484Z"
   },
   {
    "duration": 0,
    "start_time": "2023-05-23T12:29:36.528Z"
   },
   {
    "duration": 0,
    "start_time": "2023-05-23T12:29:36.529Z"
   },
   {
    "duration": 0,
    "start_time": "2023-05-23T12:29:36.530Z"
   },
   {
    "duration": 0,
    "start_time": "2023-05-23T12:29:36.530Z"
   },
   {
    "duration": 0,
    "start_time": "2023-05-23T12:29:36.531Z"
   },
   {
    "duration": 0,
    "start_time": "2023-05-23T12:29:36.531Z"
   },
   {
    "duration": 0,
    "start_time": "2023-05-23T12:29:36.532Z"
   },
   {
    "duration": 0,
    "start_time": "2023-05-23T12:29:36.533Z"
   },
   {
    "duration": 0,
    "start_time": "2023-05-23T12:29:36.533Z"
   },
   {
    "duration": 0,
    "start_time": "2023-05-23T12:29:36.536Z"
   },
   {
    "duration": 0,
    "start_time": "2023-05-23T12:29:36.537Z"
   },
   {
    "duration": 0,
    "start_time": "2023-05-23T12:29:36.538Z"
   },
   {
    "duration": 0,
    "start_time": "2023-05-23T12:29:36.544Z"
   },
   {
    "duration": 0,
    "start_time": "2023-05-23T12:29:36.545Z"
   },
   {
    "duration": 0,
    "start_time": "2023-05-23T12:29:36.546Z"
   },
   {
    "duration": 0,
    "start_time": "2023-05-23T12:29:36.547Z"
   },
   {
    "duration": 0,
    "start_time": "2023-05-23T12:29:36.549Z"
   },
   {
    "duration": 1,
    "start_time": "2023-05-23T12:29:36.549Z"
   },
   {
    "duration": 0,
    "start_time": "2023-05-23T12:29:36.551Z"
   },
   {
    "duration": 0,
    "start_time": "2023-05-23T12:29:36.552Z"
   },
   {
    "duration": 0,
    "start_time": "2023-05-23T12:29:36.554Z"
   },
   {
    "duration": 0,
    "start_time": "2023-05-23T12:29:36.554Z"
   },
   {
    "duration": 0,
    "start_time": "2023-05-23T12:29:36.556Z"
   },
   {
    "duration": 0,
    "start_time": "2023-05-23T12:29:36.557Z"
   },
   {
    "duration": 0,
    "start_time": "2023-05-23T12:29:36.558Z"
   },
   {
    "duration": 0,
    "start_time": "2023-05-23T12:29:36.559Z"
   },
   {
    "duration": 0,
    "start_time": "2023-05-23T12:29:36.561Z"
   },
   {
    "duration": 0,
    "start_time": "2023-05-23T12:29:36.562Z"
   },
   {
    "duration": 1,
    "start_time": "2023-05-23T12:29:36.563Z"
   },
   {
    "duration": 0,
    "start_time": "2023-05-23T12:29:36.565Z"
   },
   {
    "duration": 0,
    "start_time": "2023-05-23T12:29:36.566Z"
   },
   {
    "duration": 0,
    "start_time": "2023-05-23T12:29:36.567Z"
   },
   {
    "duration": 1,
    "start_time": "2023-05-23T12:29:36.568Z"
   },
   {
    "duration": 0,
    "start_time": "2023-05-23T12:29:36.570Z"
   },
   {
    "duration": 0,
    "start_time": "2023-05-23T12:29:36.624Z"
   },
   {
    "duration": 0,
    "start_time": "2023-05-23T12:29:36.625Z"
   },
   {
    "duration": 0,
    "start_time": "2023-05-23T12:29:36.626Z"
   },
   {
    "duration": 0,
    "start_time": "2023-05-23T12:29:36.627Z"
   },
   {
    "duration": 0,
    "start_time": "2023-05-23T12:29:36.627Z"
   },
   {
    "duration": 0,
    "start_time": "2023-05-23T12:29:36.630Z"
   },
   {
    "duration": 0,
    "start_time": "2023-05-23T12:29:36.631Z"
   },
   {
    "duration": 0,
    "start_time": "2023-05-23T12:29:36.631Z"
   },
   {
    "duration": 0,
    "start_time": "2023-05-23T12:29:36.635Z"
   },
   {
    "duration": 0,
    "start_time": "2023-05-23T12:29:36.637Z"
   },
   {
    "duration": 0,
    "start_time": "2023-05-23T12:29:36.638Z"
   },
   {
    "duration": 0,
    "start_time": "2023-05-23T12:29:36.639Z"
   },
   {
    "duration": 0,
    "start_time": "2023-05-23T12:29:36.640Z"
   },
   {
    "duration": 0,
    "start_time": "2023-05-23T12:29:36.642Z"
   },
   {
    "duration": 0,
    "start_time": "2023-05-23T12:29:36.643Z"
   },
   {
    "duration": 0,
    "start_time": "2023-05-23T12:29:36.644Z"
   },
   {
    "duration": 0,
    "start_time": "2023-05-23T12:29:36.646Z"
   },
   {
    "duration": 0,
    "start_time": "2023-05-23T12:29:36.647Z"
   },
   {
    "duration": 0,
    "start_time": "2023-05-23T12:29:36.648Z"
   },
   {
    "duration": 0,
    "start_time": "2023-05-23T12:29:36.650Z"
   },
   {
    "duration": 0,
    "start_time": "2023-05-23T12:29:36.651Z"
   },
   {
    "duration": 0,
    "start_time": "2023-05-23T12:29:36.652Z"
   },
   {
    "duration": 0,
    "start_time": "2023-05-23T12:29:36.653Z"
   },
   {
    "duration": 0,
    "start_time": "2023-05-23T12:29:36.654Z"
   },
   {
    "duration": 0,
    "start_time": "2023-05-23T12:29:36.655Z"
   },
   {
    "duration": 0,
    "start_time": "2023-05-23T12:29:36.657Z"
   },
   {
    "duration": 0,
    "start_time": "2023-05-23T12:29:36.658Z"
   },
   {
    "duration": 0,
    "start_time": "2023-05-23T12:29:36.659Z"
   },
   {
    "duration": 0,
    "start_time": "2023-05-23T12:29:36.660Z"
   },
   {
    "duration": 0,
    "start_time": "2023-05-23T12:29:36.661Z"
   },
   {
    "duration": 146,
    "start_time": "2023-05-23T12:31:06.497Z"
   },
   {
    "duration": 1417,
    "start_time": "2023-05-23T12:31:58.562Z"
   },
   {
    "duration": 147,
    "start_time": "2023-05-23T12:31:59.981Z"
   },
   {
    "duration": 18,
    "start_time": "2023-05-23T12:32:00.133Z"
   },
   {
    "duration": 23,
    "start_time": "2023-05-23T12:32:00.153Z"
   },
   {
    "duration": 22,
    "start_time": "2023-05-23T12:32:00.178Z"
   },
   {
    "duration": 71,
    "start_time": "2023-05-23T12:32:00.202Z"
   },
   {
    "duration": 9,
    "start_time": "2023-05-23T12:32:00.275Z"
   },
   {
    "duration": 42,
    "start_time": "2023-05-23T12:32:00.286Z"
   },
   {
    "duration": 46,
    "start_time": "2023-05-23T12:32:00.336Z"
   },
   {
    "duration": 77,
    "start_time": "2023-05-23T12:32:00.385Z"
   },
   {
    "duration": 48,
    "start_time": "2023-05-23T12:32:00.464Z"
   },
   {
    "duration": 84,
    "start_time": "2023-05-23T12:32:00.514Z"
   },
   {
    "duration": 100,
    "start_time": "2023-05-23T12:32:00.601Z"
   },
   {
    "duration": 57,
    "start_time": "2023-05-23T12:32:00.730Z"
   },
   {
    "duration": 111,
    "start_time": "2023-05-23T12:32:00.825Z"
   },
   {
    "duration": 92,
    "start_time": "2023-05-23T12:32:00.943Z"
   },
   {
    "duration": 7,
    "start_time": "2023-05-23T12:32:01.037Z"
   },
   {
    "duration": 105,
    "start_time": "2023-05-23T12:32:01.046Z"
   },
   {
    "duration": 91,
    "start_time": "2023-05-23T12:32:01.153Z"
   },
   {
    "duration": 190,
    "start_time": "2023-05-23T12:32:01.249Z"
   },
   {
    "duration": 38,
    "start_time": "2023-05-23T12:32:01.441Z"
   },
   {
    "duration": 81,
    "start_time": "2023-05-23T12:32:01.482Z"
   },
   {
    "duration": 218,
    "start_time": "2023-05-23T12:32:01.565Z"
   },
   {
    "duration": 476,
    "start_time": "2023-05-23T12:32:01.785Z"
   },
   {
    "duration": 91,
    "start_time": "2023-05-23T12:32:02.263Z"
   },
   {
    "duration": 38,
    "start_time": "2023-05-23T12:32:02.355Z"
   },
   {
    "duration": 19,
    "start_time": "2023-05-23T12:32:02.394Z"
   },
   {
    "duration": 47,
    "start_time": "2023-05-23T12:32:02.417Z"
   },
   {
    "duration": 38,
    "start_time": "2023-05-23T12:32:02.466Z"
   },
   {
    "duration": 74,
    "start_time": "2023-05-23T12:32:02.506Z"
   },
   {
    "duration": 74,
    "start_time": "2023-05-23T12:32:02.582Z"
   },
   {
    "duration": 102,
    "start_time": "2023-05-23T12:32:02.658Z"
   },
   {
    "duration": 78,
    "start_time": "2023-05-23T12:32:02.762Z"
   },
   {
    "duration": 274,
    "start_time": "2023-05-23T12:32:02.842Z"
   },
   {
    "duration": 120,
    "start_time": "2023-05-23T12:32:03.118Z"
   },
   {
    "duration": 7,
    "start_time": "2023-05-23T12:32:03.241Z"
   },
   {
    "duration": 200,
    "start_time": "2023-05-23T12:32:03.251Z"
   },
   {
    "duration": 11,
    "start_time": "2023-05-23T12:32:03.453Z"
   },
   {
    "duration": 103,
    "start_time": "2023-05-23T12:32:03.466Z"
   },
   {
    "duration": 8,
    "start_time": "2023-05-23T12:32:03.571Z"
   },
   {
    "duration": 28,
    "start_time": "2023-05-23T12:32:03.581Z"
   },
   {
    "duration": 83,
    "start_time": "2023-05-23T12:32:03.611Z"
   },
   {
    "duration": 79,
    "start_time": "2023-05-23T12:32:03.696Z"
   },
   {
    "duration": 8,
    "start_time": "2023-05-23T12:32:03.777Z"
   },
   {
    "duration": 92,
    "start_time": "2023-05-23T12:32:03.787Z"
   },
   {
    "duration": 16,
    "start_time": "2023-05-23T12:32:03.881Z"
   },
   {
    "duration": 79,
    "start_time": "2023-05-23T12:32:03.899Z"
   },
   {
    "duration": 11,
    "start_time": "2023-05-23T12:32:03.980Z"
   },
   {
    "duration": 102,
    "start_time": "2023-05-23T12:32:03.993Z"
   },
   {
    "duration": 13,
    "start_time": "2023-05-23T12:32:04.097Z"
   },
   {
    "duration": 92,
    "start_time": "2023-05-23T12:32:04.112Z"
   },
   {
    "duration": 4,
    "start_time": "2023-05-23T12:32:04.206Z"
   },
   {
    "duration": 91,
    "start_time": "2023-05-23T12:32:04.212Z"
   },
   {
    "duration": 4,
    "start_time": "2023-05-23T12:32:04.305Z"
   },
   {
    "duration": 111,
    "start_time": "2023-05-23T12:32:04.311Z"
   },
   {
    "duration": 7,
    "start_time": "2023-05-23T12:32:04.428Z"
   },
   {
    "duration": 133,
    "start_time": "2023-05-23T12:32:04.438Z"
   },
   {
    "duration": 5,
    "start_time": "2023-05-23T12:32:04.572Z"
   },
   {
    "duration": 101,
    "start_time": "2023-05-23T12:32:04.579Z"
   },
   {
    "duration": 4,
    "start_time": "2023-05-23T12:32:04.682Z"
   },
   {
    "duration": 95,
    "start_time": "2023-05-23T12:32:04.688Z"
   },
   {
    "duration": 7,
    "start_time": "2023-05-23T12:32:04.785Z"
   },
   {
    "duration": 107,
    "start_time": "2023-05-23T12:32:04.795Z"
   },
   {
    "duration": 6,
    "start_time": "2023-05-23T12:32:04.904Z"
   },
   {
    "duration": 140,
    "start_time": "2023-05-23T12:32:04.912Z"
   },
   {
    "duration": 54,
    "start_time": "2023-05-23T12:32:05.054Z"
   },
   {
    "duration": 67,
    "start_time": "2023-05-23T12:32:05.110Z"
   },
   {
    "duration": 14,
    "start_time": "2023-05-23T12:32:05.178Z"
   },
   {
    "duration": 87,
    "start_time": "2023-05-23T12:32:05.194Z"
   },
   {
    "duration": 69,
    "start_time": "2023-05-23T12:32:05.284Z"
   },
   {
    "duration": 30,
    "start_time": "2023-05-23T12:32:05.355Z"
   },
   {
    "duration": 58,
    "start_time": "2023-05-23T12:32:05.386Z"
   },
   {
    "duration": 32,
    "start_time": "2023-05-23T12:32:05.446Z"
   },
   {
    "duration": 27,
    "start_time": "2023-05-23T12:32:05.480Z"
   },
   {
    "duration": 47,
    "start_time": "2023-05-23T12:32:05.509Z"
   },
   {
    "duration": 25,
    "start_time": "2023-05-23T12:32:05.558Z"
   },
   {
    "duration": 41,
    "start_time": "2023-05-23T12:32:05.585Z"
   },
   {
    "duration": 36,
    "start_time": "2023-05-23T12:32:05.634Z"
   },
   {
    "duration": 26,
    "start_time": "2023-05-23T12:32:05.672Z"
   },
   {
    "duration": 40,
    "start_time": "2023-05-23T12:32:05.699Z"
   },
   {
    "duration": 12,
    "start_time": "2023-05-23T12:32:05.742Z"
   },
   {
    "duration": 426,
    "start_time": "2023-05-23T12:32:05.761Z"
   },
   {
    "duration": 5,
    "start_time": "2023-05-23T12:32:06.189Z"
   },
   {
    "duration": 106,
    "start_time": "2023-05-23T12:32:06.196Z"
   },
   {
    "duration": 91,
    "start_time": "2023-05-23T12:32:06.304Z"
   },
   {
    "duration": 77,
    "start_time": "2023-05-23T12:32:06.397Z"
   },
   {
    "duration": 7,
    "start_time": "2023-05-23T12:32:06.476Z"
   },
   {
    "duration": 14,
    "start_time": "2023-05-23T12:32:06.486Z"
   },
   {
    "duration": 380,
    "start_time": "2023-05-23T12:32:06.502Z"
   },
   {
    "duration": 4,
    "start_time": "2023-05-23T12:32:06.884Z"
   },
   {
    "duration": 6,
    "start_time": "2023-05-23T12:32:06.890Z"
   },
   {
    "duration": 28,
    "start_time": "2023-05-23T12:32:06.898Z"
   },
   {
    "duration": 14,
    "start_time": "2023-05-23T12:32:06.930Z"
   },
   {
    "duration": 10,
    "start_time": "2023-05-23T12:32:06.948Z"
   },
   {
    "duration": 9,
    "start_time": "2023-05-23T12:40:26.266Z"
   },
   {
    "duration": 1533,
    "start_time": "2023-05-23T12:40:42.619Z"
   },
   {
    "duration": 117,
    "start_time": "2023-05-23T12:40:44.154Z"
   },
   {
    "duration": 19,
    "start_time": "2023-05-23T12:40:44.273Z"
   },
   {
    "duration": 36,
    "start_time": "2023-05-23T12:40:44.294Z"
   },
   {
    "duration": 9,
    "start_time": "2023-05-23T12:40:44.332Z"
   },
   {
    "duration": 83,
    "start_time": "2023-05-23T12:40:44.343Z"
   },
   {
    "duration": 8,
    "start_time": "2023-05-23T12:40:44.428Z"
   },
   {
    "duration": 11,
    "start_time": "2023-05-23T12:40:44.438Z"
   },
   {
    "duration": 10,
    "start_time": "2023-05-23T12:40:44.451Z"
   },
   {
    "duration": 18,
    "start_time": "2023-05-23T12:40:44.463Z"
   },
   {
    "duration": 13,
    "start_time": "2023-05-23T12:40:44.482Z"
   },
   {
    "duration": 3,
    "start_time": "2023-05-23T12:40:44.497Z"
   },
   {
    "duration": 40,
    "start_time": "2023-05-23T12:40:44.502Z"
   },
   {
    "duration": 17,
    "start_time": "2023-05-23T12:40:44.544Z"
   },
   {
    "duration": 64,
    "start_time": "2023-05-23T12:40:44.562Z"
   },
   {
    "duration": 32,
    "start_time": "2023-05-23T12:40:44.627Z"
   },
   {
    "duration": 6,
    "start_time": "2023-05-23T12:40:44.661Z"
   },
   {
    "duration": 82,
    "start_time": "2023-05-23T12:40:44.669Z"
   },
   {
    "duration": 22,
    "start_time": "2023-05-23T12:40:44.752Z"
   },
   {
    "duration": 50,
    "start_time": "2023-05-23T12:40:44.776Z"
   },
   {
    "duration": 9,
    "start_time": "2023-05-23T12:40:44.829Z"
   },
   {
    "duration": 20,
    "start_time": "2023-05-23T12:40:44.840Z"
   },
   {
    "duration": 19,
    "start_time": "2023-05-23T12:40:44.862Z"
   },
   {
    "duration": 57,
    "start_time": "2023-05-23T12:40:44.883Z"
   },
   {
    "duration": 15,
    "start_time": "2023-05-23T12:40:44.944Z"
   },
   {
    "duration": 35,
    "start_time": "2023-05-23T12:40:44.961Z"
   },
   {
    "duration": 28,
    "start_time": "2023-05-23T12:40:44.998Z"
   },
   {
    "duration": 50,
    "start_time": "2023-05-23T12:40:45.032Z"
   },
   {
    "duration": 19,
    "start_time": "2023-05-23T12:40:45.084Z"
   },
   {
    "duration": 37,
    "start_time": "2023-05-23T12:40:45.105Z"
   },
   {
    "duration": 21,
    "start_time": "2023-05-23T12:40:45.144Z"
   },
   {
    "duration": 63,
    "start_time": "2023-05-23T12:40:45.167Z"
   },
   {
    "duration": 19,
    "start_time": "2023-05-23T12:40:45.232Z"
   },
   {
    "duration": 457,
    "start_time": "2023-05-23T12:40:45.252Z"
   },
   {
    "duration": 86,
    "start_time": "2023-05-23T12:40:45.710Z"
   },
   {
    "duration": 6,
    "start_time": "2023-05-23T12:40:45.798Z"
   },
   {
    "duration": 219,
    "start_time": "2023-05-23T12:40:45.805Z"
   },
   {
    "duration": 10,
    "start_time": "2023-05-23T12:40:46.026Z"
   },
   {
    "duration": 132,
    "start_time": "2023-05-23T12:40:46.038Z"
   },
   {
    "duration": 8,
    "start_time": "2023-05-23T12:40:46.171Z"
   },
   {
    "duration": 49,
    "start_time": "2023-05-23T12:40:46.180Z"
   },
   {
    "duration": 110,
    "start_time": "2023-05-23T12:40:46.231Z"
   },
   {
    "duration": 61,
    "start_time": "2023-05-23T12:40:46.343Z"
   },
   {
    "duration": 19,
    "start_time": "2023-05-23T12:40:46.406Z"
   },
   {
    "duration": 91,
    "start_time": "2023-05-23T12:40:46.427Z"
   },
   {
    "duration": 5,
    "start_time": "2023-05-23T12:40:46.520Z"
   },
   {
    "duration": 93,
    "start_time": "2023-05-23T12:40:46.527Z"
   },
   {
    "duration": 5,
    "start_time": "2023-05-23T12:40:46.622Z"
   },
   {
    "duration": 83,
    "start_time": "2023-05-23T12:40:46.628Z"
   },
   {
    "duration": 5,
    "start_time": "2023-05-23T12:40:46.712Z"
   },
   {
    "duration": 83,
    "start_time": "2023-05-23T12:40:46.719Z"
   },
   {
    "duration": 6,
    "start_time": "2023-05-23T12:40:46.804Z"
   },
   {
    "duration": 107,
    "start_time": "2023-05-23T12:40:46.812Z"
   },
   {
    "duration": 21,
    "start_time": "2023-05-23T12:40:46.921Z"
   },
   {
    "duration": 95,
    "start_time": "2023-05-23T12:40:46.944Z"
   },
   {
    "duration": 8,
    "start_time": "2023-05-23T12:40:47.041Z"
   },
   {
    "duration": 121,
    "start_time": "2023-05-23T12:40:47.051Z"
   },
   {
    "duration": 5,
    "start_time": "2023-05-23T12:40:47.174Z"
   },
   {
    "duration": 92,
    "start_time": "2023-05-23T12:40:47.181Z"
   },
   {
    "duration": 4,
    "start_time": "2023-05-23T12:40:47.278Z"
   },
   {
    "duration": 153,
    "start_time": "2023-05-23T12:40:47.285Z"
   },
   {
    "duration": 5,
    "start_time": "2023-05-23T12:40:47.440Z"
   },
   {
    "duration": 102,
    "start_time": "2023-05-23T12:40:47.447Z"
   },
   {
    "duration": 5,
    "start_time": "2023-05-23T12:40:47.551Z"
   },
   {
    "duration": 86,
    "start_time": "2023-05-23T12:40:47.557Z"
   },
   {
    "duration": 7,
    "start_time": "2023-05-23T12:40:47.645Z"
   },
   {
    "duration": 32,
    "start_time": "2023-05-23T12:40:47.653Z"
   },
   {
    "duration": 26,
    "start_time": "2023-05-23T12:40:47.687Z"
   },
   {
    "duration": 50,
    "start_time": "2023-05-23T12:40:47.715Z"
   },
   {
    "duration": 45,
    "start_time": "2023-05-23T12:40:47.767Z"
   },
   {
    "duration": 55,
    "start_time": "2023-05-23T12:40:47.814Z"
   },
   {
    "duration": 75,
    "start_time": "2023-05-23T12:40:47.871Z"
   },
   {
    "duration": 87,
    "start_time": "2023-05-23T12:40:47.948Z"
   },
   {
    "duration": 108,
    "start_time": "2023-05-23T12:40:48.037Z"
   },
   {
    "duration": 50,
    "start_time": "2023-05-23T12:40:48.148Z"
   },
   {
    "duration": 44,
    "start_time": "2023-05-23T12:40:48.200Z"
   },
   {
    "duration": 105,
    "start_time": "2023-05-23T12:40:48.246Z"
   },
   {
    "duration": 52,
    "start_time": "2023-05-23T12:40:48.353Z"
   },
   {
    "duration": 56,
    "start_time": "2023-05-23T12:40:48.407Z"
   },
   {
    "duration": 46,
    "start_time": "2023-05-23T12:40:48.465Z"
   },
   {
    "duration": 39,
    "start_time": "2023-05-23T12:40:48.513Z"
   },
   {
    "duration": 463,
    "start_time": "2023-05-23T12:40:48.560Z"
   },
   {
    "duration": 5,
    "start_time": "2023-05-23T12:40:49.024Z"
   },
   {
    "duration": 17,
    "start_time": "2023-05-23T12:40:49.031Z"
   },
   {
    "duration": 37,
    "start_time": "2023-05-23T12:40:49.050Z"
   },
   {
    "duration": 31,
    "start_time": "2023-05-23T12:40:49.089Z"
   },
   {
    "duration": 33,
    "start_time": "2023-05-23T12:40:49.122Z"
   },
   {
    "duration": 38,
    "start_time": "2023-05-23T12:40:49.157Z"
   },
   {
    "duration": 511,
    "start_time": "2023-05-23T12:40:49.197Z"
   },
   {
    "duration": 4,
    "start_time": "2023-05-23T12:40:49.710Z"
   },
   {
    "duration": 10,
    "start_time": "2023-05-23T12:40:49.725Z"
   },
   {
    "duration": 16,
    "start_time": "2023-05-23T12:40:49.737Z"
   },
   {
    "duration": 52,
    "start_time": "2023-05-23T12:40:49.754Z"
   },
   {
    "duration": 27,
    "start_time": "2023-05-23T12:40:49.808Z"
   },
   {
    "duration": 1579,
    "start_time": "2023-05-23T12:41:51.000Z"
   },
   {
    "duration": 121,
    "start_time": "2023-05-23T12:41:52.582Z"
   },
   {
    "duration": 31,
    "start_time": "2023-05-23T12:41:52.705Z"
   },
   {
    "duration": 19,
    "start_time": "2023-05-23T12:41:52.739Z"
   },
   {
    "duration": 29,
    "start_time": "2023-05-23T12:41:52.760Z"
   },
   {
    "duration": 40,
    "start_time": "2023-05-23T12:41:52.791Z"
   },
   {
    "duration": 11,
    "start_time": "2023-05-23T12:41:52.833Z"
   },
   {
    "duration": 11,
    "start_time": "2023-05-23T12:41:52.846Z"
   },
   {
    "duration": 8,
    "start_time": "2023-05-23T12:41:52.858Z"
   },
   {
    "duration": 33,
    "start_time": "2023-05-23T12:41:52.869Z"
   },
   {
    "duration": 27,
    "start_time": "2023-05-23T12:41:52.904Z"
   },
   {
    "duration": 24,
    "start_time": "2023-05-23T12:41:52.933Z"
   },
   {
    "duration": 36,
    "start_time": "2023-05-23T12:41:52.959Z"
   },
   {
    "duration": 28,
    "start_time": "2023-05-23T12:41:52.997Z"
   },
   {
    "duration": 76,
    "start_time": "2023-05-23T12:41:53.027Z"
   },
   {
    "duration": 42,
    "start_time": "2023-05-23T12:41:53.105Z"
   },
   {
    "duration": 5,
    "start_time": "2023-05-23T12:41:53.149Z"
   },
   {
    "duration": 42,
    "start_time": "2023-05-23T12:41:53.156Z"
   },
   {
    "duration": 26,
    "start_time": "2023-05-23T12:41:53.200Z"
   },
   {
    "duration": 23,
    "start_time": "2023-05-23T12:41:53.228Z"
   },
   {
    "duration": 7,
    "start_time": "2023-05-23T12:41:53.253Z"
   },
   {
    "duration": 20,
    "start_time": "2023-05-23T12:41:53.261Z"
   },
   {
    "duration": 23,
    "start_time": "2023-05-23T12:41:53.282Z"
   },
   {
    "duration": 18,
    "start_time": "2023-05-23T12:41:53.308Z"
   },
   {
    "duration": 39,
    "start_time": "2023-05-23T12:41:53.329Z"
   },
   {
    "duration": 10,
    "start_time": "2023-05-23T12:41:53.370Z"
   },
   {
    "duration": 11,
    "start_time": "2023-05-23T12:41:53.382Z"
   },
   {
    "duration": 16,
    "start_time": "2023-05-23T12:41:53.397Z"
   },
   {
    "duration": 23,
    "start_time": "2023-05-23T12:41:53.415Z"
   },
   {
    "duration": 21,
    "start_time": "2023-05-23T12:41:53.440Z"
   },
   {
    "duration": 17,
    "start_time": "2023-05-23T12:41:53.463Z"
   },
   {
    "duration": 30,
    "start_time": "2023-05-23T12:41:53.482Z"
   },
   {
    "duration": 37,
    "start_time": "2023-05-23T12:41:53.514Z"
   },
   {
    "duration": 27,
    "start_time": "2023-05-23T12:41:53.553Z"
   },
   {
    "duration": 302,
    "start_time": "2023-05-23T12:41:53.582Z"
   },
   {
    "duration": 86,
    "start_time": "2023-05-23T12:41:53.886Z"
   },
   {
    "duration": 8,
    "start_time": "2023-05-23T12:41:53.974Z"
   },
   {
    "duration": 203,
    "start_time": "2023-05-23T12:41:53.984Z"
   },
   {
    "duration": 16,
    "start_time": "2023-05-23T12:41:54.189Z"
   },
   {
    "duration": 82,
    "start_time": "2023-05-23T12:41:54.207Z"
   },
   {
    "duration": 8,
    "start_time": "2023-05-23T12:41:54.291Z"
   },
   {
    "duration": 16,
    "start_time": "2023-05-23T12:41:54.300Z"
   },
   {
    "duration": 73,
    "start_time": "2023-05-23T12:41:54.317Z"
   },
   {
    "duration": 60,
    "start_time": "2023-05-23T12:41:54.392Z"
   },
   {
    "duration": 5,
    "start_time": "2023-05-23T12:41:54.454Z"
   },
   {
    "duration": 73,
    "start_time": "2023-05-23T12:41:54.461Z"
   },
   {
    "duration": 5,
    "start_time": "2023-05-23T12:41:54.536Z"
   },
   {
    "duration": 61,
    "start_time": "2023-05-23T12:41:54.542Z"
   },
   {
    "duration": 22,
    "start_time": "2023-05-23T12:41:54.605Z"
   },
   {
    "duration": 70,
    "start_time": "2023-05-23T12:41:54.629Z"
   },
   {
    "duration": 5,
    "start_time": "2023-05-23T12:41:54.701Z"
   },
   {
    "duration": 69,
    "start_time": "2023-05-23T12:41:54.725Z"
   },
   {
    "duration": 5,
    "start_time": "2023-05-23T12:41:54.795Z"
   },
   {
    "duration": 90,
    "start_time": "2023-05-23T12:41:54.801Z"
   },
   {
    "duration": 5,
    "start_time": "2023-05-23T12:41:54.893Z"
   },
   {
    "duration": 161,
    "start_time": "2023-05-23T12:41:54.899Z"
   },
   {
    "duration": 6,
    "start_time": "2023-05-23T12:41:55.063Z"
   },
   {
    "duration": 185,
    "start_time": "2023-05-23T12:41:55.072Z"
   },
   {
    "duration": 6,
    "start_time": "2023-05-23T12:41:55.259Z"
   },
   {
    "duration": 179,
    "start_time": "2023-05-23T12:41:55.266Z"
   },
   {
    "duration": 5,
    "start_time": "2023-05-23T12:41:55.446Z"
   },
   {
    "duration": 192,
    "start_time": "2023-05-23T12:41:55.453Z"
   },
   {
    "duration": 5,
    "start_time": "2023-05-23T12:41:55.648Z"
   },
   {
    "duration": 188,
    "start_time": "2023-05-23T12:41:55.654Z"
   },
   {
    "duration": 5,
    "start_time": "2023-05-23T12:41:55.845Z"
   },
   {
    "duration": 173,
    "start_time": "2023-05-23T12:41:55.853Z"
   },
   {
    "duration": 98,
    "start_time": "2023-05-23T12:41:56.027Z"
   },
   {
    "duration": 42,
    "start_time": "2023-05-23T12:41:56.127Z"
   },
   {
    "duration": 57,
    "start_time": "2023-05-23T12:41:56.172Z"
   },
   {
    "duration": 97,
    "start_time": "2023-05-23T12:41:56.231Z"
   },
   {
    "duration": 25,
    "start_time": "2023-05-23T12:41:56.330Z"
   },
   {
    "duration": 90,
    "start_time": "2023-05-23T12:41:56.357Z"
   },
   {
    "duration": 95,
    "start_time": "2023-05-23T12:41:56.449Z"
   },
   {
    "duration": 85,
    "start_time": "2023-05-23T12:41:56.547Z"
   },
   {
    "duration": 89,
    "start_time": "2023-05-23T12:41:56.635Z"
   },
   {
    "duration": 34,
    "start_time": "2023-05-23T12:41:56.726Z"
   },
   {
    "duration": 80,
    "start_time": "2023-05-23T12:41:56.762Z"
   },
   {
    "duration": 24,
    "start_time": "2023-05-23T12:41:56.843Z"
   },
   {
    "duration": 79,
    "start_time": "2023-05-23T12:41:56.869Z"
   },
   {
    "duration": 90,
    "start_time": "2023-05-23T12:41:56.950Z"
   },
   {
    "duration": 27,
    "start_time": "2023-05-23T12:41:57.042Z"
   },
   {
    "duration": 10,
    "start_time": "2023-05-23T12:41:57.127Z"
   },
   {
    "duration": 903,
    "start_time": "2023-05-23T12:41:57.138Z"
   },
   {
    "duration": 6,
    "start_time": "2023-05-23T12:41:58.043Z"
   },
   {
    "duration": 26,
    "start_time": "2023-05-23T12:41:58.051Z"
   },
   {
    "duration": 62,
    "start_time": "2023-05-23T12:41:58.079Z"
   },
   {
    "duration": 24,
    "start_time": "2023-05-23T12:41:58.143Z"
   },
   {
    "duration": 59,
    "start_time": "2023-05-23T12:41:58.169Z"
   },
   {
    "duration": 32,
    "start_time": "2023-05-23T12:41:58.230Z"
   },
   {
    "duration": 930,
    "start_time": "2023-05-23T12:41:58.264Z"
   },
   {
    "duration": 5,
    "start_time": "2023-05-23T12:41:59.195Z"
   },
   {
    "duration": 26,
    "start_time": "2023-05-23T12:41:59.201Z"
   },
   {
    "duration": 26,
    "start_time": "2023-05-23T12:41:59.228Z"
   },
   {
    "duration": 29,
    "start_time": "2023-05-23T12:41:59.255Z"
   },
   {
    "duration": 32,
    "start_time": "2023-05-23T12:41:59.286Z"
   },
   {
    "duration": 81,
    "start_time": "2023-05-23T12:45:38.020Z"
   },
   {
    "duration": 115,
    "start_time": "2023-05-23T12:45:44.646Z"
   },
   {
    "duration": 175,
    "start_time": "2023-05-23T12:49:27.141Z"
   },
   {
    "duration": 1474,
    "start_time": "2023-05-23T12:49:39.613Z"
   },
   {
    "duration": 158,
    "start_time": "2023-05-23T12:49:41.090Z"
   },
   {
    "duration": 13,
    "start_time": "2023-05-23T12:49:41.250Z"
   },
   {
    "duration": 26,
    "start_time": "2023-05-23T12:49:41.265Z"
   },
   {
    "duration": 31,
    "start_time": "2023-05-23T12:49:41.293Z"
   },
   {
    "duration": 26,
    "start_time": "2023-05-23T12:49:41.326Z"
   },
   {
    "duration": 37,
    "start_time": "2023-05-23T12:49:41.354Z"
   },
   {
    "duration": 24,
    "start_time": "2023-05-23T12:49:41.393Z"
   },
   {
    "duration": 21,
    "start_time": "2023-05-23T12:49:41.419Z"
   },
   {
    "duration": 35,
    "start_time": "2023-05-23T12:49:41.443Z"
   },
   {
    "duration": 12,
    "start_time": "2023-05-23T12:49:41.480Z"
   },
   {
    "duration": 19,
    "start_time": "2023-05-23T12:49:41.494Z"
   },
   {
    "duration": 42,
    "start_time": "2023-05-23T12:49:41.514Z"
   },
   {
    "duration": 48,
    "start_time": "2023-05-23T12:49:41.557Z"
   },
   {
    "duration": 38,
    "start_time": "2023-05-23T12:49:41.607Z"
   },
   {
    "duration": 29,
    "start_time": "2023-05-23T12:49:41.647Z"
   },
   {
    "duration": 5,
    "start_time": "2023-05-23T12:49:41.677Z"
   },
   {
    "duration": 43,
    "start_time": "2023-05-23T12:49:41.684Z"
   },
   {
    "duration": 14,
    "start_time": "2023-05-23T12:49:41.729Z"
   },
   {
    "duration": 39,
    "start_time": "2023-05-23T12:49:41.745Z"
   },
   {
    "duration": 6,
    "start_time": "2023-05-23T12:49:41.785Z"
   },
   {
    "duration": 19,
    "start_time": "2023-05-23T12:49:41.792Z"
   },
   {
    "duration": 11,
    "start_time": "2023-05-23T12:49:41.812Z"
   },
   {
    "duration": 33,
    "start_time": "2023-05-23T12:49:41.825Z"
   },
   {
    "duration": 38,
    "start_time": "2023-05-23T12:49:41.860Z"
   },
   {
    "duration": 9,
    "start_time": "2023-05-23T12:49:41.899Z"
   },
   {
    "duration": 19,
    "start_time": "2023-05-23T12:49:41.909Z"
   },
   {
    "duration": 16,
    "start_time": "2023-05-23T12:49:41.933Z"
   },
   {
    "duration": 30,
    "start_time": "2023-05-23T12:49:41.950Z"
   },
   {
    "duration": 68,
    "start_time": "2023-05-23T12:49:41.981Z"
   },
   {
    "duration": 5,
    "start_time": "2023-05-23T12:49:42.051Z"
   },
   {
    "duration": 27,
    "start_time": "2023-05-23T12:49:42.058Z"
   },
   {
    "duration": 54,
    "start_time": "2023-05-23T12:49:42.086Z"
   },
   {
    "duration": 37,
    "start_time": "2023-05-23T12:49:42.142Z"
   },
   {
    "duration": 18,
    "start_time": "2023-05-23T12:49:42.181Z"
   },
   {
    "duration": 252,
    "start_time": "2023-05-23T12:49:42.201Z"
   },
   {
    "duration": 86,
    "start_time": "2023-05-23T12:49:42.455Z"
   },
   {
    "duration": 7,
    "start_time": "2023-05-23T12:49:42.543Z"
   },
   {
    "duration": 176,
    "start_time": "2023-05-23T12:49:42.551Z"
   },
   {
    "duration": 10,
    "start_time": "2023-05-23T12:49:42.729Z"
   },
   {
    "duration": 76,
    "start_time": "2023-05-23T12:49:42.741Z"
   },
   {
    "duration": 8,
    "start_time": "2023-05-23T12:49:42.819Z"
   },
   {
    "duration": 17,
    "start_time": "2023-05-23T12:49:42.829Z"
   },
   {
    "duration": 77,
    "start_time": "2023-05-23T12:49:42.847Z"
   },
   {
    "duration": 70,
    "start_time": "2023-05-23T12:49:42.926Z"
   },
   {
    "duration": 5,
    "start_time": "2023-05-23T12:49:42.997Z"
   },
   {
    "duration": 76,
    "start_time": "2023-05-23T12:49:43.004Z"
   },
   {
    "duration": 5,
    "start_time": "2023-05-23T12:49:43.081Z"
   },
   {
    "duration": 85,
    "start_time": "2023-05-23T12:49:43.088Z"
   },
   {
    "duration": 5,
    "start_time": "2023-05-23T12:49:43.175Z"
   },
   {
    "duration": 79,
    "start_time": "2023-05-23T12:49:43.183Z"
   },
   {
    "duration": 9,
    "start_time": "2023-05-23T12:49:43.263Z"
   },
   {
    "duration": 82,
    "start_time": "2023-05-23T12:49:43.273Z"
   },
   {
    "duration": 6,
    "start_time": "2023-05-23T12:49:43.357Z"
   },
   {
    "duration": 86,
    "start_time": "2023-05-23T12:49:43.364Z"
   },
   {
    "duration": 5,
    "start_time": "2023-05-23T12:49:43.452Z"
   },
   {
    "duration": 85,
    "start_time": "2023-05-23T12:49:43.459Z"
   },
   {
    "duration": 4,
    "start_time": "2023-05-23T12:49:43.546Z"
   },
   {
    "duration": 78,
    "start_time": "2023-05-23T12:49:43.552Z"
   },
   {
    "duration": 5,
    "start_time": "2023-05-23T12:49:43.631Z"
   },
   {
    "duration": 73,
    "start_time": "2023-05-23T12:49:43.638Z"
   },
   {
    "duration": 14,
    "start_time": "2023-05-23T12:49:43.713Z"
   },
   {
    "duration": 67,
    "start_time": "2023-05-23T12:49:43.730Z"
   },
   {
    "duration": 24,
    "start_time": "2023-05-23T12:49:43.799Z"
   },
   {
    "duration": 57,
    "start_time": "2023-05-23T12:49:43.826Z"
   },
   {
    "duration": 5,
    "start_time": "2023-05-23T12:49:43.885Z"
   },
   {
    "duration": 91,
    "start_time": "2023-05-23T12:49:43.892Z"
   },
   {
    "duration": 5,
    "start_time": "2023-05-23T12:49:43.985Z"
   },
   {
    "duration": 37,
    "start_time": "2023-05-23T12:49:43.991Z"
   },
   {
    "duration": 6,
    "start_time": "2023-05-23T12:49:44.030Z"
   },
   {
    "duration": 28,
    "start_time": "2023-05-23T12:49:44.038Z"
   },
   {
    "duration": 32,
    "start_time": "2023-05-23T12:49:44.068Z"
   },
   {
    "duration": 43,
    "start_time": "2023-05-23T12:49:44.101Z"
   },
   {
    "duration": 24,
    "start_time": "2023-05-23T12:49:44.146Z"
   },
   {
    "duration": 30,
    "start_time": "2023-05-23T12:49:44.171Z"
   },
   {
    "duration": 48,
    "start_time": "2023-05-23T12:49:44.203Z"
   },
   {
    "duration": 86,
    "start_time": "2023-05-23T12:49:44.254Z"
   },
   {
    "duration": 83,
    "start_time": "2023-05-23T12:49:44.342Z"
   },
   {
    "duration": 23,
    "start_time": "2023-05-23T12:49:44.426Z"
   },
   {
    "duration": 74,
    "start_time": "2023-05-23T12:49:44.451Z"
   },
   {
    "duration": 55,
    "start_time": "2023-05-23T12:49:44.527Z"
   },
   {
    "duration": 26,
    "start_time": "2023-05-23T12:49:44.630Z"
   },
   {
    "duration": 13,
    "start_time": "2023-05-23T12:49:44.657Z"
   },
   {
    "duration": 895,
    "start_time": "2023-05-23T12:49:44.671Z"
   },
   {
    "duration": 58,
    "start_time": "2023-05-23T12:49:45.568Z"
   },
   {
    "duration": 11,
    "start_time": "2023-05-23T12:49:45.628Z"
   },
   {
    "duration": 21,
    "start_time": "2023-05-23T12:49:45.642Z"
   },
   {
    "duration": 65,
    "start_time": "2023-05-23T12:49:45.665Z"
   },
   {
    "duration": 16,
    "start_time": "2023-05-23T12:49:45.732Z"
   },
   {
    "duration": 34,
    "start_time": "2023-05-23T12:49:45.750Z"
   },
   {
    "duration": 683,
    "start_time": "2023-05-23T12:49:45.786Z"
   },
   {
    "duration": 4,
    "start_time": "2023-05-23T12:49:46.471Z"
   },
   {
    "duration": 36,
    "start_time": "2023-05-23T12:49:46.476Z"
   },
   {
    "duration": 22,
    "start_time": "2023-05-23T12:49:46.514Z"
   },
   {
    "duration": 15,
    "start_time": "2023-05-23T12:49:46.537Z"
   },
   {
    "duration": 19,
    "start_time": "2023-05-23T12:49:46.553Z"
   },
   {
    "duration": 87,
    "start_time": "2023-05-23T13:00:32.167Z"
   },
   {
    "duration": 82,
    "start_time": "2023-05-23T13:00:45.175Z"
   },
   {
    "duration": 52,
    "start_time": "2023-05-23T13:01:18.401Z"
   },
   {
    "duration": 5,
    "start_time": "2023-05-23T13:03:59.206Z"
   },
   {
    "duration": 198,
    "start_time": "2023-05-23T13:04:08.128Z"
   },
   {
    "duration": 1746,
    "start_time": "2023-05-23T13:04:18.721Z"
   },
   {
    "duration": 60,
    "start_time": "2023-05-23T13:04:43.443Z"
   },
   {
    "duration": 51,
    "start_time": "2023-05-23T13:05:07.816Z"
   },
   {
    "duration": 57,
    "start_time": "2023-05-23T13:05:31.111Z"
   },
   {
    "duration": 78,
    "start_time": "2023-05-23T13:05:53.022Z"
   },
   {
    "duration": 6,
    "start_time": "2023-05-23T13:08:30.584Z"
   },
   {
    "duration": 51,
    "start_time": "2023-05-23T13:08:36.978Z"
   },
   {
    "duration": 50,
    "start_time": "2023-05-23T13:14:20.293Z"
   },
   {
    "duration": 51,
    "start_time": "2023-05-23T13:14:45.885Z"
   },
   {
    "duration": 74,
    "start_time": "2023-05-23T13:15:10.818Z"
   },
   {
    "duration": 61,
    "start_time": "2023-05-23T13:16:37.442Z"
   },
   {
    "duration": 65,
    "start_time": "2023-05-23T13:21:48.215Z"
   },
   {
    "duration": 1442,
    "start_time": "2023-05-23T13:23:14.210Z"
   },
   {
    "duration": 129,
    "start_time": "2023-05-23T13:23:15.654Z"
   },
   {
    "duration": 10,
    "start_time": "2023-05-23T13:23:15.784Z"
   },
   {
    "duration": 33,
    "start_time": "2023-05-23T13:23:15.796Z"
   },
   {
    "duration": 28,
    "start_time": "2023-05-23T13:23:15.831Z"
   },
   {
    "duration": 39,
    "start_time": "2023-05-23T13:23:15.861Z"
   },
   {
    "duration": 56,
    "start_time": "2023-05-23T13:23:15.901Z"
   },
   {
    "duration": 55,
    "start_time": "2023-05-23T13:23:15.959Z"
   },
   {
    "duration": 30,
    "start_time": "2023-05-23T13:23:16.016Z"
   },
   {
    "duration": 39,
    "start_time": "2023-05-23T13:23:16.049Z"
   },
   {
    "duration": 34,
    "start_time": "2023-05-23T13:23:16.089Z"
   },
   {
    "duration": 30,
    "start_time": "2023-05-23T13:23:16.125Z"
   },
   {
    "duration": 52,
    "start_time": "2023-05-23T13:23:16.157Z"
   },
   {
    "duration": 39,
    "start_time": "2023-05-23T13:23:16.210Z"
   },
   {
    "duration": 47,
    "start_time": "2023-05-23T13:23:16.251Z"
   },
   {
    "duration": 28,
    "start_time": "2023-05-23T13:23:16.300Z"
   },
   {
    "duration": 8,
    "start_time": "2023-05-23T13:23:16.329Z"
   },
   {
    "duration": 55,
    "start_time": "2023-05-23T13:23:16.339Z"
   },
   {
    "duration": 41,
    "start_time": "2023-05-23T13:23:16.396Z"
   },
   {
    "duration": 49,
    "start_time": "2023-05-23T13:23:16.439Z"
   },
   {
    "duration": 22,
    "start_time": "2023-05-23T13:23:16.489Z"
   },
   {
    "duration": 26,
    "start_time": "2023-05-23T13:23:16.513Z"
   },
   {
    "duration": 12,
    "start_time": "2023-05-23T13:23:16.540Z"
   },
   {
    "duration": 48,
    "start_time": "2023-05-23T13:23:16.554Z"
   },
   {
    "duration": 36,
    "start_time": "2023-05-23T13:23:16.604Z"
   },
   {
    "duration": 10,
    "start_time": "2023-05-23T13:23:16.641Z"
   },
   {
    "duration": 14,
    "start_time": "2023-05-23T13:23:16.653Z"
   },
   {
    "duration": 24,
    "start_time": "2023-05-23T13:23:16.671Z"
   },
   {
    "duration": 56,
    "start_time": "2023-05-23T13:23:16.697Z"
   },
   {
    "duration": 21,
    "start_time": "2023-05-23T13:23:16.755Z"
   },
   {
    "duration": 63,
    "start_time": "2023-05-23T13:23:16.778Z"
   },
   {
    "duration": 71,
    "start_time": "2023-05-23T13:23:16.843Z"
   },
   {
    "duration": 5,
    "start_time": "2023-05-23T13:23:16.916Z"
   },
   {
    "duration": 42,
    "start_time": "2023-05-23T13:23:16.922Z"
   },
   {
    "duration": 8,
    "start_time": "2023-05-23T13:23:16.965Z"
   },
   {
    "duration": 30,
    "start_time": "2023-05-23T13:23:16.974Z"
   },
   {
    "duration": 34,
    "start_time": "2023-05-23T13:23:17.005Z"
   },
   {
    "duration": 25,
    "start_time": "2023-05-23T13:23:17.041Z"
   },
   {
    "duration": 18,
    "start_time": "2023-05-23T13:23:17.068Z"
   },
   {
    "duration": 318,
    "start_time": "2023-05-23T13:23:17.087Z"
   },
   {
    "duration": 91,
    "start_time": "2023-05-23T13:23:17.407Z"
   },
   {
    "duration": 7,
    "start_time": "2023-05-23T13:23:17.499Z"
   },
   {
    "duration": 197,
    "start_time": "2023-05-23T13:23:17.507Z"
   },
   {
    "duration": 19,
    "start_time": "2023-05-23T13:23:17.706Z"
   },
   {
    "duration": 115,
    "start_time": "2023-05-23T13:23:17.727Z"
   },
   {
    "duration": 10,
    "start_time": "2023-05-23T13:23:17.844Z"
   },
   {
    "duration": 50,
    "start_time": "2023-05-23T13:23:17.855Z"
   },
   {
    "duration": 103,
    "start_time": "2023-05-23T13:23:17.906Z"
   },
   {
    "duration": 62,
    "start_time": "2023-05-23T13:23:18.011Z"
   },
   {
    "duration": 5,
    "start_time": "2023-05-23T13:23:18.075Z"
   },
   {
    "duration": 93,
    "start_time": "2023-05-23T13:23:18.081Z"
   },
   {
    "duration": 6,
    "start_time": "2023-05-23T13:23:18.175Z"
   },
   {
    "duration": 126,
    "start_time": "2023-05-23T13:23:18.182Z"
   },
   {
    "duration": 34,
    "start_time": "2023-05-23T13:23:18.310Z"
   },
   {
    "duration": 77,
    "start_time": "2023-05-23T13:23:18.346Z"
   },
   {
    "duration": 5,
    "start_time": "2023-05-23T13:23:18.425Z"
   },
   {
    "duration": 80,
    "start_time": "2023-05-23T13:23:18.432Z"
   },
   {
    "duration": 5,
    "start_time": "2023-05-23T13:23:18.514Z"
   },
   {
    "duration": 103,
    "start_time": "2023-05-23T13:23:18.521Z"
   },
   {
    "duration": 4,
    "start_time": "2023-05-23T13:23:18.626Z"
   },
   {
    "duration": 73,
    "start_time": "2023-05-23T13:23:18.632Z"
   },
   {
    "duration": 24,
    "start_time": "2023-05-23T13:23:18.707Z"
   },
   {
    "duration": 97,
    "start_time": "2023-05-23T13:23:18.733Z"
   },
   {
    "duration": 76,
    "start_time": "2023-05-23T13:23:18.832Z"
   },
   {
    "duration": 87,
    "start_time": "2023-05-23T13:23:18.910Z"
   },
   {
    "duration": 31,
    "start_time": "2023-05-23T13:23:18.999Z"
   },
   {
    "duration": 93,
    "start_time": "2023-05-23T13:23:19.031Z"
   },
   {
    "duration": 37,
    "start_time": "2023-05-23T13:23:19.125Z"
   },
   {
    "duration": 62,
    "start_time": "2023-05-23T13:23:19.167Z"
   },
   {
    "duration": 4,
    "start_time": "2023-05-23T13:23:19.231Z"
   },
   {
    "duration": 61,
    "start_time": "2023-05-23T13:23:19.237Z"
   },
   {
    "duration": 5,
    "start_time": "2023-05-23T13:23:19.299Z"
   },
   {
    "duration": 20,
    "start_time": "2023-05-23T13:23:19.325Z"
   },
   {
    "duration": 6,
    "start_time": "2023-05-23T13:23:19.346Z"
   },
   {
    "duration": 27,
    "start_time": "2023-05-23T13:23:19.354Z"
   },
   {
    "duration": 58,
    "start_time": "2023-05-23T13:23:19.383Z"
   },
   {
    "duration": 25,
    "start_time": "2023-05-23T13:23:19.442Z"
   },
   {
    "duration": 23,
    "start_time": "2023-05-23T13:23:19.469Z"
   },
   {
    "duration": 53,
    "start_time": "2023-05-23T13:23:19.494Z"
   },
   {
    "duration": 24,
    "start_time": "2023-05-23T13:23:19.549Z"
   },
   {
    "duration": 51,
    "start_time": "2023-05-23T13:23:19.575Z"
   },
   {
    "duration": 23,
    "start_time": "2023-05-23T13:23:19.631Z"
   },
   {
    "duration": 22,
    "start_time": "2023-05-23T13:23:19.656Z"
   },
   {
    "duration": 46,
    "start_time": "2023-05-23T13:23:19.680Z"
   },
   {
    "duration": 26,
    "start_time": "2023-05-23T13:23:19.728Z"
   },
   {
    "duration": 27,
    "start_time": "2023-05-23T13:23:19.755Z"
   },
   {
    "duration": 9,
    "start_time": "2023-05-23T13:23:19.784Z"
   },
   {
    "duration": 397,
    "start_time": "2023-05-23T13:23:19.795Z"
   },
   {
    "duration": 4,
    "start_time": "2023-05-23T13:23:20.194Z"
   },
   {
    "duration": 12,
    "start_time": "2023-05-23T13:23:20.199Z"
   },
   {
    "duration": 15,
    "start_time": "2023-05-23T13:23:20.213Z"
   },
   {
    "duration": 9,
    "start_time": "2023-05-23T13:23:20.229Z"
   },
   {
    "duration": 11,
    "start_time": "2023-05-23T13:23:20.240Z"
   },
   {
    "duration": 11,
    "start_time": "2023-05-23T13:23:20.253Z"
   },
   {
    "duration": 317,
    "start_time": "2023-05-23T13:23:20.266Z"
   },
   {
    "duration": 4,
    "start_time": "2023-05-23T13:23:20.585Z"
   },
   {
    "duration": 11,
    "start_time": "2023-05-23T13:23:20.590Z"
   },
   {
    "duration": 9,
    "start_time": "2023-05-23T13:23:20.603Z"
   },
   {
    "duration": 15,
    "start_time": "2023-05-23T13:23:20.614Z"
   },
   {
    "duration": 18,
    "start_time": "2023-05-23T13:23:20.631Z"
   },
   {
    "duration": 1534,
    "start_time": "2023-05-23T13:28:28.995Z"
   },
   {
    "duration": 132,
    "start_time": "2023-05-23T13:28:30.531Z"
   },
   {
    "duration": 10,
    "start_time": "2023-05-23T13:28:30.665Z"
   },
   {
    "duration": 24,
    "start_time": "2023-05-23T13:28:30.724Z"
   },
   {
    "duration": 38,
    "start_time": "2023-05-23T13:28:30.749Z"
   },
   {
    "duration": 107,
    "start_time": "2023-05-23T13:28:30.825Z"
   },
   {
    "duration": 56,
    "start_time": "2023-05-23T13:28:30.934Z"
   },
   {
    "duration": 101,
    "start_time": "2023-05-23T13:28:31.025Z"
   },
   {
    "duration": 41,
    "start_time": "2023-05-23T13:28:31.127Z"
   },
   {
    "duration": 70,
    "start_time": "2023-05-23T13:28:31.171Z"
   },
   {
    "duration": 43,
    "start_time": "2023-05-23T13:28:31.242Z"
   },
   {
    "duration": 39,
    "start_time": "2023-05-23T13:28:31.287Z"
   },
   {
    "duration": 61,
    "start_time": "2023-05-23T13:28:31.327Z"
   },
   {
    "duration": 51,
    "start_time": "2023-05-23T13:28:31.390Z"
   },
   {
    "duration": 100,
    "start_time": "2023-05-23T13:28:31.443Z"
   },
   {
    "duration": 87,
    "start_time": "2023-05-23T13:28:31.545Z"
   },
   {
    "duration": 5,
    "start_time": "2023-05-23T13:28:31.634Z"
   },
   {
    "duration": 92,
    "start_time": "2023-05-23T13:28:31.641Z"
   },
   {
    "duration": 18,
    "start_time": "2023-05-23T13:28:31.734Z"
   },
   {
    "duration": 81,
    "start_time": "2023-05-23T13:28:31.754Z"
   },
   {
    "duration": 6,
    "start_time": "2023-05-23T13:28:31.836Z"
   },
   {
    "duration": 16,
    "start_time": "2023-05-23T13:28:31.844Z"
   },
   {
    "duration": 9,
    "start_time": "2023-05-23T13:28:31.861Z"
   },
   {
    "duration": 57,
    "start_time": "2023-05-23T13:28:31.872Z"
   },
   {
    "duration": 23,
    "start_time": "2023-05-23T13:28:31.931Z"
   },
   {
    "duration": 8,
    "start_time": "2023-05-23T13:28:31.955Z"
   },
   {
    "duration": 72,
    "start_time": "2023-05-23T13:28:31.964Z"
   },
   {
    "duration": 10,
    "start_time": "2023-05-23T13:28:32.040Z"
   },
   {
    "duration": 21,
    "start_time": "2023-05-23T13:28:32.051Z"
   },
   {
    "duration": 53,
    "start_time": "2023-05-23T13:28:32.074Z"
   },
   {
    "duration": 36,
    "start_time": "2023-05-23T13:28:32.129Z"
   },
   {
    "duration": 245,
    "start_time": "2023-05-23T13:28:32.166Z"
   },
   {
    "duration": 0,
    "start_time": "2023-05-23T13:28:32.414Z"
   },
   {
    "duration": 0,
    "start_time": "2023-05-23T13:28:32.415Z"
   },
   {
    "duration": 0,
    "start_time": "2023-05-23T13:28:32.416Z"
   },
   {
    "duration": 0,
    "start_time": "2023-05-23T13:28:32.417Z"
   },
   {
    "duration": 0,
    "start_time": "2023-05-23T13:28:32.424Z"
   },
   {
    "duration": 0,
    "start_time": "2023-05-23T13:28:32.425Z"
   },
   {
    "duration": 0,
    "start_time": "2023-05-23T13:28:32.426Z"
   },
   {
    "duration": 0,
    "start_time": "2023-05-23T13:28:32.427Z"
   },
   {
    "duration": 0,
    "start_time": "2023-05-23T13:28:32.429Z"
   },
   {
    "duration": 0,
    "start_time": "2023-05-23T13:28:32.430Z"
   },
   {
    "duration": 0,
    "start_time": "2023-05-23T13:28:32.431Z"
   },
   {
    "duration": 0,
    "start_time": "2023-05-23T13:28:32.432Z"
   },
   {
    "duration": 0,
    "start_time": "2023-05-23T13:28:32.433Z"
   },
   {
    "duration": 0,
    "start_time": "2023-05-23T13:28:32.434Z"
   },
   {
    "duration": 0,
    "start_time": "2023-05-23T13:28:32.435Z"
   },
   {
    "duration": 0,
    "start_time": "2023-05-23T13:28:32.436Z"
   },
   {
    "duration": 0,
    "start_time": "2023-05-23T13:28:32.438Z"
   },
   {
    "duration": 0,
    "start_time": "2023-05-23T13:28:32.438Z"
   },
   {
    "duration": 0,
    "start_time": "2023-05-23T13:28:32.439Z"
   },
   {
    "duration": 0,
    "start_time": "2023-05-23T13:28:32.440Z"
   },
   {
    "duration": 0,
    "start_time": "2023-05-23T13:28:32.442Z"
   },
   {
    "duration": 1,
    "start_time": "2023-05-23T13:28:32.442Z"
   },
   {
    "duration": 0,
    "start_time": "2023-05-23T13:28:32.444Z"
   },
   {
    "duration": 0,
    "start_time": "2023-05-23T13:28:32.444Z"
   },
   {
    "duration": 0,
    "start_time": "2023-05-23T13:28:32.445Z"
   },
   {
    "duration": 0,
    "start_time": "2023-05-23T13:28:32.446Z"
   },
   {
    "duration": 0,
    "start_time": "2023-05-23T13:28:32.447Z"
   },
   {
    "duration": 0,
    "start_time": "2023-05-23T13:28:32.448Z"
   },
   {
    "duration": 0,
    "start_time": "2023-05-23T13:28:32.449Z"
   },
   {
    "duration": 0,
    "start_time": "2023-05-23T13:28:32.450Z"
   },
   {
    "duration": 0,
    "start_time": "2023-05-23T13:28:32.450Z"
   },
   {
    "duration": 0,
    "start_time": "2023-05-23T13:28:32.451Z"
   },
   {
    "duration": 0,
    "start_time": "2023-05-23T13:28:32.452Z"
   },
   {
    "duration": 0,
    "start_time": "2023-05-23T13:28:32.453Z"
   },
   {
    "duration": 0,
    "start_time": "2023-05-23T13:28:32.454Z"
   },
   {
    "duration": 1,
    "start_time": "2023-05-23T13:28:32.455Z"
   },
   {
    "duration": 0,
    "start_time": "2023-05-23T13:28:32.456Z"
   },
   {
    "duration": 0,
    "start_time": "2023-05-23T13:28:32.458Z"
   },
   {
    "duration": 0,
    "start_time": "2023-05-23T13:28:32.459Z"
   },
   {
    "duration": 0,
    "start_time": "2023-05-23T13:28:32.460Z"
   },
   {
    "duration": 0,
    "start_time": "2023-05-23T13:28:32.461Z"
   },
   {
    "duration": 0,
    "start_time": "2023-05-23T13:28:32.525Z"
   },
   {
    "duration": 0,
    "start_time": "2023-05-23T13:28:32.526Z"
   },
   {
    "duration": 0,
    "start_time": "2023-05-23T13:28:32.527Z"
   },
   {
    "duration": 0,
    "start_time": "2023-05-23T13:28:32.528Z"
   },
   {
    "duration": 0,
    "start_time": "2023-05-23T13:28:32.529Z"
   },
   {
    "duration": 0,
    "start_time": "2023-05-23T13:28:32.530Z"
   },
   {
    "duration": 0,
    "start_time": "2023-05-23T13:28:32.531Z"
   },
   {
    "duration": 0,
    "start_time": "2023-05-23T13:28:32.532Z"
   },
   {
    "duration": 0,
    "start_time": "2023-05-23T13:28:32.533Z"
   },
   {
    "duration": 0,
    "start_time": "2023-05-23T13:28:32.534Z"
   },
   {
    "duration": 0,
    "start_time": "2023-05-23T13:28:32.536Z"
   },
   {
    "duration": 0,
    "start_time": "2023-05-23T13:28:32.537Z"
   },
   {
    "duration": 0,
    "start_time": "2023-05-23T13:28:32.538Z"
   },
   {
    "duration": 0,
    "start_time": "2023-05-23T13:28:32.539Z"
   },
   {
    "duration": 0,
    "start_time": "2023-05-23T13:28:32.540Z"
   },
   {
    "duration": 0,
    "start_time": "2023-05-23T13:28:32.541Z"
   },
   {
    "duration": 0,
    "start_time": "2023-05-23T13:28:32.542Z"
   },
   {
    "duration": 0,
    "start_time": "2023-05-23T13:28:32.543Z"
   },
   {
    "duration": 0,
    "start_time": "2023-05-23T13:28:32.544Z"
   },
   {
    "duration": 0,
    "start_time": "2023-05-23T13:28:32.545Z"
   },
   {
    "duration": 0,
    "start_time": "2023-05-23T13:28:32.546Z"
   },
   {
    "duration": 0,
    "start_time": "2023-05-23T13:28:32.547Z"
   },
   {
    "duration": 0,
    "start_time": "2023-05-23T13:28:32.548Z"
   },
   {
    "duration": 0,
    "start_time": "2023-05-23T13:28:32.549Z"
   },
   {
    "duration": 0,
    "start_time": "2023-05-23T13:28:32.550Z"
   },
   {
    "duration": 0,
    "start_time": "2023-05-23T13:28:32.551Z"
   },
   {
    "duration": 0,
    "start_time": "2023-05-23T13:28:32.552Z"
   },
   {
    "duration": 15,
    "start_time": "2023-05-23T13:28:53.679Z"
   },
   {
    "duration": 12,
    "start_time": "2023-05-23T13:29:18.461Z"
   },
   {
    "duration": 12,
    "start_time": "2023-05-23T13:29:29.005Z"
   },
   {
    "duration": 2128,
    "start_time": "2023-05-23T13:29:50.400Z"
   },
   {
    "duration": 315,
    "start_time": "2023-05-23T13:29:52.531Z"
   },
   {
    "duration": 16,
    "start_time": "2023-05-23T13:29:52.848Z"
   },
   {
    "duration": 71,
    "start_time": "2023-05-23T13:29:52.867Z"
   },
   {
    "duration": 23,
    "start_time": "2023-05-23T13:29:52.940Z"
   },
   {
    "duration": 87,
    "start_time": "2023-05-23T13:29:52.965Z"
   },
   {
    "duration": 74,
    "start_time": "2023-05-23T13:29:53.055Z"
   },
   {
    "duration": 26,
    "start_time": "2023-05-23T13:29:53.131Z"
   },
   {
    "duration": 6,
    "start_time": "2023-05-23T13:29:53.159Z"
   },
   {
    "duration": 65,
    "start_time": "2023-05-23T13:29:53.169Z"
   },
   {
    "duration": 14,
    "start_time": "2023-05-23T13:29:53.236Z"
   },
   {
    "duration": 5,
    "start_time": "2023-05-23T13:29:53.253Z"
   },
   {
    "duration": 75,
    "start_time": "2023-05-23T13:29:53.261Z"
   },
   {
    "duration": 26,
    "start_time": "2023-05-23T13:29:53.339Z"
   },
   {
    "duration": 104,
    "start_time": "2023-05-23T13:29:53.366Z"
   },
   {
    "duration": 92,
    "start_time": "2023-05-23T13:29:53.471Z"
   },
   {
    "duration": 6,
    "start_time": "2023-05-23T13:29:53.565Z"
   },
   {
    "duration": 69,
    "start_time": "2023-05-23T13:29:53.573Z"
   },
   {
    "duration": 98,
    "start_time": "2023-05-23T13:29:53.644Z"
   },
   {
    "duration": 33,
    "start_time": "2023-05-23T13:29:53.745Z"
   },
   {
    "duration": 95,
    "start_time": "2023-05-23T13:29:53.779Z"
   },
   {
    "duration": 23,
    "start_time": "2023-05-23T13:29:53.876Z"
   },
   {
    "duration": 6,
    "start_time": "2023-05-23T13:29:53.901Z"
   },
   {
    "duration": 18,
    "start_time": "2023-05-23T13:29:53.909Z"
   },
   {
    "duration": 47,
    "start_time": "2023-05-23T13:29:53.929Z"
   },
   {
    "duration": 13,
    "start_time": "2023-05-23T13:29:53.978Z"
   },
   {
    "duration": 19,
    "start_time": "2023-05-23T13:29:53.993Z"
   },
   {
    "duration": 27,
    "start_time": "2023-05-23T13:29:54.016Z"
   },
   {
    "duration": 32,
    "start_time": "2023-05-23T13:29:54.045Z"
   },
   {
    "duration": 16,
    "start_time": "2023-05-23T13:29:54.079Z"
   },
   {
    "duration": 47,
    "start_time": "2023-05-23T13:29:54.097Z"
   },
   {
    "duration": 164,
    "start_time": "2023-05-23T13:29:54.146Z"
   },
   {
    "duration": 0,
    "start_time": "2023-05-23T13:29:54.313Z"
   },
   {
    "duration": 0,
    "start_time": "2023-05-23T13:29:54.314Z"
   },
   {
    "duration": 0,
    "start_time": "2023-05-23T13:29:54.315Z"
   },
   {
    "duration": 0,
    "start_time": "2023-05-23T13:29:54.324Z"
   },
   {
    "duration": 0,
    "start_time": "2023-05-23T13:29:54.326Z"
   },
   {
    "duration": 0,
    "start_time": "2023-05-23T13:29:54.327Z"
   },
   {
    "duration": 0,
    "start_time": "2023-05-23T13:29:54.328Z"
   },
   {
    "duration": 0,
    "start_time": "2023-05-23T13:29:54.329Z"
   },
   {
    "duration": 0,
    "start_time": "2023-05-23T13:29:54.331Z"
   },
   {
    "duration": 0,
    "start_time": "2023-05-23T13:29:54.333Z"
   },
   {
    "duration": 0,
    "start_time": "2023-05-23T13:29:54.334Z"
   },
   {
    "duration": 0,
    "start_time": "2023-05-23T13:29:54.335Z"
   },
   {
    "duration": 0,
    "start_time": "2023-05-23T13:29:54.337Z"
   },
   {
    "duration": 0,
    "start_time": "2023-05-23T13:29:54.338Z"
   },
   {
    "duration": 0,
    "start_time": "2023-05-23T13:29:54.340Z"
   },
   {
    "duration": 0,
    "start_time": "2023-05-23T13:29:54.341Z"
   },
   {
    "duration": 0,
    "start_time": "2023-05-23T13:29:54.343Z"
   },
   {
    "duration": 0,
    "start_time": "2023-05-23T13:29:54.344Z"
   },
   {
    "duration": 0,
    "start_time": "2023-05-23T13:29:54.345Z"
   },
   {
    "duration": 0,
    "start_time": "2023-05-23T13:29:54.347Z"
   },
   {
    "duration": 0,
    "start_time": "2023-05-23T13:29:54.348Z"
   },
   {
    "duration": 0,
    "start_time": "2023-05-23T13:29:54.350Z"
   },
   {
    "duration": 0,
    "start_time": "2023-05-23T13:29:54.351Z"
   },
   {
    "duration": 0,
    "start_time": "2023-05-23T13:29:54.352Z"
   },
   {
    "duration": 0,
    "start_time": "2023-05-23T13:29:54.354Z"
   },
   {
    "duration": 0,
    "start_time": "2023-05-23T13:29:54.355Z"
   },
   {
    "duration": 0,
    "start_time": "2023-05-23T13:29:54.356Z"
   },
   {
    "duration": 0,
    "start_time": "2023-05-23T13:29:54.357Z"
   },
   {
    "duration": 0,
    "start_time": "2023-05-23T13:29:54.359Z"
   },
   {
    "duration": 0,
    "start_time": "2023-05-23T13:29:54.360Z"
   },
   {
    "duration": 0,
    "start_time": "2023-05-23T13:29:54.361Z"
   },
   {
    "duration": 0,
    "start_time": "2023-05-23T13:29:54.424Z"
   },
   {
    "duration": 0,
    "start_time": "2023-05-23T13:29:54.426Z"
   },
   {
    "duration": 0,
    "start_time": "2023-05-23T13:29:54.427Z"
   },
   {
    "duration": 0,
    "start_time": "2023-05-23T13:29:54.428Z"
   },
   {
    "duration": 0,
    "start_time": "2023-05-23T13:29:54.429Z"
   },
   {
    "duration": 0,
    "start_time": "2023-05-23T13:29:54.430Z"
   },
   {
    "duration": 0,
    "start_time": "2023-05-23T13:29:54.431Z"
   },
   {
    "duration": 0,
    "start_time": "2023-05-23T13:29:54.432Z"
   },
   {
    "duration": 0,
    "start_time": "2023-05-23T13:29:54.433Z"
   },
   {
    "duration": 0,
    "start_time": "2023-05-23T13:29:54.435Z"
   },
   {
    "duration": 0,
    "start_time": "2023-05-23T13:29:54.435Z"
   },
   {
    "duration": 0,
    "start_time": "2023-05-23T13:29:54.437Z"
   },
   {
    "duration": 0,
    "start_time": "2023-05-23T13:29:54.438Z"
   },
   {
    "duration": 0,
    "start_time": "2023-05-23T13:29:54.440Z"
   },
   {
    "duration": 0,
    "start_time": "2023-05-23T13:29:54.441Z"
   },
   {
    "duration": 0,
    "start_time": "2023-05-23T13:29:54.443Z"
   },
   {
    "duration": 0,
    "start_time": "2023-05-23T13:29:54.444Z"
   },
   {
    "duration": 0,
    "start_time": "2023-05-23T13:29:54.445Z"
   },
   {
    "duration": 0,
    "start_time": "2023-05-23T13:29:54.446Z"
   },
   {
    "duration": 0,
    "start_time": "2023-05-23T13:29:54.447Z"
   },
   {
    "duration": 0,
    "start_time": "2023-05-23T13:29:54.449Z"
   },
   {
    "duration": 0,
    "start_time": "2023-05-23T13:29:54.449Z"
   },
   {
    "duration": 0,
    "start_time": "2023-05-23T13:29:54.451Z"
   },
   {
    "duration": 0,
    "start_time": "2023-05-23T13:29:54.452Z"
   },
   {
    "duration": 0,
    "start_time": "2023-05-23T13:29:54.453Z"
   },
   {
    "duration": 0,
    "start_time": "2023-05-23T13:29:54.454Z"
   },
   {
    "duration": 0,
    "start_time": "2023-05-23T13:29:54.455Z"
   },
   {
    "duration": 0,
    "start_time": "2023-05-23T13:29:54.456Z"
   },
   {
    "duration": 0,
    "start_time": "2023-05-23T13:29:54.458Z"
   },
   {
    "duration": 0,
    "start_time": "2023-05-23T13:29:54.459Z"
   },
   {
    "duration": 0,
    "start_time": "2023-05-23T13:29:54.461Z"
   },
   {
    "duration": 0,
    "start_time": "2023-05-23T13:29:54.463Z"
   },
   {
    "duration": 0,
    "start_time": "2023-05-23T13:29:54.525Z"
   },
   {
    "duration": 0,
    "start_time": "2023-05-23T13:29:54.527Z"
   },
   {
    "duration": 0,
    "start_time": "2023-05-23T13:29:54.528Z"
   },
   {
    "duration": 0,
    "start_time": "2023-05-23T13:29:54.529Z"
   },
   {
    "duration": 0,
    "start_time": "2023-05-23T13:29:54.531Z"
   },
   {
    "duration": 12,
    "start_time": "2023-05-23T13:30:25.476Z"
   },
   {
    "duration": 13,
    "start_time": "2023-05-23T13:30:31.976Z"
   },
   {
    "duration": 13,
    "start_time": "2023-05-23T13:31:02.590Z"
   },
   {
    "duration": 118,
    "start_time": "2023-05-23T13:31:13.336Z"
   },
   {
    "duration": 12,
    "start_time": "2023-05-23T13:31:27.513Z"
   },
   {
    "duration": 12,
    "start_time": "2023-05-23T13:31:38.776Z"
   },
   {
    "duration": 1883,
    "start_time": "2023-05-23T13:31:52.635Z"
   },
   {
    "duration": 135,
    "start_time": "2023-05-23T13:31:54.520Z"
   },
   {
    "duration": 11,
    "start_time": "2023-05-23T13:31:54.657Z"
   },
   {
    "duration": 34,
    "start_time": "2023-05-23T13:31:54.670Z"
   },
   {
    "duration": 39,
    "start_time": "2023-05-23T13:31:54.706Z"
   },
   {
    "duration": 46,
    "start_time": "2023-05-23T13:31:54.747Z"
   },
   {
    "duration": 13,
    "start_time": "2023-05-23T13:31:54.795Z"
   },
   {
    "duration": 26,
    "start_time": "2023-05-23T13:31:54.810Z"
   },
   {
    "duration": 10,
    "start_time": "2023-05-23T13:31:54.839Z"
   },
   {
    "duration": 31,
    "start_time": "2023-05-23T13:31:54.853Z"
   },
   {
    "duration": 14,
    "start_time": "2023-05-23T13:31:54.886Z"
   },
   {
    "duration": 16,
    "start_time": "2023-05-23T13:31:54.902Z"
   },
   {
    "duration": 27,
    "start_time": "2023-05-23T13:31:54.921Z"
   },
   {
    "duration": 88,
    "start_time": "2023-05-23T13:31:54.951Z"
   },
   {
    "duration": 59,
    "start_time": "2023-05-23T13:31:55.042Z"
   },
   {
    "duration": 31,
    "start_time": "2023-05-23T13:31:55.103Z"
   },
   {
    "duration": 5,
    "start_time": "2023-05-23T13:31:55.136Z"
   },
   {
    "duration": 35,
    "start_time": "2023-05-23T13:31:55.144Z"
   },
   {
    "duration": 17,
    "start_time": "2023-05-23T13:31:55.181Z"
   },
   {
    "duration": 34,
    "start_time": "2023-05-23T13:31:55.200Z"
   },
   {
    "duration": 7,
    "start_time": "2023-05-23T13:31:55.236Z"
   },
   {
    "duration": 16,
    "start_time": "2023-05-23T13:31:55.245Z"
   },
   {
    "duration": 18,
    "start_time": "2023-05-23T13:31:55.264Z"
   },
   {
    "duration": 17,
    "start_time": "2023-05-23T13:31:55.284Z"
   },
   {
    "duration": 38,
    "start_time": "2023-05-23T13:31:55.303Z"
   },
   {
    "duration": 8,
    "start_time": "2023-05-23T13:31:55.343Z"
   },
   {
    "duration": 21,
    "start_time": "2023-05-23T13:31:55.353Z"
   },
   {
    "duration": 48,
    "start_time": "2023-05-23T13:31:55.381Z"
   },
   {
    "duration": 24,
    "start_time": "2023-05-23T13:31:55.431Z"
   },
   {
    "duration": 69,
    "start_time": "2023-05-23T13:31:55.457Z"
   },
   {
    "duration": 97,
    "start_time": "2023-05-23T13:31:55.528Z"
   },
   {
    "duration": 126,
    "start_time": "2023-05-23T13:31:55.627Z"
   },
   {
    "duration": 4,
    "start_time": "2023-05-23T13:31:55.755Z"
   },
   {
    "duration": 84,
    "start_time": "2023-05-23T13:31:55.760Z"
   },
   {
    "duration": 5,
    "start_time": "2023-05-23T13:31:55.846Z"
   },
   {
    "duration": 71,
    "start_time": "2023-05-23T13:31:55.853Z"
   },
   {
    "duration": 19,
    "start_time": "2023-05-23T13:31:55.926Z"
   },
   {
    "duration": 101,
    "start_time": "2023-05-23T13:31:55.947Z"
   },
   {
    "duration": 20,
    "start_time": "2023-05-23T13:31:56.049Z"
   },
   {
    "duration": 578,
    "start_time": "2023-05-23T13:31:56.070Z"
   },
   {
    "duration": 215,
    "start_time": "2023-05-23T13:31:56.650Z"
   },
   {
    "duration": 5,
    "start_time": "2023-05-23T13:31:56.867Z"
   },
   {
    "duration": 330,
    "start_time": "2023-05-23T13:31:56.924Z"
   },
   {
    "duration": 12,
    "start_time": "2023-05-23T13:31:57.256Z"
   },
   {
    "duration": 115,
    "start_time": "2023-05-23T13:31:57.270Z"
   },
   {
    "duration": 8,
    "start_time": "2023-05-23T13:31:57.426Z"
   },
   {
    "duration": 26,
    "start_time": "2023-05-23T13:31:57.435Z"
   },
   {
    "duration": 173,
    "start_time": "2023-05-23T13:31:57.463Z"
   },
   {
    "duration": 113,
    "start_time": "2023-05-23T13:31:57.638Z"
   },
   {
    "duration": 4,
    "start_time": "2023-05-23T13:31:57.753Z"
   },
   {
    "duration": 177,
    "start_time": "2023-05-23T13:31:57.758Z"
   },
   {
    "duration": 6,
    "start_time": "2023-05-23T13:31:57.938Z"
   },
   {
    "duration": 184,
    "start_time": "2023-05-23T13:31:57.945Z"
   },
   {
    "duration": 5,
    "start_time": "2023-05-23T13:31:58.131Z"
   },
   {
    "duration": 198,
    "start_time": "2023-05-23T13:31:58.138Z"
   },
   {
    "duration": 5,
    "start_time": "2023-05-23T13:31:58.339Z"
   },
   {
    "duration": 199,
    "start_time": "2023-05-23T13:31:58.346Z"
   },
   {
    "duration": 5,
    "start_time": "2023-05-23T13:31:58.548Z"
   },
   {
    "duration": 182,
    "start_time": "2023-05-23T13:31:58.555Z"
   },
   {
    "duration": 4,
    "start_time": "2023-05-23T13:31:58.740Z"
   },
   {
    "duration": 115,
    "start_time": "2023-05-23T13:31:58.746Z"
   },
   {
    "duration": 5,
    "start_time": "2023-05-23T13:31:58.862Z"
   },
   {
    "duration": 176,
    "start_time": "2023-05-23T13:31:58.869Z"
   },
   {
    "duration": 4,
    "start_time": "2023-05-23T13:31:59.047Z"
   },
   {
    "duration": 114,
    "start_time": "2023-05-23T13:31:59.053Z"
   },
   {
    "duration": 60,
    "start_time": "2023-05-23T13:31:59.168Z"
   },
   {
    "duration": 125,
    "start_time": "2023-05-23T13:31:59.230Z"
   },
   {
    "duration": 5,
    "start_time": "2023-05-23T13:31:59.357Z"
   },
   {
    "duration": 169,
    "start_time": "2023-05-23T13:31:59.363Z"
   },
   {
    "duration": 4,
    "start_time": "2023-05-23T13:31:59.534Z"
   },
   {
    "duration": 111,
    "start_time": "2023-05-23T13:31:59.539Z"
   },
   {
    "duration": 4,
    "start_time": "2023-05-23T13:31:59.652Z"
   },
   {
    "duration": 80,
    "start_time": "2023-05-23T13:31:59.658Z"
   },
   {
    "duration": 6,
    "start_time": "2023-05-23T13:31:59.740Z"
   },
   {
    "duration": 83,
    "start_time": "2023-05-23T13:31:59.748Z"
   },
   {
    "duration": 26,
    "start_time": "2023-05-23T13:31:59.832Z"
   },
   {
    "duration": 86,
    "start_time": "2023-05-23T13:31:59.859Z"
   },
   {
    "duration": 82,
    "start_time": "2023-05-23T13:31:59.947Z"
   },
   {
    "duration": 46,
    "start_time": "2023-05-23T13:32:00.030Z"
   },
   {
    "duration": 67,
    "start_time": "2023-05-23T13:32:00.078Z"
   },
   {
    "duration": 88,
    "start_time": "2023-05-23T13:32:00.146Z"
   },
   {
    "duration": 117,
    "start_time": "2023-05-23T13:32:00.242Z"
   },
   {
    "duration": 94,
    "start_time": "2023-05-23T13:32:00.361Z"
   },
   {
    "duration": 104,
    "start_time": "2023-05-23T13:32:00.457Z"
   },
   {
    "duration": 104,
    "start_time": "2023-05-23T13:32:00.563Z"
   },
   {
    "duration": 92,
    "start_time": "2023-05-23T13:32:00.669Z"
   },
   {
    "duration": 77,
    "start_time": "2023-05-23T13:32:00.763Z"
   },
   {
    "duration": 860,
    "start_time": "2023-05-23T13:32:00.843Z"
   },
   {
    "duration": 5,
    "start_time": "2023-05-23T13:32:01.705Z"
   },
   {
    "duration": 336,
    "start_time": "2023-05-23T13:32:01.712Z"
   },
   {
    "duration": 38,
    "start_time": "2023-05-23T13:32:02.050Z"
   },
   {
    "duration": 27,
    "start_time": "2023-05-23T13:32:02.090Z"
   },
   {
    "duration": 40,
    "start_time": "2023-05-23T13:32:02.119Z"
   },
   {
    "duration": 32,
    "start_time": "2023-05-23T13:32:02.161Z"
   },
   {
    "duration": 377,
    "start_time": "2023-05-23T13:32:02.195Z"
   },
   {
    "duration": 4,
    "start_time": "2023-05-23T13:32:02.574Z"
   },
   {
    "duration": 23,
    "start_time": "2023-05-23T13:32:02.580Z"
   },
   {
    "duration": 19,
    "start_time": "2023-05-23T13:32:02.606Z"
   },
   {
    "duration": 11,
    "start_time": "2023-05-23T13:32:02.627Z"
   },
   {
    "duration": 9,
    "start_time": "2023-05-23T13:32:02.641Z"
   },
   {
    "duration": 63,
    "start_time": "2023-05-23T13:32:23.155Z"
   },
   {
    "duration": 1826,
    "start_time": "2023-05-23T13:32:28.937Z"
   },
   {
    "duration": 136,
    "start_time": "2023-05-23T13:32:30.766Z"
   },
   {
    "duration": 28,
    "start_time": "2023-05-23T13:32:30.903Z"
   },
   {
    "duration": 98,
    "start_time": "2023-05-23T13:32:30.933Z"
   },
   {
    "duration": 56,
    "start_time": "2023-05-23T13:32:31.032Z"
   },
   {
    "duration": 58,
    "start_time": "2023-05-23T13:32:31.090Z"
   },
   {
    "duration": 29,
    "start_time": "2023-05-23T13:32:31.150Z"
   },
   {
    "duration": 35,
    "start_time": "2023-05-23T13:32:31.181Z"
   },
   {
    "duration": 32,
    "start_time": "2023-05-23T13:32:31.217Z"
   },
   {
    "duration": 58,
    "start_time": "2023-05-23T13:32:31.252Z"
   },
   {
    "duration": 32,
    "start_time": "2023-05-23T13:32:31.312Z"
   },
   {
    "duration": 54,
    "start_time": "2023-05-23T13:32:31.345Z"
   },
   {
    "duration": 50,
    "start_time": "2023-05-23T13:32:31.401Z"
   },
   {
    "duration": 59,
    "start_time": "2023-05-23T13:32:31.453Z"
   },
   {
    "duration": 73,
    "start_time": "2023-05-23T13:32:31.513Z"
   },
   {
    "duration": 45,
    "start_time": "2023-05-23T13:32:31.589Z"
   },
   {
    "duration": 18,
    "start_time": "2023-05-23T13:32:31.636Z"
   },
   {
    "duration": 63,
    "start_time": "2023-05-23T13:32:31.655Z"
   },
   {
    "duration": 51,
    "start_time": "2023-05-23T13:32:31.719Z"
   },
   {
    "duration": 51,
    "start_time": "2023-05-23T13:32:31.772Z"
   },
   {
    "duration": 46,
    "start_time": "2023-05-23T13:32:31.826Z"
   },
   {
    "duration": 56,
    "start_time": "2023-05-23T13:32:31.875Z"
   },
   {
    "duration": 92,
    "start_time": "2023-05-23T13:32:31.933Z"
   },
   {
    "duration": 62,
    "start_time": "2023-05-23T13:32:32.027Z"
   },
   {
    "duration": 64,
    "start_time": "2023-05-23T13:32:32.091Z"
   },
   {
    "duration": 69,
    "start_time": "2023-05-23T13:32:32.156Z"
   },
   {
    "duration": 15,
    "start_time": "2023-05-23T13:32:32.226Z"
   },
   {
    "duration": 30,
    "start_time": "2023-05-23T13:32:32.245Z"
   },
   {
    "duration": 57,
    "start_time": "2023-05-23T13:32:32.277Z"
   },
   {
    "duration": 44,
    "start_time": "2023-05-23T13:32:32.336Z"
   },
   {
    "duration": 72,
    "start_time": "2023-05-23T13:32:32.383Z"
   },
   {
    "duration": 197,
    "start_time": "2023-05-23T13:32:32.458Z"
   },
   {
    "duration": 4,
    "start_time": "2023-05-23T13:32:32.657Z"
   },
   {
    "duration": 81,
    "start_time": "2023-05-23T13:32:32.663Z"
   },
   {
    "duration": 29,
    "start_time": "2023-05-23T13:32:32.746Z"
   },
   {
    "duration": 75,
    "start_time": "2023-05-23T13:32:32.777Z"
   },
   {
    "duration": 94,
    "start_time": "2023-05-23T13:32:32.855Z"
   },
   {
    "duration": 178,
    "start_time": "2023-05-23T13:32:32.951Z"
   },
   {
    "duration": 19,
    "start_time": "2023-05-23T13:32:33.131Z"
   },
   {
    "duration": 590,
    "start_time": "2023-05-23T13:32:33.152Z"
   },
   {
    "duration": 98,
    "start_time": "2023-05-23T13:32:33.743Z"
   },
   {
    "duration": 6,
    "start_time": "2023-05-23T13:32:33.843Z"
   },
   {
    "duration": 218,
    "start_time": "2023-05-23T13:32:33.850Z"
   },
   {
    "duration": 11,
    "start_time": "2023-05-23T13:32:34.069Z"
   },
   {
    "duration": 104,
    "start_time": "2023-05-23T13:32:34.082Z"
   },
   {
    "duration": 7,
    "start_time": "2023-05-23T13:32:34.187Z"
   },
   {
    "duration": 56,
    "start_time": "2023-05-23T13:32:34.196Z"
   },
   {
    "duration": 90,
    "start_time": "2023-05-23T13:32:34.254Z"
   },
   {
    "duration": 58,
    "start_time": "2023-05-23T13:32:34.346Z"
   },
   {
    "duration": 35,
    "start_time": "2023-05-23T13:32:34.405Z"
   },
   {
    "duration": 91,
    "start_time": "2023-05-23T13:32:34.442Z"
   },
   {
    "duration": 27,
    "start_time": "2023-05-23T13:32:34.535Z"
   },
   {
    "duration": 96,
    "start_time": "2023-05-23T13:32:34.564Z"
   },
   {
    "duration": 20,
    "start_time": "2023-05-23T13:32:34.662Z"
   },
   {
    "duration": 82,
    "start_time": "2023-05-23T13:32:34.684Z"
   },
   {
    "duration": 26,
    "start_time": "2023-05-23T13:32:34.768Z"
   },
   {
    "duration": 91,
    "start_time": "2023-05-23T13:32:34.795Z"
   },
   {
    "duration": 46,
    "start_time": "2023-05-23T13:32:34.888Z"
   },
   {
    "duration": 93,
    "start_time": "2023-05-23T13:32:34.936Z"
   },
   {
    "duration": 74,
    "start_time": "2023-05-23T13:32:35.032Z"
   },
   {
    "duration": 146,
    "start_time": "2023-05-23T13:32:35.108Z"
   },
   {
    "duration": 11,
    "start_time": "2023-05-23T13:32:35.257Z"
   },
   {
    "duration": 120,
    "start_time": "2023-05-23T13:32:35.270Z"
   },
   {
    "duration": 13,
    "start_time": "2023-05-23T13:32:35.392Z"
   },
   {
    "duration": 97,
    "start_time": "2023-05-23T13:32:35.406Z"
   },
   {
    "duration": 24,
    "start_time": "2023-05-23T13:32:35.505Z"
   },
   {
    "duration": 115,
    "start_time": "2023-05-23T13:32:35.531Z"
   },
   {
    "duration": 64,
    "start_time": "2023-05-23T13:32:35.648Z"
   },
   {
    "duration": 94,
    "start_time": "2023-05-23T13:32:35.715Z"
   },
   {
    "duration": 63,
    "start_time": "2023-05-23T13:32:35.811Z"
   },
   {
    "duration": 102,
    "start_time": "2023-05-23T13:32:35.876Z"
   },
   {
    "duration": 34,
    "start_time": "2023-05-23T13:32:35.980Z"
   },
   {
    "duration": 110,
    "start_time": "2023-05-23T13:32:36.016Z"
   },
   {
    "duration": 105,
    "start_time": "2023-05-23T13:32:36.128Z"
   },
   {
    "duration": 49,
    "start_time": "2023-05-23T13:32:36.235Z"
   },
   {
    "duration": 79,
    "start_time": "2023-05-23T13:32:36.286Z"
   },
   {
    "duration": 47,
    "start_time": "2023-05-23T13:32:36.366Z"
   },
   {
    "duration": 87,
    "start_time": "2023-05-23T13:32:36.414Z"
   },
   {
    "duration": 86,
    "start_time": "2023-05-23T13:32:36.504Z"
   },
   {
    "duration": 68,
    "start_time": "2023-05-23T13:32:36.593Z"
   },
   {
    "duration": 55,
    "start_time": "2023-05-23T13:32:36.663Z"
   },
   {
    "duration": 37,
    "start_time": "2023-05-23T13:32:36.725Z"
   },
   {
    "duration": 53,
    "start_time": "2023-05-23T13:32:36.765Z"
   },
   {
    "duration": 56,
    "start_time": "2023-05-23T13:32:36.820Z"
   },
   {
    "duration": 41,
    "start_time": "2023-05-23T13:32:36.878Z"
   },
   {
    "duration": 42,
    "start_time": "2023-05-23T13:32:36.922Z"
   },
   {
    "duration": 36,
    "start_time": "2023-05-23T13:32:36.966Z"
   },
   {
    "duration": 428,
    "start_time": "2023-05-23T13:32:37.005Z"
   },
   {
    "duration": 4,
    "start_time": "2023-05-23T13:32:37.435Z"
   },
   {
    "duration": 50,
    "start_time": "2023-05-23T13:32:37.441Z"
   },
   {
    "duration": 38,
    "start_time": "2023-05-23T13:32:37.493Z"
   },
   {
    "duration": 42,
    "start_time": "2023-05-23T13:32:37.534Z"
   },
   {
    "duration": 59,
    "start_time": "2023-05-23T13:32:37.577Z"
   },
   {
    "duration": 34,
    "start_time": "2023-05-23T13:32:37.637Z"
   },
   {
    "duration": 381,
    "start_time": "2023-05-23T13:32:37.673Z"
   },
   {
    "duration": 4,
    "start_time": "2023-05-23T13:32:38.056Z"
   },
   {
    "duration": 56,
    "start_time": "2023-05-23T13:32:38.062Z"
   },
   {
    "duration": 52,
    "start_time": "2023-05-23T13:32:38.120Z"
   },
   {
    "duration": 55,
    "start_time": "2023-05-23T13:32:38.174Z"
   },
   {
    "duration": 78,
    "start_time": "2023-05-23T13:32:38.231Z"
   },
   {
    "duration": 1380,
    "start_time": "2023-05-23T13:45:38.593Z"
   },
   {
    "duration": 167,
    "start_time": "2023-05-23T13:45:39.975Z"
   },
   {
    "duration": 11,
    "start_time": "2023-05-23T13:45:40.145Z"
   },
   {
    "duration": 35,
    "start_time": "2023-05-23T13:45:40.158Z"
   },
   {
    "duration": 21,
    "start_time": "2023-05-23T13:45:40.195Z"
   },
   {
    "duration": 49,
    "start_time": "2023-05-23T13:45:40.218Z"
   },
   {
    "duration": 12,
    "start_time": "2023-05-23T13:45:40.269Z"
   },
   {
    "duration": 16,
    "start_time": "2023-05-23T13:45:40.283Z"
   },
   {
    "duration": 14,
    "start_time": "2023-05-23T13:45:40.301Z"
   },
   {
    "duration": 33,
    "start_time": "2023-05-23T13:45:40.318Z"
   },
   {
    "duration": 17,
    "start_time": "2023-05-23T13:45:40.352Z"
   },
   {
    "duration": 11,
    "start_time": "2023-05-23T13:45:40.370Z"
   },
   {
    "duration": 18,
    "start_time": "2023-05-23T13:45:40.382Z"
   },
   {
    "duration": 30,
    "start_time": "2023-05-23T13:45:40.402Z"
   },
   {
    "duration": 41,
    "start_time": "2023-05-23T13:45:40.433Z"
   },
   {
    "duration": 28,
    "start_time": "2023-05-23T13:45:40.475Z"
   },
   {
    "duration": 5,
    "start_time": "2023-05-23T13:45:40.505Z"
   },
   {
    "duration": 46,
    "start_time": "2023-05-23T13:45:40.512Z"
   },
   {
    "duration": 19,
    "start_time": "2023-05-23T13:45:40.559Z"
   },
   {
    "duration": 26,
    "start_time": "2023-05-23T13:45:40.580Z"
   },
   {
    "duration": 5,
    "start_time": "2023-05-23T13:45:40.608Z"
   },
   {
    "duration": 24,
    "start_time": "2023-05-23T13:45:40.615Z"
   },
   {
    "duration": 11,
    "start_time": "2023-05-23T13:45:40.641Z"
   },
   {
    "duration": 20,
    "start_time": "2023-05-23T13:45:40.654Z"
   },
   {
    "duration": 33,
    "start_time": "2023-05-23T13:45:40.676Z"
   },
   {
    "duration": 7,
    "start_time": "2023-05-23T13:45:40.710Z"
   },
   {
    "duration": 30,
    "start_time": "2023-05-23T13:45:40.719Z"
   },
   {
    "duration": 13,
    "start_time": "2023-05-23T13:45:40.753Z"
   },
   {
    "duration": 25,
    "start_time": "2023-05-23T13:45:40.768Z"
   },
   {
    "duration": 8,
    "start_time": "2023-05-23T13:45:40.794Z"
   },
   {
    "duration": 27,
    "start_time": "2023-05-23T13:45:40.804Z"
   },
   {
    "duration": 63,
    "start_time": "2023-05-23T13:45:40.833Z"
   },
   {
    "duration": 5,
    "start_time": "2023-05-23T13:45:40.898Z"
   },
   {
    "duration": 38,
    "start_time": "2023-05-23T13:45:40.904Z"
   },
   {
    "duration": 6,
    "start_time": "2023-05-23T13:45:40.944Z"
   },
   {
    "duration": 32,
    "start_time": "2023-05-23T13:45:40.952Z"
   },
   {
    "duration": 45,
    "start_time": "2023-05-23T13:45:40.987Z"
   },
   {
    "duration": 37,
    "start_time": "2023-05-23T13:45:41.040Z"
   },
   {
    "duration": 21,
    "start_time": "2023-05-23T13:45:41.079Z"
   },
   {
    "duration": 313,
    "start_time": "2023-05-23T13:45:41.102Z"
   },
   {
    "duration": 94,
    "start_time": "2023-05-23T13:45:41.417Z"
   },
   {
    "duration": 17,
    "start_time": "2023-05-23T13:45:41.524Z"
   },
   {
    "duration": 194,
    "start_time": "2023-05-23T13:45:41.542Z"
   },
   {
    "duration": 12,
    "start_time": "2023-05-23T13:45:41.741Z"
   },
   {
    "duration": 85,
    "start_time": "2023-05-23T13:45:41.755Z"
   },
   {
    "duration": 8,
    "start_time": "2023-05-23T13:45:41.841Z"
   },
   {
    "duration": 37,
    "start_time": "2023-05-23T13:45:41.850Z"
   },
   {
    "duration": 77,
    "start_time": "2023-05-23T13:45:41.888Z"
   },
   {
    "duration": 78,
    "start_time": "2023-05-23T13:45:41.966Z"
   },
   {
    "duration": 5,
    "start_time": "2023-05-23T13:45:42.046Z"
   },
   {
    "duration": 61,
    "start_time": "2023-05-23T13:45:42.053Z"
   },
   {
    "duration": 23,
    "start_time": "2023-05-23T13:45:42.116Z"
   },
   {
    "duration": 76,
    "start_time": "2023-05-23T13:45:42.140Z"
   },
   {
    "duration": 4,
    "start_time": "2023-05-23T13:45:42.218Z"
   },
   {
    "duration": 71,
    "start_time": "2023-05-23T13:45:42.225Z"
   },
   {
    "duration": 5,
    "start_time": "2023-05-23T13:45:42.298Z"
   },
   {
    "duration": 81,
    "start_time": "2023-05-23T13:45:42.305Z"
   },
   {
    "duration": 5,
    "start_time": "2023-05-23T13:45:42.388Z"
   },
   {
    "duration": 73,
    "start_time": "2023-05-23T13:45:42.394Z"
   },
   {
    "duration": 4,
    "start_time": "2023-05-23T13:45:42.469Z"
   },
   {
    "duration": 71,
    "start_time": "2023-05-23T13:45:42.475Z"
   },
   {
    "duration": 5,
    "start_time": "2023-05-23T13:45:42.548Z"
   },
   {
    "duration": 87,
    "start_time": "2023-05-23T13:45:42.555Z"
   },
   {
    "duration": 5,
    "start_time": "2023-05-23T13:45:42.643Z"
   },
   {
    "duration": 107,
    "start_time": "2023-05-23T13:45:42.650Z"
   },
   {
    "duration": 4,
    "start_time": "2023-05-23T13:45:42.759Z"
   },
   {
    "duration": 77,
    "start_time": "2023-05-23T13:45:42.765Z"
   },
   {
    "duration": 4,
    "start_time": "2023-05-23T13:45:42.844Z"
   },
   {
    "duration": 65,
    "start_time": "2023-05-23T13:45:42.850Z"
   },
   {
    "duration": 17,
    "start_time": "2023-05-23T13:45:42.924Z"
   },
   {
    "duration": 84,
    "start_time": "2023-05-23T13:45:42.944Z"
   },
   {
    "duration": 9,
    "start_time": "2023-05-23T13:45:43.029Z"
   },
   {
    "duration": 27,
    "start_time": "2023-05-23T13:45:43.041Z"
   },
   {
    "duration": 7,
    "start_time": "2023-05-23T13:45:43.070Z"
   },
   {
    "duration": 63,
    "start_time": "2023-05-23T13:45:43.079Z"
   },
   {
    "duration": 28,
    "start_time": "2023-05-23T13:45:43.144Z"
   },
   {
    "duration": 60,
    "start_time": "2023-05-23T13:45:43.174Z"
   },
   {
    "duration": 25,
    "start_time": "2023-05-23T13:45:43.241Z"
   },
   {
    "duration": 53,
    "start_time": "2023-05-23T13:45:43.268Z"
   },
   {
    "duration": 28,
    "start_time": "2023-05-23T13:45:43.323Z"
   },
   {
    "duration": 35,
    "start_time": "2023-05-23T13:45:43.353Z"
   },
   {
    "duration": 48,
    "start_time": "2023-05-23T13:45:43.393Z"
   },
   {
    "duration": 25,
    "start_time": "2023-05-23T13:45:43.443Z"
   },
   {
    "duration": 35,
    "start_time": "2023-05-23T13:45:43.470Z"
   },
   {
    "duration": 35,
    "start_time": "2023-05-23T13:45:43.507Z"
   },
   {
    "duration": 28,
    "start_time": "2023-05-23T13:45:43.544Z"
   },
   {
    "duration": 9,
    "start_time": "2023-05-23T13:45:43.574Z"
   },
   {
    "duration": 413,
    "start_time": "2023-05-23T13:45:43.585Z"
   },
   {
    "duration": 5,
    "start_time": "2023-05-23T13:45:44.000Z"
   },
   {
    "duration": 34,
    "start_time": "2023-05-23T13:45:44.007Z"
   },
   {
    "duration": 19,
    "start_time": "2023-05-23T13:45:44.043Z"
   },
   {
    "duration": 11,
    "start_time": "2023-05-23T13:45:44.063Z"
   },
   {
    "duration": 25,
    "start_time": "2023-05-23T13:45:44.076Z"
   },
   {
    "duration": 13,
    "start_time": "2023-05-23T13:45:44.102Z"
   },
   {
    "duration": 374,
    "start_time": "2023-05-23T13:45:44.117Z"
   },
   {
    "duration": 4,
    "start_time": "2023-05-23T13:45:44.493Z"
   },
   {
    "duration": 19,
    "start_time": "2023-05-23T13:45:44.499Z"
   },
   {
    "duration": 26,
    "start_time": "2023-05-23T13:45:44.520Z"
   },
   {
    "duration": 10,
    "start_time": "2023-05-23T13:45:44.548Z"
   },
   {
    "duration": 12,
    "start_time": "2023-05-23T13:45:44.559Z"
   },
   {
    "duration": 113,
    "start_time": "2023-05-23T13:54:51.942Z"
   },
   {
    "duration": 115,
    "start_time": "2023-05-23T13:55:26.724Z"
   },
   {
    "duration": 7,
    "start_time": "2023-05-23T13:57:57.878Z"
   },
   {
    "duration": 7,
    "start_time": "2023-05-23T14:00:11.187Z"
   },
   {
    "duration": 6,
    "start_time": "2023-05-23T14:03:13.578Z"
   },
   {
    "duration": 270,
    "start_time": "2023-05-23T14:31:02.696Z"
   },
   {
    "duration": 1454,
    "start_time": "2023-05-23T14:33:39.916Z"
   },
   {
    "duration": 193,
    "start_time": "2023-05-23T14:33:41.372Z"
   },
   {
    "duration": 13,
    "start_time": "2023-05-23T14:33:41.566Z"
   },
   {
    "duration": 27,
    "start_time": "2023-05-23T14:33:41.581Z"
   },
   {
    "duration": 56,
    "start_time": "2023-05-23T14:33:41.609Z"
   },
   {
    "duration": 64,
    "start_time": "2023-05-23T14:33:41.666Z"
   },
   {
    "duration": 55,
    "start_time": "2023-05-23T14:33:41.732Z"
   },
   {
    "duration": 45,
    "start_time": "2023-05-23T14:33:41.789Z"
   },
   {
    "duration": 48,
    "start_time": "2023-05-23T14:33:41.838Z"
   },
   {
    "duration": 23,
    "start_time": "2023-05-23T14:33:41.889Z"
   },
   {
    "duration": 47,
    "start_time": "2023-05-23T14:33:41.914Z"
   },
   {
    "duration": 30,
    "start_time": "2023-05-23T14:33:41.964Z"
   },
   {
    "duration": 55,
    "start_time": "2023-05-23T14:33:41.996Z"
   },
   {
    "duration": 25,
    "start_time": "2023-05-23T14:33:42.053Z"
   },
   {
    "duration": 44,
    "start_time": "2023-05-23T14:33:42.079Z"
   },
   {
    "duration": 46,
    "start_time": "2023-05-23T14:33:42.129Z"
   },
   {
    "duration": 15,
    "start_time": "2023-05-23T14:33:42.176Z"
   },
   {
    "duration": 48,
    "start_time": "2023-05-23T14:33:42.192Z"
   },
   {
    "duration": 21,
    "start_time": "2023-05-23T14:33:42.241Z"
   },
   {
    "duration": 33,
    "start_time": "2023-05-23T14:33:42.263Z"
   },
   {
    "duration": 5,
    "start_time": "2023-05-23T14:33:42.298Z"
   },
   {
    "duration": 19,
    "start_time": "2023-05-23T14:33:42.304Z"
   },
   {
    "duration": 29,
    "start_time": "2023-05-23T14:33:42.324Z"
   },
   {
    "duration": 24,
    "start_time": "2023-05-23T14:33:42.355Z"
   },
   {
    "duration": 37,
    "start_time": "2023-05-23T14:33:42.380Z"
   },
   {
    "duration": 14,
    "start_time": "2023-05-23T14:33:42.419Z"
   },
   {
    "duration": 27,
    "start_time": "2023-05-23T14:33:42.435Z"
   },
   {
    "duration": 19,
    "start_time": "2023-05-23T14:33:42.466Z"
   },
   {
    "duration": 54,
    "start_time": "2023-05-23T14:33:42.489Z"
   },
   {
    "duration": 16,
    "start_time": "2023-05-23T14:33:42.548Z"
   },
   {
    "duration": 28,
    "start_time": "2023-05-23T14:33:42.565Z"
   },
   {
    "duration": 64,
    "start_time": "2023-05-23T14:33:42.594Z"
   },
   {
    "duration": 5,
    "start_time": "2023-05-23T14:33:42.659Z"
   },
   {
    "duration": 34,
    "start_time": "2023-05-23T14:33:42.666Z"
   },
   {
    "duration": 8,
    "start_time": "2023-05-23T14:33:42.702Z"
   },
   {
    "duration": 61,
    "start_time": "2023-05-23T14:33:42.712Z"
   },
   {
    "duration": 41,
    "start_time": "2023-05-23T14:33:42.774Z"
   },
   {
    "duration": 30,
    "start_time": "2023-05-23T14:33:42.816Z"
   },
   {
    "duration": 24,
    "start_time": "2023-05-23T14:33:42.848Z"
   },
   {
    "duration": 285,
    "start_time": "2023-05-23T14:33:42.874Z"
   },
   {
    "duration": 103,
    "start_time": "2023-05-23T14:33:43.161Z"
   },
   {
    "duration": 7,
    "start_time": "2023-05-23T14:33:43.265Z"
   },
   {
    "duration": 212,
    "start_time": "2023-05-23T14:33:43.274Z"
   },
   {
    "duration": 11,
    "start_time": "2023-05-23T14:33:43.487Z"
   },
   {
    "duration": 82,
    "start_time": "2023-05-23T14:33:43.500Z"
   },
   {
    "duration": 8,
    "start_time": "2023-05-23T14:33:43.583Z"
   },
   {
    "duration": 12,
    "start_time": "2023-05-23T14:33:43.593Z"
   },
   {
    "duration": 91,
    "start_time": "2023-05-23T14:33:43.607Z"
   },
   {
    "duration": 78,
    "start_time": "2023-05-23T14:33:43.699Z"
   },
   {
    "duration": 4,
    "start_time": "2023-05-23T14:33:43.779Z"
   },
   {
    "duration": 83,
    "start_time": "2023-05-23T14:33:43.785Z"
   },
   {
    "duration": 4,
    "start_time": "2023-05-23T14:33:43.870Z"
   },
   {
    "duration": 83,
    "start_time": "2023-05-23T14:33:43.876Z"
   },
   {
    "duration": 5,
    "start_time": "2023-05-23T14:33:43.961Z"
   },
   {
    "duration": 93,
    "start_time": "2023-05-23T14:33:43.967Z"
   },
   {
    "duration": 4,
    "start_time": "2023-05-23T14:33:44.062Z"
   },
   {
    "duration": 78,
    "start_time": "2023-05-23T14:33:44.068Z"
   },
   {
    "duration": 5,
    "start_time": "2023-05-23T14:33:44.148Z"
   },
   {
    "duration": 94,
    "start_time": "2023-05-23T14:33:44.154Z"
   },
   {
    "duration": 4,
    "start_time": "2023-05-23T14:33:44.250Z"
   },
   {
    "duration": 80,
    "start_time": "2023-05-23T14:33:44.256Z"
   },
   {
    "duration": 5,
    "start_time": "2023-05-23T14:33:44.338Z"
   },
   {
    "duration": 67,
    "start_time": "2023-05-23T14:33:44.345Z"
   },
   {
    "duration": 4,
    "start_time": "2023-05-23T14:33:44.413Z"
   },
   {
    "duration": 73,
    "start_time": "2023-05-23T14:33:44.419Z"
   },
   {
    "duration": 4,
    "start_time": "2023-05-23T14:33:44.494Z"
   },
   {
    "duration": 88,
    "start_time": "2023-05-23T14:33:44.500Z"
   },
   {
    "duration": 5,
    "start_time": "2023-05-23T14:33:44.590Z"
   },
   {
    "duration": 84,
    "start_time": "2023-05-23T14:33:44.597Z"
   },
   {
    "duration": 5,
    "start_time": "2023-05-23T14:33:44.683Z"
   },
   {
    "duration": 86,
    "start_time": "2023-05-23T14:33:44.690Z"
   },
   {
    "duration": 5,
    "start_time": "2023-05-23T14:33:44.778Z"
   },
   {
    "duration": 46,
    "start_time": "2023-05-23T14:33:44.784Z"
   },
   {
    "duration": 9,
    "start_time": "2023-05-23T14:33:44.832Z"
   },
   {
    "duration": 56,
    "start_time": "2023-05-23T14:33:44.842Z"
   },
   {
    "duration": 45,
    "start_time": "2023-05-23T14:33:44.900Z"
   },
   {
    "duration": 32,
    "start_time": "2023-05-23T14:33:44.948Z"
   },
   {
    "duration": 64,
    "start_time": "2023-05-23T14:33:44.982Z"
   },
   {
    "duration": 46,
    "start_time": "2023-05-23T14:33:45.048Z"
   },
   {
    "duration": 47,
    "start_time": "2023-05-23T14:33:45.095Z"
   },
   {
    "duration": 31,
    "start_time": "2023-05-23T14:33:45.143Z"
   },
   {
    "duration": 53,
    "start_time": "2023-05-23T14:33:45.181Z"
   },
   {
    "duration": 30,
    "start_time": "2023-05-23T14:33:45.241Z"
   },
   {
    "duration": 29,
    "start_time": "2023-05-23T14:33:45.277Z"
   },
   {
    "duration": 36,
    "start_time": "2023-05-23T14:33:45.308Z"
   },
   {
    "duration": 29,
    "start_time": "2023-05-23T14:33:45.346Z"
   },
   {
    "duration": 26,
    "start_time": "2023-05-23T14:33:45.376Z"
   },
   {
    "duration": 443,
    "start_time": "2023-05-23T14:33:45.404Z"
   },
   {
    "duration": 5,
    "start_time": "2023-05-23T14:33:45.849Z"
   },
   {
    "duration": 11,
    "start_time": "2023-05-23T14:33:45.855Z"
   },
   {
    "duration": 19,
    "start_time": "2023-05-23T14:33:45.868Z"
   },
   {
    "duration": 26,
    "start_time": "2023-05-23T14:33:45.888Z"
   },
   {
    "duration": 30,
    "start_time": "2023-05-23T14:33:45.915Z"
   },
   {
    "duration": 20,
    "start_time": "2023-05-23T14:33:45.947Z"
   },
   {
    "duration": 386,
    "start_time": "2023-05-23T14:33:45.969Z"
   },
   {
    "duration": 4,
    "start_time": "2023-05-23T14:33:46.357Z"
   },
   {
    "duration": 20,
    "start_time": "2023-05-23T14:33:46.363Z"
   },
   {
    "duration": 14,
    "start_time": "2023-05-23T14:33:46.386Z"
   },
   {
    "duration": 16,
    "start_time": "2023-05-23T14:33:46.403Z"
   },
   {
    "duration": 34,
    "start_time": "2023-05-23T14:33:46.431Z"
   },
   {
    "duration": 1814,
    "start_time": "2023-05-23T15:19:16.303Z"
   },
   {
    "duration": 578,
    "start_time": "2023-05-23T15:19:18.121Z"
   },
   {
    "duration": 20,
    "start_time": "2023-05-23T15:19:18.701Z"
   },
   {
    "duration": 18,
    "start_time": "2023-05-23T15:19:18.723Z"
   },
   {
    "duration": 35,
    "start_time": "2023-05-23T15:19:18.743Z"
   },
   {
    "duration": 35,
    "start_time": "2023-05-23T15:19:18.780Z"
   },
   {
    "duration": 12,
    "start_time": "2023-05-23T15:19:18.818Z"
   },
   {
    "duration": 8,
    "start_time": "2023-05-23T15:19:18.833Z"
   },
   {
    "duration": 31,
    "start_time": "2023-05-23T15:19:18.845Z"
   },
   {
    "duration": 24,
    "start_time": "2023-05-23T15:19:18.880Z"
   },
   {
    "duration": 14,
    "start_time": "2023-05-23T15:19:18.906Z"
   },
   {
    "duration": 3,
    "start_time": "2023-05-23T15:19:18.922Z"
   },
   {
    "duration": 52,
    "start_time": "2023-05-23T15:19:18.927Z"
   },
   {
    "duration": 19,
    "start_time": "2023-05-23T15:19:18.981Z"
   },
   {
    "duration": 40,
    "start_time": "2023-05-23T15:19:19.002Z"
   },
   {
    "duration": 67,
    "start_time": "2023-05-23T15:19:19.044Z"
   },
   {
    "duration": 6,
    "start_time": "2023-05-23T15:19:19.113Z"
   },
   {
    "duration": 54,
    "start_time": "2023-05-23T15:19:19.121Z"
   },
   {
    "duration": 25,
    "start_time": "2023-05-23T15:19:19.177Z"
   },
   {
    "duration": 28,
    "start_time": "2023-05-23T15:19:19.204Z"
   },
   {
    "duration": 6,
    "start_time": "2023-05-23T15:19:19.234Z"
   },
   {
    "duration": 43,
    "start_time": "2023-05-23T15:19:19.242Z"
   },
   {
    "duration": 3,
    "start_time": "2023-05-23T15:19:19.287Z"
   },
   {
    "duration": 12,
    "start_time": "2023-05-23T15:19:19.292Z"
   },
   {
    "duration": 35,
    "start_time": "2023-05-23T15:19:19.307Z"
   },
   {
    "duration": 39,
    "start_time": "2023-05-23T15:19:19.344Z"
   },
   {
    "duration": 11,
    "start_time": "2023-05-23T15:19:19.386Z"
   },
   {
    "duration": 9,
    "start_time": "2023-05-23T15:19:19.404Z"
   },
   {
    "duration": 25,
    "start_time": "2023-05-23T15:19:19.415Z"
   },
   {
    "duration": 5,
    "start_time": "2023-05-23T15:19:19.476Z"
   },
   {
    "duration": 43,
    "start_time": "2023-05-23T15:19:19.483Z"
   },
   {
    "duration": 122,
    "start_time": "2023-05-23T15:19:19.528Z"
   },
   {
    "duration": 5,
    "start_time": "2023-05-23T15:19:19.653Z"
   },
   {
    "duration": 37,
    "start_time": "2023-05-23T15:19:19.660Z"
   },
   {
    "duration": 7,
    "start_time": "2023-05-23T15:19:19.700Z"
   },
   {
    "duration": 24,
    "start_time": "2023-05-23T15:19:19.709Z"
   },
   {
    "duration": 60,
    "start_time": "2023-05-23T15:19:19.736Z"
   },
   {
    "duration": 44,
    "start_time": "2023-05-23T15:19:19.798Z"
   },
   {
    "duration": 49,
    "start_time": "2023-05-23T15:19:19.844Z"
   },
   {
    "duration": 394,
    "start_time": "2023-05-23T15:19:19.895Z"
   },
   {
    "duration": 110,
    "start_time": "2023-05-23T15:19:20.291Z"
   },
   {
    "duration": 7,
    "start_time": "2023-05-23T15:19:20.403Z"
   },
   {
    "duration": 209,
    "start_time": "2023-05-23T15:19:20.412Z"
   },
   {
    "duration": 14,
    "start_time": "2023-05-23T15:19:20.622Z"
   },
   {
    "duration": 150,
    "start_time": "2023-05-23T15:19:20.638Z"
   },
   {
    "duration": 9,
    "start_time": "2023-05-23T15:19:20.796Z"
   },
   {
    "duration": 13,
    "start_time": "2023-05-23T15:19:20.807Z"
   },
   {
    "duration": 99,
    "start_time": "2023-05-23T15:19:20.823Z"
   },
   {
    "duration": 87,
    "start_time": "2023-05-23T15:19:20.924Z"
   },
   {
    "duration": 5,
    "start_time": "2023-05-23T15:19:21.013Z"
   },
   {
    "duration": 96,
    "start_time": "2023-05-23T15:19:21.020Z"
   },
   {
    "duration": 6,
    "start_time": "2023-05-23T15:19:21.118Z"
   },
   {
    "duration": 106,
    "start_time": "2023-05-23T15:19:21.126Z"
   },
   {
    "duration": 6,
    "start_time": "2023-05-23T15:19:21.235Z"
   },
   {
    "duration": 90,
    "start_time": "2023-05-23T15:19:21.243Z"
   },
   {
    "duration": 6,
    "start_time": "2023-05-23T15:19:21.335Z"
   },
   {
    "duration": 103,
    "start_time": "2023-05-23T15:19:21.342Z"
   },
   {
    "duration": 5,
    "start_time": "2023-05-23T15:19:21.447Z"
   },
   {
    "duration": 99,
    "start_time": "2023-05-23T15:19:21.454Z"
   },
   {
    "duration": 19,
    "start_time": "2023-05-23T15:19:21.559Z"
   },
   {
    "duration": 105,
    "start_time": "2023-05-23T15:19:21.580Z"
   },
   {
    "duration": 6,
    "start_time": "2023-05-23T15:19:21.687Z"
   },
   {
    "duration": 105,
    "start_time": "2023-05-23T15:19:21.696Z"
   },
   {
    "duration": 5,
    "start_time": "2023-05-23T15:19:21.803Z"
   },
   {
    "duration": 103,
    "start_time": "2023-05-23T15:19:21.810Z"
   },
   {
    "duration": 5,
    "start_time": "2023-05-23T15:19:21.916Z"
   },
   {
    "duration": 101,
    "start_time": "2023-05-23T15:19:21.922Z"
   },
   {
    "duration": 6,
    "start_time": "2023-05-23T15:19:22.025Z"
   },
   {
    "duration": 101,
    "start_time": "2023-05-23T15:19:22.033Z"
   },
   {
    "duration": 5,
    "start_time": "2023-05-23T15:19:22.137Z"
   },
   {
    "duration": 101,
    "start_time": "2023-05-23T15:19:22.144Z"
   },
   {
    "duration": 6,
    "start_time": "2023-05-23T15:19:22.247Z"
   },
   {
    "duration": 51,
    "start_time": "2023-05-23T15:19:22.255Z"
   },
   {
    "duration": 8,
    "start_time": "2023-05-23T15:19:22.308Z"
   },
   {
    "duration": 28,
    "start_time": "2023-05-23T15:19:22.318Z"
   },
   {
    "duration": 58,
    "start_time": "2023-05-23T15:19:22.348Z"
   },
   {
    "duration": 29,
    "start_time": "2023-05-23T15:19:22.408Z"
   },
   {
    "duration": 49,
    "start_time": "2023-05-23T15:19:22.439Z"
   },
   {
    "duration": 32,
    "start_time": "2023-05-23T15:19:22.490Z"
   },
   {
    "duration": 58,
    "start_time": "2023-05-23T15:19:22.524Z"
   },
   {
    "duration": 52,
    "start_time": "2023-05-23T15:19:22.584Z"
   },
   {
    "duration": 35,
    "start_time": "2023-05-23T15:19:22.647Z"
   },
   {
    "duration": 34,
    "start_time": "2023-05-23T15:19:22.684Z"
   },
   {
    "duration": 31,
    "start_time": "2023-05-23T15:19:22.720Z"
   },
   {
    "duration": 43,
    "start_time": "2023-05-23T15:19:22.753Z"
   },
   {
    "duration": 28,
    "start_time": "2023-05-23T15:19:22.797Z"
   },
   {
    "duration": 14,
    "start_time": "2023-05-23T15:19:22.827Z"
   },
   {
    "duration": 553,
    "start_time": "2023-05-23T15:19:22.843Z"
   },
   {
    "duration": 5,
    "start_time": "2023-05-23T15:19:23.399Z"
   },
   {
    "duration": 10,
    "start_time": "2023-05-23T15:19:23.406Z"
   },
   {
    "duration": 8,
    "start_time": "2023-05-23T15:19:23.418Z"
   },
   {
    "duration": 7,
    "start_time": "2023-05-23T15:19:23.429Z"
   },
   {
    "duration": 38,
    "start_time": "2023-05-23T15:19:23.439Z"
   },
   {
    "duration": 12,
    "start_time": "2023-05-23T15:19:23.480Z"
   },
   {
    "duration": 519,
    "start_time": "2023-05-23T15:19:23.494Z"
   },
   {
    "duration": 6,
    "start_time": "2023-05-23T15:19:24.016Z"
   },
   {
    "duration": 19,
    "start_time": "2023-05-23T15:19:24.025Z"
   },
   {
    "duration": 10,
    "start_time": "2023-05-23T15:19:24.046Z"
   },
   {
    "duration": 17,
    "start_time": "2023-05-23T15:19:24.059Z"
   },
   {
    "duration": 13,
    "start_time": "2023-05-23T15:19:24.078Z"
   },
   {
    "duration": 1653,
    "start_time": "2023-07-04T13:04:30.278Z"
   },
   {
    "duration": 197,
    "start_time": "2023-07-04T13:04:31.934Z"
   },
   {
    "duration": 60,
    "start_time": "2023-07-04T13:04:32.133Z"
   },
   {
    "duration": 28,
    "start_time": "2023-07-04T13:04:32.196Z"
   },
   {
    "duration": 11,
    "start_time": "2023-07-04T13:04:32.227Z"
   },
   {
    "duration": 35,
    "start_time": "2023-07-04T13:04:32.240Z"
   },
   {
    "duration": 31,
    "start_time": "2023-07-04T13:04:32.277Z"
   },
   {
    "duration": 20,
    "start_time": "2023-07-04T13:04:32.310Z"
   },
   {
    "duration": 15,
    "start_time": "2023-07-04T13:04:32.332Z"
   },
   {
    "duration": 65,
    "start_time": "2023-07-04T13:04:32.350Z"
   },
   {
    "duration": 13,
    "start_time": "2023-07-04T13:04:32.418Z"
   },
   {
    "duration": 9,
    "start_time": "2023-07-04T13:04:32.433Z"
   },
   {
    "duration": 36,
    "start_time": "2023-07-04T13:04:32.444Z"
   },
   {
    "duration": 37,
    "start_time": "2023-07-04T13:04:32.485Z"
   },
   {
    "duration": 49,
    "start_time": "2023-07-04T13:04:32.524Z"
   },
   {
    "duration": 39,
    "start_time": "2023-07-04T13:04:32.575Z"
   },
   {
    "duration": 6,
    "start_time": "2023-07-04T13:04:32.616Z"
   },
   {
    "duration": 48,
    "start_time": "2023-07-04T13:04:32.624Z"
   },
   {
    "duration": 21,
    "start_time": "2023-07-04T13:04:32.676Z"
   },
   {
    "duration": 21,
    "start_time": "2023-07-04T13:04:32.699Z"
   },
   {
    "duration": 35,
    "start_time": "2023-07-04T13:04:32.722Z"
   },
   {
    "duration": 14,
    "start_time": "2023-07-04T13:04:32.764Z"
   },
   {
    "duration": 21,
    "start_time": "2023-07-04T13:04:32.783Z"
   },
   {
    "duration": 13,
    "start_time": "2023-07-04T13:04:32.806Z"
   },
   {
    "duration": 25,
    "start_time": "2023-07-04T13:04:32.821Z"
   },
   {
    "duration": 15,
    "start_time": "2023-07-04T13:04:32.847Z"
   },
   {
    "duration": 36,
    "start_time": "2023-07-04T13:04:32.865Z"
   },
   {
    "duration": 15,
    "start_time": "2023-07-04T13:04:32.902Z"
   },
   {
    "duration": 17,
    "start_time": "2023-07-04T13:04:32.919Z"
   },
   {
    "duration": 12,
    "start_time": "2023-07-04T13:04:32.938Z"
   },
   {
    "duration": 58,
    "start_time": "2023-07-04T13:04:32.954Z"
   },
   {
    "duration": 66,
    "start_time": "2023-07-04T13:04:33.013Z"
   },
   {
    "duration": 5,
    "start_time": "2023-07-04T13:04:33.082Z"
   },
   {
    "duration": 33,
    "start_time": "2023-07-04T13:04:33.089Z"
   },
   {
    "duration": 6,
    "start_time": "2023-07-04T13:04:33.125Z"
   },
   {
    "duration": 57,
    "start_time": "2023-07-04T13:04:33.134Z"
   },
   {
    "duration": 35,
    "start_time": "2023-07-04T13:04:33.194Z"
   },
   {
    "duration": 58,
    "start_time": "2023-07-04T13:04:33.232Z"
   },
   {
    "duration": 30,
    "start_time": "2023-07-04T13:04:33.293Z"
   },
   {
    "duration": 399,
    "start_time": "2023-07-04T13:04:33.325Z"
   },
   {
    "duration": 183,
    "start_time": "2023-07-04T13:04:33.731Z"
   },
   {
    "duration": 8,
    "start_time": "2023-07-04T13:04:33.916Z"
   },
   {
    "duration": 243,
    "start_time": "2023-07-04T13:04:33.926Z"
   },
   {
    "duration": 18,
    "start_time": "2023-07-04T13:04:34.175Z"
   },
   {
    "duration": 81,
    "start_time": "2023-07-04T13:04:34.196Z"
   },
   {
    "duration": 15,
    "start_time": "2023-07-04T13:04:34.279Z"
   },
   {
    "duration": 22,
    "start_time": "2023-07-04T13:04:34.296Z"
   },
   {
    "duration": 88,
    "start_time": "2023-07-04T13:04:34.320Z"
   },
   {
    "duration": 82,
    "start_time": "2023-07-04T13:04:34.410Z"
   },
   {
    "duration": 5,
    "start_time": "2023-07-04T13:04:34.495Z"
   },
   {
    "duration": 119,
    "start_time": "2023-07-04T13:04:34.502Z"
   },
   {
    "duration": 6,
    "start_time": "2023-07-04T13:04:34.623Z"
   },
   {
    "duration": 88,
    "start_time": "2023-07-04T13:04:34.631Z"
   },
   {
    "duration": 5,
    "start_time": "2023-07-04T13:04:34.721Z"
   },
   {
    "duration": 84,
    "start_time": "2023-07-04T13:04:34.728Z"
   },
   {
    "duration": 13,
    "start_time": "2023-07-04T13:04:34.814Z"
   },
   {
    "duration": 140,
    "start_time": "2023-07-04T13:04:34.829Z"
   },
   {
    "duration": 7,
    "start_time": "2023-07-04T13:04:34.971Z"
   },
   {
    "duration": 69,
    "start_time": "2023-07-04T13:04:34.980Z"
   },
   {
    "duration": 8,
    "start_time": "2023-07-04T13:04:35.063Z"
   },
   {
    "duration": 72,
    "start_time": "2023-07-04T13:04:35.079Z"
   },
   {
    "duration": 10,
    "start_time": "2023-07-04T13:04:35.169Z"
   },
   {
    "duration": 107,
    "start_time": "2023-07-04T13:04:35.182Z"
   },
   {
    "duration": 6,
    "start_time": "2023-07-04T13:04:35.291Z"
   },
   {
    "duration": 122,
    "start_time": "2023-07-04T13:04:35.299Z"
   },
   {
    "duration": 7,
    "start_time": "2023-07-04T13:04:35.424Z"
   },
   {
    "duration": 162,
    "start_time": "2023-07-04T13:04:35.433Z"
   },
   {
    "duration": 6,
    "start_time": "2023-07-04T13:04:35.597Z"
   },
   {
    "duration": 90,
    "start_time": "2023-07-04T13:04:35.605Z"
   },
   {
    "duration": 5,
    "start_time": "2023-07-04T13:04:35.697Z"
   },
   {
    "duration": 87,
    "start_time": "2023-07-04T13:04:35.703Z"
   },
   {
    "duration": 4,
    "start_time": "2023-07-04T13:04:35.792Z"
   },
   {
    "duration": 28,
    "start_time": "2023-07-04T13:04:35.798Z"
   },
   {
    "duration": 7,
    "start_time": "2023-07-04T13:04:35.827Z"
   },
   {
    "duration": 60,
    "start_time": "2023-07-04T13:04:35.862Z"
   },
   {
    "duration": 56,
    "start_time": "2023-07-04T13:04:35.925Z"
   },
   {
    "duration": 40,
    "start_time": "2023-07-04T13:04:35.983Z"
   },
   {
    "duration": 53,
    "start_time": "2023-07-04T13:04:36.026Z"
   },
   {
    "duration": 31,
    "start_time": "2023-07-04T13:04:36.082Z"
   },
   {
    "duration": 25,
    "start_time": "2023-07-04T13:04:36.115Z"
   },
   {
    "duration": 45,
    "start_time": "2023-07-04T13:04:36.142Z"
   },
   {
    "duration": 30,
    "start_time": "2023-07-04T13:04:36.189Z"
   },
   {
    "duration": 55,
    "start_time": "2023-07-04T13:04:36.221Z"
   },
   {
    "duration": 33,
    "start_time": "2023-07-04T13:04:36.283Z"
   },
   {
    "duration": 51,
    "start_time": "2023-07-04T13:04:36.318Z"
   },
   {
    "duration": 29,
    "start_time": "2023-07-04T13:04:36.383Z"
   },
   {
    "duration": 15,
    "start_time": "2023-07-04T13:04:36.413Z"
   },
   {
    "duration": 494,
    "start_time": "2023-07-04T13:04:36.429Z"
   },
   {
    "duration": 4,
    "start_time": "2023-07-04T13:04:36.925Z"
   },
   {
    "duration": 10,
    "start_time": "2023-07-04T13:04:36.931Z"
   },
   {
    "duration": 43,
    "start_time": "2023-07-04T13:04:36.943Z"
   },
   {
    "duration": 14,
    "start_time": "2023-07-04T13:04:36.989Z"
   },
   {
    "duration": 19,
    "start_time": "2023-07-04T13:04:37.005Z"
   },
   {
    "duration": 15,
    "start_time": "2023-07-04T13:04:37.026Z"
   },
   {
    "duration": 477,
    "start_time": "2023-07-04T13:04:37.043Z"
   },
   {
    "duration": 4,
    "start_time": "2023-07-04T13:04:37.522Z"
   },
   {
    "duration": 7,
    "start_time": "2023-07-04T13:04:37.528Z"
   },
   {
    "duration": 46,
    "start_time": "2023-07-04T13:04:37.537Z"
   },
   {
    "duration": 23,
    "start_time": "2023-07-04T13:04:37.584Z"
   },
   {
    "duration": 9,
    "start_time": "2023-07-04T13:04:37.610Z"
   },
   {
    "duration": 1482,
    "start_time": "2023-07-05T06:20:44.204Z"
   },
   {
    "duration": 208,
    "start_time": "2023-07-05T06:20:45.689Z"
   },
   {
    "duration": 13,
    "start_time": "2023-07-05T06:20:45.899Z"
   },
   {
    "duration": 24,
    "start_time": "2023-07-05T06:20:45.914Z"
   },
   {
    "duration": 28,
    "start_time": "2023-07-05T06:20:45.940Z"
   },
   {
    "duration": 35,
    "start_time": "2023-07-05T06:20:45.970Z"
   },
   {
    "duration": 11,
    "start_time": "2023-07-05T06:20:46.007Z"
   },
   {
    "duration": 12,
    "start_time": "2023-07-05T06:20:46.020Z"
   },
   {
    "duration": 16,
    "start_time": "2023-07-05T06:20:46.034Z"
   },
   {
    "duration": 38,
    "start_time": "2023-07-05T06:20:46.053Z"
   },
   {
    "duration": 13,
    "start_time": "2023-07-05T06:20:46.093Z"
   },
   {
    "duration": 4,
    "start_time": "2023-07-05T06:20:46.108Z"
   },
   {
    "duration": 26,
    "start_time": "2023-07-05T06:20:46.113Z"
   },
   {
    "duration": 50,
    "start_time": "2023-07-05T06:20:46.141Z"
   },
   {
    "duration": 47,
    "start_time": "2023-07-05T06:20:46.193Z"
   },
   {
    "duration": 40,
    "start_time": "2023-07-05T06:20:46.243Z"
   },
   {
    "duration": 5,
    "start_time": "2023-07-05T06:20:46.285Z"
   },
   {
    "duration": 66,
    "start_time": "2023-07-05T06:20:46.292Z"
   },
   {
    "duration": 22,
    "start_time": "2023-07-05T06:20:46.360Z"
   },
   {
    "duration": 49,
    "start_time": "2023-07-05T06:20:46.384Z"
   },
   {
    "duration": 6,
    "start_time": "2023-07-05T06:20:46.436Z"
   },
   {
    "duration": 15,
    "start_time": "2023-07-05T06:20:46.444Z"
   },
   {
    "duration": 12,
    "start_time": "2023-07-05T06:20:46.461Z"
   },
   {
    "duration": 31,
    "start_time": "2023-07-05T06:20:46.480Z"
   },
   {
    "duration": 38,
    "start_time": "2023-07-05T06:20:46.514Z"
   },
   {
    "duration": 10,
    "start_time": "2023-07-05T06:20:46.555Z"
   },
   {
    "duration": 21,
    "start_time": "2023-07-05T06:20:46.567Z"
   },
   {
    "duration": 29,
    "start_time": "2023-07-05T06:20:46.594Z"
   },
   {
    "duration": 24,
    "start_time": "2023-07-05T06:20:46.625Z"
   },
   {
    "duration": 46,
    "start_time": "2023-07-05T06:20:46.652Z"
   },
   {
    "duration": 39,
    "start_time": "2023-07-05T06:20:46.701Z"
   },
   {
    "duration": 84,
    "start_time": "2023-07-05T06:20:46.744Z"
   },
   {
    "duration": 4,
    "start_time": "2023-07-05T06:20:46.830Z"
   },
   {
    "duration": 21,
    "start_time": "2023-07-05T06:20:46.836Z"
   },
   {
    "duration": 12,
    "start_time": "2023-07-05T06:20:46.880Z"
   },
   {
    "duration": 15,
    "start_time": "2023-07-05T06:20:46.895Z"
   },
   {
    "duration": 24,
    "start_time": "2023-07-05T06:20:46.912Z"
   },
   {
    "duration": 39,
    "start_time": "2023-07-05T06:20:46.938Z"
   },
   {
    "duration": 20,
    "start_time": "2023-07-05T06:20:46.983Z"
   },
   {
    "duration": 307,
    "start_time": "2023-07-05T06:20:47.005Z"
   },
   {
    "duration": 92,
    "start_time": "2023-07-05T06:20:47.315Z"
   },
   {
    "duration": 8,
    "start_time": "2023-07-05T06:20:47.410Z"
   },
   {
    "duration": 203,
    "start_time": "2023-07-05T06:20:47.420Z"
   },
   {
    "duration": 10,
    "start_time": "2023-07-05T06:20:47.625Z"
   },
   {
    "duration": 159,
    "start_time": "2023-07-05T06:20:47.637Z"
   },
   {
    "duration": 8,
    "start_time": "2023-07-05T06:20:47.800Z"
   },
   {
    "duration": 19,
    "start_time": "2023-07-05T06:20:47.809Z"
   },
   {
    "duration": 96,
    "start_time": "2023-07-05T06:20:47.830Z"
   },
   {
    "duration": 92,
    "start_time": "2023-07-05T06:20:47.928Z"
   },
   {
    "duration": 6,
    "start_time": "2023-07-05T06:20:48.022Z"
   },
   {
    "duration": 79,
    "start_time": "2023-07-05T06:20:48.029Z"
   },
   {
    "duration": 5,
    "start_time": "2023-07-05T06:20:48.110Z"
   },
   {
    "duration": 82,
    "start_time": "2023-07-05T06:20:48.116Z"
   },
   {
    "duration": 6,
    "start_time": "2023-07-05T06:20:48.200Z"
   },
   {
    "duration": 55,
    "start_time": "2023-07-05T06:20:48.209Z"
   },
   {
    "duration": 17,
    "start_time": "2023-07-05T06:20:48.266Z"
   },
   {
    "duration": 68,
    "start_time": "2023-07-05T06:20:48.285Z"
   },
   {
    "duration": 5,
    "start_time": "2023-07-05T06:20:48.355Z"
   },
   {
    "duration": 66,
    "start_time": "2023-07-05T06:20:48.362Z"
   },
   {
    "duration": 5,
    "start_time": "2023-07-05T06:20:48.429Z"
   },
   {
    "duration": 79,
    "start_time": "2023-07-05T06:20:48.436Z"
   },
   {
    "duration": 5,
    "start_time": "2023-07-05T06:20:48.517Z"
   },
   {
    "duration": 81,
    "start_time": "2023-07-05T06:20:48.524Z"
   },
   {
    "duration": 4,
    "start_time": "2023-07-05T06:20:48.607Z"
   },
   {
    "duration": 78,
    "start_time": "2023-07-05T06:20:48.612Z"
   },
   {
    "duration": 7,
    "start_time": "2023-07-05T06:20:48.691Z"
   },
   {
    "duration": 57,
    "start_time": "2023-07-05T06:20:48.700Z"
   },
   {
    "duration": 26,
    "start_time": "2023-07-05T06:20:48.759Z"
   },
   {
    "duration": 71,
    "start_time": "2023-07-05T06:20:48.788Z"
   },
   {
    "duration": 5,
    "start_time": "2023-07-05T06:20:48.861Z"
   },
   {
    "duration": 74,
    "start_time": "2023-07-05T06:20:48.868Z"
   },
   {
    "duration": 5,
    "start_time": "2023-07-05T06:20:48.943Z"
   },
   {
    "duration": 22,
    "start_time": "2023-07-05T06:20:48.949Z"
   },
   {
    "duration": 11,
    "start_time": "2023-07-05T06:20:48.983Z"
   },
   {
    "duration": 27,
    "start_time": "2023-07-05T06:20:48.996Z"
   },
   {
    "duration": 24,
    "start_time": "2023-07-05T06:20:49.025Z"
   },
   {
    "duration": 49,
    "start_time": "2023-07-05T06:20:49.051Z"
   },
   {
    "duration": 27,
    "start_time": "2023-07-05T06:20:49.102Z"
   },
   {
    "duration": 45,
    "start_time": "2023-07-05T06:20:49.131Z"
   },
   {
    "duration": 33,
    "start_time": "2023-07-05T06:20:49.182Z"
   },
   {
    "duration": 50,
    "start_time": "2023-07-05T06:20:49.217Z"
   },
   {
    "duration": 47,
    "start_time": "2023-07-05T06:20:49.275Z"
   },
   {
    "duration": 39,
    "start_time": "2023-07-05T06:20:49.324Z"
   },
   {
    "duration": 43,
    "start_time": "2023-07-05T06:20:49.365Z"
   },
   {
    "duration": 27,
    "start_time": "2023-07-05T06:20:49.410Z"
   },
   {
    "duration": 25,
    "start_time": "2023-07-05T06:20:49.439Z"
   },
   {
    "duration": 56,
    "start_time": "2023-07-05T06:20:49.466Z"
   },
   {
    "duration": 415,
    "start_time": "2023-07-05T06:20:49.524Z"
   },
   {
    "duration": 4,
    "start_time": "2023-07-05T06:20:49.941Z"
   },
   {
    "duration": 6,
    "start_time": "2023-07-05T06:20:49.947Z"
   },
   {
    "duration": 41,
    "start_time": "2023-07-05T06:20:49.955Z"
   },
   {
    "duration": 12,
    "start_time": "2023-07-05T06:20:49.997Z"
   },
   {
    "duration": 15,
    "start_time": "2023-07-05T06:20:50.011Z"
   },
   {
    "duration": 17,
    "start_time": "2023-07-05T06:20:50.028Z"
   },
   {
    "duration": 354,
    "start_time": "2023-07-05T06:20:50.048Z"
   },
   {
    "duration": 4,
    "start_time": "2023-07-05T06:20:50.404Z"
   },
   {
    "duration": 9,
    "start_time": "2023-07-05T06:20:50.410Z"
   },
   {
    "duration": 8,
    "start_time": "2023-07-05T06:20:50.421Z"
   },
   {
    "duration": 9,
    "start_time": "2023-07-05T06:20:50.431Z"
   },
   {
    "duration": 16,
    "start_time": "2023-07-05T06:20:50.442Z"
   },
   {
    "duration": 1516,
    "start_time": "2023-07-13T13:14:32.736Z"
   },
   {
    "duration": 193,
    "start_time": "2023-07-13T13:14:34.254Z"
   },
   {
    "duration": 15,
    "start_time": "2023-07-13T13:14:34.449Z"
   },
   {
    "duration": 110,
    "start_time": "2023-07-13T13:14:34.467Z"
   },
   {
    "duration": 43,
    "start_time": "2023-07-13T13:14:34.580Z"
   },
   {
    "duration": 62,
    "start_time": "2023-07-13T13:14:34.625Z"
   },
   {
    "duration": 26,
    "start_time": "2023-07-13T13:14:34.689Z"
   },
   {
    "duration": 26,
    "start_time": "2023-07-13T13:14:34.717Z"
   },
   {
    "duration": 24,
    "start_time": "2023-07-13T13:14:34.745Z"
   },
   {
    "duration": 33,
    "start_time": "2023-07-13T13:14:34.771Z"
   },
   {
    "duration": 62,
    "start_time": "2023-07-13T13:14:34.806Z"
   },
   {
    "duration": 16,
    "start_time": "2023-07-13T13:14:34.871Z"
   },
   {
    "duration": 49,
    "start_time": "2023-07-13T13:14:34.889Z"
   },
   {
    "duration": 35,
    "start_time": "2023-07-13T13:14:34.941Z"
   },
   {
    "duration": 46,
    "start_time": "2023-07-13T13:14:34.978Z"
   },
   {
    "duration": 36,
    "start_time": "2023-07-13T13:14:35.026Z"
   },
   {
    "duration": 6,
    "start_time": "2023-07-13T13:14:35.064Z"
   },
   {
    "duration": 54,
    "start_time": "2023-07-13T13:14:35.072Z"
   },
   {
    "duration": 20,
    "start_time": "2023-07-13T13:14:35.128Z"
   },
   {
    "duration": 93,
    "start_time": "2023-07-13T13:14:35.149Z"
   },
   {
    "duration": 78,
    "start_time": "2023-07-13T13:14:35.244Z"
   },
   {
    "duration": 60,
    "start_time": "2023-07-13T13:14:35.324Z"
   },
   {
    "duration": 30,
    "start_time": "2023-07-13T13:14:35.386Z"
   },
   {
    "duration": 42,
    "start_time": "2023-07-13T13:14:35.419Z"
   },
   {
    "duration": 81,
    "start_time": "2023-07-13T13:14:35.463Z"
   },
   {
    "duration": 10,
    "start_time": "2023-07-13T13:14:35.546Z"
   },
   {
    "duration": 77,
    "start_time": "2023-07-13T13:14:35.558Z"
   },
   {
    "duration": 63,
    "start_time": "2023-07-13T13:14:35.637Z"
   },
   {
    "duration": 73,
    "start_time": "2023-07-13T13:14:35.703Z"
   },
   {
    "duration": 32,
    "start_time": "2023-07-13T13:14:35.778Z"
   },
   {
    "duration": 79,
    "start_time": "2023-07-13T13:14:35.812Z"
   },
   {
    "duration": 106,
    "start_time": "2023-07-13T13:14:35.893Z"
   },
   {
    "duration": 7,
    "start_time": "2023-07-13T13:14:36.002Z"
   },
   {
    "duration": 69,
    "start_time": "2023-07-13T13:14:36.012Z"
   },
   {
    "duration": 12,
    "start_time": "2023-07-13T13:14:36.084Z"
   },
   {
    "duration": 34,
    "start_time": "2023-07-13T13:14:36.099Z"
   },
   {
    "duration": 55,
    "start_time": "2023-07-13T13:14:36.136Z"
   },
   {
    "duration": 35,
    "start_time": "2023-07-13T13:14:36.193Z"
   },
   {
    "duration": 22,
    "start_time": "2023-07-13T13:14:36.230Z"
   },
   {
    "duration": 318,
    "start_time": "2023-07-13T13:14:36.255Z"
   },
   {
    "duration": 98,
    "start_time": "2023-07-13T13:14:36.582Z"
   },
   {
    "duration": 6,
    "start_time": "2023-07-13T13:14:36.682Z"
   },
   {
    "duration": 231,
    "start_time": "2023-07-13T13:14:36.690Z"
   },
   {
    "duration": 14,
    "start_time": "2023-07-13T13:14:36.924Z"
   },
   {
    "duration": 84,
    "start_time": "2023-07-13T13:14:36.939Z"
   },
   {
    "duration": 9,
    "start_time": "2023-07-13T13:14:37.025Z"
   },
   {
    "duration": 24,
    "start_time": "2023-07-13T13:14:37.036Z"
   },
   {
    "duration": 81,
    "start_time": "2023-07-13T13:14:37.062Z"
   },
   {
    "duration": 78,
    "start_time": "2023-07-13T13:14:37.146Z"
   },
   {
    "duration": 5,
    "start_time": "2023-07-13T13:14:37.226Z"
   },
   {
    "duration": 87,
    "start_time": "2023-07-13T13:14:37.233Z"
   },
   {
    "duration": 6,
    "start_time": "2023-07-13T13:14:37.322Z"
   },
   {
    "duration": 80,
    "start_time": "2023-07-13T13:14:37.330Z"
   },
   {
    "duration": 6,
    "start_time": "2023-07-13T13:14:37.412Z"
   },
   {
    "duration": 69,
    "start_time": "2023-07-13T13:14:37.419Z"
   },
   {
    "duration": 6,
    "start_time": "2023-07-13T13:14:37.508Z"
   },
   {
    "duration": 73,
    "start_time": "2023-07-13T13:14:37.516Z"
   },
   {
    "duration": 14,
    "start_time": "2023-07-13T13:14:37.610Z"
   },
   {
    "duration": 79,
    "start_time": "2023-07-13T13:14:37.627Z"
   },
   {
    "duration": 21,
    "start_time": "2023-07-13T13:14:37.710Z"
   },
   {
    "duration": 97,
    "start_time": "2023-07-13T13:14:37.734Z"
   },
   {
    "duration": 5,
    "start_time": "2023-07-13T13:14:37.834Z"
   },
   {
    "duration": 110,
    "start_time": "2023-07-13T13:14:37.841Z"
   },
   {
    "duration": 6,
    "start_time": "2023-07-13T13:14:37.954Z"
   },
   {
    "duration": 87,
    "start_time": "2023-07-13T13:14:37.962Z"
   },
   {
    "duration": 41,
    "start_time": "2023-07-13T13:14:38.052Z"
   },
   {
    "duration": 92,
    "start_time": "2023-07-13T13:14:38.096Z"
   },
   {
    "duration": 5,
    "start_time": "2023-07-13T13:14:38.191Z"
   },
   {
    "duration": 117,
    "start_time": "2023-07-13T13:14:38.198Z"
   },
   {
    "duration": 5,
    "start_time": "2023-07-13T13:14:38.317Z"
   },
   {
    "duration": 87,
    "start_time": "2023-07-13T13:14:38.325Z"
   },
   {
    "duration": 5,
    "start_time": "2023-07-13T13:14:38.413Z"
   },
   {
    "duration": 30,
    "start_time": "2023-07-13T13:14:38.420Z"
   },
   {
    "duration": 8,
    "start_time": "2023-07-13T13:14:38.452Z"
   },
   {
    "duration": 63,
    "start_time": "2023-07-13T13:14:38.462Z"
   },
   {
    "duration": 40,
    "start_time": "2023-07-13T13:14:38.527Z"
   },
   {
    "duration": 41,
    "start_time": "2023-07-13T13:14:38.569Z"
   },
   {
    "duration": 29,
    "start_time": "2023-07-13T13:14:38.612Z"
   },
   {
    "duration": 31,
    "start_time": "2023-07-13T13:14:38.643Z"
   },
   {
    "duration": 68,
    "start_time": "2023-07-13T13:14:38.676Z"
   },
   {
    "duration": 36,
    "start_time": "2023-07-13T13:14:38.746Z"
   },
   {
    "duration": 41,
    "start_time": "2023-07-13T13:14:38.784Z"
   },
   {
    "duration": 27,
    "start_time": "2023-07-13T13:14:38.828Z"
   },
   {
    "duration": 27,
    "start_time": "2023-07-13T13:14:38.857Z"
   },
   {
    "duration": 35,
    "start_time": "2023-07-13T13:14:38.908Z"
   },
   {
    "duration": 29,
    "start_time": "2023-07-13T13:14:38.945Z"
   },
   {
    "duration": 39,
    "start_time": "2023-07-13T13:14:38.976Z"
   },
   {
    "duration": 497,
    "start_time": "2023-07-13T13:14:39.017Z"
   },
   {
    "duration": 5,
    "start_time": "2023-07-13T13:14:39.516Z"
   },
   {
    "duration": 25,
    "start_time": "2023-07-13T13:14:39.523Z"
   },
   {
    "duration": 38,
    "start_time": "2023-07-13T13:14:39.551Z"
   },
   {
    "duration": 38,
    "start_time": "2023-07-13T13:14:39.591Z"
   },
   {
    "duration": 24,
    "start_time": "2023-07-13T13:14:39.631Z"
   },
   {
    "duration": 60,
    "start_time": "2023-07-13T13:14:39.658Z"
   },
   {
    "duration": 413,
    "start_time": "2023-07-13T13:14:39.720Z"
   },
   {
    "duration": 4,
    "start_time": "2023-07-13T13:14:40.135Z"
   },
   {
    "duration": 17,
    "start_time": "2023-07-13T13:14:40.141Z"
   },
   {
    "duration": 23,
    "start_time": "2023-07-13T13:14:40.160Z"
   },
   {
    "duration": 44,
    "start_time": "2023-07-13T13:14:40.185Z"
   },
   {
    "duration": 38,
    "start_time": "2023-07-13T13:14:40.231Z"
   },
   {
    "duration": 5959,
    "start_time": "2024-01-10T12:46:01.117Z"
   },
   {
    "duration": 269,
    "start_time": "2024-01-10T12:46:07.078Z"
   },
   {
    "duration": 14,
    "start_time": "2024-01-10T12:46:07.349Z"
   },
   {
    "duration": 15,
    "start_time": "2024-01-10T12:46:07.366Z"
   },
   {
    "duration": 24,
    "start_time": "2024-01-10T12:46:07.383Z"
   },
   {
    "duration": 35,
    "start_time": "2024-01-10T12:46:07.409Z"
   },
   {
    "duration": 8,
    "start_time": "2024-01-10T12:46:07.446Z"
   },
   {
    "duration": 7,
    "start_time": "2024-01-10T12:46:07.456Z"
   },
   {
    "duration": 26,
    "start_time": "2024-01-10T12:46:07.464Z"
   },
   {
    "duration": 23,
    "start_time": "2024-01-10T12:46:07.499Z"
   },
   {
    "duration": 17,
    "start_time": "2024-01-10T12:46:07.525Z"
   },
   {
    "duration": 42,
    "start_time": "2024-01-10T12:46:07.543Z"
   },
   {
    "duration": 70,
    "start_time": "2024-01-10T12:46:07.587Z"
   },
   {
    "duration": 23,
    "start_time": "2024-01-10T12:46:07.659Z"
   },
   {
    "duration": 47,
    "start_time": "2024-01-10T12:46:07.683Z"
   },
   {
    "duration": 28,
    "start_time": "2024-01-10T12:46:07.732Z"
   },
   {
    "duration": 5,
    "start_time": "2024-01-10T12:46:07.761Z"
   },
   {
    "duration": 35,
    "start_time": "2024-01-10T12:46:07.767Z"
   },
   {
    "duration": 20,
    "start_time": "2024-01-10T12:46:07.804Z"
   },
   {
    "duration": 31,
    "start_time": "2024-01-10T12:46:07.826Z"
   },
   {
    "duration": 5,
    "start_time": "2024-01-10T12:46:07.859Z"
   },
   {
    "duration": 17,
    "start_time": "2024-01-10T12:46:07.865Z"
   },
   {
    "duration": 3,
    "start_time": "2024-01-10T12:46:07.884Z"
   },
   {
    "duration": 23,
    "start_time": "2024-01-10T12:46:07.889Z"
   },
   {
    "duration": 27,
    "start_time": "2024-01-10T12:46:07.913Z"
   },
   {
    "duration": 7,
    "start_time": "2024-01-10T12:46:07.941Z"
   },
   {
    "duration": 11,
    "start_time": "2024-01-10T12:46:07.950Z"
   },
   {
    "duration": 6,
    "start_time": "2024-01-10T12:46:07.964Z"
   },
   {
    "duration": 36,
    "start_time": "2024-01-10T12:46:07.972Z"
   },
   {
    "duration": 28,
    "start_time": "2024-01-10T12:46:08.010Z"
   },
   {
    "duration": 42,
    "start_time": "2024-01-10T12:46:08.039Z"
   },
   {
    "duration": 66,
    "start_time": "2024-01-10T12:46:08.083Z"
   },
   {
    "duration": 4,
    "start_time": "2024-01-10T12:46:08.150Z"
   },
   {
    "duration": 23,
    "start_time": "2024-01-10T12:46:08.155Z"
   },
   {
    "duration": 7,
    "start_time": "2024-01-10T12:46:08.180Z"
   },
   {
    "duration": 26,
    "start_time": "2024-01-10T12:46:08.188Z"
   },
   {
    "duration": 26,
    "start_time": "2024-01-10T12:46:08.215Z"
   },
   {
    "duration": 149,
    "start_time": "2024-01-10T12:46:08.242Z"
   },
   {
    "duration": 0,
    "start_time": "2024-01-10T12:46:08.392Z"
   },
   {
    "duration": 0,
    "start_time": "2024-01-10T12:46:08.394Z"
   },
   {
    "duration": 0,
    "start_time": "2024-01-10T12:46:08.400Z"
   },
   {
    "duration": 0,
    "start_time": "2024-01-10T12:46:08.401Z"
   },
   {
    "duration": 0,
    "start_time": "2024-01-10T12:46:08.403Z"
   },
   {
    "duration": 7132,
    "start_time": "2024-01-10T12:47:09.319Z"
   },
   {
    "duration": 28,
    "start_time": "2024-01-10T12:47:23.063Z"
   },
   {
    "duration": 7,
    "start_time": "2024-01-10T12:47:29.680Z"
   },
   {
    "duration": 155,
    "start_time": "2024-01-10T12:47:29.689Z"
   },
   {
    "duration": 14,
    "start_time": "2024-01-10T12:47:29.845Z"
   },
   {
    "duration": 16,
    "start_time": "2024-01-10T12:47:29.861Z"
   },
   {
    "duration": 29,
    "start_time": "2024-01-10T12:47:29.879Z"
   },
   {
    "duration": 25,
    "start_time": "2024-01-10T12:47:29.909Z"
   },
   {
    "duration": 9,
    "start_time": "2024-01-10T12:47:29.935Z"
   },
   {
    "duration": 4,
    "start_time": "2024-01-10T12:47:29.946Z"
   },
   {
    "duration": 12,
    "start_time": "2024-01-10T12:47:29.953Z"
   },
   {
    "duration": 52,
    "start_time": "2024-01-10T12:47:29.966Z"
   },
   {
    "duration": 11,
    "start_time": "2024-01-10T12:47:30.020Z"
   },
   {
    "duration": 54,
    "start_time": "2024-01-10T12:47:30.034Z"
   },
   {
    "duration": 54,
    "start_time": "2024-01-10T12:47:30.090Z"
   },
   {
    "duration": 61,
    "start_time": "2024-01-10T12:47:30.146Z"
   },
   {
    "duration": 73,
    "start_time": "2024-01-10T12:47:30.209Z"
   },
   {
    "duration": 102,
    "start_time": "2024-01-10T12:47:30.284Z"
   },
   {
    "duration": 20,
    "start_time": "2024-01-10T12:47:30.388Z"
   },
   {
    "duration": 66,
    "start_time": "2024-01-10T12:47:30.410Z"
   },
   {
    "duration": 32,
    "start_time": "2024-01-10T12:47:30.478Z"
   },
   {
    "duration": 60,
    "start_time": "2024-01-10T12:47:30.512Z"
   },
   {
    "duration": 59,
    "start_time": "2024-01-10T12:47:30.574Z"
   },
   {
    "duration": 33,
    "start_time": "2024-01-10T12:47:30.634Z"
   },
   {
    "duration": 54,
    "start_time": "2024-01-10T12:47:30.669Z"
   },
   {
    "duration": 51,
    "start_time": "2024-01-10T12:47:30.726Z"
   },
   {
    "duration": 70,
    "start_time": "2024-01-10T12:47:30.779Z"
   },
   {
    "duration": 23,
    "start_time": "2024-01-10T12:47:30.851Z"
   },
   {
    "duration": 65,
    "start_time": "2024-01-10T12:47:30.877Z"
   },
   {
    "duration": 50,
    "start_time": "2024-01-10T12:47:30.944Z"
   },
   {
    "duration": 46,
    "start_time": "2024-01-10T12:47:30.995Z"
   },
   {
    "duration": 45,
    "start_time": "2024-01-10T12:47:31.043Z"
   },
   {
    "duration": 84,
    "start_time": "2024-01-10T12:47:31.090Z"
   },
   {
    "duration": 109,
    "start_time": "2024-01-10T12:47:31.176Z"
   },
   {
    "duration": 5,
    "start_time": "2024-01-10T12:47:31.287Z"
   },
   {
    "duration": 64,
    "start_time": "2024-01-10T12:47:31.293Z"
   },
   {
    "duration": 39,
    "start_time": "2024-01-10T12:47:31.359Z"
   },
   {
    "duration": 47,
    "start_time": "2024-01-10T12:47:31.399Z"
   },
   {
    "duration": 49,
    "start_time": "2024-01-10T12:47:31.448Z"
   },
   {
    "duration": 43,
    "start_time": "2024-01-10T12:47:31.499Z"
   },
   {
    "duration": 22,
    "start_time": "2024-01-10T12:47:50.394Z"
   },
   {
    "duration": 7,
    "start_time": "2024-01-10T12:48:05.760Z"
   },
   {
    "duration": 163,
    "start_time": "2024-01-10T12:48:05.769Z"
   },
   {
    "duration": 12,
    "start_time": "2024-01-10T12:48:05.934Z"
   },
   {
    "duration": 55,
    "start_time": "2024-01-10T12:48:05.949Z"
   },
   {
    "duration": 15,
    "start_time": "2024-01-10T12:48:06.006Z"
   },
   {
    "duration": 25,
    "start_time": "2024-01-10T12:48:06.023Z"
   },
   {
    "duration": 8,
    "start_time": "2024-01-10T12:48:06.050Z"
   },
   {
    "duration": 8,
    "start_time": "2024-01-10T12:48:06.060Z"
   },
   {
    "duration": 32,
    "start_time": "2024-01-10T12:48:06.072Z"
   },
   {
    "duration": 17,
    "start_time": "2024-01-10T12:48:06.106Z"
   },
   {
    "duration": 10,
    "start_time": "2024-01-10T12:48:06.125Z"
   },
   {
    "duration": 8,
    "start_time": "2024-01-10T12:48:06.136Z"
   },
   {
    "duration": 32,
    "start_time": "2024-01-10T12:48:06.146Z"
   },
   {
    "duration": 36,
    "start_time": "2024-01-10T12:48:06.180Z"
   },
   {
    "duration": 31,
    "start_time": "2024-01-10T12:48:06.217Z"
   },
   {
    "duration": 52,
    "start_time": "2024-01-10T12:48:06.250Z"
   },
   {
    "duration": 5,
    "start_time": "2024-01-10T12:48:06.303Z"
   },
   {
    "duration": 20,
    "start_time": "2024-01-10T12:48:06.310Z"
   },
   {
    "duration": 17,
    "start_time": "2024-01-10T12:48:06.332Z"
   },
   {
    "duration": 56,
    "start_time": "2024-01-10T12:48:06.350Z"
   },
   {
    "duration": 6,
    "start_time": "2024-01-10T12:48:06.408Z"
   },
   {
    "duration": 8,
    "start_time": "2024-01-10T12:48:06.416Z"
   },
   {
    "duration": 3,
    "start_time": "2024-01-10T12:48:06.425Z"
   },
   {
    "duration": 9,
    "start_time": "2024-01-10T12:48:06.432Z"
   },
   {
    "duration": 25,
    "start_time": "2024-01-10T12:48:06.442Z"
   },
   {
    "duration": 49,
    "start_time": "2024-01-10T12:48:06.468Z"
   },
   {
    "duration": 8,
    "start_time": "2024-01-10T12:48:06.519Z"
   },
   {
    "duration": 8,
    "start_time": "2024-01-10T12:48:06.529Z"
   },
   {
    "duration": 15,
    "start_time": "2024-01-10T12:48:06.538Z"
   },
   {
    "duration": 16,
    "start_time": "2024-01-10T12:48:06.555Z"
   },
   {
    "duration": 42,
    "start_time": "2024-01-10T12:48:06.573Z"
   },
   {
    "duration": 60,
    "start_time": "2024-01-10T12:48:06.616Z"
   },
   {
    "duration": 4,
    "start_time": "2024-01-10T12:48:06.678Z"
   },
   {
    "duration": 29,
    "start_time": "2024-01-10T12:48:06.684Z"
   },
   {
    "duration": 6,
    "start_time": "2024-01-10T12:48:06.714Z"
   },
   {
    "duration": 25,
    "start_time": "2024-01-10T12:48:06.721Z"
   },
   {
    "duration": 33,
    "start_time": "2024-01-10T12:48:06.748Z"
   },
   {
    "duration": 28,
    "start_time": "2024-01-10T12:48:06.783Z"
   },
   {
    "duration": 0,
    "start_time": "2024-01-10T12:48:06.814Z"
   },
   {
    "duration": 0,
    "start_time": "2024-01-10T12:48:06.816Z"
   },
   {
    "duration": 0,
    "start_time": "2024-01-10T12:48:06.818Z"
   },
   {
    "duration": 0,
    "start_time": "2024-01-10T12:48:06.819Z"
   },
   {
    "duration": 0,
    "start_time": "2024-01-10T12:48:06.820Z"
   },
   {
    "duration": 0,
    "start_time": "2024-01-10T12:48:06.821Z"
   },
   {
    "duration": 0,
    "start_time": "2024-01-10T12:48:06.822Z"
   },
   {
    "duration": 0,
    "start_time": "2024-01-10T12:48:06.824Z"
   },
   {
    "duration": 0,
    "start_time": "2024-01-10T12:48:06.825Z"
   },
   {
    "duration": 0,
    "start_time": "2024-01-10T12:48:06.826Z"
   },
   {
    "duration": 0,
    "start_time": "2024-01-10T12:48:06.827Z"
   },
   {
    "duration": 0,
    "start_time": "2024-01-10T12:48:06.828Z"
   },
   {
    "duration": 0,
    "start_time": "2024-01-10T12:48:06.830Z"
   },
   {
    "duration": 0,
    "start_time": "2024-01-10T12:48:06.831Z"
   },
   {
    "duration": 0,
    "start_time": "2024-01-10T12:48:06.833Z"
   },
   {
    "duration": 0,
    "start_time": "2024-01-10T12:48:06.834Z"
   },
   {
    "duration": 0,
    "start_time": "2024-01-10T12:48:06.835Z"
   },
   {
    "duration": 0,
    "start_time": "2024-01-10T12:48:06.836Z"
   },
   {
    "duration": 0,
    "start_time": "2024-01-10T12:48:06.837Z"
   },
   {
    "duration": 0,
    "start_time": "2024-01-10T12:48:06.838Z"
   },
   {
    "duration": 0,
    "start_time": "2024-01-10T12:48:06.839Z"
   },
   {
    "duration": 0,
    "start_time": "2024-01-10T12:48:06.841Z"
   },
   {
    "duration": 0,
    "start_time": "2024-01-10T12:48:06.841Z"
   },
   {
    "duration": 0,
    "start_time": "2024-01-10T12:48:06.843Z"
   },
   {
    "duration": 0,
    "start_time": "2024-01-10T12:48:06.845Z"
   },
   {
    "duration": 0,
    "start_time": "2024-01-10T12:48:06.900Z"
   },
   {
    "duration": 0,
    "start_time": "2024-01-10T12:48:06.902Z"
   },
   {
    "duration": 0,
    "start_time": "2024-01-10T12:48:06.903Z"
   },
   {
    "duration": 0,
    "start_time": "2024-01-10T12:48:06.904Z"
   },
   {
    "duration": 0,
    "start_time": "2024-01-10T12:48:06.905Z"
   },
   {
    "duration": 0,
    "start_time": "2024-01-10T12:48:06.906Z"
   },
   {
    "duration": 0,
    "start_time": "2024-01-10T12:48:06.907Z"
   },
   {
    "duration": 0,
    "start_time": "2024-01-10T12:48:06.908Z"
   },
   {
    "duration": 0,
    "start_time": "2024-01-10T12:48:06.909Z"
   },
   {
    "duration": 0,
    "start_time": "2024-01-10T12:48:06.910Z"
   },
   {
    "duration": 0,
    "start_time": "2024-01-10T12:48:06.912Z"
   },
   {
    "duration": 0,
    "start_time": "2024-01-10T12:48:06.913Z"
   },
   {
    "duration": 0,
    "start_time": "2024-01-10T12:48:06.914Z"
   },
   {
    "duration": 0,
    "start_time": "2024-01-10T12:48:06.915Z"
   },
   {
    "duration": 0,
    "start_time": "2024-01-10T12:48:06.916Z"
   },
   {
    "duration": 0,
    "start_time": "2024-01-10T12:48:06.917Z"
   },
   {
    "duration": 0,
    "start_time": "2024-01-10T12:48:06.917Z"
   },
   {
    "duration": 0,
    "start_time": "2024-01-10T12:48:06.918Z"
   },
   {
    "duration": 0,
    "start_time": "2024-01-10T12:48:06.920Z"
   },
   {
    "duration": 0,
    "start_time": "2024-01-10T12:48:06.921Z"
   },
   {
    "duration": 1,
    "start_time": "2024-01-10T12:48:06.922Z"
   },
   {
    "duration": 0,
    "start_time": "2024-01-10T12:48:06.924Z"
   },
   {
    "duration": 0,
    "start_time": "2024-01-10T12:48:06.925Z"
   },
   {
    "duration": 0,
    "start_time": "2024-01-10T12:48:06.925Z"
   },
   {
    "duration": 0,
    "start_time": "2024-01-10T12:48:06.926Z"
   },
   {
    "duration": 0,
    "start_time": "2024-01-10T12:48:06.928Z"
   },
   {
    "duration": 0,
    "start_time": "2024-01-10T12:48:06.929Z"
   },
   {
    "duration": 0,
    "start_time": "2024-01-10T12:48:06.930Z"
   },
   {
    "duration": 0,
    "start_time": "2024-01-10T12:48:06.931Z"
   },
   {
    "duration": 0,
    "start_time": "2024-01-10T12:48:06.932Z"
   },
   {
    "duration": 0,
    "start_time": "2024-01-10T12:48:06.933Z"
   },
   {
    "duration": 0,
    "start_time": "2024-01-10T12:48:06.934Z"
   },
   {
    "duration": 0,
    "start_time": "2024-01-10T12:48:06.935Z"
   },
   {
    "duration": 0,
    "start_time": "2024-01-10T12:48:06.936Z"
   },
   {
    "duration": 0,
    "start_time": "2024-01-10T12:48:06.937Z"
   },
   {
    "duration": 0,
    "start_time": "2024-01-10T12:48:06.938Z"
   },
   {
    "duration": 0,
    "start_time": "2024-01-10T12:48:07.000Z"
   },
   {
    "duration": 0,
    "start_time": "2024-01-10T12:48:07.001Z"
   },
   {
    "duration": 2984,
    "start_time": "2024-01-10T12:48:23.446Z"
   },
   {
    "duration": 35,
    "start_time": "2024-01-10T12:48:28.553Z"
   },
   {
    "duration": 5,
    "start_time": "2024-01-10T12:48:43.694Z"
   },
   {
    "duration": 20,
    "start_time": "2024-01-10T12:48:46.270Z"
   },
   {
    "duration": 2725,
    "start_time": "2024-01-10T12:49:28.138Z"
   },
   {
    "duration": 5,
    "start_time": "2024-01-10T12:49:38.124Z"
   },
   {
    "duration": 29,
    "start_time": "2024-01-10T12:49:40.242Z"
   },
   {
    "duration": 3232,
    "start_time": "2024-01-10T12:51:24.141Z"
   },
   {
    "duration": 20,
    "start_time": "2024-01-10T13:09:56.828Z"
   },
   {
    "duration": 9,
    "start_time": "2024-01-10T13:10:00.357Z"
   },
   {
    "duration": 9,
    "start_time": "2024-01-10T13:10:01.736Z"
   },
   {
    "duration": 18,
    "start_time": "2024-01-10T13:10:02.193Z"
   },
   {
    "duration": 7,
    "start_time": "2024-01-10T13:10:04.634Z"
   },
   {
    "duration": 320,
    "start_time": "2024-01-10T13:10:04.643Z"
   },
   {
    "duration": 12,
    "start_time": "2024-01-10T13:10:04.965Z"
   },
   {
    "duration": 32,
    "start_time": "2024-01-10T13:10:04.979Z"
   },
   {
    "duration": 15,
    "start_time": "2024-01-10T13:10:05.012Z"
   },
   {
    "duration": 34,
    "start_time": "2024-01-10T13:10:05.028Z"
   },
   {
    "duration": 12,
    "start_time": "2024-01-10T13:10:05.063Z"
   },
   {
    "duration": 9,
    "start_time": "2024-01-10T13:10:05.077Z"
   },
   {
    "duration": 15,
    "start_time": "2024-01-10T13:10:05.089Z"
   },
   {
    "duration": 19,
    "start_time": "2024-01-10T13:10:05.105Z"
   },
   {
    "duration": 11,
    "start_time": "2024-01-10T13:10:05.125Z"
   },
   {
    "duration": 13,
    "start_time": "2024-01-10T13:10:05.137Z"
   },
   {
    "duration": 39,
    "start_time": "2024-01-10T13:10:05.151Z"
   },
   {
    "duration": 18,
    "start_time": "2024-01-10T13:10:05.191Z"
   },
   {
    "duration": 30,
    "start_time": "2024-01-10T13:10:05.210Z"
   },
   {
    "duration": 28,
    "start_time": "2024-01-10T13:10:05.241Z"
   },
   {
    "duration": 5,
    "start_time": "2024-01-10T13:10:05.271Z"
   },
   {
    "duration": 38,
    "start_time": "2024-01-10T13:10:05.278Z"
   },
   {
    "duration": 19,
    "start_time": "2024-01-10T13:10:05.318Z"
   },
   {
    "duration": 38,
    "start_time": "2024-01-10T13:10:05.338Z"
   },
   {
    "duration": 24,
    "start_time": "2024-01-10T13:10:05.378Z"
   },
   {
    "duration": 16,
    "start_time": "2024-01-10T13:10:05.403Z"
   },
   {
    "duration": 8,
    "start_time": "2024-01-10T13:10:05.421Z"
   },
   {
    "duration": 14,
    "start_time": "2024-01-10T13:10:05.432Z"
   },
   {
    "duration": 28,
    "start_time": "2024-01-10T13:10:05.447Z"
   },
   {
    "duration": 29,
    "start_time": "2024-01-10T13:10:05.476Z"
   },
   {
    "duration": 46,
    "start_time": "2024-01-10T13:10:05.506Z"
   },
   {
    "duration": 18,
    "start_time": "2024-01-10T13:10:05.554Z"
   },
   {
    "duration": 19,
    "start_time": "2024-01-10T13:10:05.573Z"
   },
   {
    "duration": 23,
    "start_time": "2024-01-10T13:10:05.594Z"
   },
   {
    "duration": 26,
    "start_time": "2024-01-10T13:10:05.619Z"
   },
   {
    "duration": 61,
    "start_time": "2024-01-10T13:10:05.647Z"
   },
   {
    "duration": 4,
    "start_time": "2024-01-10T13:10:05.710Z"
   },
   {
    "duration": 32,
    "start_time": "2024-01-10T13:10:05.716Z"
   },
   {
    "duration": 6,
    "start_time": "2024-01-10T13:10:05.751Z"
   },
   {
    "duration": 30,
    "start_time": "2024-01-10T13:10:05.758Z"
   },
   {
    "duration": 47,
    "start_time": "2024-01-10T13:10:05.790Z"
   },
   {
    "duration": 21,
    "start_time": "2024-01-10T13:10:05.839Z"
   },
   {
    "duration": 0,
    "start_time": "2024-01-10T13:10:05.862Z"
   },
   {
    "duration": 0,
    "start_time": "2024-01-10T13:10:05.863Z"
   },
   {
    "duration": 0,
    "start_time": "2024-01-10T13:10:05.865Z"
   },
   {
    "duration": 0,
    "start_time": "2024-01-10T13:10:05.866Z"
   },
   {
    "duration": 0,
    "start_time": "2024-01-10T13:10:05.868Z"
   },
   {
    "duration": 0,
    "start_time": "2024-01-10T13:10:05.870Z"
   },
   {
    "duration": 0,
    "start_time": "2024-01-10T13:10:05.872Z"
   },
   {
    "duration": 0,
    "start_time": "2024-01-10T13:10:05.873Z"
   },
   {
    "duration": 0,
    "start_time": "2024-01-10T13:10:05.875Z"
   },
   {
    "duration": 0,
    "start_time": "2024-01-10T13:10:05.876Z"
   },
   {
    "duration": 0,
    "start_time": "2024-01-10T13:10:05.877Z"
   },
   {
    "duration": 21,
    "start_time": "2024-01-10T13:10:12.595Z"
   },
   {
    "duration": 415,
    "start_time": "2024-01-10T13:10:14.141Z"
   },
   {
    "duration": 95,
    "start_time": "2024-01-10T13:10:15.224Z"
   },
   {
    "duration": 6,
    "start_time": "2024-01-10T13:10:16.787Z"
   },
   {
    "duration": 107,
    "start_time": "2024-01-10T13:10:17.931Z"
   },
   {
    "duration": 11,
    "start_time": "2024-01-10T13:10:22.546Z"
   },
   {
    "duration": 39,
    "start_time": "2024-01-10T13:10:28.838Z"
   },
   {
    "duration": 74,
    "start_time": "2024-01-10T13:10:29.549Z"
   },
   {
    "duration": 8,
    "start_time": "2024-01-10T13:10:30.817Z"
   },
   {
    "duration": 10,
    "start_time": "2024-01-10T13:10:31.607Z"
   },
   {
    "duration": 69,
    "start_time": "2024-01-10T13:10:32.120Z"
   },
   {
    "duration": 71,
    "start_time": "2024-01-10T13:10:33.165Z"
   },
   {
    "duration": 226,
    "start_time": "2024-01-10T13:10:33.375Z"
   },
   {
    "duration": 131,
    "start_time": "2024-01-10T13:10:33.793Z"
   },
   {
    "duration": 5,
    "start_time": "2024-01-10T13:10:33.997Z"
   },
   {
    "duration": 63,
    "start_time": "2024-01-10T13:10:34.867Z"
   },
   {
    "duration": 4,
    "start_time": "2024-01-10T13:10:35.074Z"
   },
   {
    "duration": 73,
    "start_time": "2024-01-10T13:10:35.497Z"
   },
   {
    "duration": 5,
    "start_time": "2024-01-10T13:10:35.720Z"
   },
   {
    "duration": 65,
    "start_time": "2024-01-10T13:10:36.343Z"
   },
   {
    "duration": 4,
    "start_time": "2024-01-10T13:10:36.557Z"
   },
   {
    "duration": 70,
    "start_time": "2024-01-10T13:10:36.963Z"
   },
   {
    "duration": 4,
    "start_time": "2024-01-10T13:10:37.164Z"
   },
   {
    "duration": 76,
    "start_time": "2024-01-10T13:10:37.805Z"
   },
   {
    "duration": 5,
    "start_time": "2024-01-10T13:10:38.026Z"
   },
   {
    "duration": 67,
    "start_time": "2024-01-10T13:10:38.457Z"
   },
   {
    "duration": 5,
    "start_time": "2024-01-10T13:10:38.677Z"
   },
   {
    "duration": 65,
    "start_time": "2024-01-10T13:10:39.335Z"
   },
   {
    "duration": 4,
    "start_time": "2024-01-10T13:10:39.546Z"
   },
   {
    "duration": 70,
    "start_time": "2024-01-10T13:10:39.987Z"
   },
   {
    "duration": 5,
    "start_time": "2024-01-10T13:10:40.203Z"
   },
   {
    "duration": 67,
    "start_time": "2024-01-10T13:10:40.851Z"
   },
   {
    "duration": 5,
    "start_time": "2024-01-10T13:10:41.067Z"
   },
   {
    "duration": 63,
    "start_time": "2024-01-10T13:10:41.546Z"
   },
   {
    "duration": 4,
    "start_time": "2024-01-10T13:10:41.749Z"
   },
   {
    "duration": 23,
    "start_time": "2024-01-10T13:10:42.603Z"
   },
   {
    "duration": 7,
    "start_time": "2024-01-10T13:10:44.431Z"
   },
   {
    "duration": 27,
    "start_time": "2024-01-10T13:10:45.107Z"
   },
   {
    "duration": 23,
    "start_time": "2024-01-10T13:10:45.582Z"
   },
   {
    "duration": 24,
    "start_time": "2024-01-10T13:10:46.080Z"
   },
   {
    "duration": 23,
    "start_time": "2024-01-10T13:10:46.517Z"
   },
   {
    "duration": 30,
    "start_time": "2024-01-10T13:10:47.621Z"
   },
   {
    "duration": 26,
    "start_time": "2024-01-10T13:10:48.065Z"
   },
   {
    "duration": 25,
    "start_time": "2024-01-10T13:10:48.522Z"
   },
   {
    "duration": 25,
    "start_time": "2024-01-10T13:10:48.961Z"
   },
   {
    "duration": 27,
    "start_time": "2024-01-10T13:10:50.088Z"
   },
   {
    "duration": 25,
    "start_time": "2024-01-10T13:10:50.518Z"
   },
   {
    "duration": 25,
    "start_time": "2024-01-10T13:10:50.956Z"
   },
   {
    "duration": 25,
    "start_time": "2024-01-10T13:10:51.384Z"
   },
   {
    "duration": 10,
    "start_time": "2024-01-10T13:10:52.706Z"
   },
   {
    "duration": 465,
    "start_time": "2024-01-10T13:10:52.933Z"
   },
   {
    "duration": 4,
    "start_time": "2024-01-10T13:10:53.401Z"
   },
   {
    "duration": 4,
    "start_time": "2024-01-10T13:10:53.752Z"
   },
   {
    "duration": 6,
    "start_time": "2024-01-10T13:10:54.340Z"
   },
   {
    "duration": 6,
    "start_time": "2024-01-10T13:10:54.571Z"
   },
   {
    "duration": 8,
    "start_time": "2024-01-10T13:10:55.016Z"
   },
   {
    "duration": 9,
    "start_time": "2024-01-10T13:10:55.890Z"
   },
   {
    "duration": 337,
    "start_time": "2024-01-10T13:10:56.118Z"
   },
   {
    "duration": 4,
    "start_time": "2024-01-10T13:10:56.552Z"
   },
   {
    "duration": 3,
    "start_time": "2024-01-10T13:10:56.804Z"
   },
   {
    "duration": 6,
    "start_time": "2024-01-10T13:10:57.345Z"
   },
   {
    "duration": 5,
    "start_time": "2024-01-10T13:10:57.569Z"
   },
   {
    "duration": 7,
    "start_time": "2024-01-10T13:10:57.999Z"
   }
  ],
  "kernelspec": {
   "display_name": "Python 3 (ipykernel)",
   "language": "python",
   "name": "python3"
  },
  "language_info": {
   "codemirror_mode": {
    "name": "ipython",
    "version": 3
   },
   "file_extension": ".py",
   "mimetype": "text/x-python",
   "name": "python",
   "nbconvert_exporter": "python",
   "pygments_lexer": "ipython3",
   "version": "3.12.1"
  },
  "toc": {
   "base_numbering": 1,
   "nav_menu": {},
   "number_sections": true,
   "sideBar": true,
   "skip_h1_title": true,
   "title_cell": "Содержание",
   "title_sidebar": "Contents",
   "toc_cell": true,
   "toc_position": {
    "height": "calc(100% - 180px)",
    "left": "10px",
    "top": "150px",
    "width": "165px"
   },
   "toc_section_display": true,
   "toc_window_display": true
  }
 },
 "nbformat": 4,
 "nbformat_minor": 4
}
